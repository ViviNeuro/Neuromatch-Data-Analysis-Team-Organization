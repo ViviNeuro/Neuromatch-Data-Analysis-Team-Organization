{
  "nbformat": 4,
  "nbformat_minor": 0,
  "metadata": {
    "colab": {
      "provenance": [],
      "collapsed_sections": [
        "8r1xTBvnDARG",
        "3fipJ0h4_HAG"
      ]
    },
    "kernelspec": {
      "name": "python3",
      "display_name": "Python 3"
    },
    "language_info": {
      "name": "python"
    }
  },
  "cells": [
    {
      "cell_type": "markdown",
      "source": [
        "# Data Analysis Template Notebook\n",
        "\n",
        "Welcome to the Data Analysis Template Notebook! This notebook constitutes an example of how the data should be preprocessed and analysed. It follows the pipelines reported in the [Jupyter Book](https://vivineuro.github.io/Neuromatch-Data-Analysis-Team-Organization/WorkTogether/Imports%20%26%20Loading%20set%20up.html). Please do not hesitate to reach out to `#a-24-evaluation` if you have any questions or something in unclear.\n"
      ],
      "metadata": {
        "id": "HkOkQ0zuCz92"
      }
    },
    {
      "cell_type": "markdown",
      "source": [
        "<a id='Imports'></a>\n",
        "## Imports set up\n",
        "\n",
        "At the top of every notebook, we define an **Imports** section where all necessary packages and libraries should be imported. This ensures that all dependencies are loaded at the beginning of the notebook, making it easy to track what packages are in use."
      ],
      "metadata": {
        "id": "8r1xTBvnDARG"
      }
    },
    {
      "cell_type": "code",
      "execution_count": 1,
      "metadata": {
        "id": "VJZHsWhsCvEi",
        "colab": {
          "base_uri": "https://localhost:8080/"
        },
        "outputId": "de0096fc-e22f-4cf2-daec-b0dd9c0e2476"
      },
      "outputs": [
        {
          "output_type": "stream",
          "name": "stdout",
          "text": [
            "Requirement already satisfied: tabulate in /usr/local/lib/python3.11/dist-packages (0.9.0)\n"
          ]
        },
        {
          "output_type": "stream",
          "name": "stderr",
          "text": [
            "<ipython-input-1-5f4beceb50cd>:17: DeprecationWarning: `set_matplotlib_formats` is deprecated since IPython 7.23, directly use `matplotlib_inline.backend_inline.set_matplotlib_formats()`\n",
            "  display.set_matplotlib_formats('svg')  # Recommended for better plot quality\n"
          ]
        }
      ],
      "source": [
        "!pip install tabulate\n",
        "from tabulate import tabulate\n",
        "\n",
        "# General imports\n",
        "import pandas as pd  # For data manipulation and analysis\n",
        "import numpy as np   # For numerical operations\n",
        "import glob          # For file searching\n",
        "import re            # For pattern matching\n",
        "import itertools\n",
        "\n",
        "# Visualization imports\n",
        "import matplotlib.pyplot as plt  # Basic plotting\n",
        "import seaborn as sns            # Statistical data visualization\n",
        "\n",
        "# Display high-quality plots in SVG format\n",
        "from IPython import display\n",
        "display.set_matplotlib_formats('svg')  # Recommended for better plot quality\n",
        "\n",
        "# to restrict the float value to 2 decimal places\n",
        "pd.set_option('display.float_format', lambda x: '%.2f' % x)\n",
        "\n",
        "# display max numer of columns. Change the value as needed.\n",
        "pd.set_option('display.max_columns', 100)"
      ]
    },
    {
      "cell_type": "markdown",
      "source": [
        "<a id='Data-Loading'></a>\n",
        "## Data Loading\n",
        "\n",
        "In this section, we’ll use Google Drive to store and load datasets. The code below mounts Google Drive, finds all CSV files with a specified prefix in a given folder, and loads each CSV file into a dictionary of DataFrames for easy access."
      ],
      "metadata": {
        "id": "-Zo8lbwTFML9"
      }
    },
    {
      "cell_type": "code",
      "source": [
        "from google.colab import drive, files\n",
        "drive.mount('/content/drive')\n",
        "\n",
        "folder_path = \"/content/drive/MyDrive/Academies_DataAnalysis/July2024/DailySurveys/CN/TAs/\"\n",
        "file_prefix = \"CN\"  # Replace with your desired prefix\n",
        "\n",
        "csv_files       = glob.glob(f\"{folder_path}/{file_prefix}*.csv\")\n",
        "dataframes_dict = {file.split('/')[-1]: pd.read_csv(file) for file in csv_files}\n",
        "\n",
        "# To access each DataFrame by filename, use the dictionary\n",
        "# Example: Accessing the 'CSw1d1-Grid view.csv' file if it exists\n",
        "dataframe_name = 'CNw2d1-Grid view.csv' # Adjust the filename to match your data\n",
        "if dataframe_name in dataframes_dict:\n",
        "    df = dataframes_dict[dataframe_name]\n",
        "    print(df.head())  # Display the first 5 rows\n",
        "else:\n",
        "    print(f\"{dataframe_name} not found in the loaded files.\")\n",
        "print('*' * 50)\n",
        "\n",
        "# Print the loaded dataframes\n",
        "print(\"Loaded DataFrames:\", dataframes_dict.keys())\n",
        "print('*' * 50)\n",
        "\n",
        "# Check the number of datasets loaded\n",
        "len(dataframes_dict)"
      ],
      "metadata": {
        "id": "zHUlicr8F66i",
        "colab": {
          "base_uri": "https://localhost:8080/"
        },
        "outputId": "becb7de4-de63-49de-a6e4-de814070eaf3"
      },
      "execution_count": 2,
      "outputs": [
        {
          "output_type": "stream",
          "name": "stdout",
          "text": [
            "Mounted at /content/drive\n",
            "                                    uid                     pod  \\\n",
            "0  8dc38db8-e4d8-4ad4-92bd-eea739539f54       Accepting Anchusa   \n",
            "1  555ca092-4a80-4d14-8b1e-4cca358b8651       Agreeable Lobelia   \n",
            "2  c8f70688-2b3c-47ed-b3ab-2fdb5a35f2e8       Blissful Helenium   \n",
            "3  dcfb6d05-2a87-4242-8ab6-f0c2d2887a79         Brave Hydrangea   \n",
            "4  6d8712da-8a55-45d1-ba5b-3d072622d577  Brilliant Leucanthemum   \n",
            "\n",
            "   Q15 - attending  Q18 - never showed  Q16 - projects  \\\n",
            "0               15                1.00              12   \n",
            "1               10                0.00              10   \n",
            "2                8                2.00               8   \n",
            "3                9                4.00               8   \n",
            "4               10                8.00              10   \n",
            "\n",
            "                         Q17  \\\n",
            "0                         No   \n",
            "1                         No   \n",
            "2                         No   \n",
            "3                         No   \n",
            "4  No,Maybe - need more info   \n",
            "\n",
            "                                                 Q14  \n",
            "0                                                NaN  \n",
            "1                                                NaN  \n",
            "2  I think the people that stayed are really comp...  \n",
            "3                                                NaN  \n",
            "4  they are much more active in project times rat...  \n",
            "**************************************************\n",
            "Loaded DataFrames: dict_keys(['CNw2d1-Grid view.csv', 'CNw2d3-Grid view.csv', 'CNw3d1-Grid view.csv', 'CNw2d2-Grid view.csv', 'CNw3d2-Grid view.csv', 'CNw3d3-Grid view.csv', 'CNw3d4-Grid view.csv', 'CNw3d5-Grid view.csv', 'CNw2d5-Grid view.csv', 'CNw2d4-Grid view.csv'])\n",
            "**************************************************\n"
          ]
        },
        {
          "output_type": "execute_result",
          "data": {
            "text/plain": [
              "10"
            ]
          },
          "metadata": {},
          "execution_count": 2
        }
      ]
    },
    {
      "cell_type": "markdown",
      "source": [
        "**NOTE: In 2024 we started delivering TAs daily surveys on the second week for CN and DL. The first week is missing, that's why we have 10 datasets**"
      ],
      "metadata": {
        "id": "ZburTlDrkVAA"
      }
    },
    {
      "cell_type": "markdown",
      "source": [
        "<a id='Data-Cleaning-and-Preprocessing'></a>\n",
        "## Data Cleaning and Preprocessing\n",
        "\n",
        "The below function can be used for cleaning TAs daily surveys. Please find detailed explanations of it in the [Jupyter Book](https://vivineuro.github.io/Neuromatch-Data-Analysis-Team-Organization/WorkTogether/Imports%20%26%20Loading%20set%20up.html)."
      ],
      "metadata": {
        "id": "Mx-pBxb1VPKD"
      }
    },
    {
      "cell_type": "code",
      "source": [
        "def clean_and_combine_data(\n",
        "    dataframes_dict,\n",
        "    TAs_apps_path,\n",
        "    course_id,\n",
        "    status,\n",
        "    ST_apps_path,\n",
        "    output_file='combined_df.csv'\n",
        "):\n",
        "    \"\"\"\n",
        "    Cleans and combines dataframes, checks UID validity, handles duplicates, and saves the final combined dataframe.\n",
        "\n",
        "    Parameters:\n",
        "    - dataframes_dict: Dictionary with filenames as keys and DataFrames as values.\n",
        "    - TAs_apps_path: Path to the TAs_apps dataset CSV file.\n",
        "    - course_id: Course ID to filter the TAs_apps dataset.\n",
        "    - status: Status to filter the TAs_apps dataset.\n",
        "    - ST_apps_path: Path to the ST_apps dataset CSV file.\n",
        "    - output_file: Filename to save the cleaned combined dataframe (default: 'combined_df.csv').\n",
        "    \"\"\"\n",
        "\n",
        "    # Step 1: Add \"WeekDay\" column based on the filename pattern\n",
        "    for filename, df in dataframes_dict.items():\n",
        "        match = re.search(r'w\\d+d\\d+', filename)\n",
        "        if match:\n",
        "            df['WeekDay'] = match.group()\n",
        "        else:\n",
        "            print(f\"No 'WeekDay' pattern found in filename: {filename}\")\n",
        "\n",
        "    # Step 2: Combine all DataFrames\n",
        "    combined_df = pd.concat(dataframes_dict.values(), ignore_index=True)\n",
        "    print(f\"Combined DataFrame shape: {combined_df.shape}\")\n",
        "    print('-' * 80)\n",
        "    print(' ')\n",
        "\n",
        "    # Step 3: Load TAs_apps and filter by course_id and status\n",
        "    TAs_apps = pd.read_csv(TAs_apps_path)\n",
        "    TAs_apps_filtered = TAs_apps[(TAs_apps['course_id'] == course_id) & (TAs_apps['status'] == status)]\n",
        "    print(\"[INFO] Filtered TAs_apps dataset for course of interest and TA status = macthed\")\n",
        "    print(f\"The shape of this dataset is {TAs_apps_filtered.shape}\")\n",
        "    print('-' * 80)\n",
        "    print(' ')\n",
        "\n",
        "    # Step 4: Check that all UID in the new df are present in TA_apps (for the specific course and status that will be specified)\n",
        "    missing_values = combined_df.loc[~combined_df['uid'].isin(TAs_apps_filtered['unique_id']), 'uid']\n",
        "    if not missing_values.empty:\n",
        "        # print(f\"{len(missing_values)} are not found in the TA_apps dataset filtered for matched and course_id\")\n",
        "        print(f\"[WARNING]: {missing_values.nunique()} unique_id are not found in the TA_apps dataset filtered for matched and course_id\")\n",
        "        print(\"List:\", missing_values.tolist())\n",
        "        print('-' * 80)\n",
        "        print(' ')\n",
        "\n",
        "        # 4A: Check these missing UIDs in the FULL ST_apps\n",
        "        ST_apps = pd.read_csv(ST_apps_path)\n",
        "        print(\"[INFO] Checking whether the unique_id not found in the list of matched TAs are associated with students unique_id...\")\n",
        "        missing_in_ST_full = ST_apps[ST_apps['unique_id'].isin(missing_values)]\n",
        "        found_uids_ST = missing_in_ST_full['unique_id'].unique()\n",
        "\n",
        "        if found_uids_ST.size > 0:\n",
        "            print(\"[INFO] Some of the missing UIDs were found in the students dataset:\")\n",
        "            for uid in found_uids_ST:\n",
        "                uid_rows = missing_in_ST_full.loc[\n",
        "                    missing_in_ST_full['unique_id'] == uid,\n",
        "                    ['application_status', 'course_id']\n",
        "                ]\n",
        "                statuses = uid_rows['application_status'].unique()\n",
        "                course_ids = uid_rows['course_id'].unique()\n",
        "                print(f\"  UID = {uid}, status = {list(statuses)}, course_id = {list(course_ids)}\")\n",
        "\n",
        "        # Count the number of rows before filtering\n",
        "        original_count = combined_df.shape[0]\n",
        "\n",
        "        # Count the number of rows that will remain after filtering\n",
        "        remaining_count = combined_df[combined_df['uid'].isin(TAs_apps_filtered['unique_id'])].shape[0]\n",
        "\n",
        "        # Calculate the number of rows that will be removed\n",
        "        removed_count = original_count - remaining_count\n",
        "        print('-' * 80)\n",
        "        print(f\"Number of rows to be removed: {removed_count}\")\n",
        "        print('-' * 80)\n",
        "        print(' ')\n",
        "        combined_df = combined_df[combined_df['uid'].isin(TAs_apps_filtered['unique_id'])]\n",
        "        print(\"Removed rows with missing UIDs. New shape:\", combined_df.shape)\n",
        "        print('-' * 80)\n",
        "        print(' ')\n",
        "\n",
        "    # Step 5: Check for duplicates within each WeekDay and UID combination\n",
        "    duplicates = combined_df[combined_df.duplicated(subset=['WeekDay', 'uid'], keep=False)]\n",
        "    if not duplicates.empty:\n",
        "        print(f\"Duplicate entries found based on ['WeekDay', 'uid']: {len(duplicates)}\")\n",
        "        #print(len(duplicates))\n",
        "        combined_df = combined_df.drop_duplicates(subset=['WeekDay', 'uid'], keep='first')\n",
        "        print(\"Removed duplicates. New shape:\", combined_df.shape)\n",
        "        print('-' * 80)\n",
        "        print(' ')\n",
        "\n",
        "    # Step 6: Save the cleaned DataFrame to CSV\n",
        "    combined_df.to_csv(output_file, index=False)\n",
        "    print(f\"Cleaned DataFrame saved to {output_file}\")\n",
        "\n",
        "    return combined_df"
      ],
      "metadata": {
        "id": "rMLFFzenSdiP"
      },
      "execution_count": 3,
      "outputs": []
    },
    {
      "cell_type": "code",
      "source": [
        "#Specify the path to the TAs_apps dataset, course ID, and status:\n",
        "combined_df = clean_and_combine_data(\n",
        "    dataframes_dict =dataframes_dict,\n",
        "    TAs_apps_path   =\"/content/drive/MyDrive/Academies_DataAnalysis/General/TAs_ReceivedApp_from2021.csv\", # to be updated in 2025\n",
        "    course_id       =12,       # Specify the course_id number of interest\n",
        "    status          =\"matched\",   # Do NOT change the status\n",
        "    ST_apps_path    =\"/content/drive/MyDrive/Academies_DataAnalysis/General/Students_ReceivedApp_from2021.csv\", # to be updated in 2025\n",
        "    output_file     =\"cleaned_combined_df.csv\"\n",
        ")"
      ],
      "metadata": {
        "colab": {
          "base_uri": "https://localhost:8080/"
        },
        "id": "YCVC-ZhfUkV4",
        "outputId": "d5d69c62-d6c0-4630-ba0d-bb13f1f64425"
      },
      "execution_count": 4,
      "outputs": [
        {
          "output_type": "stream",
          "name": "stdout",
          "text": [
            "Combined DataFrame shape: (214, 16)\n",
            "--------------------------------------------------------------------------------\n",
            " \n",
            "[INFO] Filtered TAs_apps dataset for course of interest and TA status = macthed\n",
            "The shape of this dataset is (84, 10)\n",
            "--------------------------------------------------------------------------------\n",
            " \n",
            "[WARNING]: 1 unique_id are not found in the TA_apps dataset filtered for matched and course_id\n",
            "List: ['35c47e08-4408-4bee-936b-72b9f65f2302', '35c47e08-4408-4bee-936b-72b9f65f2302']\n",
            "--------------------------------------------------------------------------------\n",
            " \n",
            "[INFO] Checking whether the unique_id not found in the list of matched TAs are associated with students unique_id...\n",
            "[INFO] Some of the missing UIDs were found in the students dataset:\n",
            "  UID = 35c47e08-4408-4bee-936b-72b9f65f2302, status = ['matched', 'rejected'], course_id = [12, 14]\n",
            "--------------------------------------------------------------------------------\n",
            "Number of rows to be removed: 2\n",
            "--------------------------------------------------------------------------------\n",
            " \n",
            "Removed rows with missing UIDs. New shape: (212, 16)\n",
            "--------------------------------------------------------------------------------\n",
            " \n",
            "Duplicate entries found based on ['WeekDay', 'uid']: 24\n",
            "Removed duplicates. New shape: (198, 16)\n",
            "--------------------------------------------------------------------------------\n",
            " \n",
            "Cleaned DataFrame saved to cleaned_combined_df.csv\n"
          ]
        }
      ]
    },
    {
      "cell_type": "markdown",
      "source": [
        "**View the first and last 5 rows of the dataset**"
      ],
      "metadata": {
        "id": "wVwMwb9ICVJz"
      }
    },
    {
      "cell_type": "code",
      "source": [
        "combined_df.head()"
      ],
      "metadata": {
        "id": "JPVfMYpzCPC9",
        "colab": {
          "base_uri": "https://localhost:8080/",
          "height": 414
        },
        "outputId": "2690101b-90c4-4200-e487-b23b84972c72"
      },
      "execution_count": 5,
      "outputs": [
        {
          "output_type": "execute_result",
          "data": {
            "text/plain": [
              "                                    uid                     pod  \\\n",
              "0  8dc38db8-e4d8-4ad4-92bd-eea739539f54       Accepting Anchusa   \n",
              "1  555ca092-4a80-4d14-8b1e-4cca358b8651       Agreeable Lobelia   \n",
              "2  c8f70688-2b3c-47ed-b3ab-2fdb5a35f2e8       Blissful Helenium   \n",
              "3  dcfb6d05-2a87-4242-8ab6-f0c2d2887a79         Brave Hydrangea   \n",
              "4  6d8712da-8a55-45d1-ba5b-3d072622d577  Brilliant Leucanthemum   \n",
              "\n",
              "   Q15 - attending  Q18 - never showed  Q16 - projects  \\\n",
              "0            15.00                1.00           12.00   \n",
              "1            10.00                0.00           10.00   \n",
              "2             8.00                2.00            8.00   \n",
              "3             9.00                4.00            8.00   \n",
              "4            10.00                8.00           10.00   \n",
              "\n",
              "                         Q17  \\\n",
              "0                         No   \n",
              "1                         No   \n",
              "2                         No   \n",
              "3                         No   \n",
              "4  No,Maybe - need more info   \n",
              "\n",
              "                                                 Q14 WeekDay   2   Q1   Q9  \\\n",
              "0                                                NaN    w2d1 NaN  NaN  NaN   \n",
              "1                                                NaN    w2d1 NaN  NaN  NaN   \n",
              "2  I think the people that stayed are really comp...    w2d1 NaN  NaN  NaN   \n",
              "3                                                NaN    w2d1 NaN  NaN  NaN   \n",
              "4  they are much more active in project times rat...    w2d1 NaN  NaN  NaN   \n",
              "\n",
              "   Q13 Q2_Pilot  Q1_Pilot  Q2 Q2 Pilot  \n",
              "0  NaN      NaN       NaN NaN      NaN  \n",
              "1  NaN      NaN       NaN NaN      NaN  \n",
              "2  NaN      NaN       NaN NaN      NaN  \n",
              "3  NaN      NaN       NaN NaN      NaN  \n",
              "4  NaN      NaN       NaN NaN      NaN  "
            ],
            "text/html": [
              "\n",
              "  <div id=\"df-3045128f-7a7a-49f4-af07-d937a1790201\" class=\"colab-df-container\">\n",
              "    <div>\n",
              "<style scoped>\n",
              "    .dataframe tbody tr th:only-of-type {\n",
              "        vertical-align: middle;\n",
              "    }\n",
              "\n",
              "    .dataframe tbody tr th {\n",
              "        vertical-align: top;\n",
              "    }\n",
              "\n",
              "    .dataframe thead th {\n",
              "        text-align: right;\n",
              "    }\n",
              "</style>\n",
              "<table border=\"1\" class=\"dataframe\">\n",
              "  <thead>\n",
              "    <tr style=\"text-align: right;\">\n",
              "      <th></th>\n",
              "      <th>uid</th>\n",
              "      <th>pod</th>\n",
              "      <th>Q15 - attending</th>\n",
              "      <th>Q18 - never showed</th>\n",
              "      <th>Q16 - projects</th>\n",
              "      <th>Q17</th>\n",
              "      <th>Q14</th>\n",
              "      <th>WeekDay</th>\n",
              "      <th>2</th>\n",
              "      <th>Q1</th>\n",
              "      <th>Q9</th>\n",
              "      <th>Q13</th>\n",
              "      <th>Q2_Pilot</th>\n",
              "      <th>Q1_Pilot</th>\n",
              "      <th>Q2</th>\n",
              "      <th>Q2 Pilot</th>\n",
              "    </tr>\n",
              "  </thead>\n",
              "  <tbody>\n",
              "    <tr>\n",
              "      <th>0</th>\n",
              "      <td>8dc38db8-e4d8-4ad4-92bd-eea739539f54</td>\n",
              "      <td>Accepting Anchusa</td>\n",
              "      <td>15.00</td>\n",
              "      <td>1.00</td>\n",
              "      <td>12.00</td>\n",
              "      <td>No</td>\n",
              "      <td>NaN</td>\n",
              "      <td>w2d1</td>\n",
              "      <td>NaN</td>\n",
              "      <td>NaN</td>\n",
              "      <td>NaN</td>\n",
              "      <td>NaN</td>\n",
              "      <td>NaN</td>\n",
              "      <td>NaN</td>\n",
              "      <td>NaN</td>\n",
              "      <td>NaN</td>\n",
              "    </tr>\n",
              "    <tr>\n",
              "      <th>1</th>\n",
              "      <td>555ca092-4a80-4d14-8b1e-4cca358b8651</td>\n",
              "      <td>Agreeable Lobelia</td>\n",
              "      <td>10.00</td>\n",
              "      <td>0.00</td>\n",
              "      <td>10.00</td>\n",
              "      <td>No</td>\n",
              "      <td>NaN</td>\n",
              "      <td>w2d1</td>\n",
              "      <td>NaN</td>\n",
              "      <td>NaN</td>\n",
              "      <td>NaN</td>\n",
              "      <td>NaN</td>\n",
              "      <td>NaN</td>\n",
              "      <td>NaN</td>\n",
              "      <td>NaN</td>\n",
              "      <td>NaN</td>\n",
              "    </tr>\n",
              "    <tr>\n",
              "      <th>2</th>\n",
              "      <td>c8f70688-2b3c-47ed-b3ab-2fdb5a35f2e8</td>\n",
              "      <td>Blissful Helenium</td>\n",
              "      <td>8.00</td>\n",
              "      <td>2.00</td>\n",
              "      <td>8.00</td>\n",
              "      <td>No</td>\n",
              "      <td>I think the people that stayed are really comp...</td>\n",
              "      <td>w2d1</td>\n",
              "      <td>NaN</td>\n",
              "      <td>NaN</td>\n",
              "      <td>NaN</td>\n",
              "      <td>NaN</td>\n",
              "      <td>NaN</td>\n",
              "      <td>NaN</td>\n",
              "      <td>NaN</td>\n",
              "      <td>NaN</td>\n",
              "    </tr>\n",
              "    <tr>\n",
              "      <th>3</th>\n",
              "      <td>dcfb6d05-2a87-4242-8ab6-f0c2d2887a79</td>\n",
              "      <td>Brave Hydrangea</td>\n",
              "      <td>9.00</td>\n",
              "      <td>4.00</td>\n",
              "      <td>8.00</td>\n",
              "      <td>No</td>\n",
              "      <td>NaN</td>\n",
              "      <td>w2d1</td>\n",
              "      <td>NaN</td>\n",
              "      <td>NaN</td>\n",
              "      <td>NaN</td>\n",
              "      <td>NaN</td>\n",
              "      <td>NaN</td>\n",
              "      <td>NaN</td>\n",
              "      <td>NaN</td>\n",
              "      <td>NaN</td>\n",
              "    </tr>\n",
              "    <tr>\n",
              "      <th>4</th>\n",
              "      <td>6d8712da-8a55-45d1-ba5b-3d072622d577</td>\n",
              "      <td>Brilliant Leucanthemum</td>\n",
              "      <td>10.00</td>\n",
              "      <td>8.00</td>\n",
              "      <td>10.00</td>\n",
              "      <td>No,Maybe - need more info</td>\n",
              "      <td>they are much more active in project times rat...</td>\n",
              "      <td>w2d1</td>\n",
              "      <td>NaN</td>\n",
              "      <td>NaN</td>\n",
              "      <td>NaN</td>\n",
              "      <td>NaN</td>\n",
              "      <td>NaN</td>\n",
              "      <td>NaN</td>\n",
              "      <td>NaN</td>\n",
              "      <td>NaN</td>\n",
              "    </tr>\n",
              "  </tbody>\n",
              "</table>\n",
              "</div>\n",
              "    <div class=\"colab-df-buttons\">\n",
              "\n",
              "  <div class=\"colab-df-container\">\n",
              "    <button class=\"colab-df-convert\" onclick=\"convertToInteractive('df-3045128f-7a7a-49f4-af07-d937a1790201')\"\n",
              "            title=\"Convert this dataframe to an interactive table.\"\n",
              "            style=\"display:none;\">\n",
              "\n",
              "  <svg xmlns=\"http://www.w3.org/2000/svg\" height=\"24px\" viewBox=\"0 -960 960 960\">\n",
              "    <path d=\"M120-120v-720h720v720H120Zm60-500h600v-160H180v160Zm220 220h160v-160H400v160Zm0 220h160v-160H400v160ZM180-400h160v-160H180v160Zm440 0h160v-160H620v160ZM180-180h160v-160H180v160Zm440 0h160v-160H620v160Z\"/>\n",
              "  </svg>\n",
              "    </button>\n",
              "\n",
              "  <style>\n",
              "    .colab-df-container {\n",
              "      display:flex;\n",
              "      gap: 12px;\n",
              "    }\n",
              "\n",
              "    .colab-df-convert {\n",
              "      background-color: #E8F0FE;\n",
              "      border: none;\n",
              "      border-radius: 50%;\n",
              "      cursor: pointer;\n",
              "      display: none;\n",
              "      fill: #1967D2;\n",
              "      height: 32px;\n",
              "      padding: 0 0 0 0;\n",
              "      width: 32px;\n",
              "    }\n",
              "\n",
              "    .colab-df-convert:hover {\n",
              "      background-color: #E2EBFA;\n",
              "      box-shadow: 0px 1px 2px rgba(60, 64, 67, 0.3), 0px 1px 3px 1px rgba(60, 64, 67, 0.15);\n",
              "      fill: #174EA6;\n",
              "    }\n",
              "\n",
              "    .colab-df-buttons div {\n",
              "      margin-bottom: 4px;\n",
              "    }\n",
              "\n",
              "    [theme=dark] .colab-df-convert {\n",
              "      background-color: #3B4455;\n",
              "      fill: #D2E3FC;\n",
              "    }\n",
              "\n",
              "    [theme=dark] .colab-df-convert:hover {\n",
              "      background-color: #434B5C;\n",
              "      box-shadow: 0px 1px 3px 1px rgba(0, 0, 0, 0.15);\n",
              "      filter: drop-shadow(0px 1px 2px rgba(0, 0, 0, 0.3));\n",
              "      fill: #FFFFFF;\n",
              "    }\n",
              "  </style>\n",
              "\n",
              "    <script>\n",
              "      const buttonEl =\n",
              "        document.querySelector('#df-3045128f-7a7a-49f4-af07-d937a1790201 button.colab-df-convert');\n",
              "      buttonEl.style.display =\n",
              "        google.colab.kernel.accessAllowed ? 'block' : 'none';\n",
              "\n",
              "      async function convertToInteractive(key) {\n",
              "        const element = document.querySelector('#df-3045128f-7a7a-49f4-af07-d937a1790201');\n",
              "        const dataTable =\n",
              "          await google.colab.kernel.invokeFunction('convertToInteractive',\n",
              "                                                    [key], {});\n",
              "        if (!dataTable) return;\n",
              "\n",
              "        const docLinkHtml = 'Like what you see? Visit the ' +\n",
              "          '<a target=\"_blank\" href=https://colab.research.google.com/notebooks/data_table.ipynb>data table notebook</a>'\n",
              "          + ' to learn more about interactive tables.';\n",
              "        element.innerHTML = '';\n",
              "        dataTable['output_type'] = 'display_data';\n",
              "        await google.colab.output.renderOutput(dataTable, element);\n",
              "        const docLink = document.createElement('div');\n",
              "        docLink.innerHTML = docLinkHtml;\n",
              "        element.appendChild(docLink);\n",
              "      }\n",
              "    </script>\n",
              "  </div>\n",
              "\n",
              "\n",
              "<div id=\"df-be4e0d6e-ff00-43e2-b6d9-63bb8c3113e6\">\n",
              "  <button class=\"colab-df-quickchart\" onclick=\"quickchart('df-be4e0d6e-ff00-43e2-b6d9-63bb8c3113e6')\"\n",
              "            title=\"Suggest charts\"\n",
              "            style=\"display:none;\">\n",
              "\n",
              "<svg xmlns=\"http://www.w3.org/2000/svg\" height=\"24px\"viewBox=\"0 0 24 24\"\n",
              "     width=\"24px\">\n",
              "    <g>\n",
              "        <path d=\"M19 3H5c-1.1 0-2 .9-2 2v14c0 1.1.9 2 2 2h14c1.1 0 2-.9 2-2V5c0-1.1-.9-2-2-2zM9 17H7v-7h2v7zm4 0h-2V7h2v10zm4 0h-2v-4h2v4z\"/>\n",
              "    </g>\n",
              "</svg>\n",
              "  </button>\n",
              "\n",
              "<style>\n",
              "  .colab-df-quickchart {\n",
              "      --bg-color: #E8F0FE;\n",
              "      --fill-color: #1967D2;\n",
              "      --hover-bg-color: #E2EBFA;\n",
              "      --hover-fill-color: #174EA6;\n",
              "      --disabled-fill-color: #AAA;\n",
              "      --disabled-bg-color: #DDD;\n",
              "  }\n",
              "\n",
              "  [theme=dark] .colab-df-quickchart {\n",
              "      --bg-color: #3B4455;\n",
              "      --fill-color: #D2E3FC;\n",
              "      --hover-bg-color: #434B5C;\n",
              "      --hover-fill-color: #FFFFFF;\n",
              "      --disabled-bg-color: #3B4455;\n",
              "      --disabled-fill-color: #666;\n",
              "  }\n",
              "\n",
              "  .colab-df-quickchart {\n",
              "    background-color: var(--bg-color);\n",
              "    border: none;\n",
              "    border-radius: 50%;\n",
              "    cursor: pointer;\n",
              "    display: none;\n",
              "    fill: var(--fill-color);\n",
              "    height: 32px;\n",
              "    padding: 0;\n",
              "    width: 32px;\n",
              "  }\n",
              "\n",
              "  .colab-df-quickchart:hover {\n",
              "    background-color: var(--hover-bg-color);\n",
              "    box-shadow: 0 1px 2px rgba(60, 64, 67, 0.3), 0 1px 3px 1px rgba(60, 64, 67, 0.15);\n",
              "    fill: var(--button-hover-fill-color);\n",
              "  }\n",
              "\n",
              "  .colab-df-quickchart-complete:disabled,\n",
              "  .colab-df-quickchart-complete:disabled:hover {\n",
              "    background-color: var(--disabled-bg-color);\n",
              "    fill: var(--disabled-fill-color);\n",
              "    box-shadow: none;\n",
              "  }\n",
              "\n",
              "  .colab-df-spinner {\n",
              "    border: 2px solid var(--fill-color);\n",
              "    border-color: transparent;\n",
              "    border-bottom-color: var(--fill-color);\n",
              "    animation:\n",
              "      spin 1s steps(1) infinite;\n",
              "  }\n",
              "\n",
              "  @keyframes spin {\n",
              "    0% {\n",
              "      border-color: transparent;\n",
              "      border-bottom-color: var(--fill-color);\n",
              "      border-left-color: var(--fill-color);\n",
              "    }\n",
              "    20% {\n",
              "      border-color: transparent;\n",
              "      border-left-color: var(--fill-color);\n",
              "      border-top-color: var(--fill-color);\n",
              "    }\n",
              "    30% {\n",
              "      border-color: transparent;\n",
              "      border-left-color: var(--fill-color);\n",
              "      border-top-color: var(--fill-color);\n",
              "      border-right-color: var(--fill-color);\n",
              "    }\n",
              "    40% {\n",
              "      border-color: transparent;\n",
              "      border-right-color: var(--fill-color);\n",
              "      border-top-color: var(--fill-color);\n",
              "    }\n",
              "    60% {\n",
              "      border-color: transparent;\n",
              "      border-right-color: var(--fill-color);\n",
              "    }\n",
              "    80% {\n",
              "      border-color: transparent;\n",
              "      border-right-color: var(--fill-color);\n",
              "      border-bottom-color: var(--fill-color);\n",
              "    }\n",
              "    90% {\n",
              "      border-color: transparent;\n",
              "      border-bottom-color: var(--fill-color);\n",
              "    }\n",
              "  }\n",
              "</style>\n",
              "\n",
              "  <script>\n",
              "    async function quickchart(key) {\n",
              "      const quickchartButtonEl =\n",
              "        document.querySelector('#' + key + ' button');\n",
              "      quickchartButtonEl.disabled = true;  // To prevent multiple clicks.\n",
              "      quickchartButtonEl.classList.add('colab-df-spinner');\n",
              "      try {\n",
              "        const charts = await google.colab.kernel.invokeFunction(\n",
              "            'suggestCharts', [key], {});\n",
              "      } catch (error) {\n",
              "        console.error('Error during call to suggestCharts:', error);\n",
              "      }\n",
              "      quickchartButtonEl.classList.remove('colab-df-spinner');\n",
              "      quickchartButtonEl.classList.add('colab-df-quickchart-complete');\n",
              "    }\n",
              "    (() => {\n",
              "      let quickchartButtonEl =\n",
              "        document.querySelector('#df-be4e0d6e-ff00-43e2-b6d9-63bb8c3113e6 button');\n",
              "      quickchartButtonEl.style.display =\n",
              "        google.colab.kernel.accessAllowed ? 'block' : 'none';\n",
              "    })();\n",
              "  </script>\n",
              "</div>\n",
              "\n",
              "    </div>\n",
              "  </div>\n"
            ],
            "application/vnd.google.colaboratory.intrinsic+json": {
              "type": "dataframe",
              "variable_name": "combined_df",
              "summary": "{\n  \"name\": \"combined_df\",\n  \"rows\": 198,\n  \"fields\": [\n    {\n      \"column\": \"uid\",\n      \"properties\": {\n        \"dtype\": \"category\",\n        \"num_unique_values\": 44,\n        \"samples\": [\n          \"61cd9aec-1de4-466c-afcc-e669e65f6524\",\n          \"ae214dc3-7158-46ed-a36a-07bcae171585\",\n          \"79f74241-c7f3-49db-bac0-fea97bafcddb\"\n        ],\n        \"semantic_type\": \"\",\n        \"description\": \"\"\n      }\n    },\n    {\n      \"column\": \"pod\",\n      \"properties\": {\n        \"dtype\": \"category\",\n        \"num_unique_values\": 44,\n        \"samples\": [\n          \"Compassionate Ixia\",\n          \"Vital Aster\",\n          \"Warmhearted Bachelor\\u2019s Button, Warmhearted Bachelor\\u2019s Button\"\n        ],\n        \"semantic_type\": \"\",\n        \"description\": \"\"\n      }\n    },\n    {\n      \"column\": \"Q15 - attending\",\n      \"properties\": {\n        \"dtype\": \"number\",\n        \"std\": 3.1462699786135846,\n        \"min\": 6.0,\n        \"max\": 19.0,\n        \"num_unique_values\": 11,\n        \"samples\": [\n          17.0,\n          15.0,\n          19.0\n        ],\n        \"semantic_type\": \"\",\n        \"description\": \"\"\n      }\n    },\n    {\n      \"column\": \"Q18 - never showed\",\n      \"properties\": {\n        \"dtype\": \"number\",\n        \"std\": 4.030156974878924,\n        \"min\": 0.0,\n        \"max\": 20.0,\n        \"num_unique_values\": 11,\n        \"samples\": [\n          3.0,\n          1.0,\n          7.0\n        ],\n        \"semantic_type\": \"\",\n        \"description\": \"\"\n      }\n    },\n    {\n      \"column\": \"Q16 - projects\",\n      \"properties\": {\n        \"dtype\": \"number\",\n        \"std\": 2.9822958723022,\n        \"min\": 5.0,\n        \"max\": 18.0,\n        \"num_unique_values\": 11,\n        \"samples\": [\n          15.0,\n          12.0,\n          18.0\n        ],\n        \"semantic_type\": \"\",\n        \"description\": \"\"\n      }\n    },\n    {\n      \"column\": \"Q17\",\n      \"properties\": {\n        \"dtype\": \"category\",\n        \"num_unique_values\": 5,\n        \"samples\": [\n          \"No,Maybe - need more info\",\n          \"Maybe - need more info\",\n          \"Yes\"\n        ],\n        \"semantic_type\": \"\",\n        \"description\": \"\"\n      }\n    },\n    {\n      \"column\": \"Q14\",\n      \"properties\": {\n        \"dtype\": \"category\",\n        \"num_unique_values\": 42,\n        \"samples\": [\n          \"unfortunately, some of the pod members are not active in tutorial time. none of them connect their video and most of them even do not connect their audio and just use chat. this is not pleasant for me as a TA who is doing his best and doing a lot of effort\",\n          \"I really like being a TA, but it takes me more hours than I imagined. I'm in all project and coursework hours, and each day I watch the content for the day and continue watching after to answer questions, so I start and finish with at least 1 more per day. \",\n          \"Some students really refuse to interact but accept breakout rooms\"\n        ],\n        \"semantic_type\": \"\",\n        \"description\": \"\"\n      }\n    },\n    {\n      \"column\": \"WeekDay\",\n      \"properties\": {\n        \"dtype\": \"category\",\n        \"num_unique_values\": 10,\n        \"samples\": [\n          \"w2d5\",\n          \"w2d3\",\n          \"w3d3\"\n        ],\n        \"semantic_type\": \"\",\n        \"description\": \"\"\n      }\n    },\n    {\n      \"column\": \"2\",\n      \"properties\": {\n        \"dtype\": \"number\",\n        \"std\": 0.7722012243645526,\n        \"min\": 1.0,\n        \"max\": 5.0,\n        \"num_unique_values\": 5,\n        \"samples\": [\n          5.0,\n          1.0,\n          2.0\n        ],\n        \"semantic_type\": \"\",\n        \"description\": \"\"\n      }\n    },\n    {\n      \"column\": \"Q1\",\n      \"properties\": {\n        \"dtype\": \"category\",\n        \"num_unique_values\": 3,\n        \"samples\": [\n          \"B\",\n          \"A,C\",\n          \"C\"\n        ],\n        \"semantic_type\": \"\",\n        \"description\": \"\"\n      }\n    },\n    {\n      \"column\": \"Q9\",\n      \"properties\": {\n        \"dtype\": \"category\",\n        \"num_unique_values\": 4,\n        \"samples\": [\n          \"B\",\n          \"D\",\n          \"C\"\n        ],\n        \"semantic_type\": \"\",\n        \"description\": \"\"\n      }\n    },\n    {\n      \"column\": \"Q13\",\n      \"properties\": {\n        \"dtype\": \"category\",\n        \"num_unique_values\": 34,\n        \"samples\": [\n          \"Having access to students skill set data and their backgrounds could be helpful to better arrange the members in each breakout room \",\n          \"maybe tutorials need to be a little shorter in order to avoid such problems are described before\",\n          \"Provision of internet bundle. \"\n        ],\n        \"semantic_type\": \"\",\n        \"description\": \"\"\n      }\n    },\n    {\n      \"column\": \"Q2_Pilot\",\n      \"properties\": {\n        \"dtype\": \"category\",\n        \"num_unique_values\": 60,\n        \"samples\": [\n          \"There is no written daily guide for projects in this day.\",\n          \"The solution to the thinking questions at the end of tutorial 2 is confusing and unclear to me. The recommended paper is more clear.\",\n          \"Had a temporary issue in Coding Exercise 1, tutorial 2 where, because the initial state is hard-coded as -1, the answer is wrong if the means are put in the mean vector backwards.\"\n        ],\n        \"semantic_type\": \"\",\n        \"description\": \"\"\n      }\n    },\n    {\n      \"column\": \"Q1_Pilot\",\n      \"properties\": {\n        \"dtype\": \"number\",\n        \"std\": 0.7102378966392078,\n        \"min\": 3.0,\n        \"max\": 5.0,\n        \"num_unique_values\": 3,\n        \"samples\": [\n          3.0,\n          5.0,\n          4.0\n        ],\n        \"semantic_type\": \"\",\n        \"description\": \"\"\n      }\n    },\n    {\n      \"column\": \"Q2\",\n      \"properties\": {\n        \"dtype\": \"number\",\n        \"std\": null,\n        \"min\": null,\n        \"max\": null,\n        \"num_unique_values\": 0,\n        \"samples\": [],\n        \"semantic_type\": \"\",\n        \"description\": \"\"\n      }\n    },\n    {\n      \"column\": \"Q2 Pilot\",\n      \"properties\": {\n        \"dtype\": \"category\",\n        \"num_unique_values\": 6,\n        \"samples\": [],\n        \"semantic_type\": \"\",\n        \"description\": \"\"\n      }\n    }\n  ]\n}"
            }
          },
          "metadata": {},
          "execution_count": 5
        }
      ]
    },
    {
      "cell_type": "code",
      "source": [
        "combined_df.tail()"
      ],
      "metadata": {
        "id": "kFhyQ4BXCa9W",
        "colab": {
          "base_uri": "https://localhost:8080/",
          "height": 484
        },
        "outputId": "e099aa0d-5919-4de9-f7e7-73857690ff5a"
      },
      "execution_count": 6,
      "outputs": [
        {
          "output_type": "execute_result",
          "data": {
            "text/plain": [
              "                                      uid  \\\n",
              "209  fcb08161-b451-412e-a49a-edb5c890e7ce   \n",
              "210  e85bb24e-2ef7-465b-bdd4-8e75cd751793   \n",
              "211  79f74241-c7f3-49db-bac0-fea97bafcddb   \n",
              "212  cc49b3de-1724-44f7-86f6-c7467425bb02   \n",
              "213  fac49ae6-2538-4db4-a37a-379ed167f0ab   \n",
              "\n",
              "                                                   pod  Q15 - attending  \\\n",
              "209                                  Stellar Goldenrod              NaN   \n",
              "210                                   Sustainable Rose              NaN   \n",
              "211  Warmhearted Bachelor’s Button, Warmhearted Bac...              NaN   \n",
              "212                              Wishful Perennial Pea              NaN   \n",
              "213                                  Wonderful Begonia              NaN   \n",
              "\n",
              "     Q18 - never showed  Q16 - projects  Q17  \\\n",
              "209                 NaN             NaN  NaN   \n",
              "210                 NaN             NaN  NaN   \n",
              "211                 NaN             NaN  NaN   \n",
              "212                 NaN             NaN  NaN   \n",
              "213                 NaN             NaN  NaN   \n",
              "\n",
              "                                                   Q14 WeekDay    2   Q1 Q9  \\\n",
              "209  Some breakout rooms finish earlier that others...    w2d4 5.00  NaN  C   \n",
              "210                                                NaN    w2d4 5.00  NaN  C   \n",
              "211  I am not understanding the time mentioned in t...    w2d4 5.00  NaN  D   \n",
              "212                                                NaN    w2d4 5.00  NaN  B   \n",
              "213                                                NaN    w2d4 4.00  NaN  B   \n",
              "\n",
              "                                                   Q13  \\\n",
              "209  More Clarification about students' sessions wi...   \n",
              "210                                                NaN   \n",
              "211                                                NaN   \n",
              "212                                                NaN   \n",
              "213                                                NaN   \n",
              "\n",
              "                                              Q2_Pilot  Q1_Pilot  Q2 Q2 Pilot  \n",
              "209                                                NaN      4.00 NaN      NaN  \n",
              "210                                                NaN      5.00 NaN      NaN  \n",
              "211  Encouraging students to participate.\\n\\nBeing ...      4.00 NaN      NaN  \n",
              "212                                                NaN      5.00 NaN      NaN  \n",
              "213                                                NaN      4.00 NaN      NaN  "
            ],
            "text/html": [
              "\n",
              "  <div id=\"df-0f96c89f-5286-4c06-84ff-c6fd7681206c\" class=\"colab-df-container\">\n",
              "    <div>\n",
              "<style scoped>\n",
              "    .dataframe tbody tr th:only-of-type {\n",
              "        vertical-align: middle;\n",
              "    }\n",
              "\n",
              "    .dataframe tbody tr th {\n",
              "        vertical-align: top;\n",
              "    }\n",
              "\n",
              "    .dataframe thead th {\n",
              "        text-align: right;\n",
              "    }\n",
              "</style>\n",
              "<table border=\"1\" class=\"dataframe\">\n",
              "  <thead>\n",
              "    <tr style=\"text-align: right;\">\n",
              "      <th></th>\n",
              "      <th>uid</th>\n",
              "      <th>pod</th>\n",
              "      <th>Q15 - attending</th>\n",
              "      <th>Q18 - never showed</th>\n",
              "      <th>Q16 - projects</th>\n",
              "      <th>Q17</th>\n",
              "      <th>Q14</th>\n",
              "      <th>WeekDay</th>\n",
              "      <th>2</th>\n",
              "      <th>Q1</th>\n",
              "      <th>Q9</th>\n",
              "      <th>Q13</th>\n",
              "      <th>Q2_Pilot</th>\n",
              "      <th>Q1_Pilot</th>\n",
              "      <th>Q2</th>\n",
              "      <th>Q2 Pilot</th>\n",
              "    </tr>\n",
              "  </thead>\n",
              "  <tbody>\n",
              "    <tr>\n",
              "      <th>209</th>\n",
              "      <td>fcb08161-b451-412e-a49a-edb5c890e7ce</td>\n",
              "      <td>Stellar Goldenrod</td>\n",
              "      <td>NaN</td>\n",
              "      <td>NaN</td>\n",
              "      <td>NaN</td>\n",
              "      <td>NaN</td>\n",
              "      <td>Some breakout rooms finish earlier that others...</td>\n",
              "      <td>w2d4</td>\n",
              "      <td>5.00</td>\n",
              "      <td>NaN</td>\n",
              "      <td>C</td>\n",
              "      <td>More Clarification about students' sessions wi...</td>\n",
              "      <td>NaN</td>\n",
              "      <td>4.00</td>\n",
              "      <td>NaN</td>\n",
              "      <td>NaN</td>\n",
              "    </tr>\n",
              "    <tr>\n",
              "      <th>210</th>\n",
              "      <td>e85bb24e-2ef7-465b-bdd4-8e75cd751793</td>\n",
              "      <td>Sustainable Rose</td>\n",
              "      <td>NaN</td>\n",
              "      <td>NaN</td>\n",
              "      <td>NaN</td>\n",
              "      <td>NaN</td>\n",
              "      <td>NaN</td>\n",
              "      <td>w2d4</td>\n",
              "      <td>5.00</td>\n",
              "      <td>NaN</td>\n",
              "      <td>C</td>\n",
              "      <td>NaN</td>\n",
              "      <td>NaN</td>\n",
              "      <td>5.00</td>\n",
              "      <td>NaN</td>\n",
              "      <td>NaN</td>\n",
              "    </tr>\n",
              "    <tr>\n",
              "      <th>211</th>\n",
              "      <td>79f74241-c7f3-49db-bac0-fea97bafcddb</td>\n",
              "      <td>Warmhearted Bachelor’s Button, Warmhearted Bac...</td>\n",
              "      <td>NaN</td>\n",
              "      <td>NaN</td>\n",
              "      <td>NaN</td>\n",
              "      <td>NaN</td>\n",
              "      <td>I am not understanding the time mentioned in t...</td>\n",
              "      <td>w2d4</td>\n",
              "      <td>5.00</td>\n",
              "      <td>NaN</td>\n",
              "      <td>D</td>\n",
              "      <td>NaN</td>\n",
              "      <td>Encouraging students to participate.\\n\\nBeing ...</td>\n",
              "      <td>4.00</td>\n",
              "      <td>NaN</td>\n",
              "      <td>NaN</td>\n",
              "    </tr>\n",
              "    <tr>\n",
              "      <th>212</th>\n",
              "      <td>cc49b3de-1724-44f7-86f6-c7467425bb02</td>\n",
              "      <td>Wishful Perennial Pea</td>\n",
              "      <td>NaN</td>\n",
              "      <td>NaN</td>\n",
              "      <td>NaN</td>\n",
              "      <td>NaN</td>\n",
              "      <td>NaN</td>\n",
              "      <td>w2d4</td>\n",
              "      <td>5.00</td>\n",
              "      <td>NaN</td>\n",
              "      <td>B</td>\n",
              "      <td>NaN</td>\n",
              "      <td>NaN</td>\n",
              "      <td>5.00</td>\n",
              "      <td>NaN</td>\n",
              "      <td>NaN</td>\n",
              "    </tr>\n",
              "    <tr>\n",
              "      <th>213</th>\n",
              "      <td>fac49ae6-2538-4db4-a37a-379ed167f0ab</td>\n",
              "      <td>Wonderful Begonia</td>\n",
              "      <td>NaN</td>\n",
              "      <td>NaN</td>\n",
              "      <td>NaN</td>\n",
              "      <td>NaN</td>\n",
              "      <td>NaN</td>\n",
              "      <td>w2d4</td>\n",
              "      <td>4.00</td>\n",
              "      <td>NaN</td>\n",
              "      <td>B</td>\n",
              "      <td>NaN</td>\n",
              "      <td>NaN</td>\n",
              "      <td>4.00</td>\n",
              "      <td>NaN</td>\n",
              "      <td>NaN</td>\n",
              "    </tr>\n",
              "  </tbody>\n",
              "</table>\n",
              "</div>\n",
              "    <div class=\"colab-df-buttons\">\n",
              "\n",
              "  <div class=\"colab-df-container\">\n",
              "    <button class=\"colab-df-convert\" onclick=\"convertToInteractive('df-0f96c89f-5286-4c06-84ff-c6fd7681206c')\"\n",
              "            title=\"Convert this dataframe to an interactive table.\"\n",
              "            style=\"display:none;\">\n",
              "\n",
              "  <svg xmlns=\"http://www.w3.org/2000/svg\" height=\"24px\" viewBox=\"0 -960 960 960\">\n",
              "    <path d=\"M120-120v-720h720v720H120Zm60-500h600v-160H180v160Zm220 220h160v-160H400v160Zm0 220h160v-160H400v160ZM180-400h160v-160H180v160Zm440 0h160v-160H620v160ZM180-180h160v-160H180v160Zm440 0h160v-160H620v160Z\"/>\n",
              "  </svg>\n",
              "    </button>\n",
              "\n",
              "  <style>\n",
              "    .colab-df-container {\n",
              "      display:flex;\n",
              "      gap: 12px;\n",
              "    }\n",
              "\n",
              "    .colab-df-convert {\n",
              "      background-color: #E8F0FE;\n",
              "      border: none;\n",
              "      border-radius: 50%;\n",
              "      cursor: pointer;\n",
              "      display: none;\n",
              "      fill: #1967D2;\n",
              "      height: 32px;\n",
              "      padding: 0 0 0 0;\n",
              "      width: 32px;\n",
              "    }\n",
              "\n",
              "    .colab-df-convert:hover {\n",
              "      background-color: #E2EBFA;\n",
              "      box-shadow: 0px 1px 2px rgba(60, 64, 67, 0.3), 0px 1px 3px 1px rgba(60, 64, 67, 0.15);\n",
              "      fill: #174EA6;\n",
              "    }\n",
              "\n",
              "    .colab-df-buttons div {\n",
              "      margin-bottom: 4px;\n",
              "    }\n",
              "\n",
              "    [theme=dark] .colab-df-convert {\n",
              "      background-color: #3B4455;\n",
              "      fill: #D2E3FC;\n",
              "    }\n",
              "\n",
              "    [theme=dark] .colab-df-convert:hover {\n",
              "      background-color: #434B5C;\n",
              "      box-shadow: 0px 1px 3px 1px rgba(0, 0, 0, 0.15);\n",
              "      filter: drop-shadow(0px 1px 2px rgba(0, 0, 0, 0.3));\n",
              "      fill: #FFFFFF;\n",
              "    }\n",
              "  </style>\n",
              "\n",
              "    <script>\n",
              "      const buttonEl =\n",
              "        document.querySelector('#df-0f96c89f-5286-4c06-84ff-c6fd7681206c button.colab-df-convert');\n",
              "      buttonEl.style.display =\n",
              "        google.colab.kernel.accessAllowed ? 'block' : 'none';\n",
              "\n",
              "      async function convertToInteractive(key) {\n",
              "        const element = document.querySelector('#df-0f96c89f-5286-4c06-84ff-c6fd7681206c');\n",
              "        const dataTable =\n",
              "          await google.colab.kernel.invokeFunction('convertToInteractive',\n",
              "                                                    [key], {});\n",
              "        if (!dataTable) return;\n",
              "\n",
              "        const docLinkHtml = 'Like what you see? Visit the ' +\n",
              "          '<a target=\"_blank\" href=https://colab.research.google.com/notebooks/data_table.ipynb>data table notebook</a>'\n",
              "          + ' to learn more about interactive tables.';\n",
              "        element.innerHTML = '';\n",
              "        dataTable['output_type'] = 'display_data';\n",
              "        await google.colab.output.renderOutput(dataTable, element);\n",
              "        const docLink = document.createElement('div');\n",
              "        docLink.innerHTML = docLinkHtml;\n",
              "        element.appendChild(docLink);\n",
              "      }\n",
              "    </script>\n",
              "  </div>\n",
              "\n",
              "\n",
              "<div id=\"df-f827e395-52c9-44d2-b522-97b02c42b7d0\">\n",
              "  <button class=\"colab-df-quickchart\" onclick=\"quickchart('df-f827e395-52c9-44d2-b522-97b02c42b7d0')\"\n",
              "            title=\"Suggest charts\"\n",
              "            style=\"display:none;\">\n",
              "\n",
              "<svg xmlns=\"http://www.w3.org/2000/svg\" height=\"24px\"viewBox=\"0 0 24 24\"\n",
              "     width=\"24px\">\n",
              "    <g>\n",
              "        <path d=\"M19 3H5c-1.1 0-2 .9-2 2v14c0 1.1.9 2 2 2h14c1.1 0 2-.9 2-2V5c0-1.1-.9-2-2-2zM9 17H7v-7h2v7zm4 0h-2V7h2v10zm4 0h-2v-4h2v4z\"/>\n",
              "    </g>\n",
              "</svg>\n",
              "  </button>\n",
              "\n",
              "<style>\n",
              "  .colab-df-quickchart {\n",
              "      --bg-color: #E8F0FE;\n",
              "      --fill-color: #1967D2;\n",
              "      --hover-bg-color: #E2EBFA;\n",
              "      --hover-fill-color: #174EA6;\n",
              "      --disabled-fill-color: #AAA;\n",
              "      --disabled-bg-color: #DDD;\n",
              "  }\n",
              "\n",
              "  [theme=dark] .colab-df-quickchart {\n",
              "      --bg-color: #3B4455;\n",
              "      --fill-color: #D2E3FC;\n",
              "      --hover-bg-color: #434B5C;\n",
              "      --hover-fill-color: #FFFFFF;\n",
              "      --disabled-bg-color: #3B4455;\n",
              "      --disabled-fill-color: #666;\n",
              "  }\n",
              "\n",
              "  .colab-df-quickchart {\n",
              "    background-color: var(--bg-color);\n",
              "    border: none;\n",
              "    border-radius: 50%;\n",
              "    cursor: pointer;\n",
              "    display: none;\n",
              "    fill: var(--fill-color);\n",
              "    height: 32px;\n",
              "    padding: 0;\n",
              "    width: 32px;\n",
              "  }\n",
              "\n",
              "  .colab-df-quickchart:hover {\n",
              "    background-color: var(--hover-bg-color);\n",
              "    box-shadow: 0 1px 2px rgba(60, 64, 67, 0.3), 0 1px 3px 1px rgba(60, 64, 67, 0.15);\n",
              "    fill: var(--button-hover-fill-color);\n",
              "  }\n",
              "\n",
              "  .colab-df-quickchart-complete:disabled,\n",
              "  .colab-df-quickchart-complete:disabled:hover {\n",
              "    background-color: var(--disabled-bg-color);\n",
              "    fill: var(--disabled-fill-color);\n",
              "    box-shadow: none;\n",
              "  }\n",
              "\n",
              "  .colab-df-spinner {\n",
              "    border: 2px solid var(--fill-color);\n",
              "    border-color: transparent;\n",
              "    border-bottom-color: var(--fill-color);\n",
              "    animation:\n",
              "      spin 1s steps(1) infinite;\n",
              "  }\n",
              "\n",
              "  @keyframes spin {\n",
              "    0% {\n",
              "      border-color: transparent;\n",
              "      border-bottom-color: var(--fill-color);\n",
              "      border-left-color: var(--fill-color);\n",
              "    }\n",
              "    20% {\n",
              "      border-color: transparent;\n",
              "      border-left-color: var(--fill-color);\n",
              "      border-top-color: var(--fill-color);\n",
              "    }\n",
              "    30% {\n",
              "      border-color: transparent;\n",
              "      border-left-color: var(--fill-color);\n",
              "      border-top-color: var(--fill-color);\n",
              "      border-right-color: var(--fill-color);\n",
              "    }\n",
              "    40% {\n",
              "      border-color: transparent;\n",
              "      border-right-color: var(--fill-color);\n",
              "      border-top-color: var(--fill-color);\n",
              "    }\n",
              "    60% {\n",
              "      border-color: transparent;\n",
              "      border-right-color: var(--fill-color);\n",
              "    }\n",
              "    80% {\n",
              "      border-color: transparent;\n",
              "      border-right-color: var(--fill-color);\n",
              "      border-bottom-color: var(--fill-color);\n",
              "    }\n",
              "    90% {\n",
              "      border-color: transparent;\n",
              "      border-bottom-color: var(--fill-color);\n",
              "    }\n",
              "  }\n",
              "</style>\n",
              "\n",
              "  <script>\n",
              "    async function quickchart(key) {\n",
              "      const quickchartButtonEl =\n",
              "        document.querySelector('#' + key + ' button');\n",
              "      quickchartButtonEl.disabled = true;  // To prevent multiple clicks.\n",
              "      quickchartButtonEl.classList.add('colab-df-spinner');\n",
              "      try {\n",
              "        const charts = await google.colab.kernel.invokeFunction(\n",
              "            'suggestCharts', [key], {});\n",
              "      } catch (error) {\n",
              "        console.error('Error during call to suggestCharts:', error);\n",
              "      }\n",
              "      quickchartButtonEl.classList.remove('colab-df-spinner');\n",
              "      quickchartButtonEl.classList.add('colab-df-quickchart-complete');\n",
              "    }\n",
              "    (() => {\n",
              "      let quickchartButtonEl =\n",
              "        document.querySelector('#df-f827e395-52c9-44d2-b522-97b02c42b7d0 button');\n",
              "      quickchartButtonEl.style.display =\n",
              "        google.colab.kernel.accessAllowed ? 'block' : 'none';\n",
              "    })();\n",
              "  </script>\n",
              "</div>\n",
              "\n",
              "    </div>\n",
              "  </div>\n"
            ],
            "application/vnd.google.colaboratory.intrinsic+json": {
              "type": "dataframe",
              "repr_error": "0"
            }
          },
          "metadata": {},
          "execution_count": 6
        }
      ]
    },
    {
      "cell_type": "markdown",
      "source": [
        "**Understand the shape of the dataset**"
      ],
      "metadata": {
        "id": "T0DWIU9dChsO"
      }
    },
    {
      "cell_type": "code",
      "source": [
        "print(\"There are\", combined_df.shape[0], 'rows and', combined_df.shape[1], \"columns.\")"
      ],
      "metadata": {
        "id": "o1YyQBEyCiNX",
        "colab": {
          "base_uri": "https://localhost:8080/"
        },
        "outputId": "8859c202-cef8-458a-b664-f8a3ed498e73"
      },
      "execution_count": 7,
      "outputs": [
        {
          "output_type": "stream",
          "name": "stdout",
          "text": [
            "There are 198 rows and 16 columns.\n"
          ]
        }
      ]
    },
    {
      "cell_type": "markdown",
      "source": [
        "**Check the data types of the columns in the dataset**"
      ],
      "metadata": {
        "id": "_bLwI1HvCncK"
      }
    },
    {
      "cell_type": "code",
      "source": [
        "combined_df.info()"
      ],
      "metadata": {
        "id": "_L-M8wgzCn5s",
        "colab": {
          "base_uri": "https://localhost:8080/"
        },
        "outputId": "17fccaa2-2e70-4fb9-c9d2-cb19592b5119"
      },
      "execution_count": 8,
      "outputs": [
        {
          "output_type": "stream",
          "name": "stdout",
          "text": [
            "<class 'pandas.core.frame.DataFrame'>\n",
            "Index: 198 entries, 0 to 213\n",
            "Data columns (total 16 columns):\n",
            " #   Column              Non-Null Count  Dtype  \n",
            "---  ------              --------------  -----  \n",
            " 0   uid                 198 non-null    object \n",
            " 1   pod                 198 non-null    object \n",
            " 2   Q15 - attending     29 non-null     float64\n",
            " 3   Q18 - never showed  27 non-null     float64\n",
            " 4   Q16 - projects      29 non-null     float64\n",
            " 5   Q17                 29 non-null     object \n",
            " 6   Q14                 50 non-null     object \n",
            " 7   WeekDay             198 non-null    object \n",
            " 8   2                   169 non-null    float64\n",
            " 9   Q1                  3 non-null      object \n",
            " 10  Q9                  167 non-null    object \n",
            " 11  Q13                 34 non-null     object \n",
            " 12  Q2_Pilot            68 non-null     object \n",
            " 13  Q1_Pilot            169 non-null    float64\n",
            " 14  Q2                  0 non-null      float64\n",
            " 15  Q2 Pilot            6 non-null      object \n",
            "dtypes: float64(6), object(10)\n",
            "memory usage: 26.3+ KB\n"
          ]
        }
      ]
    },
    {
      "cell_type": "markdown",
      "source": [
        "**NOTE2: In CN 2024 only I forgot to update the survyes. Compared to DL and neuroAI there are some missing questions. We'll work anyway with what we have.**\n",
        "\n",
        "\n",
        "*Q2 pilot appers twice but they correspond to the same question. Rename one of the 2*"
      ],
      "metadata": {
        "id": "cu7PkzjLeyAD"
      }
    },
    {
      "cell_type": "code",
      "source": [
        "combined_df['Q2 Pilot'].unique()"
      ],
      "metadata": {
        "colab": {
          "base_uri": "https://localhost:8080/"
        },
        "id": "LcEWRqwvej9-",
        "outputId": "000d3664-303c-4c75-91a4-842f8a0e3c5b"
      },
      "execution_count": 9,
      "outputs": [
        {
          "output_type": "execute_result",
          "data": {
            "text/plain": [
              "array([nan, 'Tutorial 3 was not clear for students\\n',\n",
              "       'different students sometimes with totally different backgrounds and level',\n",
              "       'No ',\n",
              "       'presentation slots were not clear. Our breakout room for presenting did not have a manager so I took control of the session when I saw no one talking.',\n",
              "       'Encouraging students to participate.\\n\\nBeing able to provide enough engineering perspective in my responses.\\n\\nEncouraging students to participate so that they complement my responses with additional or better explanations.\\n\\nFinding additional time to do that and to simultaneously give a very good review to their presentations and research project advances.',\n",
              "       'No'], dtype=object)"
            ]
          },
          "metadata": {},
          "execution_count": 9
        }
      ]
    },
    {
      "cell_type": "code",
      "source": [
        "if 'Q2 Pilot' in combined_df.columns:\n",
        "    combined_df['Q2_Pilot'] = combined_df['Q2_Pilot'].fillna(combined_df['Q2 Pilot'])\n",
        "    combined_df = combined_df.drop(columns=['Q2 Pilot'])  # Drop the duplicate"
      ],
      "metadata": {
        "id": "UXlc_F8Uf3bS"
      },
      "execution_count": 10,
      "outputs": []
    },
    {
      "cell_type": "code",
      "source": [
        "print(combined_df.columns.tolist())"
      ],
      "metadata": {
        "colab": {
          "base_uri": "https://localhost:8080/"
        },
        "id": "J5L8VGdVg9RU",
        "outputId": "f52a6caa-49fd-4a29-e3a2-f6cc4bd5142d"
      },
      "execution_count": 11,
      "outputs": [
        {
          "output_type": "stream",
          "name": "stdout",
          "text": [
            "['uid', 'pod', 'Q15 - attending', 'Q18 - never showed', 'Q16 - projects', 'Q17', 'Q14', 'WeekDay', '2', 'Q1', 'Q9', 'Q13', 'Q2_Pilot', 'Q1_Pilot', 'Q2']\n"
          ]
        }
      ]
    },
    {
      "cell_type": "code",
      "source": [
        "combined_df.info()"
      ],
      "metadata": {
        "colab": {
          "base_uri": "https://localhost:8080/"
        },
        "id": "YWqkI8QYhACg",
        "outputId": "a0bb94b5-3e98-4bb5-e15e-f90a83af8aa1"
      },
      "execution_count": 12,
      "outputs": [
        {
          "output_type": "stream",
          "name": "stdout",
          "text": [
            "<class 'pandas.core.frame.DataFrame'>\n",
            "Index: 198 entries, 0 to 213\n",
            "Data columns (total 15 columns):\n",
            " #   Column              Non-Null Count  Dtype  \n",
            "---  ------              --------------  -----  \n",
            " 0   uid                 198 non-null    object \n",
            " 1   pod                 198 non-null    object \n",
            " 2   Q15 - attending     29 non-null     float64\n",
            " 3   Q18 - never showed  27 non-null     float64\n",
            " 4   Q16 - projects      29 non-null     float64\n",
            " 5   Q17                 29 non-null     object \n",
            " 6   Q14                 50 non-null     object \n",
            " 7   WeekDay             198 non-null    object \n",
            " 8   2                   169 non-null    float64\n",
            " 9   Q1                  3 non-null      object \n",
            " 10  Q9                  167 non-null    object \n",
            " 11  Q13                 34 non-null     object \n",
            " 12  Q2_Pilot            74 non-null     object \n",
            " 13  Q1_Pilot            169 non-null    float64\n",
            " 14  Q2                  0 non-null      float64\n",
            "dtypes: float64(6), object(9)\n",
            "memory usage: 24.8+ KB\n"
          ]
        }
      ]
    },
    {
      "cell_type": "code",
      "source": [
        "# combined_df.describe().T\n",
        "combined_df.describe(include = 'all').T # if you want to include object too"
      ],
      "metadata": {
        "colab": {
          "base_uri": "https://localhost:8080/",
          "height": 520
        },
        "id": "fYhN_-JiqK77",
        "outputId": "bd7925c2-c70d-42e2-aa71-dd6891978920"
      },
      "execution_count": 13,
      "outputs": [
        {
          "output_type": "execute_result",
          "data": {
            "text/plain": [
              "                    count unique  \\\n",
              "uid                   198     44   \n",
              "pod                   198     44   \n",
              "Q15 - attending     29.00    NaN   \n",
              "Q18 - never showed  27.00    NaN   \n",
              "Q16 - projects      29.00    NaN   \n",
              "Q17                    29      5   \n",
              "Q14                    50     42   \n",
              "WeekDay               198     10   \n",
              "2                  169.00    NaN   \n",
              "Q1                      3      3   \n",
              "Q9                    167      4   \n",
              "Q13                    34     34   \n",
              "Q2_Pilot               74     64   \n",
              "Q1_Pilot           169.00    NaN   \n",
              "Q2                   0.00    NaN   \n",
              "\n",
              "                                                                  top freq  \\\n",
              "uid                              fac49ae6-2538-4db4-a37a-379ed167f0ab   10   \n",
              "pod                                                 Wonderful Begonia   10   \n",
              "Q15 - attending                                                   NaN  NaN   \n",
              "Q18 - never showed                                                NaN  NaN   \n",
              "Q16 - projects                                                    NaN  NaN   \n",
              "Q17                                                                No   21   \n",
              "Q14                 I am not understanding the time mentioned in t...    8   \n",
              "WeekDay                                                          w2d1   29   \n",
              "2                                                                 NaN  NaN   \n",
              "Q1                                                                  B    1   \n",
              "Q9                                                                  B   67   \n",
              "Q13                                                   weekly meetings    1   \n",
              "Q2_Pilot                                                           No    8   \n",
              "Q1_Pilot                                                          NaN  NaN   \n",
              "Q2                                                                NaN  NaN   \n",
              "\n",
              "                    mean  std  min  25%   50%   75%   max  \n",
              "uid                  NaN  NaN  NaN  NaN   NaN   NaN   NaN  \n",
              "pod                  NaN  NaN  NaN  NaN   NaN   NaN   NaN  \n",
              "Q15 - attending    11.45 3.15 6.00 9.00 11.00 14.00 19.00  \n",
              "Q18 - never showed  4.63 4.03 0.00 2.00  4.00  6.50 20.00  \n",
              "Q16 - projects     10.59 2.98 5.00 8.00 10.00 12.00 18.00  \n",
              "Q17                  NaN  NaN  NaN  NaN   NaN   NaN   NaN  \n",
              "Q14                  NaN  NaN  NaN  NaN   NaN   NaN   NaN  \n",
              "WeekDay              NaN  NaN  NaN  NaN   NaN   NaN   NaN  \n",
              "2                   4.52 0.77 1.00 4.00  5.00  5.00  5.00  \n",
              "Q1                   NaN  NaN  NaN  NaN   NaN   NaN   NaN  \n",
              "Q9                   NaN  NaN  NaN  NaN   NaN   NaN   NaN  \n",
              "Q13                  NaN  NaN  NaN  NaN   NaN   NaN   NaN  \n",
              "Q2_Pilot             NaN  NaN  NaN  NaN   NaN   NaN   NaN  \n",
              "Q1_Pilot            4.32 0.71 3.00 4.00  4.00  5.00  5.00  \n",
              "Q2                   NaN  NaN  NaN  NaN   NaN   NaN   NaN  "
            ],
            "text/html": [
              "\n",
              "  <div id=\"df-6d49be5d-7212-4ff6-b3ac-1ac26f645d64\" class=\"colab-df-container\">\n",
              "    <div>\n",
              "<style scoped>\n",
              "    .dataframe tbody tr th:only-of-type {\n",
              "        vertical-align: middle;\n",
              "    }\n",
              "\n",
              "    .dataframe tbody tr th {\n",
              "        vertical-align: top;\n",
              "    }\n",
              "\n",
              "    .dataframe thead th {\n",
              "        text-align: right;\n",
              "    }\n",
              "</style>\n",
              "<table border=\"1\" class=\"dataframe\">\n",
              "  <thead>\n",
              "    <tr style=\"text-align: right;\">\n",
              "      <th></th>\n",
              "      <th>count</th>\n",
              "      <th>unique</th>\n",
              "      <th>top</th>\n",
              "      <th>freq</th>\n",
              "      <th>mean</th>\n",
              "      <th>std</th>\n",
              "      <th>min</th>\n",
              "      <th>25%</th>\n",
              "      <th>50%</th>\n",
              "      <th>75%</th>\n",
              "      <th>max</th>\n",
              "    </tr>\n",
              "  </thead>\n",
              "  <tbody>\n",
              "    <tr>\n",
              "      <th>uid</th>\n",
              "      <td>198</td>\n",
              "      <td>44</td>\n",
              "      <td>fac49ae6-2538-4db4-a37a-379ed167f0ab</td>\n",
              "      <td>10</td>\n",
              "      <td>NaN</td>\n",
              "      <td>NaN</td>\n",
              "      <td>NaN</td>\n",
              "      <td>NaN</td>\n",
              "      <td>NaN</td>\n",
              "      <td>NaN</td>\n",
              "      <td>NaN</td>\n",
              "    </tr>\n",
              "    <tr>\n",
              "      <th>pod</th>\n",
              "      <td>198</td>\n",
              "      <td>44</td>\n",
              "      <td>Wonderful Begonia</td>\n",
              "      <td>10</td>\n",
              "      <td>NaN</td>\n",
              "      <td>NaN</td>\n",
              "      <td>NaN</td>\n",
              "      <td>NaN</td>\n",
              "      <td>NaN</td>\n",
              "      <td>NaN</td>\n",
              "      <td>NaN</td>\n",
              "    </tr>\n",
              "    <tr>\n",
              "      <th>Q15 - attending</th>\n",
              "      <td>29.00</td>\n",
              "      <td>NaN</td>\n",
              "      <td>NaN</td>\n",
              "      <td>NaN</td>\n",
              "      <td>11.45</td>\n",
              "      <td>3.15</td>\n",
              "      <td>6.00</td>\n",
              "      <td>9.00</td>\n",
              "      <td>11.00</td>\n",
              "      <td>14.00</td>\n",
              "      <td>19.00</td>\n",
              "    </tr>\n",
              "    <tr>\n",
              "      <th>Q18 - never showed</th>\n",
              "      <td>27.00</td>\n",
              "      <td>NaN</td>\n",
              "      <td>NaN</td>\n",
              "      <td>NaN</td>\n",
              "      <td>4.63</td>\n",
              "      <td>4.03</td>\n",
              "      <td>0.00</td>\n",
              "      <td>2.00</td>\n",
              "      <td>4.00</td>\n",
              "      <td>6.50</td>\n",
              "      <td>20.00</td>\n",
              "    </tr>\n",
              "    <tr>\n",
              "      <th>Q16 - projects</th>\n",
              "      <td>29.00</td>\n",
              "      <td>NaN</td>\n",
              "      <td>NaN</td>\n",
              "      <td>NaN</td>\n",
              "      <td>10.59</td>\n",
              "      <td>2.98</td>\n",
              "      <td>5.00</td>\n",
              "      <td>8.00</td>\n",
              "      <td>10.00</td>\n",
              "      <td>12.00</td>\n",
              "      <td>18.00</td>\n",
              "    </tr>\n",
              "    <tr>\n",
              "      <th>Q17</th>\n",
              "      <td>29</td>\n",
              "      <td>5</td>\n",
              "      <td>No</td>\n",
              "      <td>21</td>\n",
              "      <td>NaN</td>\n",
              "      <td>NaN</td>\n",
              "      <td>NaN</td>\n",
              "      <td>NaN</td>\n",
              "      <td>NaN</td>\n",
              "      <td>NaN</td>\n",
              "      <td>NaN</td>\n",
              "    </tr>\n",
              "    <tr>\n",
              "      <th>Q14</th>\n",
              "      <td>50</td>\n",
              "      <td>42</td>\n",
              "      <td>I am not understanding the time mentioned in t...</td>\n",
              "      <td>8</td>\n",
              "      <td>NaN</td>\n",
              "      <td>NaN</td>\n",
              "      <td>NaN</td>\n",
              "      <td>NaN</td>\n",
              "      <td>NaN</td>\n",
              "      <td>NaN</td>\n",
              "      <td>NaN</td>\n",
              "    </tr>\n",
              "    <tr>\n",
              "      <th>WeekDay</th>\n",
              "      <td>198</td>\n",
              "      <td>10</td>\n",
              "      <td>w2d1</td>\n",
              "      <td>29</td>\n",
              "      <td>NaN</td>\n",
              "      <td>NaN</td>\n",
              "      <td>NaN</td>\n",
              "      <td>NaN</td>\n",
              "      <td>NaN</td>\n",
              "      <td>NaN</td>\n",
              "      <td>NaN</td>\n",
              "    </tr>\n",
              "    <tr>\n",
              "      <th>2</th>\n",
              "      <td>169.00</td>\n",
              "      <td>NaN</td>\n",
              "      <td>NaN</td>\n",
              "      <td>NaN</td>\n",
              "      <td>4.52</td>\n",
              "      <td>0.77</td>\n",
              "      <td>1.00</td>\n",
              "      <td>4.00</td>\n",
              "      <td>5.00</td>\n",
              "      <td>5.00</td>\n",
              "      <td>5.00</td>\n",
              "    </tr>\n",
              "    <tr>\n",
              "      <th>Q1</th>\n",
              "      <td>3</td>\n",
              "      <td>3</td>\n",
              "      <td>B</td>\n",
              "      <td>1</td>\n",
              "      <td>NaN</td>\n",
              "      <td>NaN</td>\n",
              "      <td>NaN</td>\n",
              "      <td>NaN</td>\n",
              "      <td>NaN</td>\n",
              "      <td>NaN</td>\n",
              "      <td>NaN</td>\n",
              "    </tr>\n",
              "    <tr>\n",
              "      <th>Q9</th>\n",
              "      <td>167</td>\n",
              "      <td>4</td>\n",
              "      <td>B</td>\n",
              "      <td>67</td>\n",
              "      <td>NaN</td>\n",
              "      <td>NaN</td>\n",
              "      <td>NaN</td>\n",
              "      <td>NaN</td>\n",
              "      <td>NaN</td>\n",
              "      <td>NaN</td>\n",
              "      <td>NaN</td>\n",
              "    </tr>\n",
              "    <tr>\n",
              "      <th>Q13</th>\n",
              "      <td>34</td>\n",
              "      <td>34</td>\n",
              "      <td>weekly meetings</td>\n",
              "      <td>1</td>\n",
              "      <td>NaN</td>\n",
              "      <td>NaN</td>\n",
              "      <td>NaN</td>\n",
              "      <td>NaN</td>\n",
              "      <td>NaN</td>\n",
              "      <td>NaN</td>\n",
              "      <td>NaN</td>\n",
              "    </tr>\n",
              "    <tr>\n",
              "      <th>Q2_Pilot</th>\n",
              "      <td>74</td>\n",
              "      <td>64</td>\n",
              "      <td>No</td>\n",
              "      <td>8</td>\n",
              "      <td>NaN</td>\n",
              "      <td>NaN</td>\n",
              "      <td>NaN</td>\n",
              "      <td>NaN</td>\n",
              "      <td>NaN</td>\n",
              "      <td>NaN</td>\n",
              "      <td>NaN</td>\n",
              "    </tr>\n",
              "    <tr>\n",
              "      <th>Q1_Pilot</th>\n",
              "      <td>169.00</td>\n",
              "      <td>NaN</td>\n",
              "      <td>NaN</td>\n",
              "      <td>NaN</td>\n",
              "      <td>4.32</td>\n",
              "      <td>0.71</td>\n",
              "      <td>3.00</td>\n",
              "      <td>4.00</td>\n",
              "      <td>4.00</td>\n",
              "      <td>5.00</td>\n",
              "      <td>5.00</td>\n",
              "    </tr>\n",
              "    <tr>\n",
              "      <th>Q2</th>\n",
              "      <td>0.00</td>\n",
              "      <td>NaN</td>\n",
              "      <td>NaN</td>\n",
              "      <td>NaN</td>\n",
              "      <td>NaN</td>\n",
              "      <td>NaN</td>\n",
              "      <td>NaN</td>\n",
              "      <td>NaN</td>\n",
              "      <td>NaN</td>\n",
              "      <td>NaN</td>\n",
              "      <td>NaN</td>\n",
              "    </tr>\n",
              "  </tbody>\n",
              "</table>\n",
              "</div>\n",
              "    <div class=\"colab-df-buttons\">\n",
              "\n",
              "  <div class=\"colab-df-container\">\n",
              "    <button class=\"colab-df-convert\" onclick=\"convertToInteractive('df-6d49be5d-7212-4ff6-b3ac-1ac26f645d64')\"\n",
              "            title=\"Convert this dataframe to an interactive table.\"\n",
              "            style=\"display:none;\">\n",
              "\n",
              "  <svg xmlns=\"http://www.w3.org/2000/svg\" height=\"24px\" viewBox=\"0 -960 960 960\">\n",
              "    <path d=\"M120-120v-720h720v720H120Zm60-500h600v-160H180v160Zm220 220h160v-160H400v160Zm0 220h160v-160H400v160ZM180-400h160v-160H180v160Zm440 0h160v-160H620v160ZM180-180h160v-160H180v160Zm440 0h160v-160H620v160Z\"/>\n",
              "  </svg>\n",
              "    </button>\n",
              "\n",
              "  <style>\n",
              "    .colab-df-container {\n",
              "      display:flex;\n",
              "      gap: 12px;\n",
              "    }\n",
              "\n",
              "    .colab-df-convert {\n",
              "      background-color: #E8F0FE;\n",
              "      border: none;\n",
              "      border-radius: 50%;\n",
              "      cursor: pointer;\n",
              "      display: none;\n",
              "      fill: #1967D2;\n",
              "      height: 32px;\n",
              "      padding: 0 0 0 0;\n",
              "      width: 32px;\n",
              "    }\n",
              "\n",
              "    .colab-df-convert:hover {\n",
              "      background-color: #E2EBFA;\n",
              "      box-shadow: 0px 1px 2px rgba(60, 64, 67, 0.3), 0px 1px 3px 1px rgba(60, 64, 67, 0.15);\n",
              "      fill: #174EA6;\n",
              "    }\n",
              "\n",
              "    .colab-df-buttons div {\n",
              "      margin-bottom: 4px;\n",
              "    }\n",
              "\n",
              "    [theme=dark] .colab-df-convert {\n",
              "      background-color: #3B4455;\n",
              "      fill: #D2E3FC;\n",
              "    }\n",
              "\n",
              "    [theme=dark] .colab-df-convert:hover {\n",
              "      background-color: #434B5C;\n",
              "      box-shadow: 0px 1px 3px 1px rgba(0, 0, 0, 0.15);\n",
              "      filter: drop-shadow(0px 1px 2px rgba(0, 0, 0, 0.3));\n",
              "      fill: #FFFFFF;\n",
              "    }\n",
              "  </style>\n",
              "\n",
              "    <script>\n",
              "      const buttonEl =\n",
              "        document.querySelector('#df-6d49be5d-7212-4ff6-b3ac-1ac26f645d64 button.colab-df-convert');\n",
              "      buttonEl.style.display =\n",
              "        google.colab.kernel.accessAllowed ? 'block' : 'none';\n",
              "\n",
              "      async function convertToInteractive(key) {\n",
              "        const element = document.querySelector('#df-6d49be5d-7212-4ff6-b3ac-1ac26f645d64');\n",
              "        const dataTable =\n",
              "          await google.colab.kernel.invokeFunction('convertToInteractive',\n",
              "                                                    [key], {});\n",
              "        if (!dataTable) return;\n",
              "\n",
              "        const docLinkHtml = 'Like what you see? Visit the ' +\n",
              "          '<a target=\"_blank\" href=https://colab.research.google.com/notebooks/data_table.ipynb>data table notebook</a>'\n",
              "          + ' to learn more about interactive tables.';\n",
              "        element.innerHTML = '';\n",
              "        dataTable['output_type'] = 'display_data';\n",
              "        await google.colab.output.renderOutput(dataTable, element);\n",
              "        const docLink = document.createElement('div');\n",
              "        docLink.innerHTML = docLinkHtml;\n",
              "        element.appendChild(docLink);\n",
              "      }\n",
              "    </script>\n",
              "  </div>\n",
              "\n",
              "\n",
              "<div id=\"df-6b8e607a-e121-4da2-b827-83c3ca48d4ef\">\n",
              "  <button class=\"colab-df-quickchart\" onclick=\"quickchart('df-6b8e607a-e121-4da2-b827-83c3ca48d4ef')\"\n",
              "            title=\"Suggest charts\"\n",
              "            style=\"display:none;\">\n",
              "\n",
              "<svg xmlns=\"http://www.w3.org/2000/svg\" height=\"24px\"viewBox=\"0 0 24 24\"\n",
              "     width=\"24px\">\n",
              "    <g>\n",
              "        <path d=\"M19 3H5c-1.1 0-2 .9-2 2v14c0 1.1.9 2 2 2h14c1.1 0 2-.9 2-2V5c0-1.1-.9-2-2-2zM9 17H7v-7h2v7zm4 0h-2V7h2v10zm4 0h-2v-4h2v4z\"/>\n",
              "    </g>\n",
              "</svg>\n",
              "  </button>\n",
              "\n",
              "<style>\n",
              "  .colab-df-quickchart {\n",
              "      --bg-color: #E8F0FE;\n",
              "      --fill-color: #1967D2;\n",
              "      --hover-bg-color: #E2EBFA;\n",
              "      --hover-fill-color: #174EA6;\n",
              "      --disabled-fill-color: #AAA;\n",
              "      --disabled-bg-color: #DDD;\n",
              "  }\n",
              "\n",
              "  [theme=dark] .colab-df-quickchart {\n",
              "      --bg-color: #3B4455;\n",
              "      --fill-color: #D2E3FC;\n",
              "      --hover-bg-color: #434B5C;\n",
              "      --hover-fill-color: #FFFFFF;\n",
              "      --disabled-bg-color: #3B4455;\n",
              "      --disabled-fill-color: #666;\n",
              "  }\n",
              "\n",
              "  .colab-df-quickchart {\n",
              "    background-color: var(--bg-color);\n",
              "    border: none;\n",
              "    border-radius: 50%;\n",
              "    cursor: pointer;\n",
              "    display: none;\n",
              "    fill: var(--fill-color);\n",
              "    height: 32px;\n",
              "    padding: 0;\n",
              "    width: 32px;\n",
              "  }\n",
              "\n",
              "  .colab-df-quickchart:hover {\n",
              "    background-color: var(--hover-bg-color);\n",
              "    box-shadow: 0 1px 2px rgba(60, 64, 67, 0.3), 0 1px 3px 1px rgba(60, 64, 67, 0.15);\n",
              "    fill: var(--button-hover-fill-color);\n",
              "  }\n",
              "\n",
              "  .colab-df-quickchart-complete:disabled,\n",
              "  .colab-df-quickchart-complete:disabled:hover {\n",
              "    background-color: var(--disabled-bg-color);\n",
              "    fill: var(--disabled-fill-color);\n",
              "    box-shadow: none;\n",
              "  }\n",
              "\n",
              "  .colab-df-spinner {\n",
              "    border: 2px solid var(--fill-color);\n",
              "    border-color: transparent;\n",
              "    border-bottom-color: var(--fill-color);\n",
              "    animation:\n",
              "      spin 1s steps(1) infinite;\n",
              "  }\n",
              "\n",
              "  @keyframes spin {\n",
              "    0% {\n",
              "      border-color: transparent;\n",
              "      border-bottom-color: var(--fill-color);\n",
              "      border-left-color: var(--fill-color);\n",
              "    }\n",
              "    20% {\n",
              "      border-color: transparent;\n",
              "      border-left-color: var(--fill-color);\n",
              "      border-top-color: var(--fill-color);\n",
              "    }\n",
              "    30% {\n",
              "      border-color: transparent;\n",
              "      border-left-color: var(--fill-color);\n",
              "      border-top-color: var(--fill-color);\n",
              "      border-right-color: var(--fill-color);\n",
              "    }\n",
              "    40% {\n",
              "      border-color: transparent;\n",
              "      border-right-color: var(--fill-color);\n",
              "      border-top-color: var(--fill-color);\n",
              "    }\n",
              "    60% {\n",
              "      border-color: transparent;\n",
              "      border-right-color: var(--fill-color);\n",
              "    }\n",
              "    80% {\n",
              "      border-color: transparent;\n",
              "      border-right-color: var(--fill-color);\n",
              "      border-bottom-color: var(--fill-color);\n",
              "    }\n",
              "    90% {\n",
              "      border-color: transparent;\n",
              "      border-bottom-color: var(--fill-color);\n",
              "    }\n",
              "  }\n",
              "</style>\n",
              "\n",
              "  <script>\n",
              "    async function quickchart(key) {\n",
              "      const quickchartButtonEl =\n",
              "        document.querySelector('#' + key + ' button');\n",
              "      quickchartButtonEl.disabled = true;  // To prevent multiple clicks.\n",
              "      quickchartButtonEl.classList.add('colab-df-spinner');\n",
              "      try {\n",
              "        const charts = await google.colab.kernel.invokeFunction(\n",
              "            'suggestCharts', [key], {});\n",
              "      } catch (error) {\n",
              "        console.error('Error during call to suggestCharts:', error);\n",
              "      }\n",
              "      quickchartButtonEl.classList.remove('colab-df-spinner');\n",
              "      quickchartButtonEl.classList.add('colab-df-quickchart-complete');\n",
              "    }\n",
              "    (() => {\n",
              "      let quickchartButtonEl =\n",
              "        document.querySelector('#df-6b8e607a-e121-4da2-b827-83c3ca48d4ef button');\n",
              "      quickchartButtonEl.style.display =\n",
              "        google.colab.kernel.accessAllowed ? 'block' : 'none';\n",
              "    })();\n",
              "  </script>\n",
              "</div>\n",
              "\n",
              "    </div>\n",
              "  </div>\n"
            ],
            "application/vnd.google.colaboratory.intrinsic+json": {
              "type": "dataframe",
              "summary": "{\n  \"name\": \"combined_df\",\n  \"rows\": 15,\n  \"fields\": [\n    {\n      \"column\": \"count\",\n      \"properties\": {\n        \"dtype\": \"date\",\n        \"min\": 0.0,\n        \"max\": \"198\",\n        \"num_unique_values\": 10,\n        \"samples\": [\n          \"74\",\n          29.0,\n          \"3\"\n        ],\n        \"semantic_type\": \"\",\n        \"description\": \"\"\n      }\n    },\n    {\n      \"column\": \"unique\",\n      \"properties\": {\n        \"dtype\": \"date\",\n        \"min\": 3,\n        \"max\": 64,\n        \"num_unique_values\": 8,\n        \"samples\": [\n          5,\n          4,\n          44\n        ],\n        \"semantic_type\": \"\",\n        \"description\": \"\"\n      }\n    },\n    {\n      \"column\": \"top\",\n      \"properties\": {\n        \"dtype\": \"category\",\n        \"num_unique_values\": 7,\n        \"samples\": [\n          \"fac49ae6-2538-4db4-a37a-379ed167f0ab\",\n          \"Wonderful Begonia\",\n          \"B\"\n        ],\n        \"semantic_type\": \"\",\n        \"description\": \"\"\n      }\n    },\n    {\n      \"column\": \"freq\",\n      \"properties\": {\n        \"dtype\": \"date\",\n        \"min\": \"1\",\n        \"max\": \"67\",\n        \"num_unique_values\": 6,\n        \"samples\": [\n          \"10\",\n          \"21\",\n          \"67\"\n        ],\n        \"semantic_type\": \"\",\n        \"description\": \"\"\n      }\n    },\n    {\n      \"column\": \"mean\",\n      \"properties\": {\n        \"dtype\": \"date\",\n        \"min\": 4.319526627218935,\n        \"max\": 11.448275862068966,\n        \"num_unique_values\": 5,\n        \"samples\": [\n          4.62962962962963,\n          4.319526627218935,\n          10.586206896551724\n        ],\n        \"semantic_type\": \"\",\n        \"description\": \"\"\n      }\n    },\n    {\n      \"column\": \"std\",\n      \"properties\": {\n        \"dtype\": \"date\",\n        \"min\": 0.7102378966392078,\n        \"max\": 4.030156974878924,\n        \"num_unique_values\": 5,\n        \"samples\": [\n          4.030156974878924,\n          0.7102378966392078,\n          2.9822958723022\n        ],\n        \"semantic_type\": \"\",\n        \"description\": \"\"\n      }\n    },\n    {\n      \"column\": \"min\",\n      \"properties\": {\n        \"dtype\": \"date\",\n        \"min\": 0.0,\n        \"max\": 6.0,\n        \"num_unique_values\": 5,\n        \"samples\": [\n          0.0,\n          3.0,\n          5.0\n        ],\n        \"semantic_type\": \"\",\n        \"description\": \"\"\n      }\n    },\n    {\n      \"column\": \"25%\",\n      \"properties\": {\n        \"dtype\": \"date\",\n        \"min\": 2.0,\n        \"max\": 9.0,\n        \"num_unique_values\": 4,\n        \"samples\": [\n          2.0,\n          4.0,\n          9.0\n        ],\n        \"semantic_type\": \"\",\n        \"description\": \"\"\n      }\n    },\n    {\n      \"column\": \"50%\",\n      \"properties\": {\n        \"dtype\": \"date\",\n        \"min\": 4.0,\n        \"max\": 11.0,\n        \"num_unique_values\": 4,\n        \"samples\": [\n          4.0,\n          5.0,\n          11.0\n        ],\n        \"semantic_type\": \"\",\n        \"description\": \"\"\n      }\n    },\n    {\n      \"column\": \"75%\",\n      \"properties\": {\n        \"dtype\": \"date\",\n        \"min\": 5.0,\n        \"max\": 14.0,\n        \"num_unique_values\": 4,\n        \"samples\": [\n          6.5,\n          5.0,\n          14.0\n        ],\n        \"semantic_type\": \"\",\n        \"description\": \"\"\n      }\n    },\n    {\n      \"column\": \"max\",\n      \"properties\": {\n        \"dtype\": \"date\",\n        \"min\": 5.0,\n        \"max\": 20.0,\n        \"num_unique_values\": 4,\n        \"samples\": [\n          20.0,\n          5.0,\n          19.0\n        ],\n        \"semantic_type\": \"\",\n        \"description\": \"\"\n      }\n    }\n  ]\n}"
            }
          },
          "metadata": {},
          "execution_count": 13
        }
      ]
    },
    {
      "cell_type": "markdown",
      "source": [
        "**Q2 question can be ignored. We received no answers.**\n",
        "\n",
        "Q2 is conditional to Q1 being `D`"
      ],
      "metadata": {
        "id": "h-8ZAWKaUsD9"
      }
    },
    {
      "cell_type": "markdown",
      "source": [
        "**Merge combined_df with `Type_TAs_2024` to add a new column that categorizes each entry as either Lead TA, Regular TA, or Project TA.**"
      ],
      "metadata": {
        "id": "XMdcjNA5QtJT"
      }
    },
    {
      "cell_type": "code",
      "source": [
        "TypeTA   =\"/content/drive/MyDrive/Academies_DataAnalysis/July2024/General_TAs_analyses/Type_TAs_2024.csv\"\n",
        "TypeTA   = pd.read_csv(TypeTA)"
      ],
      "metadata": {
        "id": "3MNHPHEURsVs"
      },
      "execution_count": 14,
      "outputs": []
    },
    {
      "cell_type": "code",
      "source": [
        "TypeTA.info()"
      ],
      "metadata": {
        "colab": {
          "base_uri": "https://localhost:8080/"
        },
        "id": "RfuDdvd9TWia",
        "outputId": "f241cf3e-36f0-4bd9-fb45-f7e7c4e59c9a"
      },
      "execution_count": 15,
      "outputs": [
        {
          "output_type": "stream",
          "name": "stdout",
          "text": [
            "<class 'pandas.core.frame.DataFrame'>\n",
            "RangeIndex: 170 entries, 0 to 169\n",
            "Data columns (total 3 columns):\n",
            " #   Column            Non-Null Count  Dtype \n",
            "---  ------            --------------  ----- \n",
            " 0   unique_id         170 non-null    object\n",
            " 1   course_id         170 non-null    int64 \n",
            " 2   certificate_type  170 non-null    object\n",
            "dtypes: int64(1), object(2)\n",
            "memory usage: 4.1+ KB\n"
          ]
        }
      ]
    },
    {
      "cell_type": "code",
      "source": [
        "print(TypeTA.shape)\n",
        "TypeTA_12 = TypeTA[(TypeTA['course_id'] == 12) &\n",
        "                   (TypeTA['certificate_type'].isin(['ta_certificate', 'project_ta_certificate', 'lead_ta_certificate']))]\n",
        "print(TypeTA_12.shape)\n",
        "TypeTA_12.rename(columns={'unique_id': 'uid'}, inplace=True)"
      ],
      "metadata": {
        "colab": {
          "base_uri": "https://localhost:8080/"
        },
        "id": "h5USDiD_S9OM",
        "outputId": "ea54fdd6-a2f8-4c1a-e1a1-b229e63aa15d"
      },
      "execution_count": 16,
      "outputs": [
        {
          "output_type": "stream",
          "name": "stdout",
          "text": [
            "(170, 3)\n",
            "(84, 3)\n"
          ]
        },
        {
          "output_type": "stream",
          "name": "stderr",
          "text": [
            "<ipython-input-16-60b14e689327>:5: SettingWithCopyWarning: \n",
            "A value is trying to be set on a copy of a slice from a DataFrame\n",
            "\n",
            "See the caveats in the documentation: https://pandas.pydata.org/pandas-docs/stable/user_guide/indexing.html#returning-a-view-versus-a-copy\n",
            "  TypeTA_12.rename(columns={'unique_id': 'uid'}, inplace=True)\n"
          ]
        }
      ]
    },
    {
      "cell_type": "code",
      "source": [
        "# Subset TypeTA_12\n",
        "subset_TypeTA = TypeTA_12[['uid', 'certificate_type']]\n",
        "\n",
        "# Merge\n",
        "combined_df = combined_df.merge(subset_TypeTA, on='uid', how='left')"
      ],
      "metadata": {
        "id": "dud9m9A3U2eH"
      },
      "execution_count": 17,
      "outputs": []
    },
    {
      "cell_type": "code",
      "source": [
        "combined_df.rename(columns={'certificate_type': 'TA_type'}, inplace=True)"
      ],
      "metadata": {
        "id": "PVTMG-TDWdUL"
      },
      "execution_count": 18,
      "outputs": []
    },
    {
      "cell_type": "code",
      "source": [
        "combined_df['TA_type'] = combined_df['TA_type'].apply(\n",
        "    lambda x: 'Project TA' if 'project_ta_certificate' in x else ('Lead TA' if 'lead_ta_certificate' in x else 'Regular TA')\n",
        ")"
      ],
      "metadata": {
        "id": "iAzYzo8xUstk"
      },
      "execution_count": 19,
      "outputs": []
    },
    {
      "cell_type": "code",
      "source": [
        "combined_df['TA_type'].unique()"
      ],
      "metadata": {
        "colab": {
          "base_uri": "https://localhost:8080/"
        },
        "id": "A7DiC-PRW84t",
        "outputId": "dd8ef346-a776-41e4-c91c-0165d9b6eee4"
      },
      "execution_count": 20,
      "outputs": [
        {
          "output_type": "execute_result",
          "data": {
            "text/plain": [
              "array(['Regular TA', 'Project TA', 'Lead TA'], dtype=object)"
            ]
          },
          "metadata": {},
          "execution_count": 20
        }
      ]
    },
    {
      "cell_type": "code",
      "source": [
        "combined_df.groupby('WeekDay')['TA_type'].value_counts()"
      ],
      "metadata": {
        "colab": {
          "base_uri": "https://localhost:8080/",
          "height": 931
        },
        "id": "WHQJeZgOXENh",
        "outputId": "632b8df7-1254-471a-8c70-fda34b43c003"
      },
      "execution_count": 21,
      "outputs": [
        {
          "output_type": "execute_result",
          "data": {
            "text/plain": [
              "WeekDay  TA_type   \n",
              "w2d1     Regular TA    26\n",
              "         Lead TA        2\n",
              "         Project TA     1\n",
              "w2d2     Regular TA    24\n",
              "         Lead TA        2\n",
              "         Project TA     1\n",
              "w2d3     Regular TA    21\n",
              "         Lead TA        3\n",
              "         Project TA     1\n",
              "w2d4     Regular TA    11\n",
              "         Lead TA        3\n",
              "         Project TA     1\n",
              "w2d5     Regular TA    12\n",
              "         Lead TA        2\n",
              "         Project TA     1\n",
              "w3d1     Regular TA    17\n",
              "         Lead TA        2\n",
              "         Project TA     1\n",
              "w3d2     Regular TA    19\n",
              "         Lead TA        2\n",
              "w3d3     Regular TA     8\n",
              "         Lead TA        3\n",
              "w3d4     Regular TA    15\n",
              "         Lead TA        2\n",
              "w3d5     Regular TA    16\n",
              "         Lead TA        2\n",
              "Name: count, dtype: int64"
            ],
            "text/html": [
              "<div>\n",
              "<style scoped>\n",
              "    .dataframe tbody tr th:only-of-type {\n",
              "        vertical-align: middle;\n",
              "    }\n",
              "\n",
              "    .dataframe tbody tr th {\n",
              "        vertical-align: top;\n",
              "    }\n",
              "\n",
              "    .dataframe thead th {\n",
              "        text-align: right;\n",
              "    }\n",
              "</style>\n",
              "<table border=\"1\" class=\"dataframe\">\n",
              "  <thead>\n",
              "    <tr style=\"text-align: right;\">\n",
              "      <th></th>\n",
              "      <th></th>\n",
              "      <th>count</th>\n",
              "    </tr>\n",
              "    <tr>\n",
              "      <th>WeekDay</th>\n",
              "      <th>TA_type</th>\n",
              "      <th></th>\n",
              "    </tr>\n",
              "  </thead>\n",
              "  <tbody>\n",
              "    <tr>\n",
              "      <th rowspan=\"3\" valign=\"top\">w2d1</th>\n",
              "      <th>Regular TA</th>\n",
              "      <td>26</td>\n",
              "    </tr>\n",
              "    <tr>\n",
              "      <th>Lead TA</th>\n",
              "      <td>2</td>\n",
              "    </tr>\n",
              "    <tr>\n",
              "      <th>Project TA</th>\n",
              "      <td>1</td>\n",
              "    </tr>\n",
              "    <tr>\n",
              "      <th rowspan=\"3\" valign=\"top\">w2d2</th>\n",
              "      <th>Regular TA</th>\n",
              "      <td>24</td>\n",
              "    </tr>\n",
              "    <tr>\n",
              "      <th>Lead TA</th>\n",
              "      <td>2</td>\n",
              "    </tr>\n",
              "    <tr>\n",
              "      <th>Project TA</th>\n",
              "      <td>1</td>\n",
              "    </tr>\n",
              "    <tr>\n",
              "      <th rowspan=\"3\" valign=\"top\">w2d3</th>\n",
              "      <th>Regular TA</th>\n",
              "      <td>21</td>\n",
              "    </tr>\n",
              "    <tr>\n",
              "      <th>Lead TA</th>\n",
              "      <td>3</td>\n",
              "    </tr>\n",
              "    <tr>\n",
              "      <th>Project TA</th>\n",
              "      <td>1</td>\n",
              "    </tr>\n",
              "    <tr>\n",
              "      <th rowspan=\"3\" valign=\"top\">w2d4</th>\n",
              "      <th>Regular TA</th>\n",
              "      <td>11</td>\n",
              "    </tr>\n",
              "    <tr>\n",
              "      <th>Lead TA</th>\n",
              "      <td>3</td>\n",
              "    </tr>\n",
              "    <tr>\n",
              "      <th>Project TA</th>\n",
              "      <td>1</td>\n",
              "    </tr>\n",
              "    <tr>\n",
              "      <th rowspan=\"3\" valign=\"top\">w2d5</th>\n",
              "      <th>Regular TA</th>\n",
              "      <td>12</td>\n",
              "    </tr>\n",
              "    <tr>\n",
              "      <th>Lead TA</th>\n",
              "      <td>2</td>\n",
              "    </tr>\n",
              "    <tr>\n",
              "      <th>Project TA</th>\n",
              "      <td>1</td>\n",
              "    </tr>\n",
              "    <tr>\n",
              "      <th rowspan=\"3\" valign=\"top\">w3d1</th>\n",
              "      <th>Regular TA</th>\n",
              "      <td>17</td>\n",
              "    </tr>\n",
              "    <tr>\n",
              "      <th>Lead TA</th>\n",
              "      <td>2</td>\n",
              "    </tr>\n",
              "    <tr>\n",
              "      <th>Project TA</th>\n",
              "      <td>1</td>\n",
              "    </tr>\n",
              "    <tr>\n",
              "      <th rowspan=\"2\" valign=\"top\">w3d2</th>\n",
              "      <th>Regular TA</th>\n",
              "      <td>19</td>\n",
              "    </tr>\n",
              "    <tr>\n",
              "      <th>Lead TA</th>\n",
              "      <td>2</td>\n",
              "    </tr>\n",
              "    <tr>\n",
              "      <th rowspan=\"2\" valign=\"top\">w3d3</th>\n",
              "      <th>Regular TA</th>\n",
              "      <td>8</td>\n",
              "    </tr>\n",
              "    <tr>\n",
              "      <th>Lead TA</th>\n",
              "      <td>3</td>\n",
              "    </tr>\n",
              "    <tr>\n",
              "      <th rowspan=\"2\" valign=\"top\">w3d4</th>\n",
              "      <th>Regular TA</th>\n",
              "      <td>15</td>\n",
              "    </tr>\n",
              "    <tr>\n",
              "      <th>Lead TA</th>\n",
              "      <td>2</td>\n",
              "    </tr>\n",
              "    <tr>\n",
              "      <th rowspan=\"2\" valign=\"top\">w3d5</th>\n",
              "      <th>Regular TA</th>\n",
              "      <td>16</td>\n",
              "    </tr>\n",
              "    <tr>\n",
              "      <th>Lead TA</th>\n",
              "      <td>2</td>\n",
              "    </tr>\n",
              "  </tbody>\n",
              "</table>\n",
              "</div><br><label><b>dtype:</b> int64</label>"
            ]
          },
          "metadata": {},
          "execution_count": 21
        }
      ]
    },
    {
      "cell_type": "markdown",
      "source": [
        "# Function to define colors for plotting"
      ],
      "metadata": {
        "id": "3fipJ0h4_HAG"
      }
    },
    {
      "cell_type": "code",
      "source": [
        "# Define colors\n",
        "\n",
        "colors_cma = [\n",
        "    \"#313f76\",\n",
        "    \"#a2bbd4\",\n",
        "    \"#67ada9\",\n",
        "    \"#e18256\",\n",
        "    \"#596a63\",\n",
        "    \"#f0ba7d\"]\n",
        "\n",
        "colors_nma = [\n",
        "    \"#D18D20\",\n",
        "    \"#FF7676\",\n",
        "    \"#008CBF\",\n",
        "    \"#43439E\"]\n",
        "\n",
        "# Option to choose between sets\n",
        "def get_colors(name=\"CMA\"):\n",
        "    \"\"\"\n",
        "    Returns a list of colors based on the name provided.\n",
        "    Supported values:\n",
        "    - \"CMA\" for CMA colors\n",
        "    - \"NMA\" for NMA colors\n",
        "    - \"ALL\" for both CMA and NMA colors combined\n",
        "    \"\"\"\n",
        "    if name.upper() == \"CMA\":\n",
        "        return colors_cma\n",
        "    elif name.upper() == \"NMA\":\n",
        "        return colors_nma\n",
        "    elif name.upper() == \"ALL\":\n",
        "        return colors_cma + colors_nma\n",
        "    else:\n",
        "        raise ValueError(\"Invalid color set name. Use 'CMA', 'NMA', or 'ALL'.\")\n",
        "\n",
        "# Examples of usage:\n",
        "# cma_colors = get_colors(\"CMA\")   # CMA-only colors\n",
        "# nma_colors = get_colors(\"NMA\")   # NMA-only colors\n",
        "# all_colors = get_colors(\"ALL\")   # All colors combined"
      ],
      "metadata": {
        "id": "OTW4uTZf-JAb"
      },
      "execution_count": 22,
      "outputs": []
    },
    {
      "cell_type": "markdown",
      "source": [
        "# 2\n",
        "\n",
        "The name of the questions are not particularly useful. Please check the [data descriptor](https://drive.google.com/drive/folders/1u-aG6doOucNUQoFnGyYiuocXddJtc_23) for understanding what data have been collected.\n",
        "\n",
        "Using a Likert scale from `1 = Very unsatisfactory` to 5 - `Very satisfactory`, TAs rate their overall experience with the pod."
      ],
      "metadata": {
        "id": "8PqX5u4X_LcF"
      }
    },
    {
      "cell_type": "code",
      "source": [
        "# Check in which day these questions are present.\n",
        "\n",
        "missing_2 = combined_df.groupby('WeekDay')['2'].value_counts(normalize=True) *100\n",
        "print(missing_2)"
      ],
      "metadata": {
        "colab": {
          "base_uri": "https://localhost:8080/"
        },
        "id": "DAXTk388Nd_6",
        "outputId": "86cf2aad-7b4c-4327-f580-660e4c45f8aa"
      },
      "execution_count": 23,
      "outputs": [
        {
          "output_type": "stream",
          "name": "stdout",
          "text": [
            "WeekDay  2   \n",
            "w2d2     5.00   51.85\n",
            "         4.00   40.74\n",
            "         1.00    3.70\n",
            "         2.00    3.70\n",
            "w2d3     5.00   56.00\n",
            "         4.00   36.00\n",
            "         2.00    4.00\n",
            "         3.00    4.00\n",
            "w2d4     5.00   86.67\n",
            "         4.00   13.33\n",
            "w2d5     5.00   73.33\n",
            "         4.00   20.00\n",
            "         2.00    6.67\n",
            "w3d1     5.00   55.00\n",
            "         4.00   40.00\n",
            "         3.00    5.00\n",
            "w3d2     5.00   61.90\n",
            "         4.00   28.57\n",
            "         3.00    9.52\n",
            "w3d3     5.00   72.73\n",
            "         4.00   27.27\n",
            "w3d4     5.00   64.71\n",
            "         3.00   17.65\n",
            "         4.00   17.65\n",
            "w3d5     5.00   72.22\n",
            "         4.00   16.67\n",
            "         1.00    5.56\n",
            "         3.00    5.56\n",
            "Name: proportion, dtype: float64\n"
          ]
        }
      ]
    },
    {
      "cell_type": "markdown",
      "source": [
        "**We dont ask this question in w2d1**"
      ],
      "metadata": {
        "id": "E-vpIM1KNnk9"
      }
    },
    {
      "cell_type": "code",
      "source": [
        "Perc_2 = combined_df.groupby('WeekDay')['2'].value_counts(normalize=True) * 100\n",
        "print(Perc_2)"
      ],
      "metadata": {
        "colab": {
          "base_uri": "https://localhost:8080/"
        },
        "id": "wsuZsI1mqwVq",
        "outputId": "5303a1e2-3beb-46c1-fd4e-cb8724e6a9fc"
      },
      "execution_count": 24,
      "outputs": [
        {
          "output_type": "stream",
          "name": "stdout",
          "text": [
            "WeekDay  2   \n",
            "w2d2     5.00   51.85\n",
            "         4.00   40.74\n",
            "         1.00    3.70\n",
            "         2.00    3.70\n",
            "w2d3     5.00   56.00\n",
            "         4.00   36.00\n",
            "         2.00    4.00\n",
            "         3.00    4.00\n",
            "w2d4     5.00   86.67\n",
            "         4.00   13.33\n",
            "w2d5     5.00   73.33\n",
            "         4.00   20.00\n",
            "         2.00    6.67\n",
            "w3d1     5.00   55.00\n",
            "         4.00   40.00\n",
            "         3.00    5.00\n",
            "w3d2     5.00   61.90\n",
            "         4.00   28.57\n",
            "         3.00    9.52\n",
            "w3d3     5.00   72.73\n",
            "         4.00   27.27\n",
            "w3d4     5.00   64.71\n",
            "         3.00   17.65\n",
            "         4.00   17.65\n",
            "w3d5     5.00   72.22\n",
            "         4.00   16.67\n",
            "         1.00    5.56\n",
            "         3.00    5.56\n",
            "Name: proportion, dtype: float64\n"
          ]
        }
      ]
    },
    {
      "cell_type": "code",
      "source": [
        "Global_perc_2 = combined_df['2'].value_counts(normalize=True) * 100\n",
        "print(Global_perc_2)"
      ],
      "metadata": {
        "colab": {
          "base_uri": "https://localhost:8080/"
        },
        "id": "h2ZJWZmivkdt",
        "outputId": "f7e68cb2-35c7-4ab4-de7e-7a628bea1829"
      },
      "execution_count": 25,
      "outputs": [
        {
          "output_type": "stream",
          "name": "stdout",
          "text": [
            "2\n",
            "5.00   63.91\n",
            "4.00   28.40\n",
            "3.00    4.73\n",
            "2.00    1.78\n",
            "1.00    1.18\n",
            "Name: proportion, dtype: float64\n"
          ]
        }
      ]
    },
    {
      "cell_type": "code",
      "source": [
        "ordered_categories = [\n",
        "    'w2d1', 'w2d2', 'w2d3', 'w2d4', 'w2d5',\n",
        "    'w3d1', 'w3d2', 'w3d3', 'w3d4', 'w3d5'\n",
        "]\n",
        "\n",
        "# Convert WeekDay to categorical with the correct order\n",
        "combined_df['WeekDay'] = pd.Categorical(combined_df['WeekDay'], categories=ordered_categories, ordered=True)"
      ],
      "metadata": {
        "id": "YYW_rktjOqRo"
      },
      "execution_count": 26,
      "outputs": []
    },
    {
      "cell_type": "code",
      "source": [
        "mean_values = combined_df.groupby('WeekDay')['2'].mean()\n",
        "\n",
        "# Replace 0 with NaN\n",
        "mean_values = mean_values.replace(0, np.nan).dropna()\n",
        "\n",
        "# Count unique uids per weekday\n",
        "uids_answered_per_weekday = combined_df.groupby('WeekDay')['uid'].nunique()\n",
        "\n",
        "# Drop days where mean_values is NaN\n",
        "uids_answered_per_weekday = uids_answered_per_weekday[mean_values.index]\n",
        "\n",
        "# Filter the dataset to remove missing WeekDays\n",
        "filtered_df = combined_df[combined_df['WeekDay'].isin(mean_values.index)]\n",
        "\n",
        "colors = get_colors(\"NMA\")\n",
        "\n",
        "# Plot the boxplot\n",
        "plt.figure(figsize=(10, 6))\n",
        "\n",
        "ax = sns.boxplot(data=filtered_df, x='WeekDay', y='2', palette=\"coolwarm\")\n",
        "xticks_positions = [tick.get_position()[0] for tick in ax.get_xticklabels()]\n",
        "xticks_labels = [tick.get_text() for tick in ax.get_xticklabels()]\n",
        "\n",
        "# Add a line for the mean\n",
        "plt.plot(mean_values.index, mean_values.values, color=colors[0], marker='o', linestyle='-', linewidth=2, label=\"Mean\")\n",
        "\n",
        "# Annotate\n",
        "for label, x_position in zip(xticks_labels, xticks_positions):\n",
        "    if label in uids_answered_per_weekday.index:  # Only annotate valid days\n",
        "        plt.text(x_position, 5.2, f'N={uids_answered_per_weekday[label]}',\n",
        "                 ha='center', va='bottom', fontsize=10, color='black')\n",
        "\n",
        "plt.title(\"TAs ratings of their Pod Across Week-Day\", fontsize=16, pad=20)\n",
        "plt.xlabel(\" \")\n",
        "plt.ylabel(\"Ratings\", fontsize=14)\n",
        "plt.yticks([1, 2, 3, 4, 5], fontsize=12)\n",
        "plt.xticks(fontsize=12)\n",
        "plt.yticks(fontsize=12)\n",
        "plt.grid(axis='y', linestyle='--', alpha=0.7)\n",
        "plt.legend(loc = 'upper right', fontsize=12)\n",
        "\n",
        "plt.tight_layout()\n",
        "plt.savefig('Podrating.png', dpi=400)\n",
        "plt.show()\n",
        "\n",
        "#files.download('Poddynamics.png')"
      ],
      "metadata": {
        "colab": {
          "base_uri": "https://localhost:8080/",
          "height": 763
        },
        "id": "VeUULusir8uM",
        "outputId": "d7967c9f-066c-4891-86b5-4089be53a5a3"
      },
      "execution_count": 27,
      "outputs": [
        {
          "output_type": "stream",
          "name": "stderr",
          "text": [
            "<ipython-input-27-db68a2c61798>:1: FutureWarning: The default of observed=False is deprecated and will be changed to True in a future version of pandas. Pass observed=False to retain current behavior or observed=True to adopt the future default and silence this warning.\n",
            "  mean_values = combined_df.groupby('WeekDay')['2'].mean()\n",
            "<ipython-input-27-db68a2c61798>:7: FutureWarning: The default of observed=False is deprecated and will be changed to True in a future version of pandas. Pass observed=False to retain current behavior or observed=True to adopt the future default and silence this warning.\n",
            "  uids_answered_per_weekday = combined_df.groupby('WeekDay')['uid'].nunique()\n",
            "<ipython-input-27-db68a2c61798>:20: FutureWarning: \n",
            "\n",
            "Passing `palette` without assigning `hue` is deprecated and will be removed in v0.14.0. Assign the `x` variable to `hue` and set `legend=False` for the same effect.\n",
            "\n",
            "  ax = sns.boxplot(data=filtered_df, x='WeekDay', y='2', palette=\"coolwarm\")\n"
          ]
        },
        {
          "output_type": "display_data",
          "data": {
            "text/plain": [
              "<Figure size 1000x600 with 1 Axes>"
            ],
            "image/svg+xml": "<?xml version=\"1.0\" encoding=\"utf-8\" standalone=\"no\"?>\n<!DOCTYPE svg PUBLIC \"-//W3C//DTD SVG 1.1//EN\"\n  \"http://www.w3.org/Graphics/SVG/1.1/DTD/svg11.dtd\">\n<svg xmlns:xlink=\"http://www.w3.org/1999/xlink\" width=\"712.654375pt\" height=\"423.689375pt\" viewBox=\"0 0 712.654375 423.689375\" xmlns=\"http://www.w3.org/2000/svg\" version=\"1.1\">\n <metadata>\n  <rdf:RDF xmlns:dc=\"http://purl.org/dc/elements/1.1/\" xmlns:cc=\"http://creativecommons.org/ns#\" xmlns:rdf=\"http://www.w3.org/1999/02/22-rdf-syntax-ns#\">\n   <cc:Work>\n    <dc:type rdf:resource=\"http://purl.org/dc/dcmitype/StillImage\"/>\n    <dc:date>2025-02-14T06:16:54.051241</dc:date>\n    <dc:format>image/svg+xml</dc:format>\n    <dc:creator>\n     <cc:Agent>\n      <dc:title>Matplotlib v3.10.0, https://matplotlib.org/</dc:title>\n     </cc:Agent>\n    </dc:creator>\n   </cc:Work>\n  </rdf:RDF>\n </metadata>\n <defs>\n  <style type=\"text/css\">*{stroke-linejoin: round; stroke-linecap: butt}</style>\n </defs>\n <g id=\"figure_1\">\n  <g id=\"patch_1\">\n   <path d=\"M 0 423.689375 \nL 712.654375 423.689375 \nL 712.654375 0 \nL 0 0 \nz\n\" style=\"fill: #ffffff\"/>\n  </g>\n  <g id=\"axes_1\">\n   <g id=\"patch_2\">\n    <path d=\"M 39.384375 384.1975 \nL 705.454375 384.1975 \nL 705.454375 39.3575 \nL 39.384375 39.3575 \nz\n\" style=\"fill: #ffffff\"/>\n   </g>\n   <g id=\"matplotlib.axis_1\">\n    <g id=\"xtick_1\">\n     <g id=\"line2d_1\">\n      <defs>\n       <path id=\"mf9ee6c18a6\" d=\"M 0 0 \nL 0 3.5 \n\" style=\"stroke: #000000; stroke-width: 0.8\"/>\n      </defs>\n      <g>\n       <use xlink:href=\"#mf9ee6c18a6\" x=\"97.183838\" y=\"384.1975\" style=\"stroke: #000000; stroke-width: 0.8\"/>\n      </g>\n     </g>\n     <g id=\"text_1\">\n      <!-- w2d2 -->\n      <g transform=\"translate(80.8329 400.315625) scale(0.12 -0.12)\">\n       <defs>\n        <path id=\"DejaVuSans-77\" d=\"M 269 3500 \nL 844 3500 \nL 1563 769 \nL 2278 3500 \nL 2956 3500 \nL 3675 769 \nL 4391 3500 \nL 4966 3500 \nL 4050 0 \nL 3372 0 \nL 2619 2869 \nL 1863 0 \nL 1184 0 \nL 269 3500 \nz\n\" transform=\"scale(0.015625)\"/>\n        <path id=\"DejaVuSans-32\" d=\"M 1228 531 \nL 3431 531 \nL 3431 0 \nL 469 0 \nL 469 531 \nQ 828 903 1448 1529 \nQ 2069 2156 2228 2338 \nQ 2531 2678 2651 2914 \nQ 2772 3150 2772 3378 \nQ 2772 3750 2511 3984 \nQ 2250 4219 1831 4219 \nQ 1534 4219 1204 4116 \nQ 875 4013 500 3803 \nL 500 4441 \nQ 881 4594 1212 4672 \nQ 1544 4750 1819 4750 \nQ 2544 4750 2975 4387 \nQ 3406 4025 3406 3419 \nQ 3406 3131 3298 2873 \nQ 3191 2616 2906 2266 \nQ 2828 2175 2409 1742 \nQ 1991 1309 1228 531 \nz\n\" transform=\"scale(0.015625)\"/>\n        <path id=\"DejaVuSans-64\" d=\"M 2906 2969 \nL 2906 4863 \nL 3481 4863 \nL 3481 0 \nL 2906 0 \nL 2906 525 \nQ 2725 213 2448 61 \nQ 2172 -91 1784 -91 \nQ 1150 -91 751 415 \nQ 353 922 353 1747 \nQ 353 2572 751 3078 \nQ 1150 3584 1784 3584 \nQ 2172 3584 2448 3432 \nQ 2725 3281 2906 2969 \nz\nM 947 1747 \nQ 947 1113 1208 752 \nQ 1469 391 1925 391 \nQ 2381 391 2643 752 \nQ 2906 1113 2906 1747 \nQ 2906 2381 2643 2742 \nQ 2381 3103 1925 3103 \nQ 1469 3103 1208 2742 \nQ 947 2381 947 1747 \nz\n\" transform=\"scale(0.015625)\"/>\n       </defs>\n       <use xlink:href=\"#DejaVuSans-77\"/>\n       <use xlink:href=\"#DejaVuSans-32\" transform=\"translate(81.787109 0)\"/>\n       <use xlink:href=\"#DejaVuSans-64\" transform=\"translate(145.410156 0)\"/>\n       <use xlink:href=\"#DejaVuSans-32\" transform=\"translate(208.886719 0)\"/>\n      </g>\n     </g>\n    </g>\n    <g id=\"xtick_2\">\n     <g id=\"line2d_2\">\n      <g>\n       <use xlink:href=\"#mf9ee6c18a6\" x=\"165.992722\" y=\"384.1975\" style=\"stroke: #000000; stroke-width: 0.8\"/>\n      </g>\n     </g>\n     <g id=\"text_2\">\n      <!-- w2d3 -->\n      <g transform=\"translate(149.641785 400.315625) scale(0.12 -0.12)\">\n       <defs>\n        <path id=\"DejaVuSans-33\" d=\"M 2597 2516 \nQ 3050 2419 3304 2112 \nQ 3559 1806 3559 1356 \nQ 3559 666 3084 287 \nQ 2609 -91 1734 -91 \nQ 1441 -91 1130 -33 \nQ 819 25 488 141 \nL 488 750 \nQ 750 597 1062 519 \nQ 1375 441 1716 441 \nQ 2309 441 2620 675 \nQ 2931 909 2931 1356 \nQ 2931 1769 2642 2001 \nQ 2353 2234 1838 2234 \nL 1294 2234 \nL 1294 2753 \nL 1863 2753 \nQ 2328 2753 2575 2939 \nQ 2822 3125 2822 3475 \nQ 2822 3834 2567 4026 \nQ 2313 4219 1838 4219 \nQ 1578 4219 1281 4162 \nQ 984 4106 628 3988 \nL 628 4550 \nQ 988 4650 1302 4700 \nQ 1616 4750 1894 4750 \nQ 2613 4750 3031 4423 \nQ 3450 4097 3450 3541 \nQ 3450 3153 3228 2886 \nQ 3006 2619 2597 2516 \nz\n\" transform=\"scale(0.015625)\"/>\n       </defs>\n       <use xlink:href=\"#DejaVuSans-77\"/>\n       <use xlink:href=\"#DejaVuSans-32\" transform=\"translate(81.787109 0)\"/>\n       <use xlink:href=\"#DejaVuSans-64\" transform=\"translate(145.410156 0)\"/>\n       <use xlink:href=\"#DejaVuSans-33\" transform=\"translate(208.886719 0)\"/>\n      </g>\n     </g>\n    </g>\n    <g id=\"xtick_3\">\n     <g id=\"line2d_3\">\n      <g>\n       <use xlink:href=\"#mf9ee6c18a6\" x=\"234.801606\" y=\"384.1975\" style=\"stroke: #000000; stroke-width: 0.8\"/>\n      </g>\n     </g>\n     <g id=\"text_3\">\n      <!-- w2d4 -->\n      <g transform=\"translate(218.450669 400.315625) scale(0.12 -0.12)\">\n       <defs>\n        <path id=\"DejaVuSans-34\" d=\"M 2419 4116 \nL 825 1625 \nL 2419 1625 \nL 2419 4116 \nz\nM 2253 4666 \nL 3047 4666 \nL 3047 1625 \nL 3713 1625 \nL 3713 1100 \nL 3047 1100 \nL 3047 0 \nL 2419 0 \nL 2419 1100 \nL 313 1100 \nL 313 1709 \nL 2253 4666 \nz\n\" transform=\"scale(0.015625)\"/>\n       </defs>\n       <use xlink:href=\"#DejaVuSans-77\"/>\n       <use xlink:href=\"#DejaVuSans-32\" transform=\"translate(81.787109 0)\"/>\n       <use xlink:href=\"#DejaVuSans-64\" transform=\"translate(145.410156 0)\"/>\n       <use xlink:href=\"#DejaVuSans-34\" transform=\"translate(208.886719 0)\"/>\n      </g>\n     </g>\n    </g>\n    <g id=\"xtick_4\">\n     <g id=\"line2d_4\">\n      <g>\n       <use xlink:href=\"#mf9ee6c18a6\" x=\"303.610491\" y=\"384.1975\" style=\"stroke: #000000; stroke-width: 0.8\"/>\n      </g>\n     </g>\n     <g id=\"text_4\">\n      <!-- w2d5 -->\n      <g transform=\"translate(287.259553 400.315625) scale(0.12 -0.12)\">\n       <defs>\n        <path id=\"DejaVuSans-35\" d=\"M 691 4666 \nL 3169 4666 \nL 3169 4134 \nL 1269 4134 \nL 1269 2991 \nQ 1406 3038 1543 3061 \nQ 1681 3084 1819 3084 \nQ 2600 3084 3056 2656 \nQ 3513 2228 3513 1497 \nQ 3513 744 3044 326 \nQ 2575 -91 1722 -91 \nQ 1428 -91 1123 -41 \nQ 819 9 494 109 \nL 494 744 \nQ 775 591 1075 516 \nQ 1375 441 1709 441 \nQ 2250 441 2565 725 \nQ 2881 1009 2881 1497 \nQ 2881 1984 2565 2268 \nQ 2250 2553 1709 2553 \nQ 1456 2553 1204 2497 \nQ 953 2441 691 2322 \nL 691 4666 \nz\n\" transform=\"scale(0.015625)\"/>\n       </defs>\n       <use xlink:href=\"#DejaVuSans-77\"/>\n       <use xlink:href=\"#DejaVuSans-32\" transform=\"translate(81.787109 0)\"/>\n       <use xlink:href=\"#DejaVuSans-64\" transform=\"translate(145.410156 0)\"/>\n       <use xlink:href=\"#DejaVuSans-35\" transform=\"translate(208.886719 0)\"/>\n      </g>\n     </g>\n    </g>\n    <g id=\"xtick_5\">\n     <g id=\"line2d_5\">\n      <g>\n       <use xlink:href=\"#mf9ee6c18a6\" x=\"372.419375\" y=\"384.1975\" style=\"stroke: #000000; stroke-width: 0.8\"/>\n      </g>\n     </g>\n     <g id=\"text_5\">\n      <!-- w3d1 -->\n      <g transform=\"translate(356.068438 400.315625) scale(0.12 -0.12)\">\n       <defs>\n        <path id=\"DejaVuSans-31\" d=\"M 794 531 \nL 1825 531 \nL 1825 4091 \nL 703 3866 \nL 703 4441 \nL 1819 4666 \nL 2450 4666 \nL 2450 531 \nL 3481 531 \nL 3481 0 \nL 794 0 \nL 794 531 \nz\n\" transform=\"scale(0.015625)\"/>\n       </defs>\n       <use xlink:href=\"#DejaVuSans-77\"/>\n       <use xlink:href=\"#DejaVuSans-33\" transform=\"translate(81.787109 0)\"/>\n       <use xlink:href=\"#DejaVuSans-64\" transform=\"translate(145.410156 0)\"/>\n       <use xlink:href=\"#DejaVuSans-31\" transform=\"translate(208.886719 0)\"/>\n      </g>\n     </g>\n    </g>\n    <g id=\"xtick_6\">\n     <g id=\"line2d_6\">\n      <g>\n       <use xlink:href=\"#mf9ee6c18a6\" x=\"441.228259\" y=\"384.1975\" style=\"stroke: #000000; stroke-width: 0.8\"/>\n      </g>\n     </g>\n     <g id=\"text_6\">\n      <!-- w3d2 -->\n      <g transform=\"translate(424.877322 400.315625) scale(0.12 -0.12)\">\n       <use xlink:href=\"#DejaVuSans-77\"/>\n       <use xlink:href=\"#DejaVuSans-33\" transform=\"translate(81.787109 0)\"/>\n       <use xlink:href=\"#DejaVuSans-64\" transform=\"translate(145.410156 0)\"/>\n       <use xlink:href=\"#DejaVuSans-32\" transform=\"translate(208.886719 0)\"/>\n      </g>\n     </g>\n    </g>\n    <g id=\"xtick_7\">\n     <g id=\"line2d_7\">\n      <g>\n       <use xlink:href=\"#mf9ee6c18a6\" x=\"510.037144\" y=\"384.1975\" style=\"stroke: #000000; stroke-width: 0.8\"/>\n      </g>\n     </g>\n     <g id=\"text_7\">\n      <!-- w3d3 -->\n      <g transform=\"translate(493.686206 400.315625) scale(0.12 -0.12)\">\n       <use xlink:href=\"#DejaVuSans-77\"/>\n       <use xlink:href=\"#DejaVuSans-33\" transform=\"translate(81.787109 0)\"/>\n       <use xlink:href=\"#DejaVuSans-64\" transform=\"translate(145.410156 0)\"/>\n       <use xlink:href=\"#DejaVuSans-33\" transform=\"translate(208.886719 0)\"/>\n      </g>\n     </g>\n    </g>\n    <g id=\"xtick_8\">\n     <g id=\"line2d_8\">\n      <g>\n       <use xlink:href=\"#mf9ee6c18a6\" x=\"578.846028\" y=\"384.1975\" style=\"stroke: #000000; stroke-width: 0.8\"/>\n      </g>\n     </g>\n     <g id=\"text_8\">\n      <!-- w3d4 -->\n      <g transform=\"translate(562.49509 400.315625) scale(0.12 -0.12)\">\n       <use xlink:href=\"#DejaVuSans-77\"/>\n       <use xlink:href=\"#DejaVuSans-33\" transform=\"translate(81.787109 0)\"/>\n       <use xlink:href=\"#DejaVuSans-64\" transform=\"translate(145.410156 0)\"/>\n       <use xlink:href=\"#DejaVuSans-34\" transform=\"translate(208.886719 0)\"/>\n      </g>\n     </g>\n    </g>\n    <g id=\"xtick_9\">\n     <g id=\"line2d_9\">\n      <g>\n       <use xlink:href=\"#mf9ee6c18a6\" x=\"647.654912\" y=\"384.1975\" style=\"stroke: #000000; stroke-width: 0.8\"/>\n      </g>\n     </g>\n     <g id=\"text_9\">\n      <!-- w3d5 -->\n      <g transform=\"translate(631.303975 400.315625) scale(0.12 -0.12)\">\n       <use xlink:href=\"#DejaVuSans-77\"/>\n       <use xlink:href=\"#DejaVuSans-33\" transform=\"translate(81.787109 0)\"/>\n       <use xlink:href=\"#DejaVuSans-64\" transform=\"translate(145.410156 0)\"/>\n       <use xlink:href=\"#DejaVuSans-35\" transform=\"translate(208.886719 0)\"/>\n      </g>\n     </g>\n    </g>\n    <g id=\"text_10\">\n     <!--   -->\n     <g transform=\"translate(370.830313 414.409687) scale(0.1 -0.1)\">\n      <defs>\n       <path id=\"DejaVuSans-20\" transform=\"scale(0.015625)\"/>\n      </defs>\n      <use xlink:href=\"#DejaVuSans-20\"/>\n     </g>\n    </g>\n   </g>\n   <g id=\"matplotlib.axis_2\">\n    <g id=\"ytick_1\">\n     <g id=\"line2d_10\">\n      <path d=\"M 39.384375 368.522955 \nL 705.454375 368.522955 \n\" clip-path=\"url(#p6d9ef23ff9)\" style=\"fill: none; stroke-dasharray: 2.96,1.28; stroke-dashoffset: 0; stroke: #b0b0b0; stroke-opacity: 0.7; stroke-width: 0.8\"/>\n     </g>\n     <g id=\"line2d_11\">\n      <defs>\n       <path id=\"mc7b0b90787\" d=\"M 0 0 \nL -3.5 0 \n\" style=\"stroke: #000000; stroke-width: 0.8\"/>\n      </defs>\n      <g>\n       <use xlink:href=\"#mc7b0b90787\" x=\"39.384375\" y=\"368.522955\" style=\"stroke: #000000; stroke-width: 0.8\"/>\n      </g>\n     </g>\n     <g id=\"text_11\">\n      <!-- 1 -->\n      <g transform=\"translate(24.749375 373.082017) scale(0.12 -0.12)\">\n       <use xlink:href=\"#DejaVuSans-31\"/>\n      </g>\n     </g>\n    </g>\n    <g id=\"ytick_2\">\n     <g id=\"line2d_12\">\n      <path d=\"M 39.384375 290.150227 \nL 705.454375 290.150227 \n\" clip-path=\"url(#p6d9ef23ff9)\" style=\"fill: none; stroke-dasharray: 2.96,1.28; stroke-dashoffset: 0; stroke: #b0b0b0; stroke-opacity: 0.7; stroke-width: 0.8\"/>\n     </g>\n     <g id=\"line2d_13\">\n      <g>\n       <use xlink:href=\"#mc7b0b90787\" x=\"39.384375\" y=\"290.150227\" style=\"stroke: #000000; stroke-width: 0.8\"/>\n      </g>\n     </g>\n     <g id=\"text_12\">\n      <!-- 2 -->\n      <g transform=\"translate(24.749375 294.70929) scale(0.12 -0.12)\">\n       <use xlink:href=\"#DejaVuSans-32\"/>\n      </g>\n     </g>\n    </g>\n    <g id=\"ytick_3\">\n     <g id=\"line2d_14\">\n      <path d=\"M 39.384375 211.7775 \nL 705.454375 211.7775 \n\" clip-path=\"url(#p6d9ef23ff9)\" style=\"fill: none; stroke-dasharray: 2.96,1.28; stroke-dashoffset: 0; stroke: #b0b0b0; stroke-opacity: 0.7; stroke-width: 0.8\"/>\n     </g>\n     <g id=\"line2d_15\">\n      <g>\n       <use xlink:href=\"#mc7b0b90787\" x=\"39.384375\" y=\"211.7775\" style=\"stroke: #000000; stroke-width: 0.8\"/>\n      </g>\n     </g>\n     <g id=\"text_13\">\n      <!-- 3 -->\n      <g transform=\"translate(24.749375 216.336563) scale(0.12 -0.12)\">\n       <use xlink:href=\"#DejaVuSans-33\"/>\n      </g>\n     </g>\n    </g>\n    <g id=\"ytick_4\">\n     <g id=\"line2d_16\">\n      <path d=\"M 39.384375 133.404773 \nL 705.454375 133.404773 \n\" clip-path=\"url(#p6d9ef23ff9)\" style=\"fill: none; stroke-dasharray: 2.96,1.28; stroke-dashoffset: 0; stroke: #b0b0b0; stroke-opacity: 0.7; stroke-width: 0.8\"/>\n     </g>\n     <g id=\"line2d_17\">\n      <g>\n       <use xlink:href=\"#mc7b0b90787\" x=\"39.384375\" y=\"133.404773\" style=\"stroke: #000000; stroke-width: 0.8\"/>\n      </g>\n     </g>\n     <g id=\"text_14\">\n      <!-- 4 -->\n      <g transform=\"translate(24.749375 137.963835) scale(0.12 -0.12)\">\n       <use xlink:href=\"#DejaVuSans-34\"/>\n      </g>\n     </g>\n    </g>\n    <g id=\"ytick_5\">\n     <g id=\"line2d_18\">\n      <path d=\"M 39.384375 55.032045 \nL 705.454375 55.032045 \n\" clip-path=\"url(#p6d9ef23ff9)\" style=\"fill: none; stroke-dasharray: 2.96,1.28; stroke-dashoffset: 0; stroke: #b0b0b0; stroke-opacity: 0.7; stroke-width: 0.8\"/>\n     </g>\n     <g id=\"line2d_19\">\n      <g>\n       <use xlink:href=\"#mc7b0b90787\" x=\"39.384375\" y=\"55.032045\" style=\"stroke: #000000; stroke-width: 0.8\"/>\n      </g>\n     </g>\n     <g id=\"text_15\">\n      <!-- 5 -->\n      <g transform=\"translate(24.749375 59.591108) scale(0.12 -0.12)\">\n       <use xlink:href=\"#DejaVuSans-35\"/>\n      </g>\n     </g>\n    </g>\n    <g id=\"text_16\">\n     <!-- Ratings -->\n     <g transform=\"translate(17.837813 237.989219) rotate(-90) scale(0.14 -0.14)\">\n      <defs>\n       <path id=\"DejaVuSans-52\" d=\"M 2841 2188 \nQ 3044 2119 3236 1894 \nQ 3428 1669 3622 1275 \nL 4263 0 \nL 3584 0 \nL 2988 1197 \nQ 2756 1666 2539 1819 \nQ 2322 1972 1947 1972 \nL 1259 1972 \nL 1259 0 \nL 628 0 \nL 628 4666 \nL 2053 4666 \nQ 2853 4666 3247 4331 \nQ 3641 3997 3641 3322 \nQ 3641 2881 3436 2590 \nQ 3231 2300 2841 2188 \nz\nM 1259 4147 \nL 1259 2491 \nL 2053 2491 \nQ 2509 2491 2742 2702 \nQ 2975 2913 2975 3322 \nQ 2975 3731 2742 3939 \nQ 2509 4147 2053 4147 \nL 1259 4147 \nz\n\" transform=\"scale(0.015625)\"/>\n       <path id=\"DejaVuSans-61\" d=\"M 2194 1759 \nQ 1497 1759 1228 1600 \nQ 959 1441 959 1056 \nQ 959 750 1161 570 \nQ 1363 391 1709 391 \nQ 2188 391 2477 730 \nQ 2766 1069 2766 1631 \nL 2766 1759 \nL 2194 1759 \nz\nM 3341 1997 \nL 3341 0 \nL 2766 0 \nL 2766 531 \nQ 2569 213 2275 61 \nQ 1981 -91 1556 -91 \nQ 1019 -91 701 211 \nQ 384 513 384 1019 \nQ 384 1609 779 1909 \nQ 1175 2209 1959 2209 \nL 2766 2209 \nL 2766 2266 \nQ 2766 2663 2505 2880 \nQ 2244 3097 1772 3097 \nQ 1472 3097 1187 3025 \nQ 903 2953 641 2809 \nL 641 3341 \nQ 956 3463 1253 3523 \nQ 1550 3584 1831 3584 \nQ 2591 3584 2966 3190 \nQ 3341 2797 3341 1997 \nz\n\" transform=\"scale(0.015625)\"/>\n       <path id=\"DejaVuSans-74\" d=\"M 1172 4494 \nL 1172 3500 \nL 2356 3500 \nL 2356 3053 \nL 1172 3053 \nL 1172 1153 \nQ 1172 725 1289 603 \nQ 1406 481 1766 481 \nL 2356 481 \nL 2356 0 \nL 1766 0 \nQ 1100 0 847 248 \nQ 594 497 594 1153 \nL 594 3053 \nL 172 3053 \nL 172 3500 \nL 594 3500 \nL 594 4494 \nL 1172 4494 \nz\n\" transform=\"scale(0.015625)\"/>\n       <path id=\"DejaVuSans-69\" d=\"M 603 3500 \nL 1178 3500 \nL 1178 0 \nL 603 0 \nL 603 3500 \nz\nM 603 4863 \nL 1178 4863 \nL 1178 4134 \nL 603 4134 \nL 603 4863 \nz\n\" transform=\"scale(0.015625)\"/>\n       <path id=\"DejaVuSans-6e\" d=\"M 3513 2113 \nL 3513 0 \nL 2938 0 \nL 2938 2094 \nQ 2938 2591 2744 2837 \nQ 2550 3084 2163 3084 \nQ 1697 3084 1428 2787 \nQ 1159 2491 1159 1978 \nL 1159 0 \nL 581 0 \nL 581 3500 \nL 1159 3500 \nL 1159 2956 \nQ 1366 3272 1645 3428 \nQ 1925 3584 2291 3584 \nQ 2894 3584 3203 3211 \nQ 3513 2838 3513 2113 \nz\n\" transform=\"scale(0.015625)\"/>\n       <path id=\"DejaVuSans-67\" d=\"M 2906 1791 \nQ 2906 2416 2648 2759 \nQ 2391 3103 1925 3103 \nQ 1463 3103 1205 2759 \nQ 947 2416 947 1791 \nQ 947 1169 1205 825 \nQ 1463 481 1925 481 \nQ 2391 481 2648 825 \nQ 2906 1169 2906 1791 \nz\nM 3481 434 \nQ 3481 -459 3084 -895 \nQ 2688 -1331 1869 -1331 \nQ 1566 -1331 1297 -1286 \nQ 1028 -1241 775 -1147 \nL 775 -588 \nQ 1028 -725 1275 -790 \nQ 1522 -856 1778 -856 \nQ 2344 -856 2625 -561 \nQ 2906 -266 2906 331 \nL 2906 616 \nQ 2728 306 2450 153 \nQ 2172 0 1784 0 \nQ 1141 0 747 490 \nQ 353 981 353 1791 \nQ 353 2603 747 3093 \nQ 1141 3584 1784 3584 \nQ 2172 3584 2450 3431 \nQ 2728 3278 2906 2969 \nL 2906 3500 \nL 3481 3500 \nL 3481 434 \nz\n\" transform=\"scale(0.015625)\"/>\n       <path id=\"DejaVuSans-73\" d=\"M 2834 3397 \nL 2834 2853 \nQ 2591 2978 2328 3040 \nQ 2066 3103 1784 3103 \nQ 1356 3103 1142 2972 \nQ 928 2841 928 2578 \nQ 928 2378 1081 2264 \nQ 1234 2150 1697 2047 \nL 1894 2003 \nQ 2506 1872 2764 1633 \nQ 3022 1394 3022 966 \nQ 3022 478 2636 193 \nQ 2250 -91 1575 -91 \nQ 1294 -91 989 -36 \nQ 684 19 347 128 \nL 347 722 \nQ 666 556 975 473 \nQ 1284 391 1588 391 \nQ 1994 391 2212 530 \nQ 2431 669 2431 922 \nQ 2431 1156 2273 1281 \nQ 2116 1406 1581 1522 \nL 1381 1569 \nQ 847 1681 609 1914 \nQ 372 2147 372 2553 \nQ 372 3047 722 3315 \nQ 1072 3584 1716 3584 \nQ 2034 3584 2315 3537 \nQ 2597 3491 2834 3397 \nz\n\" transform=\"scale(0.015625)\"/>\n      </defs>\n      <use xlink:href=\"#DejaVuSans-52\"/>\n      <use xlink:href=\"#DejaVuSans-61\" transform=\"translate(67.232422 0)\"/>\n      <use xlink:href=\"#DejaVuSans-74\" transform=\"translate(128.511719 0)\"/>\n      <use xlink:href=\"#DejaVuSans-69\" transform=\"translate(167.720703 0)\"/>\n      <use xlink:href=\"#DejaVuSans-6e\" transform=\"translate(195.503906 0)\"/>\n      <use xlink:href=\"#DejaVuSans-67\" transform=\"translate(258.882812 0)\"/>\n      <use xlink:href=\"#DejaVuSans-73\" transform=\"translate(322.359375 0)\"/>\n     </g>\n    </g>\n   </g>\n   <g id=\"patch_3\">\n    <path d=\"M 69.660284 133.404773 \nL 124.707392 133.404773 \nL 124.707392 55.032045 \nL 69.660284 55.032045 \nL 69.660284 133.404773 \nz\n\" clip-path=\"url(#p6d9ef23ff9)\" style=\"fill: #859fe5; stroke: #535353; stroke-linejoin: miter\"/>\n   </g>\n   <g id=\"line2d_20\">\n    <path d=\"M 97.183838 133.404773 \nL 97.183838 133.404773 \n\" clip-path=\"url(#p6d9ef23ff9)\" style=\"fill: none; stroke: #535353\"/>\n   </g>\n   <g id=\"line2d_21\">\n    <path d=\"M 97.183838 55.032045 \nL 97.183838 55.032045 \n\" clip-path=\"url(#p6d9ef23ff9)\" style=\"fill: none; stroke: #535353\"/>\n   </g>\n   <g id=\"line2d_22\">\n    <path d=\"M 83.422061 133.404773 \nL 110.945615 133.404773 \n\" clip-path=\"url(#p6d9ef23ff9)\" style=\"fill: none; stroke: #535353; stroke-linecap: square\"/>\n   </g>\n   <g id=\"line2d_23\">\n    <path d=\"M 83.422061 55.032045 \nL 110.945615 55.032045 \n\" clip-path=\"url(#p6d9ef23ff9)\" style=\"fill: none; stroke: #535353; stroke-linecap: square\"/>\n   </g>\n   <g id=\"line2d_24\">\n    <defs>\n     <path id=\"mba1e1faae7\" d=\"M 0 3 \nC 0.795609 3 1.55874 2.683901 2.12132 2.12132 \nC 2.683901 1.55874 3 0.795609 3 0 \nC 3 -0.795609 2.683901 -1.55874 2.12132 -2.12132 \nC 1.55874 -2.683901 0.795609 -3 0 -3 \nC -0.795609 -3 -1.55874 -2.683901 -2.12132 -2.12132 \nC -2.683901 -1.55874 -3 -0.795609 -3 0 \nC -3 0.795609 -2.683901 1.55874 -2.12132 2.12132 \nC -1.55874 2.683901 -0.795609 3 0 3 \nz\n\" style=\"stroke: #535353\"/>\n    </defs>\n    <g clip-path=\"url(#p6d9ef23ff9)\">\n     <use xlink:href=\"#mba1e1faae7\" x=\"97.183838\" y=\"290.150227\" style=\"fill-opacity: 0; stroke: #535353\"/>\n     <use xlink:href=\"#mba1e1faae7\" x=\"97.183838\" y=\"368.522955\" style=\"fill-opacity: 0; stroke: #535353\"/>\n    </g>\n   </g>\n   <g id=\"patch_4\">\n    <path d=\"M 138.469168 133.404773 \nL 193.516276 133.404773 \nL 193.516276 55.032045 \nL 138.469168 55.032045 \nL 138.469168 133.404773 \nz\n\" clip-path=\"url(#p6d9ef23ff9)\" style=\"fill: #a2bbf1; stroke: #535353; stroke-linejoin: miter\"/>\n   </g>\n   <g id=\"line2d_25\">\n    <path d=\"M 165.992722 133.404773 \nL 165.992722 211.7775 \n\" clip-path=\"url(#p6d9ef23ff9)\" style=\"fill: none; stroke: #535353\"/>\n   </g>\n   <g id=\"line2d_26\">\n    <path d=\"M 165.992722 55.032045 \nL 165.992722 55.032045 \n\" clip-path=\"url(#p6d9ef23ff9)\" style=\"fill: none; stroke: #535353\"/>\n   </g>\n   <g id=\"line2d_27\">\n    <path d=\"M 152.230945 211.7775 \nL 179.754499 211.7775 \n\" clip-path=\"url(#p6d9ef23ff9)\" style=\"fill: none; stroke: #535353; stroke-linecap: square\"/>\n   </g>\n   <g id=\"line2d_28\">\n    <path d=\"M 152.230945 55.032045 \nL 179.754499 55.032045 \n\" clip-path=\"url(#p6d9ef23ff9)\" style=\"fill: none; stroke: #535353; stroke-linecap: square\"/>\n   </g>\n   <g id=\"line2d_29\">\n    <g clip-path=\"url(#p6d9ef23ff9)\">\n     <use xlink:href=\"#mba1e1faae7\" x=\"165.992722\" y=\"290.150227\" style=\"fill-opacity: 0; stroke: #535353\"/>\n    </g>\n   </g>\n   <g id=\"patch_5\">\n    <path d=\"M 207.278053 55.032045 \nL 262.32516 55.032045 \nL 262.32516 55.032045 \nL 207.278053 55.032045 \nL 207.278053 55.032045 \nz\n\" clip-path=\"url(#p6d9ef23ff9)\" style=\"fill: #bdd0f2; stroke: #535353; stroke-linejoin: miter\"/>\n   </g>\n   <g id=\"line2d_30\">\n    <path d=\"M 234.801606 55.032045 \nL 234.801606 55.032045 \n\" clip-path=\"url(#p6d9ef23ff9)\" style=\"fill: none; stroke: #535353\"/>\n   </g>\n   <g id=\"line2d_31\">\n    <path d=\"M 234.801606 55.032045 \nL 234.801606 55.032045 \n\" clip-path=\"url(#p6d9ef23ff9)\" style=\"fill: none; stroke: #535353\"/>\n   </g>\n   <g id=\"line2d_32\">\n    <path d=\"M 221.03983 55.032045 \nL 248.563383 55.032045 \n\" clip-path=\"url(#p6d9ef23ff9)\" style=\"fill: none; stroke: #535353; stroke-linecap: square\"/>\n   </g>\n   <g id=\"line2d_33\">\n    <path d=\"M 221.03983 55.032045 \nL 248.563383 55.032045 \n\" clip-path=\"url(#p6d9ef23ff9)\" style=\"fill: none; stroke: #535353; stroke-linecap: square\"/>\n   </g>\n   <g id=\"line2d_34\">\n    <g clip-path=\"url(#p6d9ef23ff9)\">\n     <use xlink:href=\"#mba1e1faae7\" x=\"234.801606\" y=\"133.404773\" style=\"fill-opacity: 0; stroke: #535353\"/>\n     <use xlink:href=\"#mba1e1faae7\" x=\"234.801606\" y=\"133.404773\" style=\"fill-opacity: 0; stroke: #535353\"/>\n    </g>\n   </g>\n   <g id=\"patch_6\">\n    <path d=\"M 276.086937 94.218409 \nL 331.134044 94.218409 \nL 331.134044 55.032045 \nL 276.086937 55.032045 \nL 276.086937 94.218409 \nz\n\" clip-path=\"url(#p6d9ef23ff9)\" style=\"fill: #d4dbe6; stroke: #535353; stroke-linejoin: miter\"/>\n   </g>\n   <g id=\"line2d_35\">\n    <path d=\"M 303.610491 94.218409 \nL 303.610491 133.404773 \n\" clip-path=\"url(#p6d9ef23ff9)\" style=\"fill: none; stroke: #535353\"/>\n   </g>\n   <g id=\"line2d_36\">\n    <path d=\"M 303.610491 55.032045 \nL 303.610491 55.032045 \n\" clip-path=\"url(#p6d9ef23ff9)\" style=\"fill: none; stroke: #535353\"/>\n   </g>\n   <g id=\"line2d_37\">\n    <path d=\"M 289.848714 133.404773 \nL 317.372268 133.404773 \n\" clip-path=\"url(#p6d9ef23ff9)\" style=\"fill: none; stroke: #535353; stroke-linecap: square\"/>\n   </g>\n   <g id=\"line2d_38\">\n    <path d=\"M 289.848714 55.032045 \nL 317.372268 55.032045 \n\" clip-path=\"url(#p6d9ef23ff9)\" style=\"fill: none; stroke: #535353; stroke-linecap: square\"/>\n   </g>\n   <g id=\"line2d_39\">\n    <g clip-path=\"url(#p6d9ef23ff9)\">\n     <use xlink:href=\"#mba1e1faae7\" x=\"303.610491\" y=\"290.150227\" style=\"fill-opacity: 0; stroke: #535353\"/>\n    </g>\n   </g>\n   <g id=\"patch_7\">\n    <path d=\"M 344.895821 133.404773 \nL 399.942929 133.404773 \nL 399.942929 55.032045 \nL 344.895821 55.032045 \nL 344.895821 133.404773 \nz\n\" clip-path=\"url(#p6d9ef23ff9)\" style=\"fill: #e4d7d0; stroke: #535353; stroke-linejoin: miter\"/>\n   </g>\n   <g id=\"line2d_40\">\n    <path d=\"M 372.419375 133.404773 \nL 372.419375 211.7775 \n\" clip-path=\"url(#p6d9ef23ff9)\" style=\"fill: none; stroke: #535353\"/>\n   </g>\n   <g id=\"line2d_41\">\n    <path d=\"M 372.419375 55.032045 \nL 372.419375 55.032045 \n\" clip-path=\"url(#p6d9ef23ff9)\" style=\"fill: none; stroke: #535353\"/>\n   </g>\n   <g id=\"line2d_42\">\n    <path d=\"M 358.657598 211.7775 \nL 386.181152 211.7775 \n\" clip-path=\"url(#p6d9ef23ff9)\" style=\"fill: none; stroke: #535353; stroke-linecap: square\"/>\n   </g>\n   <g id=\"line2d_43\">\n    <path d=\"M 358.657598 55.032045 \nL 386.181152 55.032045 \n\" clip-path=\"url(#p6d9ef23ff9)\" style=\"fill: none; stroke: #535353; stroke-linecap: square\"/>\n   </g>\n   <g id=\"line2d_44\"/>\n   <g id=\"patch_8\">\n    <path d=\"M 413.704706 133.404773 \nL 468.751813 133.404773 \nL 468.751813 55.032045 \nL 413.704706 55.032045 \nL 413.704706 133.404773 \nz\n\" clip-path=\"url(#p6d9ef23ff9)\" style=\"fill: #ecc5b2; stroke: #535353; stroke-linejoin: miter\"/>\n   </g>\n   <g id=\"line2d_45\">\n    <path d=\"M 441.228259 133.404773 \nL 441.228259 211.7775 \n\" clip-path=\"url(#p6d9ef23ff9)\" style=\"fill: none; stroke: #535353\"/>\n   </g>\n   <g id=\"line2d_46\">\n    <path d=\"M 441.228259 55.032045 \nL 441.228259 55.032045 \n\" clip-path=\"url(#p6d9ef23ff9)\" style=\"fill: none; stroke: #535353\"/>\n   </g>\n   <g id=\"line2d_47\">\n    <path d=\"M 427.466482 211.7775 \nL 454.990036 211.7775 \n\" clip-path=\"url(#p6d9ef23ff9)\" style=\"fill: none; stroke: #535353; stroke-linecap: square\"/>\n   </g>\n   <g id=\"line2d_48\">\n    <path d=\"M 427.466482 55.032045 \nL 454.990036 55.032045 \n\" clip-path=\"url(#p6d9ef23ff9)\" style=\"fill: none; stroke: #535353; stroke-linecap: square\"/>\n   </g>\n   <g id=\"line2d_49\"/>\n   <g id=\"patch_9\">\n    <path d=\"M 482.51359 94.218409 \nL 537.560697 94.218409 \nL 537.560697 55.032045 \nL 482.51359 55.032045 \nL 482.51359 94.218409 \nz\n\" clip-path=\"url(#p6d9ef23ff9)\" style=\"fill: #e7a891; stroke: #535353; stroke-linejoin: miter\"/>\n   </g>\n   <g id=\"line2d_50\">\n    <path d=\"M 510.037144 94.218409 \nL 510.037144 133.404773 \n\" clip-path=\"url(#p6d9ef23ff9)\" style=\"fill: none; stroke: #535353\"/>\n   </g>\n   <g id=\"line2d_51\">\n    <path d=\"M 510.037144 55.032045 \nL 510.037144 55.032045 \n\" clip-path=\"url(#p6d9ef23ff9)\" style=\"fill: none; stroke: #535353\"/>\n   </g>\n   <g id=\"line2d_52\">\n    <path d=\"M 496.275367 133.404773 \nL 523.79892 133.404773 \n\" clip-path=\"url(#p6d9ef23ff9)\" style=\"fill: none; stroke: #535353; stroke-linecap: square\"/>\n   </g>\n   <g id=\"line2d_53\">\n    <path d=\"M 496.275367 55.032045 \nL 523.79892 55.032045 \n\" clip-path=\"url(#p6d9ef23ff9)\" style=\"fill: none; stroke: #535353; stroke-linecap: square\"/>\n   </g>\n   <g id=\"line2d_54\"/>\n   <g id=\"patch_10\">\n    <path d=\"M 551.322474 133.404773 \nL 606.369582 133.404773 \nL 606.369582 55.032045 \nL 551.322474 55.032045 \nL 551.322474 133.404773 \nz\n\" clip-path=\"url(#p6d9ef23ff9)\" style=\"fill: #d98672; stroke: #535353; stroke-linejoin: miter\"/>\n   </g>\n   <g id=\"line2d_55\">\n    <path d=\"M 578.846028 133.404773 \nL 578.846028 211.7775 \n\" clip-path=\"url(#p6d9ef23ff9)\" style=\"fill: none; stroke: #535353\"/>\n   </g>\n   <g id=\"line2d_56\">\n    <path d=\"M 578.846028 55.032045 \nL 578.846028 55.032045 \n\" clip-path=\"url(#p6d9ef23ff9)\" style=\"fill: none; stroke: #535353\"/>\n   </g>\n   <g id=\"line2d_57\">\n    <path d=\"M 565.084251 211.7775 \nL 592.607805 211.7775 \n\" clip-path=\"url(#p6d9ef23ff9)\" style=\"fill: none; stroke: #535353; stroke-linecap: square\"/>\n   </g>\n   <g id=\"line2d_58\">\n    <path d=\"M 565.084251 55.032045 \nL 592.607805 55.032045 \n\" clip-path=\"url(#p6d9ef23ff9)\" style=\"fill: none; stroke: #535353; stroke-linecap: square\"/>\n   </g>\n   <g id=\"line2d_59\"/>\n   <g id=\"patch_11\">\n    <path d=\"M 620.131358 113.811591 \nL 675.178466 113.811591 \nL 675.178466 55.032045 \nL 620.131358 55.032045 \nL 620.131358 113.811591 \nz\n\" clip-path=\"url(#p6d9ef23ff9)\" style=\"fill: #c15d53; stroke: #535353; stroke-linejoin: miter\"/>\n   </g>\n   <g id=\"line2d_60\">\n    <path d=\"M 647.654912 113.811591 \nL 647.654912 133.404773 \n\" clip-path=\"url(#p6d9ef23ff9)\" style=\"fill: none; stroke: #535353\"/>\n   </g>\n   <g id=\"line2d_61\">\n    <path d=\"M 647.654912 55.032045 \nL 647.654912 55.032045 \n\" clip-path=\"url(#p6d9ef23ff9)\" style=\"fill: none; stroke: #535353\"/>\n   </g>\n   <g id=\"line2d_62\">\n    <path d=\"M 633.893135 133.404773 \nL 661.416689 133.404773 \n\" clip-path=\"url(#p6d9ef23ff9)\" style=\"fill: none; stroke: #535353; stroke-linecap: square\"/>\n   </g>\n   <g id=\"line2d_63\">\n    <path d=\"M 633.893135 55.032045 \nL 661.416689 55.032045 \n\" clip-path=\"url(#p6d9ef23ff9)\" style=\"fill: none; stroke: #535353; stroke-linecap: square\"/>\n   </g>\n   <g id=\"line2d_64\">\n    <g clip-path=\"url(#p6d9ef23ff9)\">\n     <use xlink:href=\"#mba1e1faae7\" x=\"647.654912\" y=\"211.7775\" style=\"fill-opacity: 0; stroke: #535353\"/>\n     <use xlink:href=\"#mba1e1faae7\" x=\"647.654912\" y=\"368.522955\" style=\"fill-opacity: 0; stroke: #535353\"/>\n    </g>\n   </g>\n   <g id=\"line2d_65\">\n    <path d=\"M 97.183838 107.28053 \nL 165.992722 98.920773 \nL 234.801606 65.481742 \nL 303.610491 86.381136 \nL 372.419375 94.218409 \nL 441.228259 92.352392 \nL 510.037144 76.406426 \nL 578.846028 96.523489 \nL 647.654912 94.218409 \n\" clip-path=\"url(#p6d9ef23ff9)\" style=\"fill: none; stroke: #d18d20; stroke-width: 2; stroke-linecap: square\"/>\n    <defs>\n     <path id=\"m5918139dee\" d=\"M 0 3 \nC 0.795609 3 1.55874 2.683901 2.12132 2.12132 \nC 2.683901 1.55874 3 0.795609 3 0 \nC 3 -0.795609 2.683901 -1.55874 2.12132 -2.12132 \nC 1.55874 -2.683901 0.795609 -3 0 -3 \nC -0.795609 -3 -1.55874 -2.683901 -2.12132 -2.12132 \nC -2.683901 -1.55874 -3 -0.795609 -3 0 \nC -3 0.795609 -2.683901 1.55874 -2.12132 2.12132 \nC -1.55874 2.683901 -0.795609 3 0 3 \nz\n\" style=\"stroke: #d18d20\"/>\n    </defs>\n    <g clip-path=\"url(#p6d9ef23ff9)\">\n     <use xlink:href=\"#m5918139dee\" x=\"97.183838\" y=\"107.28053\" style=\"fill: #d18d20; stroke: #d18d20\"/>\n     <use xlink:href=\"#m5918139dee\" x=\"165.992722\" y=\"98.920773\" style=\"fill: #d18d20; stroke: #d18d20\"/>\n     <use xlink:href=\"#m5918139dee\" x=\"234.801606\" y=\"65.481742\" style=\"fill: #d18d20; stroke: #d18d20\"/>\n     <use xlink:href=\"#m5918139dee\" x=\"303.610491\" y=\"86.381136\" style=\"fill: #d18d20; stroke: #d18d20\"/>\n     <use xlink:href=\"#m5918139dee\" x=\"372.419375\" y=\"94.218409\" style=\"fill: #d18d20; stroke: #d18d20\"/>\n     <use xlink:href=\"#m5918139dee\" x=\"441.228259\" y=\"92.352392\" style=\"fill: #d18d20; stroke: #d18d20\"/>\n     <use xlink:href=\"#m5918139dee\" x=\"510.037144\" y=\"76.406426\" style=\"fill: #d18d20; stroke: #d18d20\"/>\n     <use xlink:href=\"#m5918139dee\" x=\"578.846028\" y=\"96.523489\" style=\"fill: #d18d20; stroke: #d18d20\"/>\n     <use xlink:href=\"#m5918139dee\" x=\"647.654912\" y=\"94.218409\" style=\"fill: #d18d20; stroke: #d18d20\"/>\n    </g>\n   </g>\n   <g id=\"line2d_66\">\n    <path d=\"M 69.660284 55.032045 \nL 124.707392 55.032045 \n\" clip-path=\"url(#p6d9ef23ff9)\" style=\"fill: none; stroke: #535353\"/>\n   </g>\n   <g id=\"line2d_67\">\n    <path d=\"M 138.469168 55.032045 \nL 193.516276 55.032045 \n\" clip-path=\"url(#p6d9ef23ff9)\" style=\"fill: none; stroke: #535353\"/>\n   </g>\n   <g id=\"line2d_68\">\n    <path d=\"M 207.278053 55.032045 \nL 262.32516 55.032045 \n\" clip-path=\"url(#p6d9ef23ff9)\" style=\"fill: none; stroke: #535353\"/>\n   </g>\n   <g id=\"line2d_69\">\n    <path d=\"M 276.086937 55.032045 \nL 331.134044 55.032045 \n\" clip-path=\"url(#p6d9ef23ff9)\" style=\"fill: none; stroke: #535353\"/>\n   </g>\n   <g id=\"line2d_70\">\n    <path d=\"M 344.895821 55.032045 \nL 399.942929 55.032045 \n\" clip-path=\"url(#p6d9ef23ff9)\" style=\"fill: none; stroke: #535353\"/>\n   </g>\n   <g id=\"line2d_71\">\n    <path d=\"M 413.704706 55.032045 \nL 468.751813 55.032045 \n\" clip-path=\"url(#p6d9ef23ff9)\" style=\"fill: none; stroke: #535353\"/>\n   </g>\n   <g id=\"line2d_72\">\n    <path d=\"M 482.51359 55.032045 \nL 537.560697 55.032045 \n\" clip-path=\"url(#p6d9ef23ff9)\" style=\"fill: none; stroke: #535353\"/>\n   </g>\n   <g id=\"line2d_73\">\n    <path d=\"M 551.322474 55.032045 \nL 606.369582 55.032045 \n\" clip-path=\"url(#p6d9ef23ff9)\" style=\"fill: none; stroke: #535353\"/>\n   </g>\n   <g id=\"line2d_74\">\n    <path d=\"M 620.131358 55.032045 \nL 675.178466 55.032045 \n\" clip-path=\"url(#p6d9ef23ff9)\" style=\"fill: none; stroke: #535353\"/>\n   </g>\n   <g id=\"patch_12\">\n    <path d=\"M 39.384375 384.1975 \nL 39.384375 39.3575 \n\" style=\"fill: none; stroke: #000000; stroke-width: 0.8; stroke-linejoin: miter; stroke-linecap: square\"/>\n   </g>\n   <g id=\"patch_13\">\n    <path d=\"M 705.454375 384.1975 \nL 705.454375 39.3575 \n\" style=\"fill: none; stroke: #000000; stroke-width: 0.8; stroke-linejoin: miter; stroke-linecap: square\"/>\n   </g>\n   <g id=\"patch_14\">\n    <path d=\"M 39.384375 384.1975 \nL 705.454375 384.1975 \n\" style=\"fill: none; stroke: #000000; stroke-width: 0.8; stroke-linejoin: miter; stroke-linecap: square\"/>\n   </g>\n   <g id=\"patch_15\">\n    <path d=\"M 39.384375 39.3575 \nL 705.454375 39.3575 \n\" style=\"fill: none; stroke: #000000; stroke-width: 0.8; stroke-linejoin: miter; stroke-linecap: square\"/>\n   </g>\n   <g id=\"text_17\">\n    <!-- N=27 -->\n    <g transform=\"translate(82.890869 37.277813) scale(0.1 -0.1)\">\n     <defs>\n      <path id=\"DejaVuSans-4e\" d=\"M 628 4666 \nL 1478 4666 \nL 3547 763 \nL 3547 4666 \nL 4159 4666 \nL 4159 0 \nL 3309 0 \nL 1241 3903 \nL 1241 0 \nL 628 0 \nL 628 4666 \nz\n\" transform=\"scale(0.015625)\"/>\n      <path id=\"DejaVuSans-3d\" d=\"M 678 2906 \nL 4684 2906 \nL 4684 2381 \nL 678 2381 \nL 678 2906 \nz\nM 678 1631 \nL 4684 1631 \nL 4684 1100 \nL 678 1100 \nL 678 1631 \nz\n\" transform=\"scale(0.015625)\"/>\n      <path id=\"DejaVuSans-37\" d=\"M 525 4666 \nL 3525 4666 \nL 3525 4397 \nL 1831 0 \nL 1172 0 \nL 2766 4134 \nL 525 4134 \nL 525 4666 \nz\n\" transform=\"scale(0.015625)\"/>\n     </defs>\n     <use xlink:href=\"#DejaVuSans-4e\"/>\n     <use xlink:href=\"#DejaVuSans-3d\" transform=\"translate(74.804688 0)\"/>\n     <use xlink:href=\"#DejaVuSans-32\" transform=\"translate(158.59375 0)\"/>\n     <use xlink:href=\"#DejaVuSans-37\" transform=\"translate(222.216797 0)\"/>\n    </g>\n   </g>\n   <g id=\"text_18\">\n    <!-- N=25 -->\n    <g transform=\"translate(151.699753 37.277813) scale(0.1 -0.1)\">\n     <use xlink:href=\"#DejaVuSans-4e\"/>\n     <use xlink:href=\"#DejaVuSans-3d\" transform=\"translate(74.804688 0)\"/>\n     <use xlink:href=\"#DejaVuSans-32\" transform=\"translate(158.59375 0)\"/>\n     <use xlink:href=\"#DejaVuSans-35\" transform=\"translate(222.216797 0)\"/>\n    </g>\n   </g>\n   <g id=\"text_19\">\n    <!-- N=15 -->\n    <g transform=\"translate(220.508638 37.277813) scale(0.1 -0.1)\">\n     <use xlink:href=\"#DejaVuSans-4e\"/>\n     <use xlink:href=\"#DejaVuSans-3d\" transform=\"translate(74.804688 0)\"/>\n     <use xlink:href=\"#DejaVuSans-31\" transform=\"translate(158.59375 0)\"/>\n     <use xlink:href=\"#DejaVuSans-35\" transform=\"translate(222.216797 0)\"/>\n    </g>\n   </g>\n   <g id=\"text_20\">\n    <!-- N=15 -->\n    <g transform=\"translate(289.317522 37.277813) scale(0.1 -0.1)\">\n     <use xlink:href=\"#DejaVuSans-4e\"/>\n     <use xlink:href=\"#DejaVuSans-3d\" transform=\"translate(74.804688 0)\"/>\n     <use xlink:href=\"#DejaVuSans-31\" transform=\"translate(158.59375 0)\"/>\n     <use xlink:href=\"#DejaVuSans-35\" transform=\"translate(222.216797 0)\"/>\n    </g>\n   </g>\n   <g id=\"text_21\">\n    <!-- N=20 -->\n    <g transform=\"translate(358.126406 37.277813) scale(0.1 -0.1)\">\n     <defs>\n      <path id=\"DejaVuSans-30\" d=\"M 2034 4250 \nQ 1547 4250 1301 3770 \nQ 1056 3291 1056 2328 \nQ 1056 1369 1301 889 \nQ 1547 409 2034 409 \nQ 2525 409 2770 889 \nQ 3016 1369 3016 2328 \nQ 3016 3291 2770 3770 \nQ 2525 4250 2034 4250 \nz\nM 2034 4750 \nQ 2819 4750 3233 4129 \nQ 3647 3509 3647 2328 \nQ 3647 1150 3233 529 \nQ 2819 -91 2034 -91 \nQ 1250 -91 836 529 \nQ 422 1150 422 2328 \nQ 422 3509 836 4129 \nQ 1250 4750 2034 4750 \nz\n\" transform=\"scale(0.015625)\"/>\n     </defs>\n     <use xlink:href=\"#DejaVuSans-4e\"/>\n     <use xlink:href=\"#DejaVuSans-3d\" transform=\"translate(74.804688 0)\"/>\n     <use xlink:href=\"#DejaVuSans-32\" transform=\"translate(158.59375 0)\"/>\n     <use xlink:href=\"#DejaVuSans-30\" transform=\"translate(222.216797 0)\"/>\n    </g>\n   </g>\n   <g id=\"text_22\">\n    <!-- N=21 -->\n    <g transform=\"translate(426.935291 37.277813) scale(0.1 -0.1)\">\n     <use xlink:href=\"#DejaVuSans-4e\"/>\n     <use xlink:href=\"#DejaVuSans-3d\" transform=\"translate(74.804688 0)\"/>\n     <use xlink:href=\"#DejaVuSans-32\" transform=\"translate(158.59375 0)\"/>\n     <use xlink:href=\"#DejaVuSans-31\" transform=\"translate(222.216797 0)\"/>\n    </g>\n   </g>\n   <g id=\"text_23\">\n    <!-- N=11 -->\n    <g transform=\"translate(495.744175 37.277813) scale(0.1 -0.1)\">\n     <use xlink:href=\"#DejaVuSans-4e\"/>\n     <use xlink:href=\"#DejaVuSans-3d\" transform=\"translate(74.804688 0)\"/>\n     <use xlink:href=\"#DejaVuSans-31\" transform=\"translate(158.59375 0)\"/>\n     <use xlink:href=\"#DejaVuSans-31\" transform=\"translate(222.216797 0)\"/>\n    </g>\n   </g>\n   <g id=\"text_24\">\n    <!-- N=17 -->\n    <g transform=\"translate(564.553059 37.277813) scale(0.1 -0.1)\">\n     <use xlink:href=\"#DejaVuSans-4e\"/>\n     <use xlink:href=\"#DejaVuSans-3d\" transform=\"translate(74.804688 0)\"/>\n     <use xlink:href=\"#DejaVuSans-31\" transform=\"translate(158.59375 0)\"/>\n     <use xlink:href=\"#DejaVuSans-37\" transform=\"translate(222.216797 0)\"/>\n    </g>\n   </g>\n   <g id=\"text_25\">\n    <!-- N=18 -->\n    <g transform=\"translate(633.361943 37.277813) scale(0.1 -0.1)\">\n     <defs>\n      <path id=\"DejaVuSans-38\" d=\"M 2034 2216 \nQ 1584 2216 1326 1975 \nQ 1069 1734 1069 1313 \nQ 1069 891 1326 650 \nQ 1584 409 2034 409 \nQ 2484 409 2743 651 \nQ 3003 894 3003 1313 \nQ 3003 1734 2745 1975 \nQ 2488 2216 2034 2216 \nz\nM 1403 2484 \nQ 997 2584 770 2862 \nQ 544 3141 544 3541 \nQ 544 4100 942 4425 \nQ 1341 4750 2034 4750 \nQ 2731 4750 3128 4425 \nQ 3525 4100 3525 3541 \nQ 3525 3141 3298 2862 \nQ 3072 2584 2669 2484 \nQ 3125 2378 3379 2068 \nQ 3634 1759 3634 1313 \nQ 3634 634 3220 271 \nQ 2806 -91 2034 -91 \nQ 1263 -91 848 271 \nQ 434 634 434 1313 \nQ 434 1759 690 2068 \nQ 947 2378 1403 2484 \nz\nM 1172 3481 \nQ 1172 3119 1398 2916 \nQ 1625 2713 2034 2713 \nQ 2441 2713 2670 2916 \nQ 2900 3119 2900 3481 \nQ 2900 3844 2670 4047 \nQ 2441 4250 2034 4250 \nQ 1625 4250 1398 4047 \nQ 1172 3844 1172 3481 \nz\n\" transform=\"scale(0.015625)\"/>\n     </defs>\n     <use xlink:href=\"#DejaVuSans-4e\"/>\n     <use xlink:href=\"#DejaVuSans-3d\" transform=\"translate(74.804688 0)\"/>\n     <use xlink:href=\"#DejaVuSans-31\" transform=\"translate(158.59375 0)\"/>\n     <use xlink:href=\"#DejaVuSans-38\" transform=\"translate(222.216797 0)\"/>\n    </g>\n   </g>\n   <g id=\"text_26\">\n    <!-- TAs ratings of their Pod Across Week-Day -->\n    <g transform=\"translate(207.861875 19.3575) scale(0.16 -0.16)\">\n     <defs>\n      <path id=\"DejaVuSans-54\" d=\"M -19 4666 \nL 3928 4666 \nL 3928 4134 \nL 2272 4134 \nL 2272 0 \nL 1638 0 \nL 1638 4134 \nL -19 4134 \nL -19 4666 \nz\n\" transform=\"scale(0.015625)\"/>\n      <path id=\"DejaVuSans-41\" d=\"M 2188 4044 \nL 1331 1722 \nL 3047 1722 \nL 2188 4044 \nz\nM 1831 4666 \nL 2547 4666 \nL 4325 0 \nL 3669 0 \nL 3244 1197 \nL 1141 1197 \nL 716 0 \nL 50 0 \nL 1831 4666 \nz\n\" transform=\"scale(0.015625)\"/>\n      <path id=\"DejaVuSans-72\" d=\"M 2631 2963 \nQ 2534 3019 2420 3045 \nQ 2306 3072 2169 3072 \nQ 1681 3072 1420 2755 \nQ 1159 2438 1159 1844 \nL 1159 0 \nL 581 0 \nL 581 3500 \nL 1159 3500 \nL 1159 2956 \nQ 1341 3275 1631 3429 \nQ 1922 3584 2338 3584 \nQ 2397 3584 2469 3576 \nQ 2541 3569 2628 3553 \nL 2631 2963 \nz\n\" transform=\"scale(0.015625)\"/>\n      <path id=\"DejaVuSans-6f\" d=\"M 1959 3097 \nQ 1497 3097 1228 2736 \nQ 959 2375 959 1747 \nQ 959 1119 1226 758 \nQ 1494 397 1959 397 \nQ 2419 397 2687 759 \nQ 2956 1122 2956 1747 \nQ 2956 2369 2687 2733 \nQ 2419 3097 1959 3097 \nz\nM 1959 3584 \nQ 2709 3584 3137 3096 \nQ 3566 2609 3566 1747 \nQ 3566 888 3137 398 \nQ 2709 -91 1959 -91 \nQ 1206 -91 779 398 \nQ 353 888 353 1747 \nQ 353 2609 779 3096 \nQ 1206 3584 1959 3584 \nz\n\" transform=\"scale(0.015625)\"/>\n      <path id=\"DejaVuSans-66\" d=\"M 2375 4863 \nL 2375 4384 \nL 1825 4384 \nQ 1516 4384 1395 4259 \nQ 1275 4134 1275 3809 \nL 1275 3500 \nL 2222 3500 \nL 2222 3053 \nL 1275 3053 \nL 1275 0 \nL 697 0 \nL 697 3053 \nL 147 3053 \nL 147 3500 \nL 697 3500 \nL 697 3744 \nQ 697 4328 969 4595 \nQ 1241 4863 1831 4863 \nL 2375 4863 \nz\n\" transform=\"scale(0.015625)\"/>\n      <path id=\"DejaVuSans-68\" d=\"M 3513 2113 \nL 3513 0 \nL 2938 0 \nL 2938 2094 \nQ 2938 2591 2744 2837 \nQ 2550 3084 2163 3084 \nQ 1697 3084 1428 2787 \nQ 1159 2491 1159 1978 \nL 1159 0 \nL 581 0 \nL 581 4863 \nL 1159 4863 \nL 1159 2956 \nQ 1366 3272 1645 3428 \nQ 1925 3584 2291 3584 \nQ 2894 3584 3203 3211 \nQ 3513 2838 3513 2113 \nz\n\" transform=\"scale(0.015625)\"/>\n      <path id=\"DejaVuSans-65\" d=\"M 3597 1894 \nL 3597 1613 \nL 953 1613 \nQ 991 1019 1311 708 \nQ 1631 397 2203 397 \nQ 2534 397 2845 478 \nQ 3156 559 3463 722 \nL 3463 178 \nQ 3153 47 2828 -22 \nQ 2503 -91 2169 -91 \nQ 1331 -91 842 396 \nQ 353 884 353 1716 \nQ 353 2575 817 3079 \nQ 1281 3584 2069 3584 \nQ 2775 3584 3186 3129 \nQ 3597 2675 3597 1894 \nz\nM 3022 2063 \nQ 3016 2534 2758 2815 \nQ 2500 3097 2075 3097 \nQ 1594 3097 1305 2825 \nQ 1016 2553 972 2059 \nL 3022 2063 \nz\n\" transform=\"scale(0.015625)\"/>\n      <path id=\"DejaVuSans-50\" d=\"M 1259 4147 \nL 1259 2394 \nL 2053 2394 \nQ 2494 2394 2734 2622 \nQ 2975 2850 2975 3272 \nQ 2975 3691 2734 3919 \nQ 2494 4147 2053 4147 \nL 1259 4147 \nz\nM 628 4666 \nL 2053 4666 \nQ 2838 4666 3239 4311 \nQ 3641 3956 3641 3272 \nQ 3641 2581 3239 2228 \nQ 2838 1875 2053 1875 \nL 1259 1875 \nL 1259 0 \nL 628 0 \nL 628 4666 \nz\n\" transform=\"scale(0.015625)\"/>\n      <path id=\"DejaVuSans-63\" d=\"M 3122 3366 \nL 3122 2828 \nQ 2878 2963 2633 3030 \nQ 2388 3097 2138 3097 \nQ 1578 3097 1268 2742 \nQ 959 2388 959 1747 \nQ 959 1106 1268 751 \nQ 1578 397 2138 397 \nQ 2388 397 2633 464 \nQ 2878 531 3122 666 \nL 3122 134 \nQ 2881 22 2623 -34 \nQ 2366 -91 2075 -91 \nQ 1284 -91 818 406 \nQ 353 903 353 1747 \nQ 353 2603 823 3093 \nQ 1294 3584 2113 3584 \nQ 2378 3584 2631 3529 \nQ 2884 3475 3122 3366 \nz\n\" transform=\"scale(0.015625)\"/>\n      <path id=\"DejaVuSans-57\" d=\"M 213 4666 \nL 850 4666 \nL 1831 722 \nL 2809 4666 \nL 3519 4666 \nL 4500 722 \nL 5478 4666 \nL 6119 4666 \nL 4947 0 \nL 4153 0 \nL 3169 4050 \nL 2175 0 \nL 1381 0 \nL 213 4666 \nz\n\" transform=\"scale(0.015625)\"/>\n      <path id=\"DejaVuSans-6b\" d=\"M 581 4863 \nL 1159 4863 \nL 1159 1991 \nL 2875 3500 \nL 3609 3500 \nL 1753 1863 \nL 3688 0 \nL 2938 0 \nL 1159 1709 \nL 1159 0 \nL 581 0 \nL 581 4863 \nz\n\" transform=\"scale(0.015625)\"/>\n      <path id=\"DejaVuSans-2d\" d=\"M 313 2009 \nL 1997 2009 \nL 1997 1497 \nL 313 1497 \nL 313 2009 \nz\n\" transform=\"scale(0.015625)\"/>\n      <path id=\"DejaVuSans-44\" d=\"M 1259 4147 \nL 1259 519 \nL 2022 519 \nQ 2988 519 3436 956 \nQ 3884 1394 3884 2338 \nQ 3884 3275 3436 3711 \nQ 2988 4147 2022 4147 \nL 1259 4147 \nz\nM 628 4666 \nL 1925 4666 \nQ 3281 4666 3915 4102 \nQ 4550 3538 4550 2338 \nQ 4550 1131 3912 565 \nQ 3275 0 1925 0 \nL 628 0 \nL 628 4666 \nz\n\" transform=\"scale(0.015625)\"/>\n      <path id=\"DejaVuSans-79\" d=\"M 2059 -325 \nQ 1816 -950 1584 -1140 \nQ 1353 -1331 966 -1331 \nL 506 -1331 \nL 506 -850 \nL 844 -850 \nQ 1081 -850 1212 -737 \nQ 1344 -625 1503 -206 \nL 1606 56 \nL 191 3500 \nL 800 3500 \nL 1894 763 \nL 2988 3500 \nL 3597 3500 \nL 2059 -325 \nz\n\" transform=\"scale(0.015625)\"/>\n     </defs>\n     <use xlink:href=\"#DejaVuSans-54\"/>\n     <use xlink:href=\"#DejaVuSans-41\" transform=\"translate(53.333984 0)\"/>\n     <use xlink:href=\"#DejaVuSans-73\" transform=\"translate(121.742188 0)\"/>\n     <use xlink:href=\"#DejaVuSans-20\" transform=\"translate(173.841797 0)\"/>\n     <use xlink:href=\"#DejaVuSans-72\" transform=\"translate(205.628906 0)\"/>\n     <use xlink:href=\"#DejaVuSans-61\" transform=\"translate(246.742188 0)\"/>\n     <use xlink:href=\"#DejaVuSans-74\" transform=\"translate(308.021484 0)\"/>\n     <use xlink:href=\"#DejaVuSans-69\" transform=\"translate(347.230469 0)\"/>\n     <use xlink:href=\"#DejaVuSans-6e\" transform=\"translate(375.013672 0)\"/>\n     <use xlink:href=\"#DejaVuSans-67\" transform=\"translate(438.392578 0)\"/>\n     <use xlink:href=\"#DejaVuSans-73\" transform=\"translate(501.869141 0)\"/>\n     <use xlink:href=\"#DejaVuSans-20\" transform=\"translate(553.96875 0)\"/>\n     <use xlink:href=\"#DejaVuSans-6f\" transform=\"translate(585.755859 0)\"/>\n     <use xlink:href=\"#DejaVuSans-66\" transform=\"translate(646.9375 0)\"/>\n     <use xlink:href=\"#DejaVuSans-20\" transform=\"translate(682.142578 0)\"/>\n     <use xlink:href=\"#DejaVuSans-74\" transform=\"translate(713.929688 0)\"/>\n     <use xlink:href=\"#DejaVuSans-68\" transform=\"translate(753.138672 0)\"/>\n     <use xlink:href=\"#DejaVuSans-65\" transform=\"translate(816.517578 0)\"/>\n     <use xlink:href=\"#DejaVuSans-69\" transform=\"translate(878.041016 0)\"/>\n     <use xlink:href=\"#DejaVuSans-72\" transform=\"translate(905.824219 0)\"/>\n     <use xlink:href=\"#DejaVuSans-20\" transform=\"translate(946.9375 0)\"/>\n     <use xlink:href=\"#DejaVuSans-50\" transform=\"translate(978.724609 0)\"/>\n     <use xlink:href=\"#DejaVuSans-6f\" transform=\"translate(1035.402344 0)\"/>\n     <use xlink:href=\"#DejaVuSans-64\" transform=\"translate(1096.583984 0)\"/>\n     <use xlink:href=\"#DejaVuSans-20\" transform=\"translate(1160.060547 0)\"/>\n     <use xlink:href=\"#DejaVuSans-41\" transform=\"translate(1191.847656 0)\"/>\n     <use xlink:href=\"#DejaVuSans-63\" transform=\"translate(1258.505859 0)\"/>\n     <use xlink:href=\"#DejaVuSans-72\" transform=\"translate(1313.486328 0)\"/>\n     <use xlink:href=\"#DejaVuSans-6f\" transform=\"translate(1352.349609 0)\"/>\n     <use xlink:href=\"#DejaVuSans-73\" transform=\"translate(1413.53125 0)\"/>\n     <use xlink:href=\"#DejaVuSans-73\" transform=\"translate(1465.630859 0)\"/>\n     <use xlink:href=\"#DejaVuSans-20\" transform=\"translate(1517.730469 0)\"/>\n     <use xlink:href=\"#DejaVuSans-57\" transform=\"translate(1549.517578 0)\"/>\n     <use xlink:href=\"#DejaVuSans-65\" transform=\"translate(1642.519531 0)\"/>\n     <use xlink:href=\"#DejaVuSans-65\" transform=\"translate(1704.042969 0)\"/>\n     <use xlink:href=\"#DejaVuSans-6b\" transform=\"translate(1765.566406 0)\"/>\n     <use xlink:href=\"#DejaVuSans-2d\" transform=\"translate(1823.476562 0)\"/>\n     <use xlink:href=\"#DejaVuSans-44\" transform=\"translate(1859.560547 0)\"/>\n     <use xlink:href=\"#DejaVuSans-61\" transform=\"translate(1936.5625 0)\"/>\n     <use xlink:href=\"#DejaVuSans-79\" transform=\"translate(1997.841797 0)\"/>\n    </g>\n   </g>\n   <g id=\"legend_1\">\n    <g id=\"patch_16\">\n     <path d=\"M 625.958125 66.57125 \nL 697.054375 66.57125 \nQ 699.454375 66.57125 699.454375 64.17125 \nL 699.454375 47.7575 \nQ 699.454375 45.3575 697.054375 45.3575 \nL 625.958125 45.3575 \nQ 623.558125 45.3575 623.558125 47.7575 \nL 623.558125 64.17125 \nQ 623.558125 66.57125 625.958125 66.57125 \nz\n\" style=\"fill: #ffffff; opacity: 0.8; stroke: #cccccc; stroke-linejoin: miter\"/>\n    </g>\n    <g id=\"line2d_75\">\n     <path d=\"M 628.358125 55.075625 \nL 640.358125 55.075625 \nL 652.358125 55.075625 \n\" style=\"fill: none; stroke: #d18d20; stroke-width: 2; stroke-linecap: square\"/>\n     <g>\n      <use xlink:href=\"#m5918139dee\" x=\"640.358125\" y=\"55.075625\" style=\"fill: #d18d20; stroke: #d18d20\"/>\n     </g>\n    </g>\n    <g id=\"text_27\">\n     <!-- Mean -->\n     <g transform=\"translate(661.958125 59.275625) scale(0.12 -0.12)\">\n      <defs>\n       <path id=\"DejaVuSans-4d\" d=\"M 628 4666 \nL 1569 4666 \nL 2759 1491 \nL 3956 4666 \nL 4897 4666 \nL 4897 0 \nL 4281 0 \nL 4281 4097 \nL 3078 897 \nL 2444 897 \nL 1241 4097 \nL 1241 0 \nL 628 0 \nL 628 4666 \nz\n\" transform=\"scale(0.015625)\"/>\n      </defs>\n      <use xlink:href=\"#DejaVuSans-4d\"/>\n      <use xlink:href=\"#DejaVuSans-65\" transform=\"translate(86.279297 0)\"/>\n      <use xlink:href=\"#DejaVuSans-61\" transform=\"translate(147.802734 0)\"/>\n      <use xlink:href=\"#DejaVuSans-6e\" transform=\"translate(209.082031 0)\"/>\n     </g>\n    </g>\n   </g>\n  </g>\n </g>\n <defs>\n  <clipPath id=\"p6d9ef23ff9\">\n   <rect x=\"39.384375\" y=\"39.3575\" width=\"666.07\" height=\"344.84\"/>\n  </clipPath>\n </defs>\n</svg>\n"
          },
          "metadata": {}
        }
      ]
    },
    {
      "cell_type": "markdown",
      "source": [
        "**Obersvations**\n",
        "Over 90% of TAs reported that they were either satisfied or very satisfied with their pod students.\n",
        "The trend goes slightly up iby the end of the course.\n"
      ],
      "metadata": {
        "id": "MulY2ofsvQG4"
      }
    },
    {
      "cell_type": "markdown",
      "source": [
        "# Q1\n",
        "\n",
        "This question is conditional to the previous one (2). Only TAs that answered 1 or 2 could answer this question."
      ],
      "metadata": {
        "id": "DKYXIJMRwUCq"
      }
    },
    {
      "cell_type": "code",
      "source": [
        "combined_df.groupby('uid')['Q1'].value_counts()"
      ],
      "metadata": {
        "colab": {
          "base_uri": "https://localhost:8080/",
          "height": 0
        },
        "id": "R-_ZtO_0S8zw",
        "outputId": "5718af38-8732-49c2-9876-b1edc99865cc"
      },
      "execution_count": 28,
      "outputs": [
        {
          "output_type": "execute_result",
          "data": {
            "text/plain": [
              "uid                                   Q1 \n",
              "9368a6d4-6bd8-4143-ae58-c87887d07811  B      1\n",
              "ec8eb03c-3e65-40d1-925a-e06171e1e03c  A,C    1\n",
              "fcb08161-b451-412e-a49a-edb5c890e7ce  C      1\n",
              "Name: count, dtype: int64"
            ],
            "text/html": [
              "<div>\n",
              "<style scoped>\n",
              "    .dataframe tbody tr th:only-of-type {\n",
              "        vertical-align: middle;\n",
              "    }\n",
              "\n",
              "    .dataframe tbody tr th {\n",
              "        vertical-align: top;\n",
              "    }\n",
              "\n",
              "    .dataframe thead th {\n",
              "        text-align: right;\n",
              "    }\n",
              "</style>\n",
              "<table border=\"1\" class=\"dataframe\">\n",
              "  <thead>\n",
              "    <tr style=\"text-align: right;\">\n",
              "      <th></th>\n",
              "      <th></th>\n",
              "      <th>count</th>\n",
              "    </tr>\n",
              "    <tr>\n",
              "      <th>uid</th>\n",
              "      <th>Q1</th>\n",
              "      <th></th>\n",
              "    </tr>\n",
              "  </thead>\n",
              "  <tbody>\n",
              "    <tr>\n",
              "      <th>9368a6d4-6bd8-4143-ae58-c87887d07811</th>\n",
              "      <th>B</th>\n",
              "      <td>1</td>\n",
              "    </tr>\n",
              "    <tr>\n",
              "      <th>ec8eb03c-3e65-40d1-925a-e06171e1e03c</th>\n",
              "      <th>A,C</th>\n",
              "      <td>1</td>\n",
              "    </tr>\n",
              "    <tr>\n",
              "      <th>fcb08161-b451-412e-a49a-edb5c890e7ce</th>\n",
              "      <th>C</th>\n",
              "      <td>1</td>\n",
              "    </tr>\n",
              "  </tbody>\n",
              "</table>\n",
              "</div><br><label><b>dtype:</b> int64</label>"
            ]
          },
          "metadata": {},
          "execution_count": 28
        }
      ]
    },
    {
      "cell_type": "code",
      "source": [
        "combined_df.groupby(['WeekDay'])['Q1'].value_counts()"
      ],
      "metadata": {
        "colab": {
          "base_uri": "https://localhost:8080/",
          "height": 0
        },
        "id": "g6P1qFKgTn_k",
        "outputId": "a25594fd-0fae-4f41-973d-45fe67cdca29"
      },
      "execution_count": 29,
      "outputs": [
        {
          "output_type": "stream",
          "name": "stderr",
          "text": [
            "<ipython-input-29-3306cc082464>:1: FutureWarning: The default of observed=False is deprecated and will be changed to True in a future version of pandas. Pass observed=False to retain current behavior or observed=True to adopt the future default and silence this warning.\n",
            "  combined_df.groupby(['WeekDay'])['Q1'].value_counts()\n"
          ]
        },
        {
          "output_type": "execute_result",
          "data": {
            "text/plain": [
              "WeekDay  Q1 \n",
              "w2d1     A,C    0\n",
              "         B      0\n",
              "         C      0\n",
              "w2d2     A,C    0\n",
              "         B      0\n",
              "         C      0\n",
              "w2d3     B      1\n",
              "         A,C    0\n",
              "         C      0\n",
              "w2d4     A,C    0\n",
              "         B      0\n",
              "         C      0\n",
              "w2d5     C      1\n",
              "         A,C    0\n",
              "         B      0\n",
              "w3d1     A,C    0\n",
              "         B      0\n",
              "         C      0\n",
              "w3d2     A,C    0\n",
              "         B      0\n",
              "         C      0\n",
              "w3d3     A,C    0\n",
              "         B      0\n",
              "         C      0\n",
              "w3d4     A,C    0\n",
              "         B      0\n",
              "         C      0\n",
              "w3d5     A,C    1\n",
              "         B      0\n",
              "         C      0\n",
              "Name: count, dtype: int64"
            ],
            "text/html": [
              "<div>\n",
              "<style scoped>\n",
              "    .dataframe tbody tr th:only-of-type {\n",
              "        vertical-align: middle;\n",
              "    }\n",
              "\n",
              "    .dataframe tbody tr th {\n",
              "        vertical-align: top;\n",
              "    }\n",
              "\n",
              "    .dataframe thead th {\n",
              "        text-align: right;\n",
              "    }\n",
              "</style>\n",
              "<table border=\"1\" class=\"dataframe\">\n",
              "  <thead>\n",
              "    <tr style=\"text-align: right;\">\n",
              "      <th></th>\n",
              "      <th></th>\n",
              "      <th>count</th>\n",
              "    </tr>\n",
              "    <tr>\n",
              "      <th>WeekDay</th>\n",
              "      <th>Q1</th>\n",
              "      <th></th>\n",
              "    </tr>\n",
              "  </thead>\n",
              "  <tbody>\n",
              "    <tr>\n",
              "      <th rowspan=\"3\" valign=\"top\">w2d1</th>\n",
              "      <th>A,C</th>\n",
              "      <td>0</td>\n",
              "    </tr>\n",
              "    <tr>\n",
              "      <th>B</th>\n",
              "      <td>0</td>\n",
              "    </tr>\n",
              "    <tr>\n",
              "      <th>C</th>\n",
              "      <td>0</td>\n",
              "    </tr>\n",
              "    <tr>\n",
              "      <th rowspan=\"3\" valign=\"top\">w2d2</th>\n",
              "      <th>A,C</th>\n",
              "      <td>0</td>\n",
              "    </tr>\n",
              "    <tr>\n",
              "      <th>B</th>\n",
              "      <td>0</td>\n",
              "    </tr>\n",
              "    <tr>\n",
              "      <th>C</th>\n",
              "      <td>0</td>\n",
              "    </tr>\n",
              "    <tr>\n",
              "      <th rowspan=\"3\" valign=\"top\">w2d3</th>\n",
              "      <th>B</th>\n",
              "      <td>1</td>\n",
              "    </tr>\n",
              "    <tr>\n",
              "      <th>A,C</th>\n",
              "      <td>0</td>\n",
              "    </tr>\n",
              "    <tr>\n",
              "      <th>C</th>\n",
              "      <td>0</td>\n",
              "    </tr>\n",
              "    <tr>\n",
              "      <th rowspan=\"3\" valign=\"top\">w2d4</th>\n",
              "      <th>A,C</th>\n",
              "      <td>0</td>\n",
              "    </tr>\n",
              "    <tr>\n",
              "      <th>B</th>\n",
              "      <td>0</td>\n",
              "    </tr>\n",
              "    <tr>\n",
              "      <th>C</th>\n",
              "      <td>0</td>\n",
              "    </tr>\n",
              "    <tr>\n",
              "      <th rowspan=\"3\" valign=\"top\">w2d5</th>\n",
              "      <th>C</th>\n",
              "      <td>1</td>\n",
              "    </tr>\n",
              "    <tr>\n",
              "      <th>A,C</th>\n",
              "      <td>0</td>\n",
              "    </tr>\n",
              "    <tr>\n",
              "      <th>B</th>\n",
              "      <td>0</td>\n",
              "    </tr>\n",
              "    <tr>\n",
              "      <th rowspan=\"3\" valign=\"top\">w3d1</th>\n",
              "      <th>A,C</th>\n",
              "      <td>0</td>\n",
              "    </tr>\n",
              "    <tr>\n",
              "      <th>B</th>\n",
              "      <td>0</td>\n",
              "    </tr>\n",
              "    <tr>\n",
              "      <th>C</th>\n",
              "      <td>0</td>\n",
              "    </tr>\n",
              "    <tr>\n",
              "      <th rowspan=\"3\" valign=\"top\">w3d2</th>\n",
              "      <th>A,C</th>\n",
              "      <td>0</td>\n",
              "    </tr>\n",
              "    <tr>\n",
              "      <th>B</th>\n",
              "      <td>0</td>\n",
              "    </tr>\n",
              "    <tr>\n",
              "      <th>C</th>\n",
              "      <td>0</td>\n",
              "    </tr>\n",
              "    <tr>\n",
              "      <th rowspan=\"3\" valign=\"top\">w3d3</th>\n",
              "      <th>A,C</th>\n",
              "      <td>0</td>\n",
              "    </tr>\n",
              "    <tr>\n",
              "      <th>B</th>\n",
              "      <td>0</td>\n",
              "    </tr>\n",
              "    <tr>\n",
              "      <th>C</th>\n",
              "      <td>0</td>\n",
              "    </tr>\n",
              "    <tr>\n",
              "      <th rowspan=\"3\" valign=\"top\">w3d4</th>\n",
              "      <th>A,C</th>\n",
              "      <td>0</td>\n",
              "    </tr>\n",
              "    <tr>\n",
              "      <th>B</th>\n",
              "      <td>0</td>\n",
              "    </tr>\n",
              "    <tr>\n",
              "      <th>C</th>\n",
              "      <td>0</td>\n",
              "    </tr>\n",
              "    <tr>\n",
              "      <th rowspan=\"3\" valign=\"top\">w3d5</th>\n",
              "      <th>A,C</th>\n",
              "      <td>1</td>\n",
              "    </tr>\n",
              "    <tr>\n",
              "      <th>B</th>\n",
              "      <td>0</td>\n",
              "    </tr>\n",
              "    <tr>\n",
              "      <th>C</th>\n",
              "      <td>0</td>\n",
              "    </tr>\n",
              "  </tbody>\n",
              "</table>\n",
              "</div><br><label><b>dtype:</b> int64</label>"
            ]
          },
          "metadata": {},
          "execution_count": 29
        }
      ]
    },
    {
      "cell_type": "markdown",
      "source": [
        "**Only 3 mentors got to this question in 3 different weeks: w2d3, w2d5, w3d5**\n",
        "\n",
        "Difficulties specified are:\n",
        "A. Technical issues with platforms (e.g., Zoom, BBB) <br>\n",
        "B. Communication challenges with students <br>\n",
        "C. Lack of clarity in the task instructions"
      ],
      "metadata": {
        "id": "sIFF89hWTnAq"
      }
    },
    {
      "cell_type": "markdown",
      "source": [
        "# Q1 Pilot\n",
        "\n",
        "\n",
        "Using a Likert scale from `1 = Not effective at all` to 5 - `Extremely effective`, TAs rated how effective they felt in clarifying students' doubts.\n"
      ],
      "metadata": {
        "id": "QcJmruUEfGM9"
      }
    },
    {
      "cell_type": "code",
      "source": [
        "# Check in which day these questions are present.\n",
        "\n",
        "missing_Q1P = combined_df.groupby('WeekDay')['Q1_Pilot'].value_counts(normalize=True) *100\n",
        "print(missing_Q1P)"
      ],
      "metadata": {
        "colab": {
          "base_uri": "https://localhost:8080/"
        },
        "id": "KTrbMKT8hiAE",
        "outputId": "fa34e072-4eef-47ff-87a9-2d8b6b4c1ffe"
      },
      "execution_count": null,
      "outputs": [
        {
          "output_type": "stream",
          "name": "stdout",
          "text": [
            "WeekDay  Q1_Pilot\n",
            "w2d1     3.00        0.00\n",
            "         4.00        0.00\n",
            "         5.00        0.00\n",
            "w2d2     4.00       59.26\n",
            "         5.00       25.93\n",
            "         3.00       14.81\n",
            "w2d3     4.00       52.00\n",
            "         5.00       36.00\n",
            "         3.00       12.00\n",
            "w2d4     5.00       73.33\n",
            "         4.00       26.67\n",
            "         3.00        0.00\n",
            "w2d5     5.00       73.33\n",
            "         3.00       13.33\n",
            "         4.00       13.33\n",
            "w3d1     5.00       45.00\n",
            "         4.00       30.00\n",
            "         3.00       25.00\n",
            "w3d2     4.00       52.38\n",
            "         5.00       38.10\n",
            "         3.00        9.52\n",
            "w3d3     5.00       54.55\n",
            "         4.00       27.27\n",
            "         3.00       18.18\n",
            "w3d4     4.00       58.82\n",
            "         5.00       29.41\n",
            "         3.00       11.76\n",
            "w3d5     5.00       66.67\n",
            "         3.00       22.22\n",
            "         4.00       11.11\n",
            "Name: proportion, dtype: float64\n"
          ]
        },
        {
          "output_type": "stream",
          "name": "stderr",
          "text": [
            "<ipython-input-30-448f7574b705>:3: FutureWarning: The default of observed=False is deprecated and will be changed to True in a future version of pandas. Pass observed=False to retain current behavior or observed=True to adopt the future default and silence this warning.\n",
            "  missing_Q1P = combined_df.groupby('WeekDay')['Q1_Pilot'].value_counts(normalize=True) *100\n"
          ]
        }
      ]
    },
    {
      "cell_type": "code",
      "source": [
        "Perc_Q1P = combined_df.groupby('WeekDay')['Q1_Pilot'].value_counts(normalize=True) * 100\n",
        "print(Perc_Q1P)"
      ],
      "metadata": {
        "colab": {
          "base_uri": "https://localhost:8080/"
        },
        "id": "l-Kwx3U-Yhne",
        "outputId": "7096a480-dc15-4cca-f8ff-06ce7a109c3c"
      },
      "execution_count": null,
      "outputs": [
        {
          "output_type": "stream",
          "name": "stdout",
          "text": [
            "WeekDay  Q1_Pilot\n",
            "w2d1     3.00        0.00\n",
            "         4.00        0.00\n",
            "         5.00        0.00\n",
            "w2d2     4.00       59.26\n",
            "         5.00       25.93\n",
            "         3.00       14.81\n",
            "w2d3     4.00       52.00\n",
            "         5.00       36.00\n",
            "         3.00       12.00\n",
            "w2d4     5.00       73.33\n",
            "         4.00       26.67\n",
            "         3.00        0.00\n",
            "w2d5     5.00       73.33\n",
            "         3.00       13.33\n",
            "         4.00       13.33\n",
            "w3d1     5.00       45.00\n",
            "         4.00       30.00\n",
            "         3.00       25.00\n",
            "w3d2     4.00       52.38\n",
            "         5.00       38.10\n",
            "         3.00        9.52\n",
            "w3d3     5.00       54.55\n",
            "         4.00       27.27\n",
            "         3.00       18.18\n",
            "w3d4     4.00       58.82\n",
            "         5.00       29.41\n",
            "         3.00       11.76\n",
            "w3d5     5.00       66.67\n",
            "         3.00       22.22\n",
            "         4.00       11.11\n",
            "Name: proportion, dtype: float64\n"
          ]
        },
        {
          "output_type": "stream",
          "name": "stderr",
          "text": [
            "<ipython-input-31-d1adb8540c49>:1: FutureWarning: The default of observed=False is deprecated and will be changed to True in a future version of pandas. Pass observed=False to retain current behavior or observed=True to adopt the future default and silence this warning.\n",
            "  Perc_Q1P = combined_df.groupby('WeekDay')['Q1_Pilot'].value_counts(normalize=True) * 100\n"
          ]
        }
      ]
    },
    {
      "cell_type": "code",
      "source": [
        "Global_perc_Q1P = combined_df['Q1_Pilot'].value_counts(normalize=True) * 100\n",
        "print(Global_perc_Q1P)"
      ],
      "metadata": {
        "colab": {
          "base_uri": "https://localhost:8080/"
        },
        "id": "Hv3o3rHhYtwI",
        "outputId": "aa20a676-98ab-4d13-8266-3213489321a3"
      },
      "execution_count": null,
      "outputs": [
        {
          "output_type": "stream",
          "name": "stdout",
          "text": [
            "Q1_Pilot\n",
            "5.00   46.15\n",
            "4.00   39.64\n",
            "3.00   14.20\n",
            "Name: proportion, dtype: float64\n"
          ]
        }
      ]
    },
    {
      "cell_type": "code",
      "source": [
        "mean_values = combined_df.groupby('WeekDay')['Q1_Pilot'].mean()\n",
        "\n",
        "# Replace 0 with NaN\n",
        "mean_values = mean_values.replace(0, np.nan).dropna()\n",
        "\n",
        "# Count unique uids per weekday\n",
        "uids_answered_per_weekday = combined_df.groupby('WeekDay')['uid'].nunique()\n",
        "\n",
        "# Drop days where mean_values is NaN\n",
        "uids_answered_per_weekday = uids_answered_per_weekday[mean_values.index]\n",
        "\n",
        "# Filter the dataset to remove missing WeekDays\n",
        "filtered_df = combined_df[combined_df['WeekDay'].isin(mean_values.index)]\n",
        "\n",
        "colors = get_colors(\"NMA\")\n",
        "\n",
        "# Plot the boxplot\n",
        "plt.figure(figsize=(10, 6))\n",
        "ax = sns.boxplot(data=filtered_df, x='WeekDay', y='Q1_Pilot', palette=\"coolwarm\")\n",
        "\n",
        "xticks_positions = [tick.get_position()[0] for tick in ax.get_xticklabels()]\n",
        "xticks_labels = [tick.get_text() for tick in ax.get_xticklabels()]\n",
        "\n",
        "# Add a line for the mean\n",
        "plt.plot(mean_values.index, mean_values.values, color=colors[0], marker='o', linestyle='-', linewidth=2, label=\"Mean\")\n",
        "\n",
        "# Annotate\n",
        "for label, x_position in zip(xticks_labels, xticks_positions):\n",
        "    if label in uids_answered_per_weekday.index:  # Only annotate valid days\n",
        "        plt.text(x_position, 5.2, f'N={uids_answered_per_weekday[label]}',\n",
        "                 ha='center', va='bottom', fontsize=10, color='black')\n",
        "\n",
        "plt.title(\"TAs perception of effectiveness in clarifying students doubts\", fontsize=16, pad=25)\n",
        "plt.xlabel(\" \")\n",
        "plt.ylabel(\"Ratings\", fontsize=14)\n",
        "plt.yticks([1, 2, 3, 4, 5], fontsize=12)\n",
        "plt.xticks(fontsize=12)\n",
        "plt.yticks(fontsize=12)\n",
        "plt.grid(axis='y', linestyle='--', alpha=0.7)\n",
        "plt.legend(loc = 'upper right', fontsize=12)\n",
        "\n",
        "plt.tight_layout()\n",
        "plt.savefig('TAs_doubts.png', dpi=400)\n",
        "plt.show()\n",
        "\n",
        "#files.download('Poddynamics.png')"
      ],
      "metadata": {
        "colab": {
          "base_uri": "https://localhost:8080/",
          "height": 763
        },
        "id": "EC-nrv7dY-Mn",
        "outputId": "030d756a-b2c8-46a1-8fab-8646bdc84dd6"
      },
      "execution_count": null,
      "outputs": [
        {
          "output_type": "stream",
          "name": "stderr",
          "text": [
            "<ipython-input-33-bd62b9a22c44>:1: FutureWarning: The default of observed=False is deprecated and will be changed to True in a future version of pandas. Pass observed=False to retain current behavior or observed=True to adopt the future default and silence this warning.\n",
            "  mean_values = combined_df.groupby('WeekDay')['Q1_Pilot'].mean()\n",
            "<ipython-input-33-bd62b9a22c44>:7: FutureWarning: The default of observed=False is deprecated and will be changed to True in a future version of pandas. Pass observed=False to retain current behavior or observed=True to adopt the future default and silence this warning.\n",
            "  uids_answered_per_weekday = combined_df.groupby('WeekDay')['uid'].nunique()\n",
            "<ipython-input-33-bd62b9a22c44>:19: FutureWarning: \n",
            "\n",
            "Passing `palette` without assigning `hue` is deprecated and will be removed in v0.14.0. Assign the `x` variable to `hue` and set `legend=False` for the same effect.\n",
            "\n",
            "  ax = sns.boxplot(data=filtered_df, x='WeekDay', y='Q1_Pilot', palette=\"coolwarm\")\n"
          ]
        },
        {
          "output_type": "display_data",
          "data": {
            "text/plain": [
              "<Figure size 1000x600 with 1 Axes>"
            ],
            "image/svg+xml": "<?xml version=\"1.0\" encoding=\"utf-8\" standalone=\"no\"?>\n<!DOCTYPE svg PUBLIC \"-//W3C//DTD SVG 1.1//EN\"\n  \"http://www.w3.org/Graphics/SVG/1.1/DTD/svg11.dtd\">\n<svg xmlns:xlink=\"http://www.w3.org/1999/xlink\" width=\"712.654375pt\" height=\"423.689375pt\" viewBox=\"0 0 712.654375 423.689375\" xmlns=\"http://www.w3.org/2000/svg\" version=\"1.1\">\n <metadata>\n  <rdf:RDF xmlns:dc=\"http://purl.org/dc/elements/1.1/\" xmlns:cc=\"http://creativecommons.org/ns#\" xmlns:rdf=\"http://www.w3.org/1999/02/22-rdf-syntax-ns#\">\n   <cc:Work>\n    <dc:type rdf:resource=\"http://purl.org/dc/dcmitype/StillImage\"/>\n    <dc:date>2025-02-09T07:48:10.345256</dc:date>\n    <dc:format>image/svg+xml</dc:format>\n    <dc:creator>\n     <cc:Agent>\n      <dc:title>Matplotlib v3.10.0, https://matplotlib.org/</dc:title>\n     </cc:Agent>\n    </dc:creator>\n   </cc:Work>\n  </rdf:RDF>\n </metadata>\n <defs>\n  <style type=\"text/css\">*{stroke-linejoin: round; stroke-linecap: butt}</style>\n </defs>\n <g id=\"figure_1\">\n  <g id=\"patch_1\">\n   <path d=\"M 0 423.689375 \nL 712.654375 423.689375 \nL 712.654375 0 \nL 0 0 \nz\n\" style=\"fill: #ffffff\"/>\n  </g>\n  <g id=\"axes_1\">\n   <g id=\"patch_2\">\n    <path d=\"M 39.384375 384.1975 \nL 705.454375 384.1975 \nL 705.454375 44.3575 \nL 39.384375 44.3575 \nz\n\" style=\"fill: #ffffff\"/>\n   </g>\n   <g id=\"matplotlib.axis_1\">\n    <g id=\"xtick_1\">\n     <g id=\"line2d_1\">\n      <defs>\n       <path id=\"m745bc5917f\" d=\"M 0 0 \nL 0 3.5 \n\" style=\"stroke: #000000; stroke-width: 0.8\"/>\n      </defs>\n      <g>\n       <use xlink:href=\"#m745bc5917f\" x=\"97.183838\" y=\"384.1975\" style=\"stroke: #000000; stroke-width: 0.8\"/>\n      </g>\n     </g>\n     <g id=\"text_1\">\n      <!-- w2d2 -->\n      <g transform=\"translate(80.8329 400.315625) scale(0.12 -0.12)\">\n       <defs>\n        <path id=\"DejaVuSans-77\" d=\"M 269 3500 \nL 844 3500 \nL 1563 769 \nL 2278 3500 \nL 2956 3500 \nL 3675 769 \nL 4391 3500 \nL 4966 3500 \nL 4050 0 \nL 3372 0 \nL 2619 2869 \nL 1863 0 \nL 1184 0 \nL 269 3500 \nz\n\" transform=\"scale(0.015625)\"/>\n        <path id=\"DejaVuSans-32\" d=\"M 1228 531 \nL 3431 531 \nL 3431 0 \nL 469 0 \nL 469 531 \nQ 828 903 1448 1529 \nQ 2069 2156 2228 2338 \nQ 2531 2678 2651 2914 \nQ 2772 3150 2772 3378 \nQ 2772 3750 2511 3984 \nQ 2250 4219 1831 4219 \nQ 1534 4219 1204 4116 \nQ 875 4013 500 3803 \nL 500 4441 \nQ 881 4594 1212 4672 \nQ 1544 4750 1819 4750 \nQ 2544 4750 2975 4387 \nQ 3406 4025 3406 3419 \nQ 3406 3131 3298 2873 \nQ 3191 2616 2906 2266 \nQ 2828 2175 2409 1742 \nQ 1991 1309 1228 531 \nz\n\" transform=\"scale(0.015625)\"/>\n        <path id=\"DejaVuSans-64\" d=\"M 2906 2969 \nL 2906 4863 \nL 3481 4863 \nL 3481 0 \nL 2906 0 \nL 2906 525 \nQ 2725 213 2448 61 \nQ 2172 -91 1784 -91 \nQ 1150 -91 751 415 \nQ 353 922 353 1747 \nQ 353 2572 751 3078 \nQ 1150 3584 1784 3584 \nQ 2172 3584 2448 3432 \nQ 2725 3281 2906 2969 \nz\nM 947 1747 \nQ 947 1113 1208 752 \nQ 1469 391 1925 391 \nQ 2381 391 2643 752 \nQ 2906 1113 2906 1747 \nQ 2906 2381 2643 2742 \nQ 2381 3103 1925 3103 \nQ 1469 3103 1208 2742 \nQ 947 2381 947 1747 \nz\n\" transform=\"scale(0.015625)\"/>\n       </defs>\n       <use xlink:href=\"#DejaVuSans-77\"/>\n       <use xlink:href=\"#DejaVuSans-32\" transform=\"translate(81.787109 0)\"/>\n       <use xlink:href=\"#DejaVuSans-64\" transform=\"translate(145.410156 0)\"/>\n       <use xlink:href=\"#DejaVuSans-32\" transform=\"translate(208.886719 0)\"/>\n      </g>\n     </g>\n    </g>\n    <g id=\"xtick_2\">\n     <g id=\"line2d_2\">\n      <g>\n       <use xlink:href=\"#m745bc5917f\" x=\"165.992722\" y=\"384.1975\" style=\"stroke: #000000; stroke-width: 0.8\"/>\n      </g>\n     </g>\n     <g id=\"text_2\">\n      <!-- w2d3 -->\n      <g transform=\"translate(149.641785 400.315625) scale(0.12 -0.12)\">\n       <defs>\n        <path id=\"DejaVuSans-33\" d=\"M 2597 2516 \nQ 3050 2419 3304 2112 \nQ 3559 1806 3559 1356 \nQ 3559 666 3084 287 \nQ 2609 -91 1734 -91 \nQ 1441 -91 1130 -33 \nQ 819 25 488 141 \nL 488 750 \nQ 750 597 1062 519 \nQ 1375 441 1716 441 \nQ 2309 441 2620 675 \nQ 2931 909 2931 1356 \nQ 2931 1769 2642 2001 \nQ 2353 2234 1838 2234 \nL 1294 2234 \nL 1294 2753 \nL 1863 2753 \nQ 2328 2753 2575 2939 \nQ 2822 3125 2822 3475 \nQ 2822 3834 2567 4026 \nQ 2313 4219 1838 4219 \nQ 1578 4219 1281 4162 \nQ 984 4106 628 3988 \nL 628 4550 \nQ 988 4650 1302 4700 \nQ 1616 4750 1894 4750 \nQ 2613 4750 3031 4423 \nQ 3450 4097 3450 3541 \nQ 3450 3153 3228 2886 \nQ 3006 2619 2597 2516 \nz\n\" transform=\"scale(0.015625)\"/>\n       </defs>\n       <use xlink:href=\"#DejaVuSans-77\"/>\n       <use xlink:href=\"#DejaVuSans-32\" transform=\"translate(81.787109 0)\"/>\n       <use xlink:href=\"#DejaVuSans-64\" transform=\"translate(145.410156 0)\"/>\n       <use xlink:href=\"#DejaVuSans-33\" transform=\"translate(208.886719 0)\"/>\n      </g>\n     </g>\n    </g>\n    <g id=\"xtick_3\">\n     <g id=\"line2d_3\">\n      <g>\n       <use xlink:href=\"#m745bc5917f\" x=\"234.801606\" y=\"384.1975\" style=\"stroke: #000000; stroke-width: 0.8\"/>\n      </g>\n     </g>\n     <g id=\"text_3\">\n      <!-- w2d4 -->\n      <g transform=\"translate(218.450669 400.315625) scale(0.12 -0.12)\">\n       <defs>\n        <path id=\"DejaVuSans-34\" d=\"M 2419 4116 \nL 825 1625 \nL 2419 1625 \nL 2419 4116 \nz\nM 2253 4666 \nL 3047 4666 \nL 3047 1625 \nL 3713 1625 \nL 3713 1100 \nL 3047 1100 \nL 3047 0 \nL 2419 0 \nL 2419 1100 \nL 313 1100 \nL 313 1709 \nL 2253 4666 \nz\n\" transform=\"scale(0.015625)\"/>\n       </defs>\n       <use xlink:href=\"#DejaVuSans-77\"/>\n       <use xlink:href=\"#DejaVuSans-32\" transform=\"translate(81.787109 0)\"/>\n       <use xlink:href=\"#DejaVuSans-64\" transform=\"translate(145.410156 0)\"/>\n       <use xlink:href=\"#DejaVuSans-34\" transform=\"translate(208.886719 0)\"/>\n      </g>\n     </g>\n    </g>\n    <g id=\"xtick_4\">\n     <g id=\"line2d_4\">\n      <g>\n       <use xlink:href=\"#m745bc5917f\" x=\"303.610491\" y=\"384.1975\" style=\"stroke: #000000; stroke-width: 0.8\"/>\n      </g>\n     </g>\n     <g id=\"text_4\">\n      <!-- w2d5 -->\n      <g transform=\"translate(287.259553 400.315625) scale(0.12 -0.12)\">\n       <defs>\n        <path id=\"DejaVuSans-35\" d=\"M 691 4666 \nL 3169 4666 \nL 3169 4134 \nL 1269 4134 \nL 1269 2991 \nQ 1406 3038 1543 3061 \nQ 1681 3084 1819 3084 \nQ 2600 3084 3056 2656 \nQ 3513 2228 3513 1497 \nQ 3513 744 3044 326 \nQ 2575 -91 1722 -91 \nQ 1428 -91 1123 -41 \nQ 819 9 494 109 \nL 494 744 \nQ 775 591 1075 516 \nQ 1375 441 1709 441 \nQ 2250 441 2565 725 \nQ 2881 1009 2881 1497 \nQ 2881 1984 2565 2268 \nQ 2250 2553 1709 2553 \nQ 1456 2553 1204 2497 \nQ 953 2441 691 2322 \nL 691 4666 \nz\n\" transform=\"scale(0.015625)\"/>\n       </defs>\n       <use xlink:href=\"#DejaVuSans-77\"/>\n       <use xlink:href=\"#DejaVuSans-32\" transform=\"translate(81.787109 0)\"/>\n       <use xlink:href=\"#DejaVuSans-64\" transform=\"translate(145.410156 0)\"/>\n       <use xlink:href=\"#DejaVuSans-35\" transform=\"translate(208.886719 0)\"/>\n      </g>\n     </g>\n    </g>\n    <g id=\"xtick_5\">\n     <g id=\"line2d_5\">\n      <g>\n       <use xlink:href=\"#m745bc5917f\" x=\"372.419375\" y=\"384.1975\" style=\"stroke: #000000; stroke-width: 0.8\"/>\n      </g>\n     </g>\n     <g id=\"text_5\">\n      <!-- w3d1 -->\n      <g transform=\"translate(356.068438 400.315625) scale(0.12 -0.12)\">\n       <defs>\n        <path id=\"DejaVuSans-31\" d=\"M 794 531 \nL 1825 531 \nL 1825 4091 \nL 703 3866 \nL 703 4441 \nL 1819 4666 \nL 2450 4666 \nL 2450 531 \nL 3481 531 \nL 3481 0 \nL 794 0 \nL 794 531 \nz\n\" transform=\"scale(0.015625)\"/>\n       </defs>\n       <use xlink:href=\"#DejaVuSans-77\"/>\n       <use xlink:href=\"#DejaVuSans-33\" transform=\"translate(81.787109 0)\"/>\n       <use xlink:href=\"#DejaVuSans-64\" transform=\"translate(145.410156 0)\"/>\n       <use xlink:href=\"#DejaVuSans-31\" transform=\"translate(208.886719 0)\"/>\n      </g>\n     </g>\n    </g>\n    <g id=\"xtick_6\">\n     <g id=\"line2d_6\">\n      <g>\n       <use xlink:href=\"#m745bc5917f\" x=\"441.228259\" y=\"384.1975\" style=\"stroke: #000000; stroke-width: 0.8\"/>\n      </g>\n     </g>\n     <g id=\"text_6\">\n      <!-- w3d2 -->\n      <g transform=\"translate(424.877322 400.315625) scale(0.12 -0.12)\">\n       <use xlink:href=\"#DejaVuSans-77\"/>\n       <use xlink:href=\"#DejaVuSans-33\" transform=\"translate(81.787109 0)\"/>\n       <use xlink:href=\"#DejaVuSans-64\" transform=\"translate(145.410156 0)\"/>\n       <use xlink:href=\"#DejaVuSans-32\" transform=\"translate(208.886719 0)\"/>\n      </g>\n     </g>\n    </g>\n    <g id=\"xtick_7\">\n     <g id=\"line2d_7\">\n      <g>\n       <use xlink:href=\"#m745bc5917f\" x=\"510.037144\" y=\"384.1975\" style=\"stroke: #000000; stroke-width: 0.8\"/>\n      </g>\n     </g>\n     <g id=\"text_7\">\n      <!-- w3d3 -->\n      <g transform=\"translate(493.686206 400.315625) scale(0.12 -0.12)\">\n       <use xlink:href=\"#DejaVuSans-77\"/>\n       <use xlink:href=\"#DejaVuSans-33\" transform=\"translate(81.787109 0)\"/>\n       <use xlink:href=\"#DejaVuSans-64\" transform=\"translate(145.410156 0)\"/>\n       <use xlink:href=\"#DejaVuSans-33\" transform=\"translate(208.886719 0)\"/>\n      </g>\n     </g>\n    </g>\n    <g id=\"xtick_8\">\n     <g id=\"line2d_8\">\n      <g>\n       <use xlink:href=\"#m745bc5917f\" x=\"578.846028\" y=\"384.1975\" style=\"stroke: #000000; stroke-width: 0.8\"/>\n      </g>\n     </g>\n     <g id=\"text_8\">\n      <!-- w3d4 -->\n      <g transform=\"translate(562.49509 400.315625) scale(0.12 -0.12)\">\n       <use xlink:href=\"#DejaVuSans-77\"/>\n       <use xlink:href=\"#DejaVuSans-33\" transform=\"translate(81.787109 0)\"/>\n       <use xlink:href=\"#DejaVuSans-64\" transform=\"translate(145.410156 0)\"/>\n       <use xlink:href=\"#DejaVuSans-34\" transform=\"translate(208.886719 0)\"/>\n      </g>\n     </g>\n    </g>\n    <g id=\"xtick_9\">\n     <g id=\"line2d_9\">\n      <g>\n       <use xlink:href=\"#m745bc5917f\" x=\"647.654912\" y=\"384.1975\" style=\"stroke: #000000; stroke-width: 0.8\"/>\n      </g>\n     </g>\n     <g id=\"text_9\">\n      <!-- w3d5 -->\n      <g transform=\"translate(631.303975 400.315625) scale(0.12 -0.12)\">\n       <use xlink:href=\"#DejaVuSans-77\"/>\n       <use xlink:href=\"#DejaVuSans-33\" transform=\"translate(81.787109 0)\"/>\n       <use xlink:href=\"#DejaVuSans-64\" transform=\"translate(145.410156 0)\"/>\n       <use xlink:href=\"#DejaVuSans-35\" transform=\"translate(208.886719 0)\"/>\n      </g>\n     </g>\n    </g>\n    <g id=\"text_10\">\n     <!--   -->\n     <g transform=\"translate(370.830313 414.409688) scale(0.1 -0.1)\">\n      <defs>\n       <path id=\"DejaVuSans-20\" transform=\"scale(0.015625)\"/>\n      </defs>\n      <use xlink:href=\"#DejaVuSans-20\"/>\n     </g>\n    </g>\n   </g>\n   <g id=\"matplotlib.axis_2\">\n    <g id=\"ytick_1\">\n     <g id=\"line2d_10\">\n      <path d=\"M 39.384375 384.1975 \nL 705.454375 384.1975 \n\" clip-path=\"url(#p264c1a5184)\" style=\"fill: none; stroke-dasharray: 2.96,1.28; stroke-dashoffset: 0; stroke: #b0b0b0; stroke-opacity: 0.7; stroke-width: 0.8\"/>\n     </g>\n     <g id=\"line2d_11\">\n      <defs>\n       <path id=\"mfef9bcc70d\" d=\"M 0 0 \nL -3.5 0 \n\" style=\"stroke: #000000; stroke-width: 0.8\"/>\n      </defs>\n      <g>\n       <use xlink:href=\"#mfef9bcc70d\" x=\"39.384375\" y=\"384.1975\" style=\"stroke: #000000; stroke-width: 0.8\"/>\n      </g>\n     </g>\n     <g id=\"text_11\">\n      <!-- 1 -->\n      <g transform=\"translate(24.749375 388.756563) scale(0.12 -0.12)\">\n       <use xlink:href=\"#DejaVuSans-31\"/>\n      </g>\n     </g>\n    </g>\n    <g id=\"ytick_2\">\n     <g id=\"line2d_12\">\n      <path d=\"M 39.384375 301.309695 \nL 705.454375 301.309695 \n\" clip-path=\"url(#p264c1a5184)\" style=\"fill: none; stroke-dasharray: 2.96,1.28; stroke-dashoffset: 0; stroke: #b0b0b0; stroke-opacity: 0.7; stroke-width: 0.8\"/>\n     </g>\n     <g id=\"line2d_13\">\n      <g>\n       <use xlink:href=\"#mfef9bcc70d\" x=\"39.384375\" y=\"301.309695\" style=\"stroke: #000000; stroke-width: 0.8\"/>\n      </g>\n     </g>\n     <g id=\"text_12\">\n      <!-- 2 -->\n      <g transform=\"translate(24.749375 305.868758) scale(0.12 -0.12)\">\n       <use xlink:href=\"#DejaVuSans-32\"/>\n      </g>\n     </g>\n    </g>\n    <g id=\"ytick_3\">\n     <g id=\"line2d_14\">\n      <path d=\"M 39.384375 218.42189 \nL 705.454375 218.42189 \n\" clip-path=\"url(#p264c1a5184)\" style=\"fill: none; stroke-dasharray: 2.96,1.28; stroke-dashoffset: 0; stroke: #b0b0b0; stroke-opacity: 0.7; stroke-width: 0.8\"/>\n     </g>\n     <g id=\"line2d_15\">\n      <g>\n       <use xlink:href=\"#mfef9bcc70d\" x=\"39.384375\" y=\"218.42189\" style=\"stroke: #000000; stroke-width: 0.8\"/>\n      </g>\n     </g>\n     <g id=\"text_13\">\n      <!-- 3 -->\n      <g transform=\"translate(24.749375 222.980953) scale(0.12 -0.12)\">\n       <use xlink:href=\"#DejaVuSans-33\"/>\n      </g>\n     </g>\n    </g>\n    <g id=\"ytick_4\">\n     <g id=\"line2d_16\">\n      <path d=\"M 39.384375 135.534085 \nL 705.454375 135.534085 \n\" clip-path=\"url(#p264c1a5184)\" style=\"fill: none; stroke-dasharray: 2.96,1.28; stroke-dashoffset: 0; stroke: #b0b0b0; stroke-opacity: 0.7; stroke-width: 0.8\"/>\n     </g>\n     <g id=\"line2d_17\">\n      <g>\n       <use xlink:href=\"#mfef9bcc70d\" x=\"39.384375\" y=\"135.534085\" style=\"stroke: #000000; stroke-width: 0.8\"/>\n      </g>\n     </g>\n     <g id=\"text_14\">\n      <!-- 4 -->\n      <g transform=\"translate(24.749375 140.093148) scale(0.12 -0.12)\">\n       <use xlink:href=\"#DejaVuSans-34\"/>\n      </g>\n     </g>\n    </g>\n    <g id=\"ytick_5\">\n     <g id=\"line2d_18\">\n      <path d=\"M 39.384375 52.64628 \nL 705.454375 52.64628 \n\" clip-path=\"url(#p264c1a5184)\" style=\"fill: none; stroke-dasharray: 2.96,1.28; stroke-dashoffset: 0; stroke: #b0b0b0; stroke-opacity: 0.7; stroke-width: 0.8\"/>\n     </g>\n     <g id=\"line2d_19\">\n      <g>\n       <use xlink:href=\"#mfef9bcc70d\" x=\"39.384375\" y=\"52.64628\" style=\"stroke: #000000; stroke-width: 0.8\"/>\n      </g>\n     </g>\n     <g id=\"text_15\">\n      <!-- 5 -->\n      <g transform=\"translate(24.749375 57.205343) scale(0.12 -0.12)\">\n       <use xlink:href=\"#DejaVuSans-35\"/>\n      </g>\n     </g>\n    </g>\n    <g id=\"text_16\">\n     <!-- Ratings -->\n     <g transform=\"translate(17.837813 240.489219) rotate(-90) scale(0.14 -0.14)\">\n      <defs>\n       <path id=\"DejaVuSans-52\" d=\"M 2841 2188 \nQ 3044 2119 3236 1894 \nQ 3428 1669 3622 1275 \nL 4263 0 \nL 3584 0 \nL 2988 1197 \nQ 2756 1666 2539 1819 \nQ 2322 1972 1947 1972 \nL 1259 1972 \nL 1259 0 \nL 628 0 \nL 628 4666 \nL 2053 4666 \nQ 2853 4666 3247 4331 \nQ 3641 3997 3641 3322 \nQ 3641 2881 3436 2590 \nQ 3231 2300 2841 2188 \nz\nM 1259 4147 \nL 1259 2491 \nL 2053 2491 \nQ 2509 2491 2742 2702 \nQ 2975 2913 2975 3322 \nQ 2975 3731 2742 3939 \nQ 2509 4147 2053 4147 \nL 1259 4147 \nz\n\" transform=\"scale(0.015625)\"/>\n       <path id=\"DejaVuSans-61\" d=\"M 2194 1759 \nQ 1497 1759 1228 1600 \nQ 959 1441 959 1056 \nQ 959 750 1161 570 \nQ 1363 391 1709 391 \nQ 2188 391 2477 730 \nQ 2766 1069 2766 1631 \nL 2766 1759 \nL 2194 1759 \nz\nM 3341 1997 \nL 3341 0 \nL 2766 0 \nL 2766 531 \nQ 2569 213 2275 61 \nQ 1981 -91 1556 -91 \nQ 1019 -91 701 211 \nQ 384 513 384 1019 \nQ 384 1609 779 1909 \nQ 1175 2209 1959 2209 \nL 2766 2209 \nL 2766 2266 \nQ 2766 2663 2505 2880 \nQ 2244 3097 1772 3097 \nQ 1472 3097 1187 3025 \nQ 903 2953 641 2809 \nL 641 3341 \nQ 956 3463 1253 3523 \nQ 1550 3584 1831 3584 \nQ 2591 3584 2966 3190 \nQ 3341 2797 3341 1997 \nz\n\" transform=\"scale(0.015625)\"/>\n       <path id=\"DejaVuSans-74\" d=\"M 1172 4494 \nL 1172 3500 \nL 2356 3500 \nL 2356 3053 \nL 1172 3053 \nL 1172 1153 \nQ 1172 725 1289 603 \nQ 1406 481 1766 481 \nL 2356 481 \nL 2356 0 \nL 1766 0 \nQ 1100 0 847 248 \nQ 594 497 594 1153 \nL 594 3053 \nL 172 3053 \nL 172 3500 \nL 594 3500 \nL 594 4494 \nL 1172 4494 \nz\n\" transform=\"scale(0.015625)\"/>\n       <path id=\"DejaVuSans-69\" d=\"M 603 3500 \nL 1178 3500 \nL 1178 0 \nL 603 0 \nL 603 3500 \nz\nM 603 4863 \nL 1178 4863 \nL 1178 4134 \nL 603 4134 \nL 603 4863 \nz\n\" transform=\"scale(0.015625)\"/>\n       <path id=\"DejaVuSans-6e\" d=\"M 3513 2113 \nL 3513 0 \nL 2938 0 \nL 2938 2094 \nQ 2938 2591 2744 2837 \nQ 2550 3084 2163 3084 \nQ 1697 3084 1428 2787 \nQ 1159 2491 1159 1978 \nL 1159 0 \nL 581 0 \nL 581 3500 \nL 1159 3500 \nL 1159 2956 \nQ 1366 3272 1645 3428 \nQ 1925 3584 2291 3584 \nQ 2894 3584 3203 3211 \nQ 3513 2838 3513 2113 \nz\n\" transform=\"scale(0.015625)\"/>\n       <path id=\"DejaVuSans-67\" d=\"M 2906 1791 \nQ 2906 2416 2648 2759 \nQ 2391 3103 1925 3103 \nQ 1463 3103 1205 2759 \nQ 947 2416 947 1791 \nQ 947 1169 1205 825 \nQ 1463 481 1925 481 \nQ 2391 481 2648 825 \nQ 2906 1169 2906 1791 \nz\nM 3481 434 \nQ 3481 -459 3084 -895 \nQ 2688 -1331 1869 -1331 \nQ 1566 -1331 1297 -1286 \nQ 1028 -1241 775 -1147 \nL 775 -588 \nQ 1028 -725 1275 -790 \nQ 1522 -856 1778 -856 \nQ 2344 -856 2625 -561 \nQ 2906 -266 2906 331 \nL 2906 616 \nQ 2728 306 2450 153 \nQ 2172 0 1784 0 \nQ 1141 0 747 490 \nQ 353 981 353 1791 \nQ 353 2603 747 3093 \nQ 1141 3584 1784 3584 \nQ 2172 3584 2450 3431 \nQ 2728 3278 2906 2969 \nL 2906 3500 \nL 3481 3500 \nL 3481 434 \nz\n\" transform=\"scale(0.015625)\"/>\n       <path id=\"DejaVuSans-73\" d=\"M 2834 3397 \nL 2834 2853 \nQ 2591 2978 2328 3040 \nQ 2066 3103 1784 3103 \nQ 1356 3103 1142 2972 \nQ 928 2841 928 2578 \nQ 928 2378 1081 2264 \nQ 1234 2150 1697 2047 \nL 1894 2003 \nQ 2506 1872 2764 1633 \nQ 3022 1394 3022 966 \nQ 3022 478 2636 193 \nQ 2250 -91 1575 -91 \nQ 1294 -91 989 -36 \nQ 684 19 347 128 \nL 347 722 \nQ 666 556 975 473 \nQ 1284 391 1588 391 \nQ 1994 391 2212 530 \nQ 2431 669 2431 922 \nQ 2431 1156 2273 1281 \nQ 2116 1406 1581 1522 \nL 1381 1569 \nQ 847 1681 609 1914 \nQ 372 2147 372 2553 \nQ 372 3047 722 3315 \nQ 1072 3584 1716 3584 \nQ 2034 3584 2315 3537 \nQ 2597 3491 2834 3397 \nz\n\" transform=\"scale(0.015625)\"/>\n      </defs>\n      <use xlink:href=\"#DejaVuSans-52\"/>\n      <use xlink:href=\"#DejaVuSans-61\" transform=\"translate(67.232422 0)\"/>\n      <use xlink:href=\"#DejaVuSans-74\" transform=\"translate(128.511719 0)\"/>\n      <use xlink:href=\"#DejaVuSans-69\" transform=\"translate(167.720703 0)\"/>\n      <use xlink:href=\"#DejaVuSans-6e\" transform=\"translate(195.503906 0)\"/>\n      <use xlink:href=\"#DejaVuSans-67\" transform=\"translate(258.882812 0)\"/>\n      <use xlink:href=\"#DejaVuSans-73\" transform=\"translate(322.359375 0)\"/>\n     </g>\n    </g>\n   </g>\n   <g id=\"patch_3\">\n    <path d=\"M 69.660284 135.534085 \nL 124.707392 135.534085 \nL 124.707392 94.090183 \nL 69.660284 94.090183 \nL 69.660284 135.534085 \nz\n\" clip-path=\"url(#p264c1a5184)\" style=\"fill: #859fe5; stroke: #535353; stroke-linejoin: miter\"/>\n   </g>\n   <g id=\"line2d_20\">\n    <path d=\"M 97.183838 135.534085 \nL 97.183838 135.534085 \n\" clip-path=\"url(#p264c1a5184)\" style=\"fill: none; stroke: #535353\"/>\n   </g>\n   <g id=\"line2d_21\">\n    <path d=\"M 97.183838 94.090183 \nL 97.183838 52.64628 \n\" clip-path=\"url(#p264c1a5184)\" style=\"fill: none; stroke: #535353\"/>\n   </g>\n   <g id=\"line2d_22\">\n    <path d=\"M 83.422061 135.534085 \nL 110.945615 135.534085 \n\" clip-path=\"url(#p264c1a5184)\" style=\"fill: none; stroke: #535353; stroke-linecap: square\"/>\n   </g>\n   <g id=\"line2d_23\">\n    <path d=\"M 83.422061 52.64628 \nL 110.945615 52.64628 \n\" clip-path=\"url(#p264c1a5184)\" style=\"fill: none; stroke: #535353; stroke-linecap: square\"/>\n   </g>\n   <g id=\"line2d_24\">\n    <defs>\n     <path id=\"m9a5650df33\" d=\"M 0 3 \nC 0.795609 3 1.55874 2.683901 2.12132 2.12132 \nC 2.683901 1.55874 3 0.795609 3 0 \nC 3 -0.795609 2.683901 -1.55874 2.12132 -2.12132 \nC 1.55874 -2.683901 0.795609 -3 0 -3 \nC -0.795609 -3 -1.55874 -2.683901 -2.12132 -2.12132 \nC -2.683901 -1.55874 -3 -0.795609 -3 0 \nC -3 0.795609 -2.683901 1.55874 -2.12132 2.12132 \nC -1.55874 2.683901 -0.795609 3 0 3 \nz\n\" style=\"stroke: #535353\"/>\n    </defs>\n    <g clip-path=\"url(#p264c1a5184)\">\n     <use xlink:href=\"#m9a5650df33\" x=\"97.183838\" y=\"218.42189\" style=\"fill-opacity: 0; stroke: #535353\"/>\n     <use xlink:href=\"#m9a5650df33\" x=\"97.183838\" y=\"218.42189\" style=\"fill-opacity: 0; stroke: #535353\"/>\n     <use xlink:href=\"#m9a5650df33\" x=\"97.183838\" y=\"218.42189\" style=\"fill-opacity: 0; stroke: #535353\"/>\n     <use xlink:href=\"#m9a5650df33\" x=\"97.183838\" y=\"218.42189\" style=\"fill-opacity: 0; stroke: #535353\"/>\n    </g>\n   </g>\n   <g id=\"patch_4\">\n    <path d=\"M 138.469168 135.534085 \nL 193.516276 135.534085 \nL 193.516276 52.64628 \nL 138.469168 52.64628 \nL 138.469168 135.534085 \nz\n\" clip-path=\"url(#p264c1a5184)\" style=\"fill: #a2bbf1; stroke: #535353; stroke-linejoin: miter\"/>\n   </g>\n   <g id=\"line2d_25\">\n    <path d=\"M 165.992722 135.534085 \nL 165.992722 218.42189 \n\" clip-path=\"url(#p264c1a5184)\" style=\"fill: none; stroke: #535353\"/>\n   </g>\n   <g id=\"line2d_26\">\n    <path d=\"M 165.992722 52.64628 \nL 165.992722 52.64628 \n\" clip-path=\"url(#p264c1a5184)\" style=\"fill: none; stroke: #535353\"/>\n   </g>\n   <g id=\"line2d_27\">\n    <path d=\"M 152.230945 218.42189 \nL 179.754499 218.42189 \n\" clip-path=\"url(#p264c1a5184)\" style=\"fill: none; stroke: #535353; stroke-linecap: square\"/>\n   </g>\n   <g id=\"line2d_28\">\n    <path d=\"M 152.230945 52.64628 \nL 179.754499 52.64628 \n\" clip-path=\"url(#p264c1a5184)\" style=\"fill: none; stroke: #535353; stroke-linecap: square\"/>\n   </g>\n   <g id=\"line2d_29\"/>\n   <g id=\"patch_5\">\n    <path d=\"M 207.278053 94.090183 \nL 262.32516 94.090183 \nL 262.32516 52.64628 \nL 207.278053 52.64628 \nL 207.278053 94.090183 \nz\n\" clip-path=\"url(#p264c1a5184)\" style=\"fill: #bdd0f2; stroke: #535353; stroke-linejoin: miter\"/>\n   </g>\n   <g id=\"line2d_30\">\n    <path d=\"M 234.801606 94.090183 \nL 234.801606 135.534085 \n\" clip-path=\"url(#p264c1a5184)\" style=\"fill: none; stroke: #535353\"/>\n   </g>\n   <g id=\"line2d_31\">\n    <path d=\"M 234.801606 52.64628 \nL 234.801606 52.64628 \n\" clip-path=\"url(#p264c1a5184)\" style=\"fill: none; stroke: #535353\"/>\n   </g>\n   <g id=\"line2d_32\">\n    <path d=\"M 221.03983 135.534085 \nL 248.563383 135.534085 \n\" clip-path=\"url(#p264c1a5184)\" style=\"fill: none; stroke: #535353; stroke-linecap: square\"/>\n   </g>\n   <g id=\"line2d_33\">\n    <path d=\"M 221.03983 52.64628 \nL 248.563383 52.64628 \n\" clip-path=\"url(#p264c1a5184)\" style=\"fill: none; stroke: #535353; stroke-linecap: square\"/>\n   </g>\n   <g id=\"line2d_34\"/>\n   <g id=\"patch_6\">\n    <path d=\"M 276.086937 94.090183 \nL 331.134044 94.090183 \nL 331.134044 52.64628 \nL 276.086937 52.64628 \nL 276.086937 94.090183 \nz\n\" clip-path=\"url(#p264c1a5184)\" style=\"fill: #d4dbe6; stroke: #535353; stroke-linejoin: miter\"/>\n   </g>\n   <g id=\"line2d_35\">\n    <path d=\"M 303.610491 94.090183 \nL 303.610491 135.534085 \n\" clip-path=\"url(#p264c1a5184)\" style=\"fill: none; stroke: #535353\"/>\n   </g>\n   <g id=\"line2d_36\">\n    <path d=\"M 303.610491 52.64628 \nL 303.610491 52.64628 \n\" clip-path=\"url(#p264c1a5184)\" style=\"fill: none; stroke: #535353\"/>\n   </g>\n   <g id=\"line2d_37\">\n    <path d=\"M 289.848714 135.534085 \nL 317.372268 135.534085 \n\" clip-path=\"url(#p264c1a5184)\" style=\"fill: none; stroke: #535353; stroke-linecap: square\"/>\n   </g>\n   <g id=\"line2d_38\">\n    <path d=\"M 289.848714 52.64628 \nL 317.372268 52.64628 \n\" clip-path=\"url(#p264c1a5184)\" style=\"fill: none; stroke: #535353; stroke-linecap: square\"/>\n   </g>\n   <g id=\"line2d_39\">\n    <g clip-path=\"url(#p264c1a5184)\">\n     <use xlink:href=\"#m9a5650df33\" x=\"303.610491\" y=\"218.42189\" style=\"fill-opacity: 0; stroke: #535353\"/>\n     <use xlink:href=\"#m9a5650df33\" x=\"303.610491\" y=\"218.42189\" style=\"fill-opacity: 0; stroke: #535353\"/>\n    </g>\n   </g>\n   <g id=\"patch_7\">\n    <path d=\"M 344.895821 156.256037 \nL 399.942929 156.256037 \nL 399.942929 52.64628 \nL 344.895821 52.64628 \nL 344.895821 156.256037 \nz\n\" clip-path=\"url(#p264c1a5184)\" style=\"fill: #e4d7d0; stroke: #535353; stroke-linejoin: miter\"/>\n   </g>\n   <g id=\"line2d_40\">\n    <path d=\"M 372.419375 156.256037 \nL 372.419375 218.42189 \n\" clip-path=\"url(#p264c1a5184)\" style=\"fill: none; stroke: #535353\"/>\n   </g>\n   <g id=\"line2d_41\">\n    <path d=\"M 372.419375 52.64628 \nL 372.419375 52.64628 \n\" clip-path=\"url(#p264c1a5184)\" style=\"fill: none; stroke: #535353\"/>\n   </g>\n   <g id=\"line2d_42\">\n    <path d=\"M 358.657598 218.42189 \nL 386.181152 218.42189 \n\" clip-path=\"url(#p264c1a5184)\" style=\"fill: none; stroke: #535353; stroke-linecap: square\"/>\n   </g>\n   <g id=\"line2d_43\">\n    <path d=\"M 358.657598 52.64628 \nL 386.181152 52.64628 \n\" clip-path=\"url(#p264c1a5184)\" style=\"fill: none; stroke: #535353; stroke-linecap: square\"/>\n   </g>\n   <g id=\"line2d_44\"/>\n   <g id=\"patch_8\">\n    <path d=\"M 413.704706 135.534085 \nL 468.751813 135.534085 \nL 468.751813 52.64628 \nL 413.704706 52.64628 \nL 413.704706 135.534085 \nz\n\" clip-path=\"url(#p264c1a5184)\" style=\"fill: #ecc5b2; stroke: #535353; stroke-linejoin: miter\"/>\n   </g>\n   <g id=\"line2d_45\">\n    <path d=\"M 441.228259 135.534085 \nL 441.228259 218.42189 \n\" clip-path=\"url(#p264c1a5184)\" style=\"fill: none; stroke: #535353\"/>\n   </g>\n   <g id=\"line2d_46\">\n    <path d=\"M 441.228259 52.64628 \nL 441.228259 52.64628 \n\" clip-path=\"url(#p264c1a5184)\" style=\"fill: none; stroke: #535353\"/>\n   </g>\n   <g id=\"line2d_47\">\n    <path d=\"M 427.466482 218.42189 \nL 454.990036 218.42189 \n\" clip-path=\"url(#p264c1a5184)\" style=\"fill: none; stroke: #535353; stroke-linecap: square\"/>\n   </g>\n   <g id=\"line2d_48\">\n    <path d=\"M 427.466482 52.64628 \nL 454.990036 52.64628 \n\" clip-path=\"url(#p264c1a5184)\" style=\"fill: none; stroke: #535353; stroke-linecap: square\"/>\n   </g>\n   <g id=\"line2d_49\"/>\n   <g id=\"patch_9\">\n    <path d=\"M 482.51359 135.534085 \nL 537.560697 135.534085 \nL 537.560697 52.64628 \nL 482.51359 52.64628 \nL 482.51359 135.534085 \nz\n\" clip-path=\"url(#p264c1a5184)\" style=\"fill: #e7a891; stroke: #535353; stroke-linejoin: miter\"/>\n   </g>\n   <g id=\"line2d_50\">\n    <path d=\"M 510.037144 135.534085 \nL 510.037144 218.42189 \n\" clip-path=\"url(#p264c1a5184)\" style=\"fill: none; stroke: #535353\"/>\n   </g>\n   <g id=\"line2d_51\">\n    <path d=\"M 510.037144 52.64628 \nL 510.037144 52.64628 \n\" clip-path=\"url(#p264c1a5184)\" style=\"fill: none; stroke: #535353\"/>\n   </g>\n   <g id=\"line2d_52\">\n    <path d=\"M 496.275367 218.42189 \nL 523.79892 218.42189 \n\" clip-path=\"url(#p264c1a5184)\" style=\"fill: none; stroke: #535353; stroke-linecap: square\"/>\n   </g>\n   <g id=\"line2d_53\">\n    <path d=\"M 496.275367 52.64628 \nL 523.79892 52.64628 \n\" clip-path=\"url(#p264c1a5184)\" style=\"fill: none; stroke: #535353; stroke-linecap: square\"/>\n   </g>\n   <g id=\"line2d_54\"/>\n   <g id=\"patch_10\">\n    <path d=\"M 551.322474 135.534085 \nL 606.369582 135.534085 \nL 606.369582 52.64628 \nL 551.322474 52.64628 \nL 551.322474 135.534085 \nz\n\" clip-path=\"url(#p264c1a5184)\" style=\"fill: #d98672; stroke: #535353; stroke-linejoin: miter\"/>\n   </g>\n   <g id=\"line2d_55\">\n    <path d=\"M 578.846028 135.534085 \nL 578.846028 218.42189 \n\" clip-path=\"url(#p264c1a5184)\" style=\"fill: none; stroke: #535353\"/>\n   </g>\n   <g id=\"line2d_56\">\n    <path d=\"M 578.846028 52.64628 \nL 578.846028 52.64628 \n\" clip-path=\"url(#p264c1a5184)\" style=\"fill: none; stroke: #535353\"/>\n   </g>\n   <g id=\"line2d_57\">\n    <path d=\"M 565.084251 218.42189 \nL 592.607805 218.42189 \n\" clip-path=\"url(#p264c1a5184)\" style=\"fill: none; stroke: #535353; stroke-linecap: square\"/>\n   </g>\n   <g id=\"line2d_58\">\n    <path d=\"M 565.084251 52.64628 \nL 592.607805 52.64628 \n\" clip-path=\"url(#p264c1a5184)\" style=\"fill: none; stroke: #535353; stroke-linecap: square\"/>\n   </g>\n   <g id=\"line2d_59\"/>\n   <g id=\"patch_11\">\n    <path d=\"M 620.131358 135.534085 \nL 675.178466 135.534085 \nL 675.178466 52.64628 \nL 620.131358 52.64628 \nL 620.131358 135.534085 \nz\n\" clip-path=\"url(#p264c1a5184)\" style=\"fill: #c15d53; stroke: #535353; stroke-linejoin: miter\"/>\n   </g>\n   <g id=\"line2d_60\">\n    <path d=\"M 647.654912 135.534085 \nL 647.654912 218.42189 \n\" clip-path=\"url(#p264c1a5184)\" style=\"fill: none; stroke: #535353\"/>\n   </g>\n   <g id=\"line2d_61\">\n    <path d=\"M 647.654912 52.64628 \nL 647.654912 52.64628 \n\" clip-path=\"url(#p264c1a5184)\" style=\"fill: none; stroke: #535353\"/>\n   </g>\n   <g id=\"line2d_62\">\n    <path d=\"M 633.893135 218.42189 \nL 661.416689 218.42189 \n\" clip-path=\"url(#p264c1a5184)\" style=\"fill: none; stroke: #535353; stroke-linecap: square\"/>\n   </g>\n   <g id=\"line2d_63\">\n    <path d=\"M 633.893135 52.64628 \nL 661.416689 52.64628 \n\" clip-path=\"url(#p264c1a5184)\" style=\"fill: none; stroke: #535353; stroke-linecap: square\"/>\n   </g>\n   <g id=\"line2d_64\"/>\n   <g id=\"line2d_65\">\n    <path d=\"M 97.183838 126.324329 \nL 165.992722 115.641012 \nL 234.801606 74.749695 \nL 303.610491 85.801402 \nL 372.419375 118.956524 \nL 441.228259 111.851855 \nL 510.037144 105.393065 \nL 578.846028 120.906826 \nL 647.654912 98.695061 \n\" clip-path=\"url(#p264c1a5184)\" style=\"fill: none; stroke: #d18d20; stroke-width: 2; stroke-linecap: square\"/>\n    <defs>\n     <path id=\"m816fe0d70b\" d=\"M 0 3 \nC 0.795609 3 1.55874 2.683901 2.12132 2.12132 \nC 2.683901 1.55874 3 0.795609 3 0 \nC 3 -0.795609 2.683901 -1.55874 2.12132 -2.12132 \nC 1.55874 -2.683901 0.795609 -3 0 -3 \nC -0.795609 -3 -1.55874 -2.683901 -2.12132 -2.12132 \nC -2.683901 -1.55874 -3 -0.795609 -3 0 \nC -3 0.795609 -2.683901 1.55874 -2.12132 2.12132 \nC -1.55874 2.683901 -0.795609 3 0 3 \nz\n\" style=\"stroke: #d18d20\"/>\n    </defs>\n    <g clip-path=\"url(#p264c1a5184)\">\n     <use xlink:href=\"#m816fe0d70b\" x=\"97.183838\" y=\"126.324329\" style=\"fill: #d18d20; stroke: #d18d20\"/>\n     <use xlink:href=\"#m816fe0d70b\" x=\"165.992722\" y=\"115.641012\" style=\"fill: #d18d20; stroke: #d18d20\"/>\n     <use xlink:href=\"#m816fe0d70b\" x=\"234.801606\" y=\"74.749695\" style=\"fill: #d18d20; stroke: #d18d20\"/>\n     <use xlink:href=\"#m816fe0d70b\" x=\"303.610491\" y=\"85.801402\" style=\"fill: #d18d20; stroke: #d18d20\"/>\n     <use xlink:href=\"#m816fe0d70b\" x=\"372.419375\" y=\"118.956524\" style=\"fill: #d18d20; stroke: #d18d20\"/>\n     <use xlink:href=\"#m816fe0d70b\" x=\"441.228259\" y=\"111.851855\" style=\"fill: #d18d20; stroke: #d18d20\"/>\n     <use xlink:href=\"#m816fe0d70b\" x=\"510.037144\" y=\"105.393065\" style=\"fill: #d18d20; stroke: #d18d20\"/>\n     <use xlink:href=\"#m816fe0d70b\" x=\"578.846028\" y=\"120.906826\" style=\"fill: #d18d20; stroke: #d18d20\"/>\n     <use xlink:href=\"#m816fe0d70b\" x=\"647.654912\" y=\"98.695061\" style=\"fill: #d18d20; stroke: #d18d20\"/>\n    </g>\n   </g>\n   <g id=\"line2d_66\">\n    <path d=\"M 69.660284 135.534085 \nL 124.707392 135.534085 \n\" clip-path=\"url(#p264c1a5184)\" style=\"fill: none; stroke: #535353\"/>\n   </g>\n   <g id=\"line2d_67\">\n    <path d=\"M 138.469168 135.534085 \nL 193.516276 135.534085 \n\" clip-path=\"url(#p264c1a5184)\" style=\"fill: none; stroke: #535353\"/>\n   </g>\n   <g id=\"line2d_68\">\n    <path d=\"M 207.278053 52.64628 \nL 262.32516 52.64628 \n\" clip-path=\"url(#p264c1a5184)\" style=\"fill: none; stroke: #535353\"/>\n   </g>\n   <g id=\"line2d_69\">\n    <path d=\"M 276.086937 52.64628 \nL 331.134044 52.64628 \n\" clip-path=\"url(#p264c1a5184)\" style=\"fill: none; stroke: #535353\"/>\n   </g>\n   <g id=\"line2d_70\">\n    <path d=\"M 344.895821 135.534085 \nL 399.942929 135.534085 \n\" clip-path=\"url(#p264c1a5184)\" style=\"fill: none; stroke: #535353\"/>\n   </g>\n   <g id=\"line2d_71\">\n    <path d=\"M 413.704706 135.534085 \nL 468.751813 135.534085 \n\" clip-path=\"url(#p264c1a5184)\" style=\"fill: none; stroke: #535353\"/>\n   </g>\n   <g id=\"line2d_72\">\n    <path d=\"M 482.51359 52.64628 \nL 537.560697 52.64628 \n\" clip-path=\"url(#p264c1a5184)\" style=\"fill: none; stroke: #535353\"/>\n   </g>\n   <g id=\"line2d_73\">\n    <path d=\"M 551.322474 135.534085 \nL 606.369582 135.534085 \n\" clip-path=\"url(#p264c1a5184)\" style=\"fill: none; stroke: #535353\"/>\n   </g>\n   <g id=\"line2d_74\">\n    <path d=\"M 620.131358 52.64628 \nL 675.178466 52.64628 \n\" clip-path=\"url(#p264c1a5184)\" style=\"fill: none; stroke: #535353\"/>\n   </g>\n   <g id=\"patch_12\">\n    <path d=\"M 39.384375 384.1975 \nL 39.384375 44.3575 \n\" style=\"fill: none; stroke: #000000; stroke-width: 0.8; stroke-linejoin: miter; stroke-linecap: square\"/>\n   </g>\n   <g id=\"patch_13\">\n    <path d=\"M 705.454375 384.1975 \nL 705.454375 44.3575 \n\" style=\"fill: none; stroke: #000000; stroke-width: 0.8; stroke-linejoin: miter; stroke-linecap: square\"/>\n   </g>\n   <g id=\"patch_14\">\n    <path d=\"M 39.384375 384.1975 \nL 705.454375 384.1975 \n\" style=\"fill: none; stroke: #000000; stroke-width: 0.8; stroke-linejoin: miter; stroke-linecap: square\"/>\n   </g>\n   <g id=\"patch_15\">\n    <path d=\"M 39.384375 44.3575 \nL 705.454375 44.3575 \n\" style=\"fill: none; stroke: #000000; stroke-width: 0.8; stroke-linejoin: miter; stroke-linecap: square\"/>\n   </g>\n   <g id=\"text_17\">\n    <!-- N=27 -->\n    <g transform=\"translate(82.890869 33.989032) scale(0.1 -0.1)\">\n     <defs>\n      <path id=\"DejaVuSans-4e\" d=\"M 628 4666 \nL 1478 4666 \nL 3547 763 \nL 3547 4666 \nL 4159 4666 \nL 4159 0 \nL 3309 0 \nL 1241 3903 \nL 1241 0 \nL 628 0 \nL 628 4666 \nz\n\" transform=\"scale(0.015625)\"/>\n      <path id=\"DejaVuSans-3d\" d=\"M 678 2906 \nL 4684 2906 \nL 4684 2381 \nL 678 2381 \nL 678 2906 \nz\nM 678 1631 \nL 4684 1631 \nL 4684 1100 \nL 678 1100 \nL 678 1631 \nz\n\" transform=\"scale(0.015625)\"/>\n      <path id=\"DejaVuSans-37\" d=\"M 525 4666 \nL 3525 4666 \nL 3525 4397 \nL 1831 0 \nL 1172 0 \nL 2766 4134 \nL 525 4134 \nL 525 4666 \nz\n\" transform=\"scale(0.015625)\"/>\n     </defs>\n     <use xlink:href=\"#DejaVuSans-4e\"/>\n     <use xlink:href=\"#DejaVuSans-3d\" transform=\"translate(74.804688 0)\"/>\n     <use xlink:href=\"#DejaVuSans-32\" transform=\"translate(158.59375 0)\"/>\n     <use xlink:href=\"#DejaVuSans-37\" transform=\"translate(222.216797 0)\"/>\n    </g>\n   </g>\n   <g id=\"text_18\">\n    <!-- N=25 -->\n    <g transform=\"translate(151.699753 33.989032) scale(0.1 -0.1)\">\n     <use xlink:href=\"#DejaVuSans-4e\"/>\n     <use xlink:href=\"#DejaVuSans-3d\" transform=\"translate(74.804688 0)\"/>\n     <use xlink:href=\"#DejaVuSans-32\" transform=\"translate(158.59375 0)\"/>\n     <use xlink:href=\"#DejaVuSans-35\" transform=\"translate(222.216797 0)\"/>\n    </g>\n   </g>\n   <g id=\"text_19\">\n    <!-- N=15 -->\n    <g transform=\"translate(220.508638 33.989032) scale(0.1 -0.1)\">\n     <use xlink:href=\"#DejaVuSans-4e\"/>\n     <use xlink:href=\"#DejaVuSans-3d\" transform=\"translate(74.804688 0)\"/>\n     <use xlink:href=\"#DejaVuSans-31\" transform=\"translate(158.59375 0)\"/>\n     <use xlink:href=\"#DejaVuSans-35\" transform=\"translate(222.216797 0)\"/>\n    </g>\n   </g>\n   <g id=\"text_20\">\n    <!-- N=15 -->\n    <g transform=\"translate(289.317522 33.989032) scale(0.1 -0.1)\">\n     <use xlink:href=\"#DejaVuSans-4e\"/>\n     <use xlink:href=\"#DejaVuSans-3d\" transform=\"translate(74.804688 0)\"/>\n     <use xlink:href=\"#DejaVuSans-31\" transform=\"translate(158.59375 0)\"/>\n     <use xlink:href=\"#DejaVuSans-35\" transform=\"translate(222.216797 0)\"/>\n    </g>\n   </g>\n   <g id=\"text_21\">\n    <!-- N=20 -->\n    <g transform=\"translate(358.126406 33.989032) scale(0.1 -0.1)\">\n     <defs>\n      <path id=\"DejaVuSans-30\" d=\"M 2034 4250 \nQ 1547 4250 1301 3770 \nQ 1056 3291 1056 2328 \nQ 1056 1369 1301 889 \nQ 1547 409 2034 409 \nQ 2525 409 2770 889 \nQ 3016 1369 3016 2328 \nQ 3016 3291 2770 3770 \nQ 2525 4250 2034 4250 \nz\nM 2034 4750 \nQ 2819 4750 3233 4129 \nQ 3647 3509 3647 2328 \nQ 3647 1150 3233 529 \nQ 2819 -91 2034 -91 \nQ 1250 -91 836 529 \nQ 422 1150 422 2328 \nQ 422 3509 836 4129 \nQ 1250 4750 2034 4750 \nz\n\" transform=\"scale(0.015625)\"/>\n     </defs>\n     <use xlink:href=\"#DejaVuSans-4e\"/>\n     <use xlink:href=\"#DejaVuSans-3d\" transform=\"translate(74.804688 0)\"/>\n     <use xlink:href=\"#DejaVuSans-32\" transform=\"translate(158.59375 0)\"/>\n     <use xlink:href=\"#DejaVuSans-30\" transform=\"translate(222.216797 0)\"/>\n    </g>\n   </g>\n   <g id=\"text_22\">\n    <!-- N=21 -->\n    <g transform=\"translate(426.935291 33.989032) scale(0.1 -0.1)\">\n     <use xlink:href=\"#DejaVuSans-4e\"/>\n     <use xlink:href=\"#DejaVuSans-3d\" transform=\"translate(74.804688 0)\"/>\n     <use xlink:href=\"#DejaVuSans-32\" transform=\"translate(158.59375 0)\"/>\n     <use xlink:href=\"#DejaVuSans-31\" transform=\"translate(222.216797 0)\"/>\n    </g>\n   </g>\n   <g id=\"text_23\">\n    <!-- N=11 -->\n    <g transform=\"translate(495.744175 33.989032) scale(0.1 -0.1)\">\n     <use xlink:href=\"#DejaVuSans-4e\"/>\n     <use xlink:href=\"#DejaVuSans-3d\" transform=\"translate(74.804688 0)\"/>\n     <use xlink:href=\"#DejaVuSans-31\" transform=\"translate(158.59375 0)\"/>\n     <use xlink:href=\"#DejaVuSans-31\" transform=\"translate(222.216797 0)\"/>\n    </g>\n   </g>\n   <g id=\"text_24\">\n    <!-- N=17 -->\n    <g transform=\"translate(564.553059 33.989032) scale(0.1 -0.1)\">\n     <use xlink:href=\"#DejaVuSans-4e\"/>\n     <use xlink:href=\"#DejaVuSans-3d\" transform=\"translate(74.804688 0)\"/>\n     <use xlink:href=\"#DejaVuSans-31\" transform=\"translate(158.59375 0)\"/>\n     <use xlink:href=\"#DejaVuSans-37\" transform=\"translate(222.216797 0)\"/>\n    </g>\n   </g>\n   <g id=\"text_25\">\n    <!-- N=18 -->\n    <g transform=\"translate(633.361943 33.989032) scale(0.1 -0.1)\">\n     <defs>\n      <path id=\"DejaVuSans-38\" d=\"M 2034 2216 \nQ 1584 2216 1326 1975 \nQ 1069 1734 1069 1313 \nQ 1069 891 1326 650 \nQ 1584 409 2034 409 \nQ 2484 409 2743 651 \nQ 3003 894 3003 1313 \nQ 3003 1734 2745 1975 \nQ 2488 2216 2034 2216 \nz\nM 1403 2484 \nQ 997 2584 770 2862 \nQ 544 3141 544 3541 \nQ 544 4100 942 4425 \nQ 1341 4750 2034 4750 \nQ 2731 4750 3128 4425 \nQ 3525 4100 3525 3541 \nQ 3525 3141 3298 2862 \nQ 3072 2584 2669 2484 \nQ 3125 2378 3379 2068 \nQ 3634 1759 3634 1313 \nQ 3634 634 3220 271 \nQ 2806 -91 2034 -91 \nQ 1263 -91 848 271 \nQ 434 634 434 1313 \nQ 434 1759 690 2068 \nQ 947 2378 1403 2484 \nz\nM 1172 3481 \nQ 1172 3119 1398 2916 \nQ 1625 2713 2034 2713 \nQ 2441 2713 2670 2916 \nQ 2900 3119 2900 3481 \nQ 2900 3844 2670 4047 \nQ 2441 4250 2034 4250 \nQ 1625 4250 1398 4047 \nQ 1172 3844 1172 3481 \nz\n\" transform=\"scale(0.015625)\"/>\n     </defs>\n     <use xlink:href=\"#DejaVuSans-4e\"/>\n     <use xlink:href=\"#DejaVuSans-3d\" transform=\"translate(74.804688 0)\"/>\n     <use xlink:href=\"#DejaVuSans-31\" transform=\"translate(158.59375 0)\"/>\n     <use xlink:href=\"#DejaVuSans-38\" transform=\"translate(222.216797 0)\"/>\n    </g>\n   </g>\n   <g id=\"text_26\">\n    <!-- TAs perception of effectiveness in clarifying students doubts -->\n    <g transform=\"translate(130.665625 19.3575) scale(0.16 -0.16)\">\n     <defs>\n      <path id=\"DejaVuSans-54\" d=\"M -19 4666 \nL 3928 4666 \nL 3928 4134 \nL 2272 4134 \nL 2272 0 \nL 1638 0 \nL 1638 4134 \nL -19 4134 \nL -19 4666 \nz\n\" transform=\"scale(0.015625)\"/>\n      <path id=\"DejaVuSans-41\" d=\"M 2188 4044 \nL 1331 1722 \nL 3047 1722 \nL 2188 4044 \nz\nM 1831 4666 \nL 2547 4666 \nL 4325 0 \nL 3669 0 \nL 3244 1197 \nL 1141 1197 \nL 716 0 \nL 50 0 \nL 1831 4666 \nz\n\" transform=\"scale(0.015625)\"/>\n      <path id=\"DejaVuSans-70\" d=\"M 1159 525 \nL 1159 -1331 \nL 581 -1331 \nL 581 3500 \nL 1159 3500 \nL 1159 2969 \nQ 1341 3281 1617 3432 \nQ 1894 3584 2278 3584 \nQ 2916 3584 3314 3078 \nQ 3713 2572 3713 1747 \nQ 3713 922 3314 415 \nQ 2916 -91 2278 -91 \nQ 1894 -91 1617 61 \nQ 1341 213 1159 525 \nz\nM 3116 1747 \nQ 3116 2381 2855 2742 \nQ 2594 3103 2138 3103 \nQ 1681 3103 1420 2742 \nQ 1159 2381 1159 1747 \nQ 1159 1113 1420 752 \nQ 1681 391 2138 391 \nQ 2594 391 2855 752 \nQ 3116 1113 3116 1747 \nz\n\" transform=\"scale(0.015625)\"/>\n      <path id=\"DejaVuSans-65\" d=\"M 3597 1894 \nL 3597 1613 \nL 953 1613 \nQ 991 1019 1311 708 \nQ 1631 397 2203 397 \nQ 2534 397 2845 478 \nQ 3156 559 3463 722 \nL 3463 178 \nQ 3153 47 2828 -22 \nQ 2503 -91 2169 -91 \nQ 1331 -91 842 396 \nQ 353 884 353 1716 \nQ 353 2575 817 3079 \nQ 1281 3584 2069 3584 \nQ 2775 3584 3186 3129 \nQ 3597 2675 3597 1894 \nz\nM 3022 2063 \nQ 3016 2534 2758 2815 \nQ 2500 3097 2075 3097 \nQ 1594 3097 1305 2825 \nQ 1016 2553 972 2059 \nL 3022 2063 \nz\n\" transform=\"scale(0.015625)\"/>\n      <path id=\"DejaVuSans-72\" d=\"M 2631 2963 \nQ 2534 3019 2420 3045 \nQ 2306 3072 2169 3072 \nQ 1681 3072 1420 2755 \nQ 1159 2438 1159 1844 \nL 1159 0 \nL 581 0 \nL 581 3500 \nL 1159 3500 \nL 1159 2956 \nQ 1341 3275 1631 3429 \nQ 1922 3584 2338 3584 \nQ 2397 3584 2469 3576 \nQ 2541 3569 2628 3553 \nL 2631 2963 \nz\n\" transform=\"scale(0.015625)\"/>\n      <path id=\"DejaVuSans-63\" d=\"M 3122 3366 \nL 3122 2828 \nQ 2878 2963 2633 3030 \nQ 2388 3097 2138 3097 \nQ 1578 3097 1268 2742 \nQ 959 2388 959 1747 \nQ 959 1106 1268 751 \nQ 1578 397 2138 397 \nQ 2388 397 2633 464 \nQ 2878 531 3122 666 \nL 3122 134 \nQ 2881 22 2623 -34 \nQ 2366 -91 2075 -91 \nQ 1284 -91 818 406 \nQ 353 903 353 1747 \nQ 353 2603 823 3093 \nQ 1294 3584 2113 3584 \nQ 2378 3584 2631 3529 \nQ 2884 3475 3122 3366 \nz\n\" transform=\"scale(0.015625)\"/>\n      <path id=\"DejaVuSans-6f\" d=\"M 1959 3097 \nQ 1497 3097 1228 2736 \nQ 959 2375 959 1747 \nQ 959 1119 1226 758 \nQ 1494 397 1959 397 \nQ 2419 397 2687 759 \nQ 2956 1122 2956 1747 \nQ 2956 2369 2687 2733 \nQ 2419 3097 1959 3097 \nz\nM 1959 3584 \nQ 2709 3584 3137 3096 \nQ 3566 2609 3566 1747 \nQ 3566 888 3137 398 \nQ 2709 -91 1959 -91 \nQ 1206 -91 779 398 \nQ 353 888 353 1747 \nQ 353 2609 779 3096 \nQ 1206 3584 1959 3584 \nz\n\" transform=\"scale(0.015625)\"/>\n      <path id=\"DejaVuSans-66\" d=\"M 2375 4863 \nL 2375 4384 \nL 1825 4384 \nQ 1516 4384 1395 4259 \nQ 1275 4134 1275 3809 \nL 1275 3500 \nL 2222 3500 \nL 2222 3053 \nL 1275 3053 \nL 1275 0 \nL 697 0 \nL 697 3053 \nL 147 3053 \nL 147 3500 \nL 697 3500 \nL 697 3744 \nQ 697 4328 969 4595 \nQ 1241 4863 1831 4863 \nL 2375 4863 \nz\n\" transform=\"scale(0.015625)\"/>\n      <path id=\"DejaVuSans-76\" d=\"M 191 3500 \nL 800 3500 \nL 1894 563 \nL 2988 3500 \nL 3597 3500 \nL 2284 0 \nL 1503 0 \nL 191 3500 \nz\n\" transform=\"scale(0.015625)\"/>\n      <path id=\"DejaVuSans-6c\" d=\"M 603 4863 \nL 1178 4863 \nL 1178 0 \nL 603 0 \nL 603 4863 \nz\n\" transform=\"scale(0.015625)\"/>\n      <path id=\"DejaVuSans-79\" d=\"M 2059 -325 \nQ 1816 -950 1584 -1140 \nQ 1353 -1331 966 -1331 \nL 506 -1331 \nL 506 -850 \nL 844 -850 \nQ 1081 -850 1212 -737 \nQ 1344 -625 1503 -206 \nL 1606 56 \nL 191 3500 \nL 800 3500 \nL 1894 763 \nL 2988 3500 \nL 3597 3500 \nL 2059 -325 \nz\n\" transform=\"scale(0.015625)\"/>\n      <path id=\"DejaVuSans-75\" d=\"M 544 1381 \nL 544 3500 \nL 1119 3500 \nL 1119 1403 \nQ 1119 906 1312 657 \nQ 1506 409 1894 409 \nQ 2359 409 2629 706 \nQ 2900 1003 2900 1516 \nL 2900 3500 \nL 3475 3500 \nL 3475 0 \nL 2900 0 \nL 2900 538 \nQ 2691 219 2414 64 \nQ 2138 -91 1772 -91 \nQ 1169 -91 856 284 \nQ 544 659 544 1381 \nz\nM 1991 3584 \nL 1991 3584 \nz\n\" transform=\"scale(0.015625)\"/>\n      <path id=\"DejaVuSans-62\" d=\"M 3116 1747 \nQ 3116 2381 2855 2742 \nQ 2594 3103 2138 3103 \nQ 1681 3103 1420 2742 \nQ 1159 2381 1159 1747 \nQ 1159 1113 1420 752 \nQ 1681 391 2138 391 \nQ 2594 391 2855 752 \nQ 3116 1113 3116 1747 \nz\nM 1159 2969 \nQ 1341 3281 1617 3432 \nQ 1894 3584 2278 3584 \nQ 2916 3584 3314 3078 \nQ 3713 2572 3713 1747 \nQ 3713 922 3314 415 \nQ 2916 -91 2278 -91 \nQ 1894 -91 1617 61 \nQ 1341 213 1159 525 \nL 1159 0 \nL 581 0 \nL 581 4863 \nL 1159 4863 \nL 1159 2969 \nz\n\" transform=\"scale(0.015625)\"/>\n     </defs>\n     <use xlink:href=\"#DejaVuSans-54\"/>\n     <use xlink:href=\"#DejaVuSans-41\" transform=\"translate(53.333984 0)\"/>\n     <use xlink:href=\"#DejaVuSans-73\" transform=\"translate(121.742188 0)\"/>\n     <use xlink:href=\"#DejaVuSans-20\" transform=\"translate(173.841797 0)\"/>\n     <use xlink:href=\"#DejaVuSans-70\" transform=\"translate(205.628906 0)\"/>\n     <use xlink:href=\"#DejaVuSans-65\" transform=\"translate(269.105469 0)\"/>\n     <use xlink:href=\"#DejaVuSans-72\" transform=\"translate(330.628906 0)\"/>\n     <use xlink:href=\"#DejaVuSans-63\" transform=\"translate(369.492188 0)\"/>\n     <use xlink:href=\"#DejaVuSans-65\" transform=\"translate(424.472656 0)\"/>\n     <use xlink:href=\"#DejaVuSans-70\" transform=\"translate(485.996094 0)\"/>\n     <use xlink:href=\"#DejaVuSans-74\" transform=\"translate(549.472656 0)\"/>\n     <use xlink:href=\"#DejaVuSans-69\" transform=\"translate(588.681641 0)\"/>\n     <use xlink:href=\"#DejaVuSans-6f\" transform=\"translate(616.464844 0)\"/>\n     <use xlink:href=\"#DejaVuSans-6e\" transform=\"translate(677.646484 0)\"/>\n     <use xlink:href=\"#DejaVuSans-20\" transform=\"translate(741.025391 0)\"/>\n     <use xlink:href=\"#DejaVuSans-6f\" transform=\"translate(772.8125 0)\"/>\n     <use xlink:href=\"#DejaVuSans-66\" transform=\"translate(833.994141 0)\"/>\n     <use xlink:href=\"#DejaVuSans-20\" transform=\"translate(869.199219 0)\"/>\n     <use xlink:href=\"#DejaVuSans-65\" transform=\"translate(900.986328 0)\"/>\n     <use xlink:href=\"#DejaVuSans-66\" transform=\"translate(962.509766 0)\"/>\n     <use xlink:href=\"#DejaVuSans-66\" transform=\"translate(997.714844 0)\"/>\n     <use xlink:href=\"#DejaVuSans-65\" transform=\"translate(1032.919922 0)\"/>\n     <use xlink:href=\"#DejaVuSans-63\" transform=\"translate(1094.443359 0)\"/>\n     <use xlink:href=\"#DejaVuSans-74\" transform=\"translate(1149.423828 0)\"/>\n     <use xlink:href=\"#DejaVuSans-69\" transform=\"translate(1188.632812 0)\"/>\n     <use xlink:href=\"#DejaVuSans-76\" transform=\"translate(1216.416016 0)\"/>\n     <use xlink:href=\"#DejaVuSans-65\" transform=\"translate(1275.595703 0)\"/>\n     <use xlink:href=\"#DejaVuSans-6e\" transform=\"translate(1337.119141 0)\"/>\n     <use xlink:href=\"#DejaVuSans-65\" transform=\"translate(1400.498047 0)\"/>\n     <use xlink:href=\"#DejaVuSans-73\" transform=\"translate(1462.021484 0)\"/>\n     <use xlink:href=\"#DejaVuSans-73\" transform=\"translate(1514.121094 0)\"/>\n     <use xlink:href=\"#DejaVuSans-20\" transform=\"translate(1566.220703 0)\"/>\n     <use xlink:href=\"#DejaVuSans-69\" transform=\"translate(1598.007812 0)\"/>\n     <use xlink:href=\"#DejaVuSans-6e\" transform=\"translate(1625.791016 0)\"/>\n     <use xlink:href=\"#DejaVuSans-20\" transform=\"translate(1689.169922 0)\"/>\n     <use xlink:href=\"#DejaVuSans-63\" transform=\"translate(1720.957031 0)\"/>\n     <use xlink:href=\"#DejaVuSans-6c\" transform=\"translate(1775.9375 0)\"/>\n     <use xlink:href=\"#DejaVuSans-61\" transform=\"translate(1803.720703 0)\"/>\n     <use xlink:href=\"#DejaVuSans-72\" transform=\"translate(1865 0)\"/>\n     <use xlink:href=\"#DejaVuSans-69\" transform=\"translate(1906.113281 0)\"/>\n     <use xlink:href=\"#DejaVuSans-66\" transform=\"translate(1933.896484 0)\"/>\n     <use xlink:href=\"#DejaVuSans-79\" transform=\"translate(1967.351562 0)\"/>\n     <use xlink:href=\"#DejaVuSans-69\" transform=\"translate(2026.53125 0)\"/>\n     <use xlink:href=\"#DejaVuSans-6e\" transform=\"translate(2054.314453 0)\"/>\n     <use xlink:href=\"#DejaVuSans-67\" transform=\"translate(2117.693359 0)\"/>\n     <use xlink:href=\"#DejaVuSans-20\" transform=\"translate(2181.169922 0)\"/>\n     <use xlink:href=\"#DejaVuSans-73\" transform=\"translate(2212.957031 0)\"/>\n     <use xlink:href=\"#DejaVuSans-74\" transform=\"translate(2265.056641 0)\"/>\n     <use xlink:href=\"#DejaVuSans-75\" transform=\"translate(2304.265625 0)\"/>\n     <use xlink:href=\"#DejaVuSans-64\" transform=\"translate(2367.644531 0)\"/>\n     <use xlink:href=\"#DejaVuSans-65\" transform=\"translate(2431.121094 0)\"/>\n     <use xlink:href=\"#DejaVuSans-6e\" transform=\"translate(2492.644531 0)\"/>\n     <use xlink:href=\"#DejaVuSans-74\" transform=\"translate(2556.023438 0)\"/>\n     <use xlink:href=\"#DejaVuSans-73\" transform=\"translate(2595.232422 0)\"/>\n     <use xlink:href=\"#DejaVuSans-20\" transform=\"translate(2647.332031 0)\"/>\n     <use xlink:href=\"#DejaVuSans-64\" transform=\"translate(2679.119141 0)\"/>\n     <use xlink:href=\"#DejaVuSans-6f\" transform=\"translate(2742.595703 0)\"/>\n     <use xlink:href=\"#DejaVuSans-75\" transform=\"translate(2803.777344 0)\"/>\n     <use xlink:href=\"#DejaVuSans-62\" transform=\"translate(2867.15625 0)\"/>\n     <use xlink:href=\"#DejaVuSans-74\" transform=\"translate(2930.632812 0)\"/>\n     <use xlink:href=\"#DejaVuSans-73\" transform=\"translate(2969.841797 0)\"/>\n    </g>\n   </g>\n   <g id=\"legend_1\">\n    <g id=\"patch_16\">\n     <path d=\"M 625.958125 71.57125 \nL 697.054375 71.57125 \nQ 699.454375 71.57125 699.454375 69.17125 \nL 699.454375 52.7575 \nQ 699.454375 50.3575 697.054375 50.3575 \nL 625.958125 50.3575 \nQ 623.558125 50.3575 623.558125 52.7575 \nL 623.558125 69.17125 \nQ 623.558125 71.57125 625.958125 71.57125 \nz\n\" style=\"fill: #ffffff; opacity: 0.8; stroke: #cccccc; stroke-linejoin: miter\"/>\n    </g>\n    <g id=\"line2d_75\">\n     <path d=\"M 628.358125 60.075625 \nL 640.358125 60.075625 \nL 652.358125 60.075625 \n\" style=\"fill: none; stroke: #d18d20; stroke-width: 2; stroke-linecap: square\"/>\n     <g>\n      <use xlink:href=\"#m816fe0d70b\" x=\"640.358125\" y=\"60.075625\" style=\"fill: #d18d20; stroke: #d18d20\"/>\n     </g>\n    </g>\n    <g id=\"text_27\">\n     <!-- Mean -->\n     <g transform=\"translate(661.958125 64.275625) scale(0.12 -0.12)\">\n      <defs>\n       <path id=\"DejaVuSans-4d\" d=\"M 628 4666 \nL 1569 4666 \nL 2759 1491 \nL 3956 4666 \nL 4897 4666 \nL 4897 0 \nL 4281 0 \nL 4281 4097 \nL 3078 897 \nL 2444 897 \nL 1241 4097 \nL 1241 0 \nL 628 0 \nL 628 4666 \nz\n\" transform=\"scale(0.015625)\"/>\n      </defs>\n      <use xlink:href=\"#DejaVuSans-4d\"/>\n      <use xlink:href=\"#DejaVuSans-65\" transform=\"translate(86.279297 0)\"/>\n      <use xlink:href=\"#DejaVuSans-61\" transform=\"translate(147.802734 0)\"/>\n      <use xlink:href=\"#DejaVuSans-6e\" transform=\"translate(209.082031 0)\"/>\n     </g>\n    </g>\n   </g>\n  </g>\n </g>\n <defs>\n  <clipPath id=\"p264c1a5184\">\n   <rect x=\"39.384375\" y=\"44.3575\" width=\"666.07\" height=\"339.84\"/>\n  </clipPath>\n </defs>\n</svg>\n"
          },
          "metadata": {}
        }
      ]
    },
    {
      "cell_type": "markdown",
      "source": [
        "Over 85% of TAs reported they effectivelly helped students clarifying doubts."
      ],
      "metadata": {
        "id": "lrfe23D6bO1P"
      }
    },
    {
      "cell_type": "markdown",
      "source": [
        "# Q2_Pilot\n",
        "\n",
        "This question was not mandatory and is an open text field.<br>\n",
        "`Did you encounter any challenges in facilitating today's session? If yes, please briefly describe`"
      ],
      "metadata": {
        "id": "lEZIY12lxTNl"
      }
    },
    {
      "cell_type": "code",
      "source": [
        "combined_df.groupby('WeekDay')['Q2_Pilot'].unique()"
      ],
      "metadata": {
        "colab": {
          "base_uri": "https://localhost:8080/",
          "height": 484
        },
        "id": "2cT8eF9JZinh",
        "outputId": "77d33dc7-9c16-4223-bf7d-cce18b36dc34"
      },
      "execution_count": null,
      "outputs": [
        {
          "output_type": "stream",
          "name": "stderr",
          "text": [
            "<ipython-input-34-7123256f417a>:1: FutureWarning: The default of observed=False is deprecated and will be changed to True in a future version of pandas. Pass observed=False to retain current behavior or observed=True to adopt the future default and silence this warning.\n",
            "  combined_df.groupby('WeekDay')['Q2_Pilot'].unique()\n"
          ]
        },
        {
          "output_type": "execute_result",
          "data": {
            "text/plain": [
              "WeekDay\n",
              "w2d1                                                [nan]\n",
              "w2d2    [nan, The questions about content are the most...\n",
              "w2d3    [nan, There is no written daily guide for proj...\n",
              "w2d4    [nan, Students were not super enthusiastic abo...\n",
              "w2d5    [nan, No, the students were collaborative with...\n",
              "w3d1    [nan, The session was mostly interactive widge...\n",
              "w3d2    [nan, we couldn't complete yesterday's last tu...\n",
              "w3d3    [nan, Today I had the opportunity to get every...\n",
              "w3d4    [Interactive demo 2\\nThe purpose of this demo ...\n",
              "w3d5    [Tutorial 3 was not clear for students\\n, nan,...\n",
              "Name: Q2_Pilot, dtype: object"
            ],
            "text/html": [
              "<div>\n",
              "<style scoped>\n",
              "    .dataframe tbody tr th:only-of-type {\n",
              "        vertical-align: middle;\n",
              "    }\n",
              "\n",
              "    .dataframe tbody tr th {\n",
              "        vertical-align: top;\n",
              "    }\n",
              "\n",
              "    .dataframe thead th {\n",
              "        text-align: right;\n",
              "    }\n",
              "</style>\n",
              "<table border=\"1\" class=\"dataframe\">\n",
              "  <thead>\n",
              "    <tr style=\"text-align: right;\">\n",
              "      <th></th>\n",
              "      <th>Q2_Pilot</th>\n",
              "    </tr>\n",
              "    <tr>\n",
              "      <th>WeekDay</th>\n",
              "      <th></th>\n",
              "    </tr>\n",
              "  </thead>\n",
              "  <tbody>\n",
              "    <tr>\n",
              "      <th>w2d1</th>\n",
              "      <td>[nan]</td>\n",
              "    </tr>\n",
              "    <tr>\n",
              "      <th>w2d2</th>\n",
              "      <td>[nan, The questions about content are the most...</td>\n",
              "    </tr>\n",
              "    <tr>\n",
              "      <th>w2d3</th>\n",
              "      <td>[nan, There is no written daily guide for proj...</td>\n",
              "    </tr>\n",
              "    <tr>\n",
              "      <th>w2d4</th>\n",
              "      <td>[nan, Students were not super enthusiastic abo...</td>\n",
              "    </tr>\n",
              "    <tr>\n",
              "      <th>w2d5</th>\n",
              "      <td>[nan, No, the students were collaborative with...</td>\n",
              "    </tr>\n",
              "    <tr>\n",
              "      <th>w3d1</th>\n",
              "      <td>[nan, The session was mostly interactive widge...</td>\n",
              "    </tr>\n",
              "    <tr>\n",
              "      <th>w3d2</th>\n",
              "      <td>[nan, we couldn't complete yesterday's last tu...</td>\n",
              "    </tr>\n",
              "    <tr>\n",
              "      <th>w3d3</th>\n",
              "      <td>[nan, Today I had the opportunity to get every...</td>\n",
              "    </tr>\n",
              "    <tr>\n",
              "      <th>w3d4</th>\n",
              "      <td>[Interactive demo 2\\nThe purpose of this demo ...</td>\n",
              "    </tr>\n",
              "    <tr>\n",
              "      <th>w3d5</th>\n",
              "      <td>[Tutorial 3 was not clear for students\\n, nan,...</td>\n",
              "    </tr>\n",
              "  </tbody>\n",
              "</table>\n",
              "</div><br><label><b>dtype:</b> object</label>"
            ]
          },
          "metadata": {},
          "execution_count": 34
        }
      ]
    },
    {
      "cell_type": "code",
      "source": [
        "grouped = combined_df.groupby('WeekDay')['Q2_Pilot'].unique()\n",
        "\n",
        "for weekday, answers in grouped.items():\n",
        "    print(\"\\033[1m\" + f\"Weekday: {weekday}\" + \"\\033[0m\")\n",
        "\n",
        "    for answer in answers:\n",
        "        print(answer)\n",
        "    print(\"-\" * 40)"
      ],
      "metadata": {
        "colab": {
          "base_uri": "https://localhost:8080/"
        },
        "id": "kWiIMfRzcxa1",
        "outputId": "b06c799d-31e9-4754-8561-bd3755217a9c"
      },
      "execution_count": null,
      "outputs": [
        {
          "output_type": "stream",
          "name": "stdout",
          "text": [
            "\u001b[1mWeekday: w2d1\u001b[0m\n",
            "nan\n",
            "----------------------------------------\n",
            "\u001b[1mWeekday: w2d2\u001b[0m\n",
            "nan\n",
            "The questions about content are the most dificult to respond I think, and the content channel on discord doesn't help, I asked something and no one answer\n",
            "4 tutorials are too much to be covered in 1 day. As the instructor said before, students face challenges after tutorial 2 in order to understand the differences between continuous VS discrete timing formulation and they need more time and content in order to understand well.\n",
            "Some students where lacking the necessary linear algebra skills to understand the tutorials\n",
            "No, I did not face any challenges. Members from my pod are quite experienced and seniors and are very much self-sufficient in learning about the different concepts and discussing with the pod in a very fruitful manner in case of any doubts.\n",
            "Like last year,  we need more time to complete all tutorial content. Today, I could not finish the last section of the final tutorial.\n",
            "\n",
            "didn't have time to finish tutorial 4 due to trying to debug for students\n",
            "My perception when refreshing on today's content is that it was nonintuitive to understand the map from 1D systems to imaginary to eigenvalues/vectors of systems, and it would have benefited from a primer like in day 4 with the geometry of data in space for use of eigenstuff with PCA, but with A matrices. Even just having one section in one tutorial on this might be helpful. \n",
            "No I did not experience any challenges. \n",
            "I had trouble motivating one of project team to write their proposal in time. \n",
            "Yes, lack of participation from one student throughout the course, and unfriendly interaction with them.\n",
            "Getting quiet students to engage is a bit difficult. I made a friendly atmosphere with everyone and I think everyone feels okay in this regard but the participation is low and they wait until I tell the answers or I continue myself.\n",
            "Trying to be able to encourage students to participate.\n",
            "\n",
            "Having enough engineering knowledge to provide this perspective on my answers as well.\n",
            "\n",
            "Not being able to encourage engineering students to participate also prevents me from complementing the learning of this perspective by the students and any other additional or better explanations they might be able to provide.\n",
            "Timing. Students being tired. Students not volunteering. Students still not doing the survey.\n",
            "----------------------------------------\n",
            "\u001b[1mWeekday: w2d3\u001b[0m\n",
            "nan\n",
            "There is no written daily guide for projects in this day.\n",
            "No\n",
            "The solutions to today's tutorials were really cryptic, it was hard for everyone to understand. Sometimes after an exercise there was no clarification of what you are doing. I find it hard to understand how to help students in this way.\n",
            "Parts of the think questions did not make sense and the solutions were also unclear. The solutions helped but did not resolve confusions totally \n",
            "Like last year,  we need more time to complete all tutorials. Today, I could not finish the last section of the final tutorial.\n",
            "\n",
            "The solution to the thinking questions at the end of tutorial 2 is confusing and unclear to me. The recommended paper is more clear.\n",
            "Several points of confusion arose because of points lacking clarity in the course notebook for today:\n",
            "- Think problem #2 did not have a solution at the link provided, just repeated the prompt.\n",
            "- Free membrane potential concept in Tutorial 3 not introduced in the video - what was the point here students were supposed to extract?\n",
            "- In tutorial 2, the covariance and variance equations were missing n-1 and didn't map to typical variance equations - why these formulations?\n",
            "- Slides provided for download didn't seem to map onto slides in the tutorial videos.\n",
            "\n",
            "In general, today seemed a bit overwhelming for my pod, especially because it wasn't very interactive. The videos are VERY long (Tutorial 3 has one that's 20min!), and there weren't many interactive coding exercises, so it felt more like a lecture. Several students noted that the coding exercises felt very \"fill in the blank\" without giving them additional insight into what was going on conceptually when integrating the LIF models. \n",
            "I felt that the videos in the 3rd tutorial were too long and it was difficult for the students to maintain attention throughout, remember the material from the video and extract the parts relevant to the exercises. I found the explanations in the text in this tutorial to be less clear to the students than the ones on the other days (and this topic is the one that I feel the least confident teaching out of all NMA topics due to my background). I am particularly not sure about Think3.1 in tutorial 2 (I am not sure why students get asked to explain the parameters if intuitive understanding is difficult - it was difficult to me to assess if we completed this activity as intended by the tutorial creators and should move forward). \n",
            "There are some students who don't participate in discussions because of their language skills. I ask them to be prepared for the next days' intro so they will have time to be prepared and they will also feel they are participating. \n",
            "Some students were not confident enough to take the role of a presenter of tutorials. As a result They had a tendency to pass on their presenting turn to other students.   \n",
            "I think mostly that students stay with their camera's off, but that's okay for me if that's more comfortable for them \n",
            "Trying to be able to encourage students to participate.\n",
            "\n",
            "Having enough engineering knowledge to provide this perspective on my answers as well.\n",
            "\n",
            "Not being able to encourage engineering students to participate also prevents me from complementing the learning of this perspective by the students and any other additional or better explanations they might be able to provide.\n",
            "Did not get to do all bonus parts and tutorials\n",
            "----------------------------------------\n",
            "\u001b[1mWeekday: w2d4\u001b[0m\n",
            "nan\n",
            "Students were not super enthusiastic about the repetitiveness of the coding exercises today, but I tried to highlight differences in formulations of how we were reusing functions previously coded.\n",
            "I also noticed that Student Survey Q1 was not covered in the materials and the last question was from the bonus tutorial, not Tutorial 2.\n",
            "Encouraging students to participate.\n",
            "\n",
            "Being able to provide enough engineering perspective.\n",
            "\n",
            "Being able to encourage other students to complement by response with additional or better explanations.\n",
            "----------------------------------------\n",
            "\u001b[1mWeekday: w2d5\u001b[0m\n",
            "nan\n",
            "No, the students were collaborative with all the sessions. \n",
            "I was not aware of my tasks as regular TA for W2D5 and how should be coordinate with project TA. \n",
            "I lost the host for some time. But thankfully I got back early. What could I have done differently? \n",
            "Encouraging students to participate.\n",
            "\n",
            "Being able to make sure they understood my suggestions and sometimes understanding their explanations on what has been accomplished so far in the projects.\n",
            "No\n",
            "We did only half of the tutorial 2, ran out of time, but everyone can now catch fish\n",
            "----------------------------------------\n",
            "\u001b[1mWeekday: w3d1\u001b[0m\n",
            "nan\n",
            "The session was mostly interactive widgets which I, and the pod, feel like it slowed down the pace compared to the other tutorials \n",
            "The estimated time of tutorials are not accurate at all. especially when students are not familiar with beyesian concepts before, they need much more time to understand what is going on.\n",
            "The Tutorials of W3D1 are somehow confusing, and time is limited, making it challenging to cover all the tutorials. It might be beneficial to simplify these concepts.\n",
            "\n",
            "Zero one code didnt work in T2\n",
            "The format of the exercises today were quite challenging in terms of getting students to engage in their small groups or in the main room, and there wasn't a much participation from all. Some of the widget and think questions were not worded in a way that students understood what they should be doing. I also think it is quite challenging to dive straight into Bayesian decision-making with utilities for students who have never been exposed to Bayesian inference in general - an intro tutorial on just the inference piece without decision utility would have been helpful, especially since so much of the rest of the week depends on this day.\n",
            "Yes, some of the students felt okay working alone without peer discussion. I  had to plead with them to get them engaged. \n",
            "the materials was easy but too time consuming to learn. \n",
            "I had difficulties motivating one of the project teams to work on a  preliminary presentation to practice demonstrating their work to the other team in our pod. Also we continues working on bonus tutorial after finishing the first and second but it was somehow outdated despite being about the important topic of model fitting.  \n",
            "Encouraging students to participate.\n",
            "\n",
            "Being able to provide enough engineering perspective in my responses.\n",
            "\n",
            "Encouraging students to participate so that they complement my responses with additional or better explanations.\n",
            "No\n",
            "----------------------------------------\n",
            "\u001b[1mWeekday: w3d2\u001b[0m\n",
            "nan\n",
            "we couldn't complete yesterday's last tutorial in our tutorial time (because they had too many problems and questions about understanding the basics of first tutorial). I wanted them to complete the last tutorial individually, but they didn't. None of them did it!\n",
            "So we couldn't work on the Tutorial 3 of today, since they were not familiar with Astrocat example and related concepts.\n",
            "Time is limited for covering all the tutorials; however, students are eager to continue. It would be beneficial to manage this better.\n",
            "Had a temporary issue in Coding Exercise 1, tutorial 2 where, because the initial state is hard-coded as -1, the answer is wrong if the means are put in the mean vector backwards.\n",
            "Today, I did not have any problem with my students \n",
            "I think the code snippets to fill out in this tutorial were too long (too many lines to be filled by students at once). I think if this code was broken up into smaller units with tests in between it would make the work go more smoothly in pods in which the students have little programming experience and find it difficult to debug the code by themselves. \n",
            "No. all good. \n",
            "Encouraging students to participate.\n",
            "\n",
            "Being able to provide enough engineering perspective in my responses.\n",
            "\n",
            "Encouraging students to participate so that they complement my responses with additional or better explanations.\n",
            "No\n",
            "I was out of energy in the middle of the day\n",
            "Did not finish the last 2 sections.\n",
            "----------------------------------------\n",
            "\u001b[1mWeekday: w3d3\u001b[0m\n",
            "nan\n",
            "Today I had the opportunity to get everyone engage. \n",
            "No\n",
            "----------------------------------------\n",
            "\u001b[1mWeekday: w3d4\u001b[0m\n",
            "Interactive demo 2\n",
            "The purpose of this demo was unclear\n",
            "There is a bonus section that is not responded in the instructor notebook\n",
            "students had no experience with RL and it was too difficult for them to track materials and they had too many questions which lead us to not be able to cover all of the tutorials.\n",
            "No, I didn't!\n",
            "The content of today's tutorials was intricate, presenting challenges for the students to comprehend. The complexity of the material required deep engagement and critical thinking, but we had limited time to cover it all.\n",
            "\n",
            "nan\n",
            "Yes - the widgets in Tutorial 2 were a source of trouble and slowed down the pace of class because they take so long to refresh. In addition, some students with slower internet connection were unable to load that notebook (because of uninterrupted time needed to fetch the resources loaded) and couldn't follow along live. \n",
            "No problem was encountered but the topic was a little bit abstract. \n",
            "The two breakout rooms were totally out of sync regarding the tutorials and. I had to go back and forth between the two groups. Finally one group finished ther tutorials about 30 minutes sooner than the other. \n",
            "Some students are hearing Reinforcement learning for the first time. this makes it hard for them to follow.\n",
            "Encouraging students to participate.\n",
            "\n",
            "Being able to provide enough engineering perspective in my responses.\n",
            "\n",
            "Encouraging students to participate so that they complement my responses with additional or better explanations.\n",
            "\n",
            "Finding additional time to do that and to simultaneously give a very good review to their presentations and research project advances.\n",
            "No\n",
            "It was not easy to explain RL.\n",
            "We spend a lot of time to understand it.\n",
            "In the end, we did not do the last tutorial.\n",
            "----------------------------------------\n",
            "\u001b[1mWeekday: w3d5\u001b[0m\n",
            "Tutorial 3 was not clear for students\n",
            "\n",
            "nan\n",
            "different students sometimes with totally different backgrounds and level\n",
            "No \n",
            "presentation slots were not clear. Our breakout room for presenting did not have a manager so I took control of the session when I saw no one talking.\n",
            "Encouraging students to participate.\n",
            "\n",
            "Being able to provide enough engineering perspective in my responses.\n",
            "\n",
            "Encouraging students to participate so that they complement my responses with additional or better explanations.\n",
            "\n",
            "Finding additional time to do that and to simultaneously give a very good review to their presentations and research project advances.\n",
            "No\n",
            "----------------------------------------\n"
          ]
        },
        {
          "output_type": "stream",
          "name": "stderr",
          "text": [
            "<ipython-input-35-f791f32ea66a>:1: FutureWarning: The default of observed=False is deprecated and will be changed to True in a future version of pandas. Pass observed=False to retain current behavior or observed=True to adopt the future default and silence this warning.\n",
            "  grouped = combined_df.groupby('WeekDay')['Q2_Pilot'].unique()\n"
          ]
        }
      ]
    },
    {
      "cell_type": "markdown",
      "source": [
        "# Q9\n",
        "\n",
        "`Approximately how many hours did you spend on preparatory work for today's session?`\n",
        "\n",
        "A - Less than 1 hour<br>\n",
        "B - 1-2 hours <br>\n",
        "C - 2-3 hours<br>\n",
        "D - More than 3 hours<br>\n"
      ],
      "metadata": {
        "id": "kVbH49OSxfUL"
      }
    },
    {
      "cell_type": "code",
      "source": [
        "mapping_dict = {\n",
        "    'A': 'Less than 1 hour',\n",
        "    'B': '1-2 hours',\n",
        "    'C': '2-3 hours',\n",
        "    'D': 'More than 3 hours'\n",
        "}\n",
        "\n",
        "# Using .map()\n",
        "combined_df['Q9'] = combined_df['Q9'].map(mapping_dict)"
      ],
      "metadata": {
        "id": "pORMp8I7d41H"
      },
      "execution_count": 31,
      "outputs": []
    },
    {
      "cell_type": "code",
      "source": [
        "Perc_Q9 = combined_df.groupby('WeekDay')['Q9'].value_counts(normalize=True) * 100\n",
        "print(Perc_Q9)"
      ],
      "metadata": {
        "colab": {
          "base_uri": "https://localhost:8080/"
        },
        "id": "jaaX5uphdc0-",
        "outputId": "15d3f7ce-c936-427c-eb4f-f5a87940f53e"
      },
      "execution_count": 32,
      "outputs": [
        {
          "output_type": "stream",
          "name": "stdout",
          "text": [
            "WeekDay  Q9               \n",
            "w2d1     1-2 hours            0.00\n",
            "         2-3 hours            0.00\n",
            "         Less than 1 hour     0.00\n",
            "         More than 3 hours    0.00\n",
            "w2d2     2-3 hours           46.15\n",
            "         1-2 hours           30.77\n",
            "         Less than 1 hour    11.54\n",
            "         More than 3 hours   11.54\n",
            "w2d3     1-2 hours           40.00\n",
            "         2-3 hours           32.00\n",
            "         More than 3 hours   16.00\n",
            "         Less than 1 hour    12.00\n",
            "w2d4     1-2 hours           33.33\n",
            "         2-3 hours           33.33\n",
            "         Less than 1 hour    20.00\n",
            "         More than 3 hours   13.33\n",
            "w2d5     1-2 hours           60.00\n",
            "         More than 3 hours   20.00\n",
            "         Less than 1 hour    13.33\n",
            "         2-3 hours            6.67\n",
            "w3d1     1-2 hours           35.00\n",
            "         2-3 hours           25.00\n",
            "         Less than 1 hour    20.00\n",
            "         More than 3 hours   20.00\n",
            "w3d2     1-2 hours           30.00\n",
            "         2-3 hours           30.00\n",
            "         More than 3 hours   25.00\n",
            "         Less than 1 hour    15.00\n",
            "w3d3     1-2 hours           45.45\n",
            "         2-3 hours           45.45\n",
            "         Less than 1 hour     9.09\n",
            "         More than 3 hours    0.00\n",
            "w3d4     1-2 hours           41.18\n",
            "         2-3 hours           35.29\n",
            "         Less than 1 hour    11.76\n",
            "         More than 3 hours   11.76\n",
            "w3d5     1-2 hours           55.56\n",
            "         2-3 hours           22.22\n",
            "         Less than 1 hour    11.11\n",
            "         More than 3 hours   11.11\n",
            "Name: proportion, dtype: float64\n"
          ]
        },
        {
          "output_type": "stream",
          "name": "stderr",
          "text": [
            "<ipython-input-32-78eaa079f382>:1: FutureWarning: The default of observed=False is deprecated and will be changed to True in a future version of pandas. Pass observed=False to retain current behavior or observed=True to adopt the future default and silence this warning.\n",
            "  Perc_Q9 = combined_df.groupby('WeekDay')['Q9'].value_counts(normalize=True) * 100\n"
          ]
        }
      ]
    },
    {
      "cell_type": "code",
      "source": [
        "#print(combined_df[['WeekDay', 'TA_type', 'Q9']].head())\n",
        "Perc_Q9_TA = combined_df.groupby(['WeekDay','TA_type'])['Q9'].value_counts(normalize=True) * 100\n",
        "print(Perc_Q9_TA)"
      ],
      "metadata": {
        "colab": {
          "base_uri": "https://localhost:8080/"
        },
        "id": "pIOpO3ZFYfel",
        "outputId": "643f5586-8e8c-4eae-b483-8b00f6065915"
      },
      "execution_count": 33,
      "outputs": [
        {
          "output_type": "stream",
          "name": "stdout",
          "text": [
            "WeekDay  TA_type     Q9               \n",
            "w2d1     Lead TA     1-2 hours            0.00\n",
            "                     2-3 hours            0.00\n",
            "                     Less than 1 hour     0.00\n",
            "                     More than 3 hours    0.00\n",
            "         Project TA  1-2 hours            0.00\n",
            "                                          ... \n",
            "w3d5     Project TA  More than 3 hours    0.00\n",
            "         Regular TA  1-2 hours           62.50\n",
            "                     2-3 hours           25.00\n",
            "                     Less than 1 hour     6.25\n",
            "                     More than 3 hours    6.25\n",
            "Name: proportion, Length: 120, dtype: float64\n"
          ]
        },
        {
          "output_type": "stream",
          "name": "stderr",
          "text": [
            "<ipython-input-33-53a7c831697f>:2: FutureWarning: The default of observed=False is deprecated and will be changed to True in a future version of pandas. Pass observed=False to retain current behavior or observed=True to adopt the future default and silence this warning.\n",
            "  Perc_Q9_TA = combined_df.groupby(['WeekDay','TA_type'])['Q9'].value_counts(normalize=True) * 100\n"
          ]
        }
      ]
    },
    {
      "cell_type": "code",
      "source": [
        "Perc_Q9 = combined_df.groupby('WeekDay')['Q9'].value_counts(normalize=True) * 100\n",
        "print(Perc_Q9)"
      ],
      "metadata": {
        "colab": {
          "base_uri": "https://localhost:8080/"
        },
        "id": "lGH2FukuavaI",
        "outputId": "f0f25b71-cec3-4bdd-e75b-e8fc8fdd3c93"
      },
      "execution_count": 34,
      "outputs": [
        {
          "output_type": "stream",
          "name": "stdout",
          "text": [
            "WeekDay  Q9               \n",
            "w2d1     1-2 hours            0.00\n",
            "         2-3 hours            0.00\n",
            "         Less than 1 hour     0.00\n",
            "         More than 3 hours    0.00\n",
            "w2d2     2-3 hours           46.15\n",
            "         1-2 hours           30.77\n",
            "         Less than 1 hour    11.54\n",
            "         More than 3 hours   11.54\n",
            "w2d3     1-2 hours           40.00\n",
            "         2-3 hours           32.00\n",
            "         More than 3 hours   16.00\n",
            "         Less than 1 hour    12.00\n",
            "w2d4     1-2 hours           33.33\n",
            "         2-3 hours           33.33\n",
            "         Less than 1 hour    20.00\n",
            "         More than 3 hours   13.33\n",
            "w2d5     1-2 hours           60.00\n",
            "         More than 3 hours   20.00\n",
            "         Less than 1 hour    13.33\n",
            "         2-3 hours            6.67\n",
            "w3d1     1-2 hours           35.00\n",
            "         2-3 hours           25.00\n",
            "         Less than 1 hour    20.00\n",
            "         More than 3 hours   20.00\n",
            "w3d2     1-2 hours           30.00\n",
            "         2-3 hours           30.00\n",
            "         More than 3 hours   25.00\n",
            "         Less than 1 hour    15.00\n",
            "w3d3     1-2 hours           45.45\n",
            "         2-3 hours           45.45\n",
            "         Less than 1 hour     9.09\n",
            "         More than 3 hours    0.00\n",
            "w3d4     1-2 hours           41.18\n",
            "         2-3 hours           35.29\n",
            "         Less than 1 hour    11.76\n",
            "         More than 3 hours   11.76\n",
            "w3d5     1-2 hours           55.56\n",
            "         2-3 hours           22.22\n",
            "         Less than 1 hour    11.11\n",
            "         More than 3 hours   11.11\n",
            "Name: proportion, dtype: float64\n"
          ]
        },
        {
          "output_type": "stream",
          "name": "stderr",
          "text": [
            "<ipython-input-34-78eaa079f382>:1: FutureWarning: The default of observed=False is deprecated and will be changed to True in a future version of pandas. Pass observed=False to retain current behavior or observed=True to adopt the future default and silence this warning.\n",
            "  Perc_Q9 = combined_df.groupby('WeekDay')['Q9'].value_counts(normalize=True) * 100\n"
          ]
        }
      ]
    },
    {
      "cell_type": "code",
      "source": [
        "#Convert the Series to a DataFrame and reset the index\n",
        "perc_q9_df = Perc_Q9.reset_index(name='Percentage')\n",
        "# Pivot the DataFrame: rows are WeekDay, columns are Q9 answers, values are Percentage\n",
        "perc_q9_pivot = perc_q9_df.pivot(index='WeekDay', columns='Q9', values='Percentage')\n",
        "\n",
        "perc_q9_pivot.plot(kind='bar', stacked=True, figsize=(10, 7))\n",
        "plt.ylabel('Percentage (%)')\n",
        "plt.title('Hours spent on preparatory work by Weekday')\n",
        "plt.legend(title='Q9 Responses')\n",
        "plt.show()"
      ],
      "metadata": {
        "colab": {
          "base_uri": "https://localhost:8080/",
          "height": 642
        },
        "id": "DdDAk9XYeav3",
        "outputId": "6b4e225e-fb37-4434-d1d2-2447cc5db998"
      },
      "execution_count": 35,
      "outputs": [
        {
          "output_type": "display_data",
          "data": {
            "text/plain": [
              "<Figure size 1000x700 with 1 Axes>"
            ],
            "image/svg+xml": "<?xml version=\"1.0\" encoding=\"utf-8\" standalone=\"no\"?>\n<!DOCTYPE svg PUBLIC \"-//W3C//DTD SVG 1.1//EN\"\n  \"http://www.w3.org/Graphics/SVG/1.1/DTD/svg11.dtd\">\n<svg xmlns:xlink=\"http://www.w3.org/1999/xlink\" width=\"612.165625pt\" height=\"465.527812pt\" viewBox=\"0 0 612.165625 465.527812\" xmlns=\"http://www.w3.org/2000/svg\" version=\"1.1\">\n <metadata>\n  <rdf:RDF xmlns:dc=\"http://purl.org/dc/elements/1.1/\" xmlns:cc=\"http://creativecommons.org/ns#\" xmlns:rdf=\"http://www.w3.org/1999/02/22-rdf-syntax-ns#\">\n   <cc:Work>\n    <dc:type rdf:resource=\"http://purl.org/dc/dcmitype/StillImage\"/>\n    <dc:date>2025-02-14T06:19:23.560962</dc:date>\n    <dc:format>image/svg+xml</dc:format>\n    <dc:creator>\n     <cc:Agent>\n      <dc:title>Matplotlib v3.10.0, https://matplotlib.org/</dc:title>\n     </cc:Agent>\n    </dc:creator>\n   </cc:Work>\n  </rdf:RDF>\n </metadata>\n <defs>\n  <style type=\"text/css\">*{stroke-linejoin: round; stroke-linecap: butt}</style>\n </defs>\n <g id=\"figure_1\">\n  <g id=\"patch_1\">\n   <path d=\"M 0 465.527812 \nL 612.165625 465.527812 \nL 612.165625 0 \nL 0 0 \nz\n\" style=\"fill: #ffffff\"/>\n  </g>\n  <g id=\"axes_1\">\n   <g id=\"patch_2\">\n    <path d=\"M 46.965625 410.398125 \nL 604.965625 410.398125 \nL 604.965625 22.318125 \nL 46.965625 22.318125 \nz\n\" style=\"fill: #ffffff\"/>\n   </g>\n   <g id=\"patch_3\">\n    <path d=\"M 60.915625 410.398125 \nL 88.815625 410.398125 \nL 88.815625 410.398125 \nL 60.915625 410.398125 \nz\n\" clip-path=\"url(#p1844bcfc23)\" style=\"fill: #1f77b4\"/>\n   </g>\n   <g id=\"patch_4\">\n    <path d=\"M 116.715625 410.398125 \nL 144.615625 410.398125 \nL 144.615625 296.675048 \nL 116.715625 296.675048 \nz\n\" clip-path=\"url(#p1844bcfc23)\" style=\"fill: #1f77b4\"/>\n   </g>\n   <g id=\"patch_5\">\n    <path d=\"M 172.515625 410.398125 \nL 200.415625 410.398125 \nL 200.415625 262.558125 \nL 172.515625 262.558125 \nz\n\" clip-path=\"url(#p1844bcfc23)\" style=\"fill: #1f77b4\"/>\n   </g>\n   <g id=\"patch_6\">\n    <path d=\"M 228.315625 410.398125 \nL 256.215625 410.398125 \nL 256.215625 287.198125 \nL 228.315625 287.198125 \nz\n\" clip-path=\"url(#p1844bcfc23)\" style=\"fill: #1f77b4\"/>\n   </g>\n   <g id=\"patch_7\">\n    <path d=\"M 284.115625 410.398125 \nL 312.015625 410.398125 \nL 312.015625 188.638125 \nL 284.115625 188.638125 \nz\n\" clip-path=\"url(#p1844bcfc23)\" style=\"fill: #1f77b4\"/>\n   </g>\n   <g id=\"patch_8\">\n    <path d=\"M 339.915625 410.398125 \nL 367.815625 410.398125 \nL 367.815625 281.038125 \nL 339.915625 281.038125 \nz\n\" clip-path=\"url(#p1844bcfc23)\" style=\"fill: #1f77b4\"/>\n   </g>\n   <g id=\"patch_9\">\n    <path d=\"M 395.715625 410.398125 \nL 423.615625 410.398125 \nL 423.615625 299.518125 \nL 395.715625 299.518125 \nz\n\" clip-path=\"url(#p1844bcfc23)\" style=\"fill: #1f77b4\"/>\n   </g>\n   <g id=\"patch_10\">\n    <path d=\"M 451.515625 410.398125 \nL 479.415625 410.398125 \nL 479.415625 242.398125 \nL 451.515625 242.398125 \nz\n\" clip-path=\"url(#p1844bcfc23)\" style=\"fill: #1f77b4\"/>\n   </g>\n   <g id=\"patch_11\">\n    <path d=\"M 507.315625 410.398125 \nL 535.215625 410.398125 \nL 535.215625 258.20989 \nL 507.315625 258.20989 \nz\n\" clip-path=\"url(#p1844bcfc23)\" style=\"fill: #1f77b4\"/>\n   </g>\n   <g id=\"patch_12\">\n    <path d=\"M 563.115625 410.398125 \nL 591.015625 410.398125 \nL 591.015625 205.064792 \nL 563.115625 205.064792 \nz\n\" clip-path=\"url(#p1844bcfc23)\" style=\"fill: #1f77b4\"/>\n   </g>\n   <g id=\"patch_13\">\n    <path d=\"M 60.915625 410.398125 \nL 88.815625 410.398125 \nL 88.815625 410.398125 \nL 60.915625 410.398125 \nz\n\" clip-path=\"url(#p1844bcfc23)\" style=\"fill: #ff7f0e\"/>\n   </g>\n   <g id=\"patch_14\">\n    <path d=\"M 116.715625 296.675048 \nL 144.615625 296.675048 \nL 144.615625 126.090433 \nL 116.715625 126.090433 \nz\n\" clip-path=\"url(#p1844bcfc23)\" style=\"fill: #ff7f0e\"/>\n   </g>\n   <g id=\"patch_15\">\n    <path d=\"M 172.515625 262.558125 \nL 200.415625 262.558125 \nL 200.415625 144.286125 \nL 172.515625 144.286125 \nz\n\" clip-path=\"url(#p1844bcfc23)\" style=\"fill: #ff7f0e\"/>\n   </g>\n   <g id=\"patch_16\">\n    <path d=\"M 228.315625 287.198125 \nL 256.215625 287.198125 \nL 256.215625 163.998125 \nL 228.315625 163.998125 \nz\n\" clip-path=\"url(#p1844bcfc23)\" style=\"fill: #ff7f0e\"/>\n   </g>\n   <g id=\"patch_17\">\n    <path d=\"M 284.115625 188.638125 \nL 312.015625 188.638125 \nL 312.015625 163.998125 \nL 284.115625 163.998125 \nz\n\" clip-path=\"url(#p1844bcfc23)\" style=\"fill: #ff7f0e\"/>\n   </g>\n   <g id=\"patch_18\">\n    <path d=\"M 339.915625 281.038125 \nL 367.815625 281.038125 \nL 367.815625 188.638125 \nL 339.915625 188.638125 \nz\n\" clip-path=\"url(#p1844bcfc23)\" style=\"fill: #ff7f0e\"/>\n   </g>\n   <g id=\"patch_19\">\n    <path d=\"M 395.715625 299.518125 \nL 423.615625 299.518125 \nL 423.615625 188.638125 \nL 395.715625 188.638125 \nz\n\" clip-path=\"url(#p1844bcfc23)\" style=\"fill: #ff7f0e\"/>\n   </g>\n   <g id=\"patch_20\">\n    <path d=\"M 451.515625 242.398125 \nL 479.415625 242.398125 \nL 479.415625 74.398125 \nL 451.515625 74.398125 \nz\n\" clip-path=\"url(#p1844bcfc23)\" style=\"fill: #ff7f0e\"/>\n   </g>\n   <g id=\"patch_21\">\n    <path d=\"M 507.315625 258.20989 \nL 535.215625 258.20989 \nL 535.215625 127.762831 \nL 507.315625 127.762831 \nz\n\" clip-path=\"url(#p1844bcfc23)\" style=\"fill: #ff7f0e\"/>\n   </g>\n   <g id=\"patch_22\">\n    <path d=\"M 563.115625 205.064792 \nL 591.015625 205.064792 \nL 591.015625 122.931458 \nL 563.115625 122.931458 \nz\n\" clip-path=\"url(#p1844bcfc23)\" style=\"fill: #ff7f0e\"/>\n   </g>\n   <g id=\"patch_23\">\n    <path d=\"M 60.915625 410.398125 \nL 88.815625 410.398125 \nL 88.815625 410.398125 \nL 60.915625 410.398125 \nz\n\" clip-path=\"url(#p1844bcfc23)\" style=\"fill: #2ca02c\"/>\n   </g>\n   <g id=\"patch_24\">\n    <path d=\"M 116.715625 126.090433 \nL 144.615625 126.090433 \nL 144.615625 83.444279 \nL 116.715625 83.444279 \nz\n\" clip-path=\"url(#p1844bcfc23)\" style=\"fill: #2ca02c\"/>\n   </g>\n   <g id=\"patch_25\">\n    <path d=\"M 172.515625 144.286125 \nL 200.415625 144.286125 \nL 200.415625 99.934125 \nL 172.515625 99.934125 \nz\n\" clip-path=\"url(#p1844bcfc23)\" style=\"fill: #2ca02c\"/>\n   </g>\n   <g id=\"patch_26\">\n    <path d=\"M 228.315625 163.998125 \nL 256.215625 163.998125 \nL 256.215625 90.078125 \nL 228.315625 90.078125 \nz\n\" clip-path=\"url(#p1844bcfc23)\" style=\"fill: #2ca02c\"/>\n   </g>\n   <g id=\"patch_27\">\n    <path d=\"M 284.115625 163.998125 \nL 312.015625 163.998125 \nL 312.015625 114.718125 \nL 284.115625 114.718125 \nz\n\" clip-path=\"url(#p1844bcfc23)\" style=\"fill: #2ca02c\"/>\n   </g>\n   <g id=\"patch_28\">\n    <path d=\"M 339.915625 188.638125 \nL 367.815625 188.638125 \nL 367.815625 114.718125 \nL 339.915625 114.718125 \nz\n\" clip-path=\"url(#p1844bcfc23)\" style=\"fill: #2ca02c\"/>\n   </g>\n   <g id=\"patch_29\">\n    <path d=\"M 395.715625 188.638125 \nL 423.615625 188.638125 \nL 423.615625 133.198125 \nL 395.715625 133.198125 \nz\n\" clip-path=\"url(#p1844bcfc23)\" style=\"fill: #2ca02c\"/>\n   </g>\n   <g id=\"patch_30\">\n    <path d=\"M 451.515625 74.398125 \nL 479.415625 74.398125 \nL 479.415625 40.798125 \nL 451.515625 40.798125 \nz\n\" clip-path=\"url(#p1844bcfc23)\" style=\"fill: #2ca02c\"/>\n   </g>\n   <g id=\"patch_31\">\n    <path d=\"M 507.315625 127.762831 \nL 535.215625 127.762831 \nL 535.215625 84.280478 \nL 507.315625 84.280478 \nz\n\" clip-path=\"url(#p1844bcfc23)\" style=\"fill: #2ca02c\"/>\n   </g>\n   <g id=\"patch_32\">\n    <path d=\"M 563.115625 122.931458 \nL 591.015625 122.931458 \nL 591.015625 81.864792 \nL 563.115625 81.864792 \nz\n\" clip-path=\"url(#p1844bcfc23)\" style=\"fill: #2ca02c\"/>\n   </g>\n   <g id=\"patch_33\">\n    <path d=\"M 60.915625 410.398125 \nL 88.815625 410.398125 \nL 88.815625 410.398125 \nL 60.915625 410.398125 \nz\n\" clip-path=\"url(#p1844bcfc23)\" style=\"fill: #d62728\"/>\n   </g>\n   <g id=\"patch_34\">\n    <path d=\"M 116.715625 83.444279 \nL 144.615625 83.444279 \nL 144.615625 40.798125 \nL 116.715625 40.798125 \nz\n\" clip-path=\"url(#p1844bcfc23)\" style=\"fill: #d62728\"/>\n   </g>\n   <g id=\"patch_35\">\n    <path d=\"M 172.515625 99.934125 \nL 200.415625 99.934125 \nL 200.415625 40.798125 \nL 172.515625 40.798125 \nz\n\" clip-path=\"url(#p1844bcfc23)\" style=\"fill: #d62728\"/>\n   </g>\n   <g id=\"patch_36\">\n    <path d=\"M 228.315625 90.078125 \nL 256.215625 90.078125 \nL 256.215625 40.798125 \nL 228.315625 40.798125 \nz\n\" clip-path=\"url(#p1844bcfc23)\" style=\"fill: #d62728\"/>\n   </g>\n   <g id=\"patch_37\">\n    <path d=\"M 284.115625 114.718125 \nL 312.015625 114.718125 \nL 312.015625 40.798125 \nL 284.115625 40.798125 \nz\n\" clip-path=\"url(#p1844bcfc23)\" style=\"fill: #d62728\"/>\n   </g>\n   <g id=\"patch_38\">\n    <path d=\"M 339.915625 114.718125 \nL 367.815625 114.718125 \nL 367.815625 40.798125 \nL 339.915625 40.798125 \nz\n\" clip-path=\"url(#p1844bcfc23)\" style=\"fill: #d62728\"/>\n   </g>\n   <g id=\"patch_39\">\n    <path d=\"M 395.715625 133.198125 \nL 423.615625 133.198125 \nL 423.615625 40.798125 \nL 395.715625 40.798125 \nz\n\" clip-path=\"url(#p1844bcfc23)\" style=\"fill: #d62728\"/>\n   </g>\n   <g id=\"patch_40\">\n    <path d=\"M 451.515625 410.398125 \nL 479.415625 410.398125 \nL 479.415625 410.398125 \nL 451.515625 410.398125 \nz\n\" clip-path=\"url(#p1844bcfc23)\" style=\"fill: #d62728\"/>\n   </g>\n   <g id=\"patch_41\">\n    <path d=\"M 507.315625 84.280478 \nL 535.215625 84.280478 \nL 535.215625 40.798125 \nL 507.315625 40.798125 \nz\n\" clip-path=\"url(#p1844bcfc23)\" style=\"fill: #d62728\"/>\n   </g>\n   <g id=\"patch_42\">\n    <path d=\"M 563.115625 81.864792 \nL 591.015625 81.864792 \nL 591.015625 40.798125 \nL 563.115625 40.798125 \nz\n\" clip-path=\"url(#p1844bcfc23)\" style=\"fill: #d62728\"/>\n   </g>\n   <g id=\"matplotlib.axis_1\">\n    <g id=\"xtick_1\">\n     <g id=\"line2d_1\">\n      <defs>\n       <path id=\"m348e17569a\" d=\"M 0 0 \nL 0 3.5 \n\" style=\"stroke: #000000; stroke-width: 0.8\"/>\n      </defs>\n      <g>\n       <use xlink:href=\"#m348e17569a\" x=\"74.865625\" y=\"410.398125\" style=\"stroke: #000000; stroke-width: 0.8\"/>\n      </g>\n     </g>\n     <g id=\"text_1\">\n      <!-- w2d1 -->\n      <g transform=\"translate(77.625 444.649687) rotate(-90) scale(0.1 -0.1)\">\n       <defs>\n        <path id=\"DejaVuSans-77\" d=\"M 269 3500 \nL 844 3500 \nL 1563 769 \nL 2278 3500 \nL 2956 3500 \nL 3675 769 \nL 4391 3500 \nL 4966 3500 \nL 4050 0 \nL 3372 0 \nL 2619 2869 \nL 1863 0 \nL 1184 0 \nL 269 3500 \nz\n\" transform=\"scale(0.015625)\"/>\n        <path id=\"DejaVuSans-32\" d=\"M 1228 531 \nL 3431 531 \nL 3431 0 \nL 469 0 \nL 469 531 \nQ 828 903 1448 1529 \nQ 2069 2156 2228 2338 \nQ 2531 2678 2651 2914 \nQ 2772 3150 2772 3378 \nQ 2772 3750 2511 3984 \nQ 2250 4219 1831 4219 \nQ 1534 4219 1204 4116 \nQ 875 4013 500 3803 \nL 500 4441 \nQ 881 4594 1212 4672 \nQ 1544 4750 1819 4750 \nQ 2544 4750 2975 4387 \nQ 3406 4025 3406 3419 \nQ 3406 3131 3298 2873 \nQ 3191 2616 2906 2266 \nQ 2828 2175 2409 1742 \nQ 1991 1309 1228 531 \nz\n\" transform=\"scale(0.015625)\"/>\n        <path id=\"DejaVuSans-64\" d=\"M 2906 2969 \nL 2906 4863 \nL 3481 4863 \nL 3481 0 \nL 2906 0 \nL 2906 525 \nQ 2725 213 2448 61 \nQ 2172 -91 1784 -91 \nQ 1150 -91 751 415 \nQ 353 922 353 1747 \nQ 353 2572 751 3078 \nQ 1150 3584 1784 3584 \nQ 2172 3584 2448 3432 \nQ 2725 3281 2906 2969 \nz\nM 947 1747 \nQ 947 1113 1208 752 \nQ 1469 391 1925 391 \nQ 2381 391 2643 752 \nQ 2906 1113 2906 1747 \nQ 2906 2381 2643 2742 \nQ 2381 3103 1925 3103 \nQ 1469 3103 1208 2742 \nQ 947 2381 947 1747 \nz\n\" transform=\"scale(0.015625)\"/>\n        <path id=\"DejaVuSans-31\" d=\"M 794 531 \nL 1825 531 \nL 1825 4091 \nL 703 3866 \nL 703 4441 \nL 1819 4666 \nL 2450 4666 \nL 2450 531 \nL 3481 531 \nL 3481 0 \nL 794 0 \nL 794 531 \nz\n\" transform=\"scale(0.015625)\"/>\n       </defs>\n       <use xlink:href=\"#DejaVuSans-77\"/>\n       <use xlink:href=\"#DejaVuSans-32\" transform=\"translate(81.787109 0)\"/>\n       <use xlink:href=\"#DejaVuSans-64\" transform=\"translate(145.410156 0)\"/>\n       <use xlink:href=\"#DejaVuSans-31\" transform=\"translate(208.886719 0)\"/>\n      </g>\n     </g>\n    </g>\n    <g id=\"xtick_2\">\n     <g id=\"line2d_2\">\n      <g>\n       <use xlink:href=\"#m348e17569a\" x=\"130.665625\" y=\"410.398125\" style=\"stroke: #000000; stroke-width: 0.8\"/>\n      </g>\n     </g>\n     <g id=\"text_2\">\n      <!-- w2d2 -->\n      <g transform=\"translate(133.425 444.649687) rotate(-90) scale(0.1 -0.1)\">\n       <use xlink:href=\"#DejaVuSans-77\"/>\n       <use xlink:href=\"#DejaVuSans-32\" transform=\"translate(81.787109 0)\"/>\n       <use xlink:href=\"#DejaVuSans-64\" transform=\"translate(145.410156 0)\"/>\n       <use xlink:href=\"#DejaVuSans-32\" transform=\"translate(208.886719 0)\"/>\n      </g>\n     </g>\n    </g>\n    <g id=\"xtick_3\">\n     <g id=\"line2d_3\">\n      <g>\n       <use xlink:href=\"#m348e17569a\" x=\"186.465625\" y=\"410.398125\" style=\"stroke: #000000; stroke-width: 0.8\"/>\n      </g>\n     </g>\n     <g id=\"text_3\">\n      <!-- w2d3 -->\n      <g transform=\"translate(189.225 444.649687) rotate(-90) scale(0.1 -0.1)\">\n       <defs>\n        <path id=\"DejaVuSans-33\" d=\"M 2597 2516 \nQ 3050 2419 3304 2112 \nQ 3559 1806 3559 1356 \nQ 3559 666 3084 287 \nQ 2609 -91 1734 -91 \nQ 1441 -91 1130 -33 \nQ 819 25 488 141 \nL 488 750 \nQ 750 597 1062 519 \nQ 1375 441 1716 441 \nQ 2309 441 2620 675 \nQ 2931 909 2931 1356 \nQ 2931 1769 2642 2001 \nQ 2353 2234 1838 2234 \nL 1294 2234 \nL 1294 2753 \nL 1863 2753 \nQ 2328 2753 2575 2939 \nQ 2822 3125 2822 3475 \nQ 2822 3834 2567 4026 \nQ 2313 4219 1838 4219 \nQ 1578 4219 1281 4162 \nQ 984 4106 628 3988 \nL 628 4550 \nQ 988 4650 1302 4700 \nQ 1616 4750 1894 4750 \nQ 2613 4750 3031 4423 \nQ 3450 4097 3450 3541 \nQ 3450 3153 3228 2886 \nQ 3006 2619 2597 2516 \nz\n\" transform=\"scale(0.015625)\"/>\n       </defs>\n       <use xlink:href=\"#DejaVuSans-77\"/>\n       <use xlink:href=\"#DejaVuSans-32\" transform=\"translate(81.787109 0)\"/>\n       <use xlink:href=\"#DejaVuSans-64\" transform=\"translate(145.410156 0)\"/>\n       <use xlink:href=\"#DejaVuSans-33\" transform=\"translate(208.886719 0)\"/>\n      </g>\n     </g>\n    </g>\n    <g id=\"xtick_4\">\n     <g id=\"line2d_4\">\n      <g>\n       <use xlink:href=\"#m348e17569a\" x=\"242.265625\" y=\"410.398125\" style=\"stroke: #000000; stroke-width: 0.8\"/>\n      </g>\n     </g>\n     <g id=\"text_4\">\n      <!-- w2d4 -->\n      <g transform=\"translate(245.025 444.649687) rotate(-90) scale(0.1 -0.1)\">\n       <defs>\n        <path id=\"DejaVuSans-34\" d=\"M 2419 4116 \nL 825 1625 \nL 2419 1625 \nL 2419 4116 \nz\nM 2253 4666 \nL 3047 4666 \nL 3047 1625 \nL 3713 1625 \nL 3713 1100 \nL 3047 1100 \nL 3047 0 \nL 2419 0 \nL 2419 1100 \nL 313 1100 \nL 313 1709 \nL 2253 4666 \nz\n\" transform=\"scale(0.015625)\"/>\n       </defs>\n       <use xlink:href=\"#DejaVuSans-77\"/>\n       <use xlink:href=\"#DejaVuSans-32\" transform=\"translate(81.787109 0)\"/>\n       <use xlink:href=\"#DejaVuSans-64\" transform=\"translate(145.410156 0)\"/>\n       <use xlink:href=\"#DejaVuSans-34\" transform=\"translate(208.886719 0)\"/>\n      </g>\n     </g>\n    </g>\n    <g id=\"xtick_5\">\n     <g id=\"line2d_5\">\n      <g>\n       <use xlink:href=\"#m348e17569a\" x=\"298.065625\" y=\"410.398125\" style=\"stroke: #000000; stroke-width: 0.8\"/>\n      </g>\n     </g>\n     <g id=\"text_5\">\n      <!-- w2d5 -->\n      <g transform=\"translate(300.825 444.649687) rotate(-90) scale(0.1 -0.1)\">\n       <defs>\n        <path id=\"DejaVuSans-35\" d=\"M 691 4666 \nL 3169 4666 \nL 3169 4134 \nL 1269 4134 \nL 1269 2991 \nQ 1406 3038 1543 3061 \nQ 1681 3084 1819 3084 \nQ 2600 3084 3056 2656 \nQ 3513 2228 3513 1497 \nQ 3513 744 3044 326 \nQ 2575 -91 1722 -91 \nQ 1428 -91 1123 -41 \nQ 819 9 494 109 \nL 494 744 \nQ 775 591 1075 516 \nQ 1375 441 1709 441 \nQ 2250 441 2565 725 \nQ 2881 1009 2881 1497 \nQ 2881 1984 2565 2268 \nQ 2250 2553 1709 2553 \nQ 1456 2553 1204 2497 \nQ 953 2441 691 2322 \nL 691 4666 \nz\n\" transform=\"scale(0.015625)\"/>\n       </defs>\n       <use xlink:href=\"#DejaVuSans-77\"/>\n       <use xlink:href=\"#DejaVuSans-32\" transform=\"translate(81.787109 0)\"/>\n       <use xlink:href=\"#DejaVuSans-64\" transform=\"translate(145.410156 0)\"/>\n       <use xlink:href=\"#DejaVuSans-35\" transform=\"translate(208.886719 0)\"/>\n      </g>\n     </g>\n    </g>\n    <g id=\"xtick_6\">\n     <g id=\"line2d_6\">\n      <g>\n       <use xlink:href=\"#m348e17569a\" x=\"353.865625\" y=\"410.398125\" style=\"stroke: #000000; stroke-width: 0.8\"/>\n      </g>\n     </g>\n     <g id=\"text_6\">\n      <!-- w3d1 -->\n      <g transform=\"translate(356.625 444.649687) rotate(-90) scale(0.1 -0.1)\">\n       <use xlink:href=\"#DejaVuSans-77\"/>\n       <use xlink:href=\"#DejaVuSans-33\" transform=\"translate(81.787109 0)\"/>\n       <use xlink:href=\"#DejaVuSans-64\" transform=\"translate(145.410156 0)\"/>\n       <use xlink:href=\"#DejaVuSans-31\" transform=\"translate(208.886719 0)\"/>\n      </g>\n     </g>\n    </g>\n    <g id=\"xtick_7\">\n     <g id=\"line2d_7\">\n      <g>\n       <use xlink:href=\"#m348e17569a\" x=\"409.665625\" y=\"410.398125\" style=\"stroke: #000000; stroke-width: 0.8\"/>\n      </g>\n     </g>\n     <g id=\"text_7\">\n      <!-- w3d2 -->\n      <g transform=\"translate(412.425 444.649687) rotate(-90) scale(0.1 -0.1)\">\n       <use xlink:href=\"#DejaVuSans-77\"/>\n       <use xlink:href=\"#DejaVuSans-33\" transform=\"translate(81.787109 0)\"/>\n       <use xlink:href=\"#DejaVuSans-64\" transform=\"translate(145.410156 0)\"/>\n       <use xlink:href=\"#DejaVuSans-32\" transform=\"translate(208.886719 0)\"/>\n      </g>\n     </g>\n    </g>\n    <g id=\"xtick_8\">\n     <g id=\"line2d_8\">\n      <g>\n       <use xlink:href=\"#m348e17569a\" x=\"465.465625\" y=\"410.398125\" style=\"stroke: #000000; stroke-width: 0.8\"/>\n      </g>\n     </g>\n     <g id=\"text_8\">\n      <!-- w3d3 -->\n      <g transform=\"translate(468.225 444.649687) rotate(-90) scale(0.1 -0.1)\">\n       <use xlink:href=\"#DejaVuSans-77\"/>\n       <use xlink:href=\"#DejaVuSans-33\" transform=\"translate(81.787109 0)\"/>\n       <use xlink:href=\"#DejaVuSans-64\" transform=\"translate(145.410156 0)\"/>\n       <use xlink:href=\"#DejaVuSans-33\" transform=\"translate(208.886719 0)\"/>\n      </g>\n     </g>\n    </g>\n    <g id=\"xtick_9\">\n     <g id=\"line2d_9\">\n      <g>\n       <use xlink:href=\"#m348e17569a\" x=\"521.265625\" y=\"410.398125\" style=\"stroke: #000000; stroke-width: 0.8\"/>\n      </g>\n     </g>\n     <g id=\"text_9\">\n      <!-- w3d4 -->\n      <g transform=\"translate(524.025 444.649687) rotate(-90) scale(0.1 -0.1)\">\n       <use xlink:href=\"#DejaVuSans-77\"/>\n       <use xlink:href=\"#DejaVuSans-33\" transform=\"translate(81.787109 0)\"/>\n       <use xlink:href=\"#DejaVuSans-64\" transform=\"translate(145.410156 0)\"/>\n       <use xlink:href=\"#DejaVuSans-34\" transform=\"translate(208.886719 0)\"/>\n      </g>\n     </g>\n    </g>\n    <g id=\"xtick_10\">\n     <g id=\"line2d_10\">\n      <g>\n       <use xlink:href=\"#m348e17569a\" x=\"577.065625\" y=\"410.398125\" style=\"stroke: #000000; stroke-width: 0.8\"/>\n      </g>\n     </g>\n     <g id=\"text_10\">\n      <!-- w3d5 -->\n      <g transform=\"translate(579.825 444.649687) rotate(-90) scale(0.1 -0.1)\">\n       <use xlink:href=\"#DejaVuSans-77\"/>\n       <use xlink:href=\"#DejaVuSans-33\" transform=\"translate(81.787109 0)\"/>\n       <use xlink:href=\"#DejaVuSans-64\" transform=\"translate(145.410156 0)\"/>\n       <use xlink:href=\"#DejaVuSans-35\" transform=\"translate(208.886719 0)\"/>\n      </g>\n     </g>\n    </g>\n    <g id=\"text_11\">\n     <!-- WeekDay -->\n     <g transform=\"translate(302.39375 456.248125) scale(0.1 -0.1)\">\n      <defs>\n       <path id=\"DejaVuSans-57\" d=\"M 213 4666 \nL 850 4666 \nL 1831 722 \nL 2809 4666 \nL 3519 4666 \nL 4500 722 \nL 5478 4666 \nL 6119 4666 \nL 4947 0 \nL 4153 0 \nL 3169 4050 \nL 2175 0 \nL 1381 0 \nL 213 4666 \nz\n\" transform=\"scale(0.015625)\"/>\n       <path id=\"DejaVuSans-65\" d=\"M 3597 1894 \nL 3597 1613 \nL 953 1613 \nQ 991 1019 1311 708 \nQ 1631 397 2203 397 \nQ 2534 397 2845 478 \nQ 3156 559 3463 722 \nL 3463 178 \nQ 3153 47 2828 -22 \nQ 2503 -91 2169 -91 \nQ 1331 -91 842 396 \nQ 353 884 353 1716 \nQ 353 2575 817 3079 \nQ 1281 3584 2069 3584 \nQ 2775 3584 3186 3129 \nQ 3597 2675 3597 1894 \nz\nM 3022 2063 \nQ 3016 2534 2758 2815 \nQ 2500 3097 2075 3097 \nQ 1594 3097 1305 2825 \nQ 1016 2553 972 2059 \nL 3022 2063 \nz\n\" transform=\"scale(0.015625)\"/>\n       <path id=\"DejaVuSans-6b\" d=\"M 581 4863 \nL 1159 4863 \nL 1159 1991 \nL 2875 3500 \nL 3609 3500 \nL 1753 1863 \nL 3688 0 \nL 2938 0 \nL 1159 1709 \nL 1159 0 \nL 581 0 \nL 581 4863 \nz\n\" transform=\"scale(0.015625)\"/>\n       <path id=\"DejaVuSans-44\" d=\"M 1259 4147 \nL 1259 519 \nL 2022 519 \nQ 2988 519 3436 956 \nQ 3884 1394 3884 2338 \nQ 3884 3275 3436 3711 \nQ 2988 4147 2022 4147 \nL 1259 4147 \nz\nM 628 4666 \nL 1925 4666 \nQ 3281 4666 3915 4102 \nQ 4550 3538 4550 2338 \nQ 4550 1131 3912 565 \nQ 3275 0 1925 0 \nL 628 0 \nL 628 4666 \nz\n\" transform=\"scale(0.015625)\"/>\n       <path id=\"DejaVuSans-61\" d=\"M 2194 1759 \nQ 1497 1759 1228 1600 \nQ 959 1441 959 1056 \nQ 959 750 1161 570 \nQ 1363 391 1709 391 \nQ 2188 391 2477 730 \nQ 2766 1069 2766 1631 \nL 2766 1759 \nL 2194 1759 \nz\nM 3341 1997 \nL 3341 0 \nL 2766 0 \nL 2766 531 \nQ 2569 213 2275 61 \nQ 1981 -91 1556 -91 \nQ 1019 -91 701 211 \nQ 384 513 384 1019 \nQ 384 1609 779 1909 \nQ 1175 2209 1959 2209 \nL 2766 2209 \nL 2766 2266 \nQ 2766 2663 2505 2880 \nQ 2244 3097 1772 3097 \nQ 1472 3097 1187 3025 \nQ 903 2953 641 2809 \nL 641 3341 \nQ 956 3463 1253 3523 \nQ 1550 3584 1831 3584 \nQ 2591 3584 2966 3190 \nQ 3341 2797 3341 1997 \nz\n\" transform=\"scale(0.015625)\"/>\n       <path id=\"DejaVuSans-79\" d=\"M 2059 -325 \nQ 1816 -950 1584 -1140 \nQ 1353 -1331 966 -1331 \nL 506 -1331 \nL 506 -850 \nL 844 -850 \nQ 1081 -850 1212 -737 \nQ 1344 -625 1503 -206 \nL 1606 56 \nL 191 3500 \nL 800 3500 \nL 1894 763 \nL 2988 3500 \nL 3597 3500 \nL 2059 -325 \nz\n\" transform=\"scale(0.015625)\"/>\n      </defs>\n      <use xlink:href=\"#DejaVuSans-57\"/>\n      <use xlink:href=\"#DejaVuSans-65\" transform=\"translate(93.001953 0)\"/>\n      <use xlink:href=\"#DejaVuSans-65\" transform=\"translate(154.525391 0)\"/>\n      <use xlink:href=\"#DejaVuSans-6b\" transform=\"translate(216.048828 0)\"/>\n      <use xlink:href=\"#DejaVuSans-44\" transform=\"translate(273.958984 0)\"/>\n      <use xlink:href=\"#DejaVuSans-61\" transform=\"translate(350.960938 0)\"/>\n      <use xlink:href=\"#DejaVuSans-79\" transform=\"translate(412.240234 0)\"/>\n     </g>\n    </g>\n   </g>\n   <g id=\"matplotlib.axis_2\">\n    <g id=\"ytick_1\">\n     <g id=\"line2d_11\">\n      <defs>\n       <path id=\"m1e93852718\" d=\"M 0 0 \nL -3.5 0 \n\" style=\"stroke: #000000; stroke-width: 0.8\"/>\n      </defs>\n      <g>\n       <use xlink:href=\"#m1e93852718\" x=\"46.965625\" y=\"410.398125\" style=\"stroke: #000000; stroke-width: 0.8\"/>\n      </g>\n     </g>\n     <g id=\"text_12\">\n      <!-- 0 -->\n      <g transform=\"translate(33.603125 414.197344) scale(0.1 -0.1)\">\n       <defs>\n        <path id=\"DejaVuSans-30\" d=\"M 2034 4250 \nQ 1547 4250 1301 3770 \nQ 1056 3291 1056 2328 \nQ 1056 1369 1301 889 \nQ 1547 409 2034 409 \nQ 2525 409 2770 889 \nQ 3016 1369 3016 2328 \nQ 3016 3291 2770 3770 \nQ 2525 4250 2034 4250 \nz\nM 2034 4750 \nQ 2819 4750 3233 4129 \nQ 3647 3509 3647 2328 \nQ 3647 1150 3233 529 \nQ 2819 -91 2034 -91 \nQ 1250 -91 836 529 \nQ 422 1150 422 2328 \nQ 422 3509 836 4129 \nQ 1250 4750 2034 4750 \nz\n\" transform=\"scale(0.015625)\"/>\n       </defs>\n       <use xlink:href=\"#DejaVuSans-30\"/>\n      </g>\n     </g>\n    </g>\n    <g id=\"ytick_2\">\n     <g id=\"line2d_12\">\n      <g>\n       <use xlink:href=\"#m1e93852718\" x=\"46.965625\" y=\"336.478125\" style=\"stroke: #000000; stroke-width: 0.8\"/>\n      </g>\n     </g>\n     <g id=\"text_13\">\n      <!-- 20 -->\n      <g transform=\"translate(27.240625 340.277344) scale(0.1 -0.1)\">\n       <use xlink:href=\"#DejaVuSans-32\"/>\n       <use xlink:href=\"#DejaVuSans-30\" transform=\"translate(63.623047 0)\"/>\n      </g>\n     </g>\n    </g>\n    <g id=\"ytick_3\">\n     <g id=\"line2d_13\">\n      <g>\n       <use xlink:href=\"#m1e93852718\" x=\"46.965625\" y=\"262.558125\" style=\"stroke: #000000; stroke-width: 0.8\"/>\n      </g>\n     </g>\n     <g id=\"text_14\">\n      <!-- 40 -->\n      <g transform=\"translate(27.240625 266.357344) scale(0.1 -0.1)\">\n       <use xlink:href=\"#DejaVuSans-34\"/>\n       <use xlink:href=\"#DejaVuSans-30\" transform=\"translate(63.623047 0)\"/>\n      </g>\n     </g>\n    </g>\n    <g id=\"ytick_4\">\n     <g id=\"line2d_14\">\n      <g>\n       <use xlink:href=\"#m1e93852718\" x=\"46.965625\" y=\"188.638125\" style=\"stroke: #000000; stroke-width: 0.8\"/>\n      </g>\n     </g>\n     <g id=\"text_15\">\n      <!-- 60 -->\n      <g transform=\"translate(27.240625 192.437344) scale(0.1 -0.1)\">\n       <defs>\n        <path id=\"DejaVuSans-36\" d=\"M 2113 2584 \nQ 1688 2584 1439 2293 \nQ 1191 2003 1191 1497 \nQ 1191 994 1439 701 \nQ 1688 409 2113 409 \nQ 2538 409 2786 701 \nQ 3034 994 3034 1497 \nQ 3034 2003 2786 2293 \nQ 2538 2584 2113 2584 \nz\nM 3366 4563 \nL 3366 3988 \nQ 3128 4100 2886 4159 \nQ 2644 4219 2406 4219 \nQ 1781 4219 1451 3797 \nQ 1122 3375 1075 2522 \nQ 1259 2794 1537 2939 \nQ 1816 3084 2150 3084 \nQ 2853 3084 3261 2657 \nQ 3669 2231 3669 1497 \nQ 3669 778 3244 343 \nQ 2819 -91 2113 -91 \nQ 1303 -91 875 529 \nQ 447 1150 447 2328 \nQ 447 3434 972 4092 \nQ 1497 4750 2381 4750 \nQ 2619 4750 2861 4703 \nQ 3103 4656 3366 4563 \nz\n\" transform=\"scale(0.015625)\"/>\n       </defs>\n       <use xlink:href=\"#DejaVuSans-36\"/>\n       <use xlink:href=\"#DejaVuSans-30\" transform=\"translate(63.623047 0)\"/>\n      </g>\n     </g>\n    </g>\n    <g id=\"ytick_5\">\n     <g id=\"line2d_15\">\n      <g>\n       <use xlink:href=\"#m1e93852718\" x=\"46.965625\" y=\"114.718125\" style=\"stroke: #000000; stroke-width: 0.8\"/>\n      </g>\n     </g>\n     <g id=\"text_16\">\n      <!-- 80 -->\n      <g transform=\"translate(27.240625 118.517344) scale(0.1 -0.1)\">\n       <defs>\n        <path id=\"DejaVuSans-38\" d=\"M 2034 2216 \nQ 1584 2216 1326 1975 \nQ 1069 1734 1069 1313 \nQ 1069 891 1326 650 \nQ 1584 409 2034 409 \nQ 2484 409 2743 651 \nQ 3003 894 3003 1313 \nQ 3003 1734 2745 1975 \nQ 2488 2216 2034 2216 \nz\nM 1403 2484 \nQ 997 2584 770 2862 \nQ 544 3141 544 3541 \nQ 544 4100 942 4425 \nQ 1341 4750 2034 4750 \nQ 2731 4750 3128 4425 \nQ 3525 4100 3525 3541 \nQ 3525 3141 3298 2862 \nQ 3072 2584 2669 2484 \nQ 3125 2378 3379 2068 \nQ 3634 1759 3634 1313 \nQ 3634 634 3220 271 \nQ 2806 -91 2034 -91 \nQ 1263 -91 848 271 \nQ 434 634 434 1313 \nQ 434 1759 690 2068 \nQ 947 2378 1403 2484 \nz\nM 1172 3481 \nQ 1172 3119 1398 2916 \nQ 1625 2713 2034 2713 \nQ 2441 2713 2670 2916 \nQ 2900 3119 2900 3481 \nQ 2900 3844 2670 4047 \nQ 2441 4250 2034 4250 \nQ 1625 4250 1398 4047 \nQ 1172 3844 1172 3481 \nz\n\" transform=\"scale(0.015625)\"/>\n       </defs>\n       <use xlink:href=\"#DejaVuSans-38\"/>\n       <use xlink:href=\"#DejaVuSans-30\" transform=\"translate(63.623047 0)\"/>\n      </g>\n     </g>\n    </g>\n    <g id=\"ytick_6\">\n     <g id=\"line2d_16\">\n      <g>\n       <use xlink:href=\"#m1e93852718\" x=\"46.965625\" y=\"40.798125\" style=\"stroke: #000000; stroke-width: 0.8\"/>\n      </g>\n     </g>\n     <g id=\"text_17\">\n      <!-- 100 -->\n      <g transform=\"translate(20.878125 44.597344) scale(0.1 -0.1)\">\n       <use xlink:href=\"#DejaVuSans-31\"/>\n       <use xlink:href=\"#DejaVuSans-30\" transform=\"translate(63.623047 0)\"/>\n       <use xlink:href=\"#DejaVuSans-30\" transform=\"translate(127.246094 0)\"/>\n      </g>\n     </g>\n    </g>\n    <g id=\"text_18\">\n     <!-- Percentage (%) -->\n     <g transform=\"translate(14.798437 254.722187) rotate(-90) scale(0.1 -0.1)\">\n      <defs>\n       <path id=\"DejaVuSans-50\" d=\"M 1259 4147 \nL 1259 2394 \nL 2053 2394 \nQ 2494 2394 2734 2622 \nQ 2975 2850 2975 3272 \nQ 2975 3691 2734 3919 \nQ 2494 4147 2053 4147 \nL 1259 4147 \nz\nM 628 4666 \nL 2053 4666 \nQ 2838 4666 3239 4311 \nQ 3641 3956 3641 3272 \nQ 3641 2581 3239 2228 \nQ 2838 1875 2053 1875 \nL 1259 1875 \nL 1259 0 \nL 628 0 \nL 628 4666 \nz\n\" transform=\"scale(0.015625)\"/>\n       <path id=\"DejaVuSans-72\" d=\"M 2631 2963 \nQ 2534 3019 2420 3045 \nQ 2306 3072 2169 3072 \nQ 1681 3072 1420 2755 \nQ 1159 2438 1159 1844 \nL 1159 0 \nL 581 0 \nL 581 3500 \nL 1159 3500 \nL 1159 2956 \nQ 1341 3275 1631 3429 \nQ 1922 3584 2338 3584 \nQ 2397 3584 2469 3576 \nQ 2541 3569 2628 3553 \nL 2631 2963 \nz\n\" transform=\"scale(0.015625)\"/>\n       <path id=\"DejaVuSans-63\" d=\"M 3122 3366 \nL 3122 2828 \nQ 2878 2963 2633 3030 \nQ 2388 3097 2138 3097 \nQ 1578 3097 1268 2742 \nQ 959 2388 959 1747 \nQ 959 1106 1268 751 \nQ 1578 397 2138 397 \nQ 2388 397 2633 464 \nQ 2878 531 3122 666 \nL 3122 134 \nQ 2881 22 2623 -34 \nQ 2366 -91 2075 -91 \nQ 1284 -91 818 406 \nQ 353 903 353 1747 \nQ 353 2603 823 3093 \nQ 1294 3584 2113 3584 \nQ 2378 3584 2631 3529 \nQ 2884 3475 3122 3366 \nz\n\" transform=\"scale(0.015625)\"/>\n       <path id=\"DejaVuSans-6e\" d=\"M 3513 2113 \nL 3513 0 \nL 2938 0 \nL 2938 2094 \nQ 2938 2591 2744 2837 \nQ 2550 3084 2163 3084 \nQ 1697 3084 1428 2787 \nQ 1159 2491 1159 1978 \nL 1159 0 \nL 581 0 \nL 581 3500 \nL 1159 3500 \nL 1159 2956 \nQ 1366 3272 1645 3428 \nQ 1925 3584 2291 3584 \nQ 2894 3584 3203 3211 \nQ 3513 2838 3513 2113 \nz\n\" transform=\"scale(0.015625)\"/>\n       <path id=\"DejaVuSans-74\" d=\"M 1172 4494 \nL 1172 3500 \nL 2356 3500 \nL 2356 3053 \nL 1172 3053 \nL 1172 1153 \nQ 1172 725 1289 603 \nQ 1406 481 1766 481 \nL 2356 481 \nL 2356 0 \nL 1766 0 \nQ 1100 0 847 248 \nQ 594 497 594 1153 \nL 594 3053 \nL 172 3053 \nL 172 3500 \nL 594 3500 \nL 594 4494 \nL 1172 4494 \nz\n\" transform=\"scale(0.015625)\"/>\n       <path id=\"DejaVuSans-67\" d=\"M 2906 1791 \nQ 2906 2416 2648 2759 \nQ 2391 3103 1925 3103 \nQ 1463 3103 1205 2759 \nQ 947 2416 947 1791 \nQ 947 1169 1205 825 \nQ 1463 481 1925 481 \nQ 2391 481 2648 825 \nQ 2906 1169 2906 1791 \nz\nM 3481 434 \nQ 3481 -459 3084 -895 \nQ 2688 -1331 1869 -1331 \nQ 1566 -1331 1297 -1286 \nQ 1028 -1241 775 -1147 \nL 775 -588 \nQ 1028 -725 1275 -790 \nQ 1522 -856 1778 -856 \nQ 2344 -856 2625 -561 \nQ 2906 -266 2906 331 \nL 2906 616 \nQ 2728 306 2450 153 \nQ 2172 0 1784 0 \nQ 1141 0 747 490 \nQ 353 981 353 1791 \nQ 353 2603 747 3093 \nQ 1141 3584 1784 3584 \nQ 2172 3584 2450 3431 \nQ 2728 3278 2906 2969 \nL 2906 3500 \nL 3481 3500 \nL 3481 434 \nz\n\" transform=\"scale(0.015625)\"/>\n       <path id=\"DejaVuSans-20\" transform=\"scale(0.015625)\"/>\n       <path id=\"DejaVuSans-28\" d=\"M 1984 4856 \nQ 1566 4138 1362 3434 \nQ 1159 2731 1159 2009 \nQ 1159 1288 1364 580 \nQ 1569 -128 1984 -844 \nL 1484 -844 \nQ 1016 -109 783 600 \nQ 550 1309 550 2009 \nQ 550 2706 781 3412 \nQ 1013 4119 1484 4856 \nL 1984 4856 \nz\n\" transform=\"scale(0.015625)\"/>\n       <path id=\"DejaVuSans-25\" d=\"M 4653 2053 \nQ 4381 2053 4226 1822 \nQ 4072 1591 4072 1178 \nQ 4072 772 4226 539 \nQ 4381 306 4653 306 \nQ 4919 306 5073 539 \nQ 5228 772 5228 1178 \nQ 5228 1588 5073 1820 \nQ 4919 2053 4653 2053 \nz\nM 4653 2450 \nQ 5147 2450 5437 2106 \nQ 5728 1763 5728 1178 \nQ 5728 594 5436 251 \nQ 5144 -91 4653 -91 \nQ 4153 -91 3862 251 \nQ 3572 594 3572 1178 \nQ 3572 1766 3864 2108 \nQ 4156 2450 4653 2450 \nz\nM 1428 4353 \nQ 1159 4353 1004 4120 \nQ 850 3888 850 3481 \nQ 850 3069 1003 2837 \nQ 1156 2606 1428 2606 \nQ 1700 2606 1854 2837 \nQ 2009 3069 2009 3481 \nQ 2009 3884 1853 4118 \nQ 1697 4353 1428 4353 \nz\nM 4250 4750 \nL 4750 4750 \nL 1831 -91 \nL 1331 -91 \nL 4250 4750 \nz\nM 1428 4750 \nQ 1922 4750 2215 4408 \nQ 2509 4066 2509 3481 \nQ 2509 2891 2217 2550 \nQ 1925 2209 1428 2209 \nQ 931 2209 642 2551 \nQ 353 2894 353 3481 \nQ 353 4063 643 4406 \nQ 934 4750 1428 4750 \nz\n\" transform=\"scale(0.015625)\"/>\n       <path id=\"DejaVuSans-29\" d=\"M 513 4856 \nL 1013 4856 \nQ 1481 4119 1714 3412 \nQ 1947 2706 1947 2009 \nQ 1947 1309 1714 600 \nQ 1481 -109 1013 -844 \nL 513 -844 \nQ 928 -128 1133 580 \nQ 1338 1288 1338 2009 \nQ 1338 2731 1133 3434 \nQ 928 4138 513 4856 \nz\n\" transform=\"scale(0.015625)\"/>\n      </defs>\n      <use xlink:href=\"#DejaVuSans-50\"/>\n      <use xlink:href=\"#DejaVuSans-65\" transform=\"translate(56.677734 0)\"/>\n      <use xlink:href=\"#DejaVuSans-72\" transform=\"translate(118.201172 0)\"/>\n      <use xlink:href=\"#DejaVuSans-63\" transform=\"translate(157.064453 0)\"/>\n      <use xlink:href=\"#DejaVuSans-65\" transform=\"translate(212.044922 0)\"/>\n      <use xlink:href=\"#DejaVuSans-6e\" transform=\"translate(273.568359 0)\"/>\n      <use xlink:href=\"#DejaVuSans-74\" transform=\"translate(336.947266 0)\"/>\n      <use xlink:href=\"#DejaVuSans-61\" transform=\"translate(376.15625 0)\"/>\n      <use xlink:href=\"#DejaVuSans-67\" transform=\"translate(437.435547 0)\"/>\n      <use xlink:href=\"#DejaVuSans-65\" transform=\"translate(500.912109 0)\"/>\n      <use xlink:href=\"#DejaVuSans-20\" transform=\"translate(562.435547 0)\"/>\n      <use xlink:href=\"#DejaVuSans-28\" transform=\"translate(594.222656 0)\"/>\n      <use xlink:href=\"#DejaVuSans-25\" transform=\"translate(633.236328 0)\"/>\n      <use xlink:href=\"#DejaVuSans-29\" transform=\"translate(728.255859 0)\"/>\n     </g>\n    </g>\n   </g>\n   <g id=\"patch_43\">\n    <path d=\"M 46.965625 410.398125 \nL 46.965625 22.318125 \n\" style=\"fill: none; stroke: #000000; stroke-width: 0.8; stroke-linejoin: miter; stroke-linecap: square\"/>\n   </g>\n   <g id=\"patch_44\">\n    <path d=\"M 604.965625 410.398125 \nL 604.965625 22.318125 \n\" style=\"fill: none; stroke: #000000; stroke-width: 0.8; stroke-linejoin: miter; stroke-linecap: square\"/>\n   </g>\n   <g id=\"patch_45\">\n    <path d=\"M 46.965625 410.398125 \nL 604.965625 410.398125 \n\" style=\"fill: none; stroke: #000000; stroke-width: 0.8; stroke-linejoin: miter; stroke-linecap: square\"/>\n   </g>\n   <g id=\"patch_46\">\n    <path d=\"M 46.965625 22.318125 \nL 604.965625 22.318125 \n\" style=\"fill: none; stroke: #000000; stroke-width: 0.8; stroke-linejoin: miter; stroke-linecap: square\"/>\n   </g>\n   <g id=\"text_19\">\n    <!-- Hours spent on preparatory work by Weekday -->\n    <g transform=\"translate(187.833438 16.318125) scale(0.12 -0.12)\">\n     <defs>\n      <path id=\"DejaVuSans-48\" d=\"M 628 4666 \nL 1259 4666 \nL 1259 2753 \nL 3553 2753 \nL 3553 4666 \nL 4184 4666 \nL 4184 0 \nL 3553 0 \nL 3553 2222 \nL 1259 2222 \nL 1259 0 \nL 628 0 \nL 628 4666 \nz\n\" transform=\"scale(0.015625)\"/>\n      <path id=\"DejaVuSans-6f\" d=\"M 1959 3097 \nQ 1497 3097 1228 2736 \nQ 959 2375 959 1747 \nQ 959 1119 1226 758 \nQ 1494 397 1959 397 \nQ 2419 397 2687 759 \nQ 2956 1122 2956 1747 \nQ 2956 2369 2687 2733 \nQ 2419 3097 1959 3097 \nz\nM 1959 3584 \nQ 2709 3584 3137 3096 \nQ 3566 2609 3566 1747 \nQ 3566 888 3137 398 \nQ 2709 -91 1959 -91 \nQ 1206 -91 779 398 \nQ 353 888 353 1747 \nQ 353 2609 779 3096 \nQ 1206 3584 1959 3584 \nz\n\" transform=\"scale(0.015625)\"/>\n      <path id=\"DejaVuSans-75\" d=\"M 544 1381 \nL 544 3500 \nL 1119 3500 \nL 1119 1403 \nQ 1119 906 1312 657 \nQ 1506 409 1894 409 \nQ 2359 409 2629 706 \nQ 2900 1003 2900 1516 \nL 2900 3500 \nL 3475 3500 \nL 3475 0 \nL 2900 0 \nL 2900 538 \nQ 2691 219 2414 64 \nQ 2138 -91 1772 -91 \nQ 1169 -91 856 284 \nQ 544 659 544 1381 \nz\nM 1991 3584 \nL 1991 3584 \nz\n\" transform=\"scale(0.015625)\"/>\n      <path id=\"DejaVuSans-73\" d=\"M 2834 3397 \nL 2834 2853 \nQ 2591 2978 2328 3040 \nQ 2066 3103 1784 3103 \nQ 1356 3103 1142 2972 \nQ 928 2841 928 2578 \nQ 928 2378 1081 2264 \nQ 1234 2150 1697 2047 \nL 1894 2003 \nQ 2506 1872 2764 1633 \nQ 3022 1394 3022 966 \nQ 3022 478 2636 193 \nQ 2250 -91 1575 -91 \nQ 1294 -91 989 -36 \nQ 684 19 347 128 \nL 347 722 \nQ 666 556 975 473 \nQ 1284 391 1588 391 \nQ 1994 391 2212 530 \nQ 2431 669 2431 922 \nQ 2431 1156 2273 1281 \nQ 2116 1406 1581 1522 \nL 1381 1569 \nQ 847 1681 609 1914 \nQ 372 2147 372 2553 \nQ 372 3047 722 3315 \nQ 1072 3584 1716 3584 \nQ 2034 3584 2315 3537 \nQ 2597 3491 2834 3397 \nz\n\" transform=\"scale(0.015625)\"/>\n      <path id=\"DejaVuSans-70\" d=\"M 1159 525 \nL 1159 -1331 \nL 581 -1331 \nL 581 3500 \nL 1159 3500 \nL 1159 2969 \nQ 1341 3281 1617 3432 \nQ 1894 3584 2278 3584 \nQ 2916 3584 3314 3078 \nQ 3713 2572 3713 1747 \nQ 3713 922 3314 415 \nQ 2916 -91 2278 -91 \nQ 1894 -91 1617 61 \nQ 1341 213 1159 525 \nz\nM 3116 1747 \nQ 3116 2381 2855 2742 \nQ 2594 3103 2138 3103 \nQ 1681 3103 1420 2742 \nQ 1159 2381 1159 1747 \nQ 1159 1113 1420 752 \nQ 1681 391 2138 391 \nQ 2594 391 2855 752 \nQ 3116 1113 3116 1747 \nz\n\" transform=\"scale(0.015625)\"/>\n      <path id=\"DejaVuSans-62\" d=\"M 3116 1747 \nQ 3116 2381 2855 2742 \nQ 2594 3103 2138 3103 \nQ 1681 3103 1420 2742 \nQ 1159 2381 1159 1747 \nQ 1159 1113 1420 752 \nQ 1681 391 2138 391 \nQ 2594 391 2855 752 \nQ 3116 1113 3116 1747 \nz\nM 1159 2969 \nQ 1341 3281 1617 3432 \nQ 1894 3584 2278 3584 \nQ 2916 3584 3314 3078 \nQ 3713 2572 3713 1747 \nQ 3713 922 3314 415 \nQ 2916 -91 2278 -91 \nQ 1894 -91 1617 61 \nQ 1341 213 1159 525 \nL 1159 0 \nL 581 0 \nL 581 4863 \nL 1159 4863 \nL 1159 2969 \nz\n\" transform=\"scale(0.015625)\"/>\n     </defs>\n     <use xlink:href=\"#DejaVuSans-48\"/>\n     <use xlink:href=\"#DejaVuSans-6f\" transform=\"translate(75.195312 0)\"/>\n     <use xlink:href=\"#DejaVuSans-75\" transform=\"translate(136.376953 0)\"/>\n     <use xlink:href=\"#DejaVuSans-72\" transform=\"translate(199.755859 0)\"/>\n     <use xlink:href=\"#DejaVuSans-73\" transform=\"translate(240.869141 0)\"/>\n     <use xlink:href=\"#DejaVuSans-20\" transform=\"translate(292.96875 0)\"/>\n     <use xlink:href=\"#DejaVuSans-73\" transform=\"translate(324.755859 0)\"/>\n     <use xlink:href=\"#DejaVuSans-70\" transform=\"translate(376.855469 0)\"/>\n     <use xlink:href=\"#DejaVuSans-65\" transform=\"translate(440.332031 0)\"/>\n     <use xlink:href=\"#DejaVuSans-6e\" transform=\"translate(501.855469 0)\"/>\n     <use xlink:href=\"#DejaVuSans-74\" transform=\"translate(565.234375 0)\"/>\n     <use xlink:href=\"#DejaVuSans-20\" transform=\"translate(604.443359 0)\"/>\n     <use xlink:href=\"#DejaVuSans-6f\" transform=\"translate(636.230469 0)\"/>\n     <use xlink:href=\"#DejaVuSans-6e\" transform=\"translate(697.412109 0)\"/>\n     <use xlink:href=\"#DejaVuSans-20\" transform=\"translate(760.791016 0)\"/>\n     <use xlink:href=\"#DejaVuSans-70\" transform=\"translate(792.578125 0)\"/>\n     <use xlink:href=\"#DejaVuSans-72\" transform=\"translate(856.054688 0)\"/>\n     <use xlink:href=\"#DejaVuSans-65\" transform=\"translate(894.917969 0)\"/>\n     <use xlink:href=\"#DejaVuSans-70\" transform=\"translate(956.441406 0)\"/>\n     <use xlink:href=\"#DejaVuSans-61\" transform=\"translate(1019.917969 0)\"/>\n     <use xlink:href=\"#DejaVuSans-72\" transform=\"translate(1081.197266 0)\"/>\n     <use xlink:href=\"#DejaVuSans-61\" transform=\"translate(1122.310547 0)\"/>\n     <use xlink:href=\"#DejaVuSans-74\" transform=\"translate(1183.589844 0)\"/>\n     <use xlink:href=\"#DejaVuSans-6f\" transform=\"translate(1222.798828 0)\"/>\n     <use xlink:href=\"#DejaVuSans-72\" transform=\"translate(1283.980469 0)\"/>\n     <use xlink:href=\"#DejaVuSans-79\" transform=\"translate(1325.09375 0)\"/>\n     <use xlink:href=\"#DejaVuSans-20\" transform=\"translate(1384.273438 0)\"/>\n     <use xlink:href=\"#DejaVuSans-77\" transform=\"translate(1416.060547 0)\"/>\n     <use xlink:href=\"#DejaVuSans-6f\" transform=\"translate(1497.847656 0)\"/>\n     <use xlink:href=\"#DejaVuSans-72\" transform=\"translate(1559.029297 0)\"/>\n     <use xlink:href=\"#DejaVuSans-6b\" transform=\"translate(1600.142578 0)\"/>\n     <use xlink:href=\"#DejaVuSans-20\" transform=\"translate(1658.052734 0)\"/>\n     <use xlink:href=\"#DejaVuSans-62\" transform=\"translate(1689.839844 0)\"/>\n     <use xlink:href=\"#DejaVuSans-79\" transform=\"translate(1753.316406 0)\"/>\n     <use xlink:href=\"#DejaVuSans-20\" transform=\"translate(1812.496094 0)\"/>\n     <use xlink:href=\"#DejaVuSans-57\" transform=\"translate(1844.283203 0)\"/>\n     <use xlink:href=\"#DejaVuSans-65\" transform=\"translate(1937.285156 0)\"/>\n     <use xlink:href=\"#DejaVuSans-65\" transform=\"translate(1998.808594 0)\"/>\n     <use xlink:href=\"#DejaVuSans-6b\" transform=\"translate(2060.332031 0)\"/>\n     <use xlink:href=\"#DejaVuSans-64\" transform=\"translate(2118.242188 0)\"/>\n     <use xlink:href=\"#DejaVuSans-61\" transform=\"translate(2181.71875 0)\"/>\n     <use xlink:href=\"#DejaVuSans-79\" transform=\"translate(2242.998047 0)\"/>\n    </g>\n   </g>\n   <g id=\"legend_1\">\n    <g id=\"patch_47\">\n     <path d=\"M 53.965625 405.398125 \nL 177.485937 405.398125 \nQ 179.485937 405.398125 179.485937 403.398125 \nL 179.485937 331.0075 \nQ 179.485937 329.0075 177.485937 329.0075 \nL 53.965625 329.0075 \nQ 51.965625 329.0075 51.965625 331.0075 \nL 51.965625 403.398125 \nQ 51.965625 405.398125 53.965625 405.398125 \nz\n\" style=\"fill: #ffffff; opacity: 0.8; stroke: #cccccc; stroke-linejoin: miter\"/>\n    </g>\n    <g id=\"text_20\">\n     <!-- Q9 Responses -->\n     <g transform=\"translate(80.400781 340.605937) scale(0.1 -0.1)\">\n      <defs>\n       <path id=\"DejaVuSans-51\" d=\"M 2522 4238 \nQ 1834 4238 1429 3725 \nQ 1025 3213 1025 2328 \nQ 1025 1447 1429 934 \nQ 1834 422 2522 422 \nQ 3209 422 3611 934 \nQ 4013 1447 4013 2328 \nQ 4013 3213 3611 3725 \nQ 3209 4238 2522 4238 \nz\nM 3406 84 \nL 4238 -825 \nL 3475 -825 \nL 2784 -78 \nQ 2681 -84 2626 -87 \nQ 2572 -91 2522 -91 \nQ 1538 -91 948 567 \nQ 359 1225 359 2328 \nQ 359 3434 948 4092 \nQ 1538 4750 2522 4750 \nQ 3503 4750 4090 4092 \nQ 4678 3434 4678 2328 \nQ 4678 1516 4351 937 \nQ 4025 359 3406 84 \nz\n\" transform=\"scale(0.015625)\"/>\n       <path id=\"DejaVuSans-39\" d=\"M 703 97 \nL 703 672 \nQ 941 559 1184 500 \nQ 1428 441 1663 441 \nQ 2288 441 2617 861 \nQ 2947 1281 2994 2138 \nQ 2813 1869 2534 1725 \nQ 2256 1581 1919 1581 \nQ 1219 1581 811 2004 \nQ 403 2428 403 3163 \nQ 403 3881 828 4315 \nQ 1253 4750 1959 4750 \nQ 2769 4750 3195 4129 \nQ 3622 3509 3622 2328 \nQ 3622 1225 3098 567 \nQ 2575 -91 1691 -91 \nQ 1453 -91 1209 -44 \nQ 966 3 703 97 \nz\nM 1959 2075 \nQ 2384 2075 2632 2365 \nQ 2881 2656 2881 3163 \nQ 2881 3666 2632 3958 \nQ 2384 4250 1959 4250 \nQ 1534 4250 1286 3958 \nQ 1038 3666 1038 3163 \nQ 1038 2656 1286 2365 \nQ 1534 2075 1959 2075 \nz\n\" transform=\"scale(0.015625)\"/>\n       <path id=\"DejaVuSans-52\" d=\"M 2841 2188 \nQ 3044 2119 3236 1894 \nQ 3428 1669 3622 1275 \nL 4263 0 \nL 3584 0 \nL 2988 1197 \nQ 2756 1666 2539 1819 \nQ 2322 1972 1947 1972 \nL 1259 1972 \nL 1259 0 \nL 628 0 \nL 628 4666 \nL 2053 4666 \nQ 2853 4666 3247 4331 \nQ 3641 3997 3641 3322 \nQ 3641 2881 3436 2590 \nQ 3231 2300 2841 2188 \nz\nM 1259 4147 \nL 1259 2491 \nL 2053 2491 \nQ 2509 2491 2742 2702 \nQ 2975 2913 2975 3322 \nQ 2975 3731 2742 3939 \nQ 2509 4147 2053 4147 \nL 1259 4147 \nz\n\" transform=\"scale(0.015625)\"/>\n      </defs>\n      <use xlink:href=\"#DejaVuSans-51\"/>\n      <use xlink:href=\"#DejaVuSans-39\" transform=\"translate(78.710938 0)\"/>\n      <use xlink:href=\"#DejaVuSans-20\" transform=\"translate(142.333984 0)\"/>\n      <use xlink:href=\"#DejaVuSans-52\" transform=\"translate(174.121094 0)\"/>\n      <use xlink:href=\"#DejaVuSans-65\" transform=\"translate(239.103516 0)\"/>\n      <use xlink:href=\"#DejaVuSans-73\" transform=\"translate(300.626953 0)\"/>\n      <use xlink:href=\"#DejaVuSans-70\" transform=\"translate(352.726562 0)\"/>\n      <use xlink:href=\"#DejaVuSans-6f\" transform=\"translate(416.203125 0)\"/>\n      <use xlink:href=\"#DejaVuSans-6e\" transform=\"translate(477.384766 0)\"/>\n      <use xlink:href=\"#DejaVuSans-73\" transform=\"translate(540.763672 0)\"/>\n      <use xlink:href=\"#DejaVuSans-65\" transform=\"translate(592.863281 0)\"/>\n      <use xlink:href=\"#DejaVuSans-73\" transform=\"translate(654.386719 0)\"/>\n     </g>\n    </g>\n    <g id=\"patch_48\">\n     <path d=\"M 55.965625 355.284062 \nL 75.965625 355.284062 \nL 75.965625 348.284062 \nL 55.965625 348.284062 \nz\n\" style=\"fill: #1f77b4\"/>\n    </g>\n    <g id=\"text_21\">\n     <!-- 1-2 hours -->\n     <g transform=\"translate(83.965625 355.284062) scale(0.1 -0.1)\">\n      <defs>\n       <path id=\"DejaVuSans-2d\" d=\"M 313 2009 \nL 1997 2009 \nL 1997 1497 \nL 313 1497 \nL 313 2009 \nz\n\" transform=\"scale(0.015625)\"/>\n       <path id=\"DejaVuSans-68\" d=\"M 3513 2113 \nL 3513 0 \nL 2938 0 \nL 2938 2094 \nQ 2938 2591 2744 2837 \nQ 2550 3084 2163 3084 \nQ 1697 3084 1428 2787 \nQ 1159 2491 1159 1978 \nL 1159 0 \nL 581 0 \nL 581 4863 \nL 1159 4863 \nL 1159 2956 \nQ 1366 3272 1645 3428 \nQ 1925 3584 2291 3584 \nQ 2894 3584 3203 3211 \nQ 3513 2838 3513 2113 \nz\n\" transform=\"scale(0.015625)\"/>\n      </defs>\n      <use xlink:href=\"#DejaVuSans-31\"/>\n      <use xlink:href=\"#DejaVuSans-2d\" transform=\"translate(63.623047 0)\"/>\n      <use xlink:href=\"#DejaVuSans-32\" transform=\"translate(99.707031 0)\"/>\n      <use xlink:href=\"#DejaVuSans-20\" transform=\"translate(163.330078 0)\"/>\n      <use xlink:href=\"#DejaVuSans-68\" transform=\"translate(195.117188 0)\"/>\n      <use xlink:href=\"#DejaVuSans-6f\" transform=\"translate(258.496094 0)\"/>\n      <use xlink:href=\"#DejaVuSans-75\" transform=\"translate(319.677734 0)\"/>\n      <use xlink:href=\"#DejaVuSans-72\" transform=\"translate(383.056641 0)\"/>\n      <use xlink:href=\"#DejaVuSans-73\" transform=\"translate(424.169922 0)\"/>\n     </g>\n    </g>\n    <g id=\"patch_49\">\n     <path d=\"M 55.965625 369.962187 \nL 75.965625 369.962187 \nL 75.965625 362.962187 \nL 55.965625 362.962187 \nz\n\" style=\"fill: #ff7f0e\"/>\n    </g>\n    <g id=\"text_22\">\n     <!-- 2-3 hours -->\n     <g transform=\"translate(83.965625 369.962187) scale(0.1 -0.1)\">\n      <use xlink:href=\"#DejaVuSans-32\"/>\n      <use xlink:href=\"#DejaVuSans-2d\" transform=\"translate(63.623047 0)\"/>\n      <use xlink:href=\"#DejaVuSans-33\" transform=\"translate(99.707031 0)\"/>\n      <use xlink:href=\"#DejaVuSans-20\" transform=\"translate(163.330078 0)\"/>\n      <use xlink:href=\"#DejaVuSans-68\" transform=\"translate(195.117188 0)\"/>\n      <use xlink:href=\"#DejaVuSans-6f\" transform=\"translate(258.496094 0)\"/>\n      <use xlink:href=\"#DejaVuSans-75\" transform=\"translate(319.677734 0)\"/>\n      <use xlink:href=\"#DejaVuSans-72\" transform=\"translate(383.056641 0)\"/>\n      <use xlink:href=\"#DejaVuSans-73\" transform=\"translate(424.169922 0)\"/>\n     </g>\n    </g>\n    <g id=\"patch_50\">\n     <path d=\"M 55.965625 384.640312 \nL 75.965625 384.640312 \nL 75.965625 377.640312 \nL 55.965625 377.640312 \nz\n\" style=\"fill: #2ca02c\"/>\n    </g>\n    <g id=\"text_23\">\n     <!-- Less than 1 hour -->\n     <g transform=\"translate(83.965625 384.640312) scale(0.1 -0.1)\">\n      <defs>\n       <path id=\"DejaVuSans-4c\" d=\"M 628 4666 \nL 1259 4666 \nL 1259 531 \nL 3531 531 \nL 3531 0 \nL 628 0 \nL 628 4666 \nz\n\" transform=\"scale(0.015625)\"/>\n      </defs>\n      <use xlink:href=\"#DejaVuSans-4c\"/>\n      <use xlink:href=\"#DejaVuSans-65\" transform=\"translate(53.962891 0)\"/>\n      <use xlink:href=\"#DejaVuSans-73\" transform=\"translate(115.486328 0)\"/>\n      <use xlink:href=\"#DejaVuSans-73\" transform=\"translate(167.585938 0)\"/>\n      <use xlink:href=\"#DejaVuSans-20\" transform=\"translate(219.685547 0)\"/>\n      <use xlink:href=\"#DejaVuSans-74\" transform=\"translate(251.472656 0)\"/>\n      <use xlink:href=\"#DejaVuSans-68\" transform=\"translate(290.681641 0)\"/>\n      <use xlink:href=\"#DejaVuSans-61\" transform=\"translate(354.060547 0)\"/>\n      <use xlink:href=\"#DejaVuSans-6e\" transform=\"translate(415.339844 0)\"/>\n      <use xlink:href=\"#DejaVuSans-20\" transform=\"translate(478.71875 0)\"/>\n      <use xlink:href=\"#DejaVuSans-31\" transform=\"translate(510.505859 0)\"/>\n      <use xlink:href=\"#DejaVuSans-20\" transform=\"translate(574.128906 0)\"/>\n      <use xlink:href=\"#DejaVuSans-68\" transform=\"translate(605.916016 0)\"/>\n      <use xlink:href=\"#DejaVuSans-6f\" transform=\"translate(669.294922 0)\"/>\n      <use xlink:href=\"#DejaVuSans-75\" transform=\"translate(730.476562 0)\"/>\n      <use xlink:href=\"#DejaVuSans-72\" transform=\"translate(793.855469 0)\"/>\n     </g>\n    </g>\n    <g id=\"patch_51\">\n     <path d=\"M 55.965625 399.318437 \nL 75.965625 399.318437 \nL 75.965625 392.318437 \nL 55.965625 392.318437 \nz\n\" style=\"fill: #d62728\"/>\n    </g>\n    <g id=\"text_24\">\n     <!-- More than 3 hours -->\n     <g transform=\"translate(83.965625 399.318437) scale(0.1 -0.1)\">\n      <defs>\n       <path id=\"DejaVuSans-4d\" d=\"M 628 4666 \nL 1569 4666 \nL 2759 1491 \nL 3956 4666 \nL 4897 4666 \nL 4897 0 \nL 4281 0 \nL 4281 4097 \nL 3078 897 \nL 2444 897 \nL 1241 4097 \nL 1241 0 \nL 628 0 \nL 628 4666 \nz\n\" transform=\"scale(0.015625)\"/>\n      </defs>\n      <use xlink:href=\"#DejaVuSans-4d\"/>\n      <use xlink:href=\"#DejaVuSans-6f\" transform=\"translate(86.279297 0)\"/>\n      <use xlink:href=\"#DejaVuSans-72\" transform=\"translate(147.460938 0)\"/>\n      <use xlink:href=\"#DejaVuSans-65\" transform=\"translate(186.324219 0)\"/>\n      <use xlink:href=\"#DejaVuSans-20\" transform=\"translate(247.847656 0)\"/>\n      <use xlink:href=\"#DejaVuSans-74\" transform=\"translate(279.634766 0)\"/>\n      <use xlink:href=\"#DejaVuSans-68\" transform=\"translate(318.84375 0)\"/>\n      <use xlink:href=\"#DejaVuSans-61\" transform=\"translate(382.222656 0)\"/>\n      <use xlink:href=\"#DejaVuSans-6e\" transform=\"translate(443.501953 0)\"/>\n      <use xlink:href=\"#DejaVuSans-20\" transform=\"translate(506.880859 0)\"/>\n      <use xlink:href=\"#DejaVuSans-33\" transform=\"translate(538.667969 0)\"/>\n      <use xlink:href=\"#DejaVuSans-20\" transform=\"translate(602.291016 0)\"/>\n      <use xlink:href=\"#DejaVuSans-68\" transform=\"translate(634.078125 0)\"/>\n      <use xlink:href=\"#DejaVuSans-6f\" transform=\"translate(697.457031 0)\"/>\n      <use xlink:href=\"#DejaVuSans-75\" transform=\"translate(758.638672 0)\"/>\n      <use xlink:href=\"#DejaVuSans-72\" transform=\"translate(822.017578 0)\"/>\n      <use xlink:href=\"#DejaVuSans-73\" transform=\"translate(863.130859 0)\"/>\n     </g>\n    </g>\n   </g>\n  </g>\n </g>\n <defs>\n  <clipPath id=\"p1844bcfc23\">\n   <rect x=\"46.965625\" y=\"22.318125\" width=\"558\" height=\"388.08\"/>\n  </clipPath>\n </defs>\n</svg>\n"
          },
          "metadata": {}
        }
      ]
    },
    {
      "cell_type": "markdown",
      "source": [
        "**Is the preparation time different based on the career status and type of TAs?**\n",
        "\n",
        "Infomration related to career status are in the TAs_app dataset. Let's merge the datasets."
      ],
      "metadata": {
        "id": "T5I9VV-eC0sJ"
      }
    },
    {
      "cell_type": "code",
      "source": [
        "TAs_apps_path   =\"/content/drive/MyDrive/Academies_DataAnalysis/General/TAs_ReceivedApp_from2021.csv\"\n",
        "TAs_app         = pd.read_csv(TAs_apps_path)"
      ],
      "metadata": {
        "id": "YH8h43_tDK3M"
      },
      "execution_count": 36,
      "outputs": []
    },
    {
      "cell_type": "code",
      "source": [
        "TAs_app = TAs_app[(TAs_app['course_id'] == 12) & (TAs_app['status'] == 'matched')]"
      ],
      "metadata": {
        "id": "Dj6E8SDUFRZS"
      },
      "execution_count": 37,
      "outputs": []
    },
    {
      "cell_type": "code",
      "source": [
        "print('Shape of combined_df before the merge is: ', combined_df.shape)\n",
        "merged_df = combined_df.merge(TAs_app, left_on='uid', right_on='unique_id', how='left')\n",
        "merged_df = merged_df.drop(columns='unique_id')\n",
        "\n",
        "print('Shape of merge_df is: ', merged_df.shape)"
      ],
      "metadata": {
        "colab": {
          "base_uri": "https://localhost:8080/"
        },
        "id": "uFTO0XgRD3q1",
        "outputId": "3950f3d6-b96a-46c1-ec23-e072fba7287d"
      },
      "execution_count": 38,
      "outputs": [
        {
          "output_type": "stream",
          "name": "stdout",
          "text": [
            "Shape of combined_df before the merge is:  (198, 16)\n",
            "Shape of merge_df is:  (198, 25)\n"
          ]
        }
      ]
    },
    {
      "cell_type": "code",
      "source": [
        "# Calculate the percentages of Q9 responses by career_status and WeekDay\n",
        "perc_q9 = merged_df.groupby(['career_status', 'WeekDay', 'TA_type'])['Q9'] \\\n",
        "                     .value_counts(normalize=True) * 100\n",
        "\n",
        "perc_q9_df = perc_q9.reset_index(name='Percentage')"
      ],
      "metadata": {
        "colab": {
          "base_uri": "https://localhost:8080/"
        },
        "id": "pl_QMRZXGAv7",
        "outputId": "2e355d4b-5cae-4a58-95da-e953c69e4dcf"
      },
      "execution_count": 39,
      "outputs": [
        {
          "output_type": "stream",
          "name": "stderr",
          "text": [
            "<ipython-input-39-c8ae684152fa>:2: FutureWarning: The default of observed=False is deprecated and will be changed to True in a future version of pandas. Pass observed=False to retain current behavior or observed=True to adopt the future default and silence this warning.\n",
            "  perc_q9 = merged_df.groupby(['career_status', 'WeekDay', 'TA_type'])['Q9'] \\\n"
          ]
        }
      ]
    },
    {
      "cell_type": "code",
      "source": [
        "career_statuses = perc_q9_df['career_status'].unique()\n",
        "\n",
        "sns.set(style=\"whitegrid\")\n",
        "plt.figure(figsize=(10, 7))\n",
        "sns.barplot(data=perc_q9_df, x='career_status', y='Percentage', hue='Q9',\n",
        "            errorbar=None, palette=colors)\n",
        "\n",
        "plt.xlabel(' ')\n",
        "plt.ylabel('Percentage (%)')\n",
        "plt.title('Hours spent on preparatory work by Career Status')\n",
        "plt.legend(title=' ')\n",
        "plt.show()"
      ],
      "metadata": {
        "colab": {
          "base_uri": "https://localhost:8080/",
          "height": 626
        },
        "id": "XCzdU5zOGFJl",
        "outputId": "d3e40285-e132-4eca-93bf-d81a5a5273b0"
      },
      "execution_count": 40,
      "outputs": [
        {
          "output_type": "display_data",
          "data": {
            "text/plain": [
              "<Figure size 1000x700 with 1 Axes>"
            ],
            "image/svg+xml": "<?xml version=\"1.0\" encoding=\"utf-8\" standalone=\"no\"?>\n<!DOCTYPE svg PUBLIC \"-//W3C//DTD SVG 1.1//EN\"\n  \"http://www.w3.org/Graphics/SVG/1.1/DTD/svg11.dtd\">\n<svg xmlns:xlink=\"http://www.w3.org/1999/xlink\" width=\"629.808984pt\" height=\"453.66375pt\" viewBox=\"0 0 629.808984 453.66375\" xmlns=\"http://www.w3.org/2000/svg\" version=\"1.1\">\n <metadata>\n  <rdf:RDF xmlns:dc=\"http://purl.org/dc/elements/1.1/\" xmlns:cc=\"http://creativecommons.org/ns#\" xmlns:rdf=\"http://www.w3.org/1999/02/22-rdf-syntax-ns#\">\n   <cc:Work>\n    <dc:type rdf:resource=\"http://purl.org/dc/dcmitype/StillImage\"/>\n    <dc:date>2025-02-14T06:19:24.179508</dc:date>\n    <dc:format>image/svg+xml</dc:format>\n    <dc:creator>\n     <cc:Agent>\n      <dc:title>Matplotlib v3.10.0, https://matplotlib.org/</dc:title>\n     </cc:Agent>\n    </dc:creator>\n   </cc:Work>\n  </rdf:RDF>\n </metadata>\n <defs>\n  <style type=\"text/css\">*{stroke-linejoin: round; stroke-linecap: butt}</style>\n </defs>\n <g id=\"figure_1\">\n  <g id=\"patch_1\">\n   <path d=\"M 0 453.66375 \nL 629.808984 453.66375 \nL 629.808984 0 \nL 0 0 \nz\n\" style=\"fill: #ffffff\"/>\n  </g>\n  <g id=\"axes_1\">\n   <g id=\"patch_2\">\n    <path d=\"M 46.31125 410.398125 \nL 604.31125 410.398125 \nL 604.31125 22.318125 \nL 46.31125 22.318125 \nz\n\" style=\"fill: #ffffff\"/>\n   </g>\n   <g id=\"matplotlib.axis_1\">\n    <g id=\"xtick_1\">\n     <g id=\"text_1\">\n      <!-- industry -->\n      <g style=\"fill: #262626\" transform=\"translate(70.282734 428.256406) scale(0.11 -0.11)\">\n       <defs>\n        <path id=\"DejaVuSans-69\" d=\"M 603 3500 \nL 1178 3500 \nL 1178 0 \nL 603 0 \nL 603 3500 \nz\nM 603 4863 \nL 1178 4863 \nL 1178 4134 \nL 603 4134 \nL 603 4863 \nz\n\" transform=\"scale(0.015625)\"/>\n        <path id=\"DejaVuSans-6e\" d=\"M 3513 2113 \nL 3513 0 \nL 2938 0 \nL 2938 2094 \nQ 2938 2591 2744 2837 \nQ 2550 3084 2163 3084 \nQ 1697 3084 1428 2787 \nQ 1159 2491 1159 1978 \nL 1159 0 \nL 581 0 \nL 581 3500 \nL 1159 3500 \nL 1159 2956 \nQ 1366 3272 1645 3428 \nQ 1925 3584 2291 3584 \nQ 2894 3584 3203 3211 \nQ 3513 2838 3513 2113 \nz\n\" transform=\"scale(0.015625)\"/>\n        <path id=\"DejaVuSans-64\" d=\"M 2906 2969 \nL 2906 4863 \nL 3481 4863 \nL 3481 0 \nL 2906 0 \nL 2906 525 \nQ 2725 213 2448 61 \nQ 2172 -91 1784 -91 \nQ 1150 -91 751 415 \nQ 353 922 353 1747 \nQ 353 2572 751 3078 \nQ 1150 3584 1784 3584 \nQ 2172 3584 2448 3432 \nQ 2725 3281 2906 2969 \nz\nM 947 1747 \nQ 947 1113 1208 752 \nQ 1469 391 1925 391 \nQ 2381 391 2643 752 \nQ 2906 1113 2906 1747 \nQ 2906 2381 2643 2742 \nQ 2381 3103 1925 3103 \nQ 1469 3103 1208 2742 \nQ 947 2381 947 1747 \nz\n\" transform=\"scale(0.015625)\"/>\n        <path id=\"DejaVuSans-75\" d=\"M 544 1381 \nL 544 3500 \nL 1119 3500 \nL 1119 1403 \nQ 1119 906 1312 657 \nQ 1506 409 1894 409 \nQ 2359 409 2629 706 \nQ 2900 1003 2900 1516 \nL 2900 3500 \nL 3475 3500 \nL 3475 0 \nL 2900 0 \nL 2900 538 \nQ 2691 219 2414 64 \nQ 2138 -91 1772 -91 \nQ 1169 -91 856 284 \nQ 544 659 544 1381 \nz\nM 1991 3584 \nL 1991 3584 \nz\n\" transform=\"scale(0.015625)\"/>\n        <path id=\"DejaVuSans-73\" d=\"M 2834 3397 \nL 2834 2853 \nQ 2591 2978 2328 3040 \nQ 2066 3103 1784 3103 \nQ 1356 3103 1142 2972 \nQ 928 2841 928 2578 \nQ 928 2378 1081 2264 \nQ 1234 2150 1697 2047 \nL 1894 2003 \nQ 2506 1872 2764 1633 \nQ 3022 1394 3022 966 \nQ 3022 478 2636 193 \nQ 2250 -91 1575 -91 \nQ 1294 -91 989 -36 \nQ 684 19 347 128 \nL 347 722 \nQ 666 556 975 473 \nQ 1284 391 1588 391 \nQ 1994 391 2212 530 \nQ 2431 669 2431 922 \nQ 2431 1156 2273 1281 \nQ 2116 1406 1581 1522 \nL 1381 1569 \nQ 847 1681 609 1914 \nQ 372 2147 372 2553 \nQ 372 3047 722 3315 \nQ 1072 3584 1716 3584 \nQ 2034 3584 2315 3537 \nQ 2597 3491 2834 3397 \nz\n\" transform=\"scale(0.015625)\"/>\n        <path id=\"DejaVuSans-74\" d=\"M 1172 4494 \nL 1172 3500 \nL 2356 3500 \nL 2356 3053 \nL 1172 3053 \nL 1172 1153 \nQ 1172 725 1289 603 \nQ 1406 481 1766 481 \nL 2356 481 \nL 2356 0 \nL 1766 0 \nQ 1100 0 847 248 \nQ 594 497 594 1153 \nL 594 3053 \nL 172 3053 \nL 172 3500 \nL 594 3500 \nL 594 4494 \nL 1172 4494 \nz\n\" transform=\"scale(0.015625)\"/>\n        <path id=\"DejaVuSans-72\" d=\"M 2631 2963 \nQ 2534 3019 2420 3045 \nQ 2306 3072 2169 3072 \nQ 1681 3072 1420 2755 \nQ 1159 2438 1159 1844 \nL 1159 0 \nL 581 0 \nL 581 3500 \nL 1159 3500 \nL 1159 2956 \nQ 1341 3275 1631 3429 \nQ 1922 3584 2338 3584 \nQ 2397 3584 2469 3576 \nQ 2541 3569 2628 3553 \nL 2631 2963 \nz\n\" transform=\"scale(0.015625)\"/>\n        <path id=\"DejaVuSans-79\" d=\"M 2059 -325 \nQ 1816 -950 1584 -1140 \nQ 1353 -1331 966 -1331 \nL 506 -1331 \nL 506 -850 \nL 844 -850 \nQ 1081 -850 1212 -737 \nQ 1344 -625 1503 -206 \nL 1606 56 \nL 191 3500 \nL 800 3500 \nL 1894 763 \nL 2988 3500 \nL 3597 3500 \nL 2059 -325 \nz\n\" transform=\"scale(0.015625)\"/>\n       </defs>\n       <use xlink:href=\"#DejaVuSans-69\"/>\n       <use xlink:href=\"#DejaVuSans-6e\" transform=\"translate(27.783203 0)\"/>\n       <use xlink:href=\"#DejaVuSans-64\" transform=\"translate(91.162109 0)\"/>\n       <use xlink:href=\"#DejaVuSans-75\" transform=\"translate(154.638672 0)\"/>\n       <use xlink:href=\"#DejaVuSans-73\" transform=\"translate(218.017578 0)\"/>\n       <use xlink:href=\"#DejaVuSans-74\" transform=\"translate(270.117188 0)\"/>\n       <use xlink:href=\"#DejaVuSans-72\" transform=\"translate(309.326172 0)\"/>\n       <use xlink:href=\"#DejaVuSans-79\" transform=\"translate(350.439453 0)\"/>\n      </g>\n     </g>\n    </g>\n    <g id=\"xtick_2\">\n     <g id=\"text_2\">\n      <!-- masters_student -->\n      <g style=\"fill: #262626\" transform=\"translate(139.777109 428.256406) scale(0.11 -0.11)\">\n       <defs>\n        <path id=\"DejaVuSans-6d\" d=\"M 3328 2828 \nQ 3544 3216 3844 3400 \nQ 4144 3584 4550 3584 \nQ 5097 3584 5394 3201 \nQ 5691 2819 5691 2113 \nL 5691 0 \nL 5113 0 \nL 5113 2094 \nQ 5113 2597 4934 2840 \nQ 4756 3084 4391 3084 \nQ 3944 3084 3684 2787 \nQ 3425 2491 3425 1978 \nL 3425 0 \nL 2847 0 \nL 2847 2094 \nQ 2847 2600 2669 2842 \nQ 2491 3084 2119 3084 \nQ 1678 3084 1418 2786 \nQ 1159 2488 1159 1978 \nL 1159 0 \nL 581 0 \nL 581 3500 \nL 1159 3500 \nL 1159 2956 \nQ 1356 3278 1631 3431 \nQ 1906 3584 2284 3584 \nQ 2666 3584 2933 3390 \nQ 3200 3197 3328 2828 \nz\n\" transform=\"scale(0.015625)\"/>\n        <path id=\"DejaVuSans-61\" d=\"M 2194 1759 \nQ 1497 1759 1228 1600 \nQ 959 1441 959 1056 \nQ 959 750 1161 570 \nQ 1363 391 1709 391 \nQ 2188 391 2477 730 \nQ 2766 1069 2766 1631 \nL 2766 1759 \nL 2194 1759 \nz\nM 3341 1997 \nL 3341 0 \nL 2766 0 \nL 2766 531 \nQ 2569 213 2275 61 \nQ 1981 -91 1556 -91 \nQ 1019 -91 701 211 \nQ 384 513 384 1019 \nQ 384 1609 779 1909 \nQ 1175 2209 1959 2209 \nL 2766 2209 \nL 2766 2266 \nQ 2766 2663 2505 2880 \nQ 2244 3097 1772 3097 \nQ 1472 3097 1187 3025 \nQ 903 2953 641 2809 \nL 641 3341 \nQ 956 3463 1253 3523 \nQ 1550 3584 1831 3584 \nQ 2591 3584 2966 3190 \nQ 3341 2797 3341 1997 \nz\n\" transform=\"scale(0.015625)\"/>\n        <path id=\"DejaVuSans-65\" d=\"M 3597 1894 \nL 3597 1613 \nL 953 1613 \nQ 991 1019 1311 708 \nQ 1631 397 2203 397 \nQ 2534 397 2845 478 \nQ 3156 559 3463 722 \nL 3463 178 \nQ 3153 47 2828 -22 \nQ 2503 -91 2169 -91 \nQ 1331 -91 842 396 \nQ 353 884 353 1716 \nQ 353 2575 817 3079 \nQ 1281 3584 2069 3584 \nQ 2775 3584 3186 3129 \nQ 3597 2675 3597 1894 \nz\nM 3022 2063 \nQ 3016 2534 2758 2815 \nQ 2500 3097 2075 3097 \nQ 1594 3097 1305 2825 \nQ 1016 2553 972 2059 \nL 3022 2063 \nz\n\" transform=\"scale(0.015625)\"/>\n        <path id=\"DejaVuSans-5f\" d=\"M 3263 -1063 \nL 3263 -1509 \nL -63 -1509 \nL -63 -1063 \nL 3263 -1063 \nz\n\" transform=\"scale(0.015625)\"/>\n       </defs>\n       <use xlink:href=\"#DejaVuSans-6d\"/>\n       <use xlink:href=\"#DejaVuSans-61\" transform=\"translate(97.412109 0)\"/>\n       <use xlink:href=\"#DejaVuSans-73\" transform=\"translate(158.691406 0)\"/>\n       <use xlink:href=\"#DejaVuSans-74\" transform=\"translate(210.791016 0)\"/>\n       <use xlink:href=\"#DejaVuSans-65\" transform=\"translate(250 0)\"/>\n       <use xlink:href=\"#DejaVuSans-72\" transform=\"translate(311.523438 0)\"/>\n       <use xlink:href=\"#DejaVuSans-73\" transform=\"translate(352.636719 0)\"/>\n       <use xlink:href=\"#DejaVuSans-5f\" transform=\"translate(404.736328 0)\"/>\n       <use xlink:href=\"#DejaVuSans-73\" transform=\"translate(454.736328 0)\"/>\n       <use xlink:href=\"#DejaVuSans-74\" transform=\"translate(506.835938 0)\"/>\n       <use xlink:href=\"#DejaVuSans-75\" transform=\"translate(546.044922 0)\"/>\n       <use xlink:href=\"#DejaVuSans-64\" transform=\"translate(609.423828 0)\"/>\n       <use xlink:href=\"#DejaVuSans-65\" transform=\"translate(672.900391 0)\"/>\n       <use xlink:href=\"#DejaVuSans-6e\" transform=\"translate(734.423828 0)\"/>\n       <use xlink:href=\"#DejaVuSans-74\" transform=\"translate(797.802734 0)\"/>\n      </g>\n     </g>\n    </g>\n    <g id=\"xtick_3\">\n     <g id=\"text_3\">\n      <!-- other -->\n      <g style=\"fill: #262626\" transform=\"translate(264.158906 428.256406) scale(0.11 -0.11)\">\n       <defs>\n        <path id=\"DejaVuSans-6f\" d=\"M 1959 3097 \nQ 1497 3097 1228 2736 \nQ 959 2375 959 1747 \nQ 959 1119 1226 758 \nQ 1494 397 1959 397 \nQ 2419 397 2687 759 \nQ 2956 1122 2956 1747 \nQ 2956 2369 2687 2733 \nQ 2419 3097 1959 3097 \nz\nM 1959 3584 \nQ 2709 3584 3137 3096 \nQ 3566 2609 3566 1747 \nQ 3566 888 3137 398 \nQ 2709 -91 1959 -91 \nQ 1206 -91 779 398 \nQ 353 888 353 1747 \nQ 353 2609 779 3096 \nQ 1206 3584 1959 3584 \nz\n\" transform=\"scale(0.015625)\"/>\n        <path id=\"DejaVuSans-68\" d=\"M 3513 2113 \nL 3513 0 \nL 2938 0 \nL 2938 2094 \nQ 2938 2591 2744 2837 \nQ 2550 3084 2163 3084 \nQ 1697 3084 1428 2787 \nQ 1159 2491 1159 1978 \nL 1159 0 \nL 581 0 \nL 581 4863 \nL 1159 4863 \nL 1159 2956 \nQ 1366 3272 1645 3428 \nQ 1925 3584 2291 3584 \nQ 2894 3584 3203 3211 \nQ 3513 2838 3513 2113 \nz\n\" transform=\"scale(0.015625)\"/>\n       </defs>\n       <use xlink:href=\"#DejaVuSans-6f\"/>\n       <use xlink:href=\"#DejaVuSans-74\" transform=\"translate(61.181641 0)\"/>\n       <use xlink:href=\"#DejaVuSans-68\" transform=\"translate(100.390625 0)\"/>\n       <use xlink:href=\"#DejaVuSans-65\" transform=\"translate(163.769531 0)\"/>\n       <use xlink:href=\"#DejaVuSans-72\" transform=\"translate(225.292969 0)\"/>\n      </g>\n     </g>\n    </g>\n    <g id=\"xtick_4\">\n     <g id=\"text_4\">\n      <!-- phd_student -->\n      <g style=\"fill: #262626\" transform=\"translate(337.567734 428.256406) scale(0.11 -0.11)\">\n       <defs>\n        <path id=\"DejaVuSans-70\" d=\"M 1159 525 \nL 1159 -1331 \nL 581 -1331 \nL 581 3500 \nL 1159 3500 \nL 1159 2969 \nQ 1341 3281 1617 3432 \nQ 1894 3584 2278 3584 \nQ 2916 3584 3314 3078 \nQ 3713 2572 3713 1747 \nQ 3713 922 3314 415 \nQ 2916 -91 2278 -91 \nQ 1894 -91 1617 61 \nQ 1341 213 1159 525 \nz\nM 3116 1747 \nQ 3116 2381 2855 2742 \nQ 2594 3103 2138 3103 \nQ 1681 3103 1420 2742 \nQ 1159 2381 1159 1747 \nQ 1159 1113 1420 752 \nQ 1681 391 2138 391 \nQ 2594 391 2855 752 \nQ 3116 1113 3116 1747 \nz\n\" transform=\"scale(0.015625)\"/>\n       </defs>\n       <use xlink:href=\"#DejaVuSans-70\"/>\n       <use xlink:href=\"#DejaVuSans-68\" transform=\"translate(63.476562 0)\"/>\n       <use xlink:href=\"#DejaVuSans-64\" transform=\"translate(126.855469 0)\"/>\n       <use xlink:href=\"#DejaVuSans-5f\" transform=\"translate(190.332031 0)\"/>\n       <use xlink:href=\"#DejaVuSans-73\" transform=\"translate(240.332031 0)\"/>\n       <use xlink:href=\"#DejaVuSans-74\" transform=\"translate(292.431641 0)\"/>\n       <use xlink:href=\"#DejaVuSans-75\" transform=\"translate(331.640625 0)\"/>\n       <use xlink:href=\"#DejaVuSans-64\" transform=\"translate(395.019531 0)\"/>\n       <use xlink:href=\"#DejaVuSans-65\" transform=\"translate(458.496094 0)\"/>\n       <use xlink:href=\"#DejaVuSans-6e\" transform=\"translate(520.019531 0)\"/>\n       <use xlink:href=\"#DejaVuSans-74\" transform=\"translate(583.398438 0)\"/>\n      </g>\n     </g>\n    </g>\n    <g id=\"xtick_5\">\n     <g id=\"text_5\">\n      <!-- postdoc -->\n      <g style=\"fill: #262626\" transform=\"translate(443.051875 428.256406) scale(0.11 -0.11)\">\n       <defs>\n        <path id=\"DejaVuSans-63\" d=\"M 3122 3366 \nL 3122 2828 \nQ 2878 2963 2633 3030 \nQ 2388 3097 2138 3097 \nQ 1578 3097 1268 2742 \nQ 959 2388 959 1747 \nQ 959 1106 1268 751 \nQ 1578 397 2138 397 \nQ 2388 397 2633 464 \nQ 2878 531 3122 666 \nL 3122 134 \nQ 2881 22 2623 -34 \nQ 2366 -91 2075 -91 \nQ 1284 -91 818 406 \nQ 353 903 353 1747 \nQ 353 2603 823 3093 \nQ 1294 3584 2113 3584 \nQ 2378 3584 2631 3529 \nQ 2884 3475 3122 3366 \nz\n\" transform=\"scale(0.015625)\"/>\n       </defs>\n       <use xlink:href=\"#DejaVuSans-70\"/>\n       <use xlink:href=\"#DejaVuSans-6f\" transform=\"translate(63.476562 0)\"/>\n       <use xlink:href=\"#DejaVuSans-73\" transform=\"translate(124.658203 0)\"/>\n       <use xlink:href=\"#DejaVuSans-74\" transform=\"translate(176.757812 0)\"/>\n       <use xlink:href=\"#DejaVuSans-64\" transform=\"translate(215.966797 0)\"/>\n       <use xlink:href=\"#DejaVuSans-6f\" transform=\"translate(279.443359 0)\"/>\n       <use xlink:href=\"#DejaVuSans-63\" transform=\"translate(340.625 0)\"/>\n      </g>\n     </g>\n    </g>\n    <g id=\"xtick_6\">\n     <g id=\"text_6\">\n      <!-- undergraduate_student -->\n      <g style=\"fill: #262626\" transform=\"translate(493.013516 428.256406) scale(0.11 -0.11)\">\n       <defs>\n        <path id=\"DejaVuSans-67\" d=\"M 2906 1791 \nQ 2906 2416 2648 2759 \nQ 2391 3103 1925 3103 \nQ 1463 3103 1205 2759 \nQ 947 2416 947 1791 \nQ 947 1169 1205 825 \nQ 1463 481 1925 481 \nQ 2391 481 2648 825 \nQ 2906 1169 2906 1791 \nz\nM 3481 434 \nQ 3481 -459 3084 -895 \nQ 2688 -1331 1869 -1331 \nQ 1566 -1331 1297 -1286 \nQ 1028 -1241 775 -1147 \nL 775 -588 \nQ 1028 -725 1275 -790 \nQ 1522 -856 1778 -856 \nQ 2344 -856 2625 -561 \nQ 2906 -266 2906 331 \nL 2906 616 \nQ 2728 306 2450 153 \nQ 2172 0 1784 0 \nQ 1141 0 747 490 \nQ 353 981 353 1791 \nQ 353 2603 747 3093 \nQ 1141 3584 1784 3584 \nQ 2172 3584 2450 3431 \nQ 2728 3278 2906 2969 \nL 2906 3500 \nL 3481 3500 \nL 3481 434 \nz\n\" transform=\"scale(0.015625)\"/>\n       </defs>\n       <use xlink:href=\"#DejaVuSans-75\"/>\n       <use xlink:href=\"#DejaVuSans-6e\" transform=\"translate(63.378906 0)\"/>\n       <use xlink:href=\"#DejaVuSans-64\" transform=\"translate(126.757812 0)\"/>\n       <use xlink:href=\"#DejaVuSans-65\" transform=\"translate(190.234375 0)\"/>\n       <use xlink:href=\"#DejaVuSans-72\" transform=\"translate(251.757812 0)\"/>\n       <use xlink:href=\"#DejaVuSans-67\" transform=\"translate(291.121094 0)\"/>\n       <use xlink:href=\"#DejaVuSans-72\" transform=\"translate(354.597656 0)\"/>\n       <use xlink:href=\"#DejaVuSans-61\" transform=\"translate(395.710938 0)\"/>\n       <use xlink:href=\"#DejaVuSans-64\" transform=\"translate(456.990234 0)\"/>\n       <use xlink:href=\"#DejaVuSans-75\" transform=\"translate(520.466797 0)\"/>\n       <use xlink:href=\"#DejaVuSans-61\" transform=\"translate(583.845703 0)\"/>\n       <use xlink:href=\"#DejaVuSans-74\" transform=\"translate(645.125 0)\"/>\n       <use xlink:href=\"#DejaVuSans-65\" transform=\"translate(684.333984 0)\"/>\n       <use xlink:href=\"#DejaVuSans-5f\" transform=\"translate(745.857422 0)\"/>\n       <use xlink:href=\"#DejaVuSans-73\" transform=\"translate(795.857422 0)\"/>\n       <use xlink:href=\"#DejaVuSans-74\" transform=\"translate(847.957031 0)\"/>\n       <use xlink:href=\"#DejaVuSans-75\" transform=\"translate(887.166016 0)\"/>\n       <use xlink:href=\"#DejaVuSans-64\" transform=\"translate(950.544922 0)\"/>\n       <use xlink:href=\"#DejaVuSans-65\" transform=\"translate(1014.021484 0)\"/>\n       <use xlink:href=\"#DejaVuSans-6e\" transform=\"translate(1075.544922 0)\"/>\n       <use xlink:href=\"#DejaVuSans-74\" transform=\"translate(1138.923828 0)\"/>\n      </g>\n     </g>\n    </g>\n    <g id=\"text_7\">\n     <!--   -->\n     <g style=\"fill: #262626\" transform=\"translate(323.404375 443.968125) scale(0.12 -0.12)\">\n      <defs>\n       <path id=\"DejaVuSans-20\" transform=\"scale(0.015625)\"/>\n      </defs>\n      <use xlink:href=\"#DejaVuSans-20\"/>\n     </g>\n    </g>\n   </g>\n   <g id=\"matplotlib.axis_2\">\n    <g id=\"ytick_1\">\n     <g id=\"line2d_1\">\n      <path d=\"M 46.31125 410.398125 \nL 604.31125 410.398125 \n\" clip-path=\"url(#pfe9e36909e)\" style=\"fill: none; stroke: #cccccc; stroke-linecap: round\"/>\n     </g>\n     <g id=\"text_8\">\n      <!-- 0 -->\n      <g style=\"fill: #262626\" transform=\"translate(29.8125 414.577266) scale(0.11 -0.11)\">\n       <defs>\n        <path id=\"DejaVuSans-30\" d=\"M 2034 4250 \nQ 1547 4250 1301 3770 \nQ 1056 3291 1056 2328 \nQ 1056 1369 1301 889 \nQ 1547 409 2034 409 \nQ 2525 409 2770 889 \nQ 3016 1369 3016 2328 \nQ 3016 3291 2770 3770 \nQ 2525 4250 2034 4250 \nz\nM 2034 4750 \nQ 2819 4750 3233 4129 \nQ 3647 3509 3647 2328 \nQ 3647 1150 3233 529 \nQ 2819 -91 2034 -91 \nQ 1250 -91 836 529 \nQ 422 1150 422 2328 \nQ 422 3509 836 4129 \nQ 1250 4750 2034 4750 \nz\n\" transform=\"scale(0.015625)\"/>\n       </defs>\n       <use xlink:href=\"#DejaVuSans-30\"/>\n      </g>\n     </g>\n    </g>\n    <g id=\"ytick_2\">\n     <g id=\"line2d_2\">\n      <path d=\"M 46.31125 333.878901 \nL 604.31125 333.878901 \n\" clip-path=\"url(#pfe9e36909e)\" style=\"fill: none; stroke: #cccccc; stroke-linecap: round\"/>\n     </g>\n     <g id=\"text_9\">\n      <!-- 10 -->\n      <g style=\"fill: #262626\" transform=\"translate(22.81375 338.058041) scale(0.11 -0.11)\">\n       <defs>\n        <path id=\"DejaVuSans-31\" d=\"M 794 531 \nL 1825 531 \nL 1825 4091 \nL 703 3866 \nL 703 4441 \nL 1819 4666 \nL 2450 4666 \nL 2450 531 \nL 3481 531 \nL 3481 0 \nL 794 0 \nL 794 531 \nz\n\" transform=\"scale(0.015625)\"/>\n       </defs>\n       <use xlink:href=\"#DejaVuSans-31\"/>\n       <use xlink:href=\"#DejaVuSans-30\" transform=\"translate(63.623047 0)\"/>\n      </g>\n     </g>\n    </g>\n    <g id=\"ytick_3\">\n     <g id=\"line2d_3\">\n      <path d=\"M 46.31125 257.359676 \nL 604.31125 257.359676 \n\" clip-path=\"url(#pfe9e36909e)\" style=\"fill: none; stroke: #cccccc; stroke-linecap: round\"/>\n     </g>\n     <g id=\"text_10\">\n      <!-- 20 -->\n      <g style=\"fill: #262626\" transform=\"translate(22.81375 261.538817) scale(0.11 -0.11)\">\n       <defs>\n        <path id=\"DejaVuSans-32\" d=\"M 1228 531 \nL 3431 531 \nL 3431 0 \nL 469 0 \nL 469 531 \nQ 828 903 1448 1529 \nQ 2069 2156 2228 2338 \nQ 2531 2678 2651 2914 \nQ 2772 3150 2772 3378 \nQ 2772 3750 2511 3984 \nQ 2250 4219 1831 4219 \nQ 1534 4219 1204 4116 \nQ 875 4013 500 3803 \nL 500 4441 \nQ 881 4594 1212 4672 \nQ 1544 4750 1819 4750 \nQ 2544 4750 2975 4387 \nQ 3406 4025 3406 3419 \nQ 3406 3131 3298 2873 \nQ 3191 2616 2906 2266 \nQ 2828 2175 2409 1742 \nQ 1991 1309 1228 531 \nz\n\" transform=\"scale(0.015625)\"/>\n       </defs>\n       <use xlink:href=\"#DejaVuSans-32\"/>\n       <use xlink:href=\"#DejaVuSans-30\" transform=\"translate(63.623047 0)\"/>\n      </g>\n     </g>\n    </g>\n    <g id=\"ytick_4\">\n     <g id=\"line2d_4\">\n      <path d=\"M 46.31125 180.840452 \nL 604.31125 180.840452 \n\" clip-path=\"url(#pfe9e36909e)\" style=\"fill: none; stroke: #cccccc; stroke-linecap: round\"/>\n     </g>\n     <g id=\"text_11\">\n      <!-- 30 -->\n      <g style=\"fill: #262626\" transform=\"translate(22.81375 185.019592) scale(0.11 -0.11)\">\n       <defs>\n        <path id=\"DejaVuSans-33\" d=\"M 2597 2516 \nQ 3050 2419 3304 2112 \nQ 3559 1806 3559 1356 \nQ 3559 666 3084 287 \nQ 2609 -91 1734 -91 \nQ 1441 -91 1130 -33 \nQ 819 25 488 141 \nL 488 750 \nQ 750 597 1062 519 \nQ 1375 441 1716 441 \nQ 2309 441 2620 675 \nQ 2931 909 2931 1356 \nQ 2931 1769 2642 2001 \nQ 2353 2234 1838 2234 \nL 1294 2234 \nL 1294 2753 \nL 1863 2753 \nQ 2328 2753 2575 2939 \nQ 2822 3125 2822 3475 \nQ 2822 3834 2567 4026 \nQ 2313 4219 1838 4219 \nQ 1578 4219 1281 4162 \nQ 984 4106 628 3988 \nL 628 4550 \nQ 988 4650 1302 4700 \nQ 1616 4750 1894 4750 \nQ 2613 4750 3031 4423 \nQ 3450 4097 3450 3541 \nQ 3450 3153 3228 2886 \nQ 3006 2619 2597 2516 \nz\n\" transform=\"scale(0.015625)\"/>\n       </defs>\n       <use xlink:href=\"#DejaVuSans-33\"/>\n       <use xlink:href=\"#DejaVuSans-30\" transform=\"translate(63.623047 0)\"/>\n      </g>\n     </g>\n    </g>\n    <g id=\"ytick_5\">\n     <g id=\"line2d_5\">\n      <path d=\"M 46.31125 104.321227 \nL 604.31125 104.321227 \n\" clip-path=\"url(#pfe9e36909e)\" style=\"fill: none; stroke: #cccccc; stroke-linecap: round\"/>\n     </g>\n     <g id=\"text_12\">\n      <!-- 40 -->\n      <g style=\"fill: #262626\" transform=\"translate(22.81375 108.500368) scale(0.11 -0.11)\">\n       <defs>\n        <path id=\"DejaVuSans-34\" d=\"M 2419 4116 \nL 825 1625 \nL 2419 1625 \nL 2419 4116 \nz\nM 2253 4666 \nL 3047 4666 \nL 3047 1625 \nL 3713 1625 \nL 3713 1100 \nL 3047 1100 \nL 3047 0 \nL 2419 0 \nL 2419 1100 \nL 313 1100 \nL 313 1709 \nL 2253 4666 \nz\n\" transform=\"scale(0.015625)\"/>\n       </defs>\n       <use xlink:href=\"#DejaVuSans-34\"/>\n       <use xlink:href=\"#DejaVuSans-30\" transform=\"translate(63.623047 0)\"/>\n      </g>\n     </g>\n    </g>\n    <g id=\"ytick_6\">\n     <g id=\"line2d_6\">\n      <path d=\"M 46.31125 27.802003 \nL 604.31125 27.802003 \n\" clip-path=\"url(#pfe9e36909e)\" style=\"fill: none; stroke: #cccccc; stroke-linecap: round\"/>\n     </g>\n     <g id=\"text_13\">\n      <!-- 50 -->\n      <g style=\"fill: #262626\" transform=\"translate(22.81375 31.981143) scale(0.11 -0.11)\">\n       <defs>\n        <path id=\"DejaVuSans-35\" d=\"M 691 4666 \nL 3169 4666 \nL 3169 4134 \nL 1269 4134 \nL 1269 2991 \nQ 1406 3038 1543 3061 \nQ 1681 3084 1819 3084 \nQ 2600 3084 3056 2656 \nQ 3513 2228 3513 1497 \nQ 3513 744 3044 326 \nQ 2575 -91 1722 -91 \nQ 1428 -91 1123 -41 \nQ 819 9 494 109 \nL 494 744 \nQ 775 591 1075 516 \nQ 1375 441 1709 441 \nQ 2250 441 2565 725 \nQ 2881 1009 2881 1497 \nQ 2881 1984 2565 2268 \nQ 2250 2553 1709 2553 \nQ 1456 2553 1204 2497 \nQ 953 2441 691 2322 \nL 691 4666 \nz\n\" transform=\"scale(0.015625)\"/>\n       </defs>\n       <use xlink:href=\"#DejaVuSans-35\"/>\n       <use xlink:href=\"#DejaVuSans-30\" transform=\"translate(63.623047 0)\"/>\n      </g>\n     </g>\n    </g>\n    <g id=\"text_14\">\n     <!-- Percentage (%) -->\n     <g style=\"fill: #262626\" transform=\"translate(16.318125 262.395) rotate(-90) scale(0.12 -0.12)\">\n      <defs>\n       <path id=\"DejaVuSans-50\" d=\"M 1259 4147 \nL 1259 2394 \nL 2053 2394 \nQ 2494 2394 2734 2622 \nQ 2975 2850 2975 3272 \nQ 2975 3691 2734 3919 \nQ 2494 4147 2053 4147 \nL 1259 4147 \nz\nM 628 4666 \nL 2053 4666 \nQ 2838 4666 3239 4311 \nQ 3641 3956 3641 3272 \nQ 3641 2581 3239 2228 \nQ 2838 1875 2053 1875 \nL 1259 1875 \nL 1259 0 \nL 628 0 \nL 628 4666 \nz\n\" transform=\"scale(0.015625)\"/>\n       <path id=\"DejaVuSans-28\" d=\"M 1984 4856 \nQ 1566 4138 1362 3434 \nQ 1159 2731 1159 2009 \nQ 1159 1288 1364 580 \nQ 1569 -128 1984 -844 \nL 1484 -844 \nQ 1016 -109 783 600 \nQ 550 1309 550 2009 \nQ 550 2706 781 3412 \nQ 1013 4119 1484 4856 \nL 1984 4856 \nz\n\" transform=\"scale(0.015625)\"/>\n       <path id=\"DejaVuSans-25\" d=\"M 4653 2053 \nQ 4381 2053 4226 1822 \nQ 4072 1591 4072 1178 \nQ 4072 772 4226 539 \nQ 4381 306 4653 306 \nQ 4919 306 5073 539 \nQ 5228 772 5228 1178 \nQ 5228 1588 5073 1820 \nQ 4919 2053 4653 2053 \nz\nM 4653 2450 \nQ 5147 2450 5437 2106 \nQ 5728 1763 5728 1178 \nQ 5728 594 5436 251 \nQ 5144 -91 4653 -91 \nQ 4153 -91 3862 251 \nQ 3572 594 3572 1178 \nQ 3572 1766 3864 2108 \nQ 4156 2450 4653 2450 \nz\nM 1428 4353 \nQ 1159 4353 1004 4120 \nQ 850 3888 850 3481 \nQ 850 3069 1003 2837 \nQ 1156 2606 1428 2606 \nQ 1700 2606 1854 2837 \nQ 2009 3069 2009 3481 \nQ 2009 3884 1853 4118 \nQ 1697 4353 1428 4353 \nz\nM 4250 4750 \nL 4750 4750 \nL 1831 -91 \nL 1331 -91 \nL 4250 4750 \nz\nM 1428 4750 \nQ 1922 4750 2215 4408 \nQ 2509 4066 2509 3481 \nQ 2509 2891 2217 2550 \nQ 1925 2209 1428 2209 \nQ 931 2209 642 2551 \nQ 353 2894 353 3481 \nQ 353 4063 643 4406 \nQ 934 4750 1428 4750 \nz\n\" transform=\"scale(0.015625)\"/>\n       <path id=\"DejaVuSans-29\" d=\"M 513 4856 \nL 1013 4856 \nQ 1481 4119 1714 3412 \nQ 1947 2706 1947 2009 \nQ 1947 1309 1714 600 \nQ 1481 -109 1013 -844 \nL 513 -844 \nQ 928 -128 1133 580 \nQ 1338 1288 1338 2009 \nQ 1338 2731 1133 3434 \nQ 928 4138 513 4856 \nz\n\" transform=\"scale(0.015625)\"/>\n      </defs>\n      <use xlink:href=\"#DejaVuSans-50\"/>\n      <use xlink:href=\"#DejaVuSans-65\" transform=\"translate(56.677734 0)\"/>\n      <use xlink:href=\"#DejaVuSans-72\" transform=\"translate(118.201172 0)\"/>\n      <use xlink:href=\"#DejaVuSans-63\" transform=\"translate(157.064453 0)\"/>\n      <use xlink:href=\"#DejaVuSans-65\" transform=\"translate(212.044922 0)\"/>\n      <use xlink:href=\"#DejaVuSans-6e\" transform=\"translate(273.568359 0)\"/>\n      <use xlink:href=\"#DejaVuSans-74\" transform=\"translate(336.947266 0)\"/>\n      <use xlink:href=\"#DejaVuSans-61\" transform=\"translate(376.15625 0)\"/>\n      <use xlink:href=\"#DejaVuSans-67\" transform=\"translate(437.435547 0)\"/>\n      <use xlink:href=\"#DejaVuSans-65\" transform=\"translate(500.912109 0)\"/>\n      <use xlink:href=\"#DejaVuSans-20\" transform=\"translate(562.435547 0)\"/>\n      <use xlink:href=\"#DejaVuSans-28\" transform=\"translate(594.222656 0)\"/>\n      <use xlink:href=\"#DejaVuSans-25\" transform=\"translate(633.236328 0)\"/>\n      <use xlink:href=\"#DejaVuSans-29\" transform=\"translate(728.255859 0)\"/>\n     </g>\n    </g>\n   </g>\n   <g id=\"patch_3\">\n    <path d=\"M 55.61125 410.398125 \nL 74.21125 410.398125 \nL 74.21125 359.385309 \nL 55.61125 359.385309 \nz\n\" clip-path=\"url(#pfe9e36909e)\" style=\"fill: #bb8836; stroke: #ffffff; stroke-linejoin: miter\"/>\n   </g>\n   <g id=\"patch_4\">\n    <path d=\"M 148.61125 410.398125 \nL 167.21125 410.398125 \nL 167.21125 332.178473 \nL 148.61125 332.178473 \nz\n\" clip-path=\"url(#pfe9e36909e)\" style=\"fill: #bb8836; stroke: #ffffff; stroke-linejoin: miter\"/>\n   </g>\n   <g id=\"patch_5\">\n    <path d=\"M 241.61125 410.398125 \nL 260.21125 410.398125 \nL 260.21125 287.117152 \nL 241.61125 287.117152 \nz\n\" clip-path=\"url(#pfe9e36909e)\" style=\"fill: #bb8836; stroke: #ffffff; stroke-linejoin: miter\"/>\n   </g>\n   <g id=\"patch_6\">\n    <path d=\"M 334.61125 410.398125 \nL 353.21125 410.398125 \nL 353.21125 40.798125 \nL 334.61125 40.798125 \nz\n\" clip-path=\"url(#pfe9e36909e)\" style=\"fill: #bb8836; stroke: #ffffff; stroke-linejoin: miter\"/>\n   </g>\n   <g id=\"patch_7\">\n    <path d=\"M 427.61125 410.398125 \nL 446.21125 410.398125 \nL 446.21125 370.012979 \nL 427.61125 370.012979 \nz\n\" clip-path=\"url(#pfe9e36909e)\" style=\"fill: #bb8836; stroke: #ffffff; stroke-linejoin: miter\"/>\n   </g>\n   <g id=\"patch_8\">\n    <path d=\"M 520.61125 410.398125 \nL 539.21125 410.398125 \nL 539.21125 219.100064 \nL 520.61125 219.100064 \nz\n\" clip-path=\"url(#pfe9e36909e)\" style=\"fill: #bb8836; stroke: #ffffff; stroke-linejoin: miter\"/>\n   </g>\n   <g id=\"patch_9\">\n    <path d=\"M 74.21125 410.398125 \nL 92.81125 410.398125 \nL 92.81125 333.878901 \nL 74.21125 333.878901 \nz\n\" clip-path=\"url(#pfe9e36909e)\" style=\"fill: #ee8787; stroke: #ffffff; stroke-linejoin: miter\"/>\n   </g>\n   <g id=\"patch_10\">\n    <path d=\"M 167.21125 410.398125 \nL 185.81125 410.398125 \nL 185.81125 369.162765 \nL 167.21125 369.162765 \nz\n\" clip-path=\"url(#pfe9e36909e)\" style=\"fill: #ee8787; stroke: #ffffff; stroke-linejoin: miter\"/>\n   </g>\n   <g id=\"patch_11\">\n    <path d=\"M 260.21125 410.398125 \nL 278.81125 410.398125 \nL 278.81125 261.610744 \nL 260.21125 261.610744 \nz\n\" clip-path=\"url(#pfe9e36909e)\" style=\"fill: #ee8787; stroke: #ffffff; stroke-linejoin: miter\"/>\n   </g>\n   <g id=\"patch_12\">\n    <path d=\"M 353.21125 410.398125 \nL 371.81125 410.398125 \nL 371.81125 306.277323 \nL 353.21125 306.277323 \nz\n\" clip-path=\"url(#pfe9e36909e)\" style=\"fill: #ee8787; stroke: #ffffff; stroke-linejoin: miter\"/>\n   </g>\n   <g id=\"patch_13\">\n    <path d=\"M 446.21125 410.398125 \nL 464.81125 410.398125 \nL 464.81125 312.62356 \nL 446.21125 312.62356 \nz\n\" clip-path=\"url(#pfe9e36909e)\" style=\"fill: #ee8787; stroke: #ffffff; stroke-linejoin: miter\"/>\n   </g>\n   <g id=\"patch_14\">\n    <path d=\"M 539.21125 410.398125 \nL 557.81125 410.398125 \nL 557.81125 397.644921 \nL 539.21125 397.644921 \nz\n\" clip-path=\"url(#pfe9e36909e)\" style=\"fill: #ee8787; stroke: #ffffff; stroke-linejoin: miter\"/>\n   </g>\n   <g id=\"patch_15\">\n    <path d=\"M 92.81125 410.398125 \nL 111.41125 410.398125 \nL 111.41125 365.761911 \nL 92.81125 365.761911 \nz\n\" clip-path=\"url(#pfe9e36909e)\" style=\"fill: #1881a7; stroke: #ffffff; stroke-linejoin: miter\"/>\n   </g>\n   <g id=\"patch_16\">\n    <path d=\"M 185.81125 410.398125 \nL 204.41125 410.398125 \nL 204.41125 223.351132 \nL 185.81125 223.351132 \nz\n\" clip-path=\"url(#pfe9e36909e)\" style=\"fill: #1881a7; stroke: #ffffff; stroke-linejoin: miter\"/>\n   </g>\n   <g id=\"patch_17\">\n    <path d=\"M 278.81125 410.398125 \nL 297.41125 410.398125 \nL 297.41125 410.398125 \nL 278.81125 410.398125 \nz\n\" clip-path=\"url(#pfe9e36909e)\" style=\"fill: #1881a7; stroke: #ffffff; stroke-linejoin: miter\"/>\n   </g>\n   <g id=\"patch_18\">\n    <path d=\"M 371.81125 410.398125 \nL 390.41125 410.398125 \nL 390.41125 382.280346 \nL 371.81125 382.280346 \nz\n\" clip-path=\"url(#pfe9e36909e)\" style=\"fill: #1881a7; stroke: #ffffff; stroke-linejoin: miter\"/>\n   </g>\n   <g id=\"patch_19\">\n    <path d=\"M 464.81125 410.398125 \nL 483.41125 410.398125 \nL 483.41125 308.372492 \nL 464.81125 308.372492 \nz\n\" clip-path=\"url(#pfe9e36909e)\" style=\"fill: #1881a7; stroke: #ffffff; stroke-linejoin: miter\"/>\n   </g>\n   <g id=\"patch_20\">\n    <path d=\"M 557.81125 410.398125 \nL 576.41125 410.398125 \nL 576.41125 410.398125 \nL 557.81125 410.398125 \nz\n\" clip-path=\"url(#pfe9e36909e)\" style=\"fill: #1881a7; stroke: #ffffff; stroke-linejoin: miter\"/>\n   </g>\n   <g id=\"patch_21\">\n    <path d=\"M 111.41125 410.398125 \nL 130.01125 410.398125 \nL 130.01125 404.021523 \nL 111.41125 404.021523 \nz\n\" clip-path=\"url(#pfe9e36909e)\" style=\"fill: #4e4e93; stroke: #ffffff; stroke-linejoin: miter\"/>\n   </g>\n   <g id=\"patch_22\">\n    <path d=\"M 204.41125 410.398125 \nL 223.01125 410.398125 \nL 223.01125 308.797599 \nL 204.41125 308.797599 \nz\n\" clip-path=\"url(#pfe9e36909e)\" style=\"fill: #4e4e93; stroke: #ffffff; stroke-linejoin: miter\"/>\n   </g>\n   <g id=\"patch_23\">\n    <path d=\"M 297.41125 410.398125 \nL 316.01125 410.398125 \nL 316.01125 401.895989 \nL 297.41125 401.895989 \nz\n\" clip-path=\"url(#pfe9e36909e)\" style=\"fill: #4e4e93; stroke: #ffffff; stroke-linejoin: miter\"/>\n   </g>\n   <g id=\"patch_24\">\n    <path d=\"M 390.41125 410.398125 \nL 409.01125 410.398125 \nL 409.01125 376.602134 \nL 390.41125 376.602134 \nz\n\" clip-path=\"url(#pfe9e36909e)\" style=\"fill: #4e4e93; stroke: #ffffff; stroke-linejoin: miter\"/>\n   </g>\n   <g id=\"patch_25\">\n    <path d=\"M 483.41125 410.398125 \nL 502.01125 410.398125 \nL 502.01125 319.000162 \nL 483.41125 319.000162 \nz\n\" clip-path=\"url(#pfe9e36909e)\" style=\"fill: #4e4e93; stroke: #ffffff; stroke-linejoin: miter\"/>\n   </g>\n   <g id=\"patch_26\">\n    <path d=\"M 576.41125 410.398125 \nL 595.01125 410.398125 \nL 595.01125 410.398125 \nL 576.41125 410.398125 \nz\n\" clip-path=\"url(#pfe9e36909e)\" style=\"fill: #4e4e93; stroke: #ffffff; stroke-linejoin: miter\"/>\n   </g>\n   <g id=\"patch_27\">\n    <path d=\"M 92.81125 410.398125 \nL 92.81125 410.398125 \nL 92.81125 410.398125 \nL 92.81125 410.398125 \nz\n\" clip-path=\"url(#pfe9e36909e)\" style=\"fill: #bb8836; stroke: #ffffff; stroke-linejoin: miter\"/>\n   </g>\n   <g id=\"patch_28\">\n    <path d=\"M 92.81125 410.398125 \nL 92.81125 410.398125 \nL 92.81125 410.398125 \nL 92.81125 410.398125 \nz\n\" clip-path=\"url(#pfe9e36909e)\" style=\"fill: #ee8787; stroke: #ffffff; stroke-linejoin: miter\"/>\n   </g>\n   <g id=\"patch_29\">\n    <path d=\"M 92.81125 410.398125 \nL 92.81125 410.398125 \nL 92.81125 410.398125 \nL 92.81125 410.398125 \nz\n\" clip-path=\"url(#pfe9e36909e)\" style=\"fill: #1881a7; stroke: #ffffff; stroke-linejoin: miter\"/>\n   </g>\n   <g id=\"patch_30\">\n    <path d=\"M 92.81125 410.398125 \nL 92.81125 410.398125 \nL 92.81125 410.398125 \nL 92.81125 410.398125 \nz\n\" clip-path=\"url(#pfe9e36909e)\" style=\"fill: #4e4e93; stroke: #ffffff; stroke-linejoin: miter\"/>\n   </g>\n   <g id=\"patch_31\">\n    <path d=\"M 46.31125 410.398125 \nL 46.31125 22.318125 \n\" style=\"fill: none; stroke: #cccccc; stroke-width: 1.25; stroke-linejoin: miter; stroke-linecap: square\"/>\n   </g>\n   <g id=\"patch_32\">\n    <path d=\"M 604.31125 410.398125 \nL 604.31125 22.318125 \n\" style=\"fill: none; stroke: #cccccc; stroke-width: 1.25; stroke-linejoin: miter; stroke-linecap: square\"/>\n   </g>\n   <g id=\"patch_33\">\n    <path d=\"M 46.31125 410.398125 \nL 604.31125 410.398125 \n\" style=\"fill: none; stroke: #cccccc; stroke-width: 1.25; stroke-linejoin: miter; stroke-linecap: square\"/>\n   </g>\n   <g id=\"patch_34\">\n    <path d=\"M 46.31125 22.318125 \nL 604.31125 22.318125 \n\" style=\"fill: none; stroke: #cccccc; stroke-width: 1.25; stroke-linejoin: miter; stroke-linecap: square\"/>\n   </g>\n   <g id=\"text_15\">\n    <!-- Hours spent on preparatory work by Career Status -->\n    <g style=\"fill: #262626\" transform=\"translate(173.580625 16.318125) scale(0.12 -0.12)\">\n     <defs>\n      <path id=\"DejaVuSans-48\" d=\"M 628 4666 \nL 1259 4666 \nL 1259 2753 \nL 3553 2753 \nL 3553 4666 \nL 4184 4666 \nL 4184 0 \nL 3553 0 \nL 3553 2222 \nL 1259 2222 \nL 1259 0 \nL 628 0 \nL 628 4666 \nz\n\" transform=\"scale(0.015625)\"/>\n      <path id=\"DejaVuSans-77\" d=\"M 269 3500 \nL 844 3500 \nL 1563 769 \nL 2278 3500 \nL 2956 3500 \nL 3675 769 \nL 4391 3500 \nL 4966 3500 \nL 4050 0 \nL 3372 0 \nL 2619 2869 \nL 1863 0 \nL 1184 0 \nL 269 3500 \nz\n\" transform=\"scale(0.015625)\"/>\n      <path id=\"DejaVuSans-6b\" d=\"M 581 4863 \nL 1159 4863 \nL 1159 1991 \nL 2875 3500 \nL 3609 3500 \nL 1753 1863 \nL 3688 0 \nL 2938 0 \nL 1159 1709 \nL 1159 0 \nL 581 0 \nL 581 4863 \nz\n\" transform=\"scale(0.015625)\"/>\n      <path id=\"DejaVuSans-62\" d=\"M 3116 1747 \nQ 3116 2381 2855 2742 \nQ 2594 3103 2138 3103 \nQ 1681 3103 1420 2742 \nQ 1159 2381 1159 1747 \nQ 1159 1113 1420 752 \nQ 1681 391 2138 391 \nQ 2594 391 2855 752 \nQ 3116 1113 3116 1747 \nz\nM 1159 2969 \nQ 1341 3281 1617 3432 \nQ 1894 3584 2278 3584 \nQ 2916 3584 3314 3078 \nQ 3713 2572 3713 1747 \nQ 3713 922 3314 415 \nQ 2916 -91 2278 -91 \nQ 1894 -91 1617 61 \nQ 1341 213 1159 525 \nL 1159 0 \nL 581 0 \nL 581 4863 \nL 1159 4863 \nL 1159 2969 \nz\n\" transform=\"scale(0.015625)\"/>\n      <path id=\"DejaVuSans-43\" d=\"M 4122 4306 \nL 4122 3641 \nQ 3803 3938 3442 4084 \nQ 3081 4231 2675 4231 \nQ 1875 4231 1450 3742 \nQ 1025 3253 1025 2328 \nQ 1025 1406 1450 917 \nQ 1875 428 2675 428 \nQ 3081 428 3442 575 \nQ 3803 722 4122 1019 \nL 4122 359 \nQ 3791 134 3420 21 \nQ 3050 -91 2638 -91 \nQ 1578 -91 968 557 \nQ 359 1206 359 2328 \nQ 359 3453 968 4101 \nQ 1578 4750 2638 4750 \nQ 3056 4750 3426 4639 \nQ 3797 4528 4122 4306 \nz\n\" transform=\"scale(0.015625)\"/>\n      <path id=\"DejaVuSans-53\" d=\"M 3425 4513 \nL 3425 3897 \nQ 3066 4069 2747 4153 \nQ 2428 4238 2131 4238 \nQ 1616 4238 1336 4038 \nQ 1056 3838 1056 3469 \nQ 1056 3159 1242 3001 \nQ 1428 2844 1947 2747 \nL 2328 2669 \nQ 3034 2534 3370 2195 \nQ 3706 1856 3706 1288 \nQ 3706 609 3251 259 \nQ 2797 -91 1919 -91 \nQ 1588 -91 1214 -16 \nQ 841 59 441 206 \nL 441 856 \nQ 825 641 1194 531 \nQ 1563 422 1919 422 \nQ 2459 422 2753 634 \nQ 3047 847 3047 1241 \nQ 3047 1584 2836 1778 \nQ 2625 1972 2144 2069 \nL 1759 2144 \nQ 1053 2284 737 2584 \nQ 422 2884 422 3419 \nQ 422 4038 858 4394 \nQ 1294 4750 2059 4750 \nQ 2388 4750 2728 4690 \nQ 3069 4631 3425 4513 \nz\n\" transform=\"scale(0.015625)\"/>\n     </defs>\n     <use xlink:href=\"#DejaVuSans-48\"/>\n     <use xlink:href=\"#DejaVuSans-6f\" transform=\"translate(75.195312 0)\"/>\n     <use xlink:href=\"#DejaVuSans-75\" transform=\"translate(136.376953 0)\"/>\n     <use xlink:href=\"#DejaVuSans-72\" transform=\"translate(199.755859 0)\"/>\n     <use xlink:href=\"#DejaVuSans-73\" transform=\"translate(240.869141 0)\"/>\n     <use xlink:href=\"#DejaVuSans-20\" transform=\"translate(292.96875 0)\"/>\n     <use xlink:href=\"#DejaVuSans-73\" transform=\"translate(324.755859 0)\"/>\n     <use xlink:href=\"#DejaVuSans-70\" transform=\"translate(376.855469 0)\"/>\n     <use xlink:href=\"#DejaVuSans-65\" transform=\"translate(440.332031 0)\"/>\n     <use xlink:href=\"#DejaVuSans-6e\" transform=\"translate(501.855469 0)\"/>\n     <use xlink:href=\"#DejaVuSans-74\" transform=\"translate(565.234375 0)\"/>\n     <use xlink:href=\"#DejaVuSans-20\" transform=\"translate(604.443359 0)\"/>\n     <use xlink:href=\"#DejaVuSans-6f\" transform=\"translate(636.230469 0)\"/>\n     <use xlink:href=\"#DejaVuSans-6e\" transform=\"translate(697.412109 0)\"/>\n     <use xlink:href=\"#DejaVuSans-20\" transform=\"translate(760.791016 0)\"/>\n     <use xlink:href=\"#DejaVuSans-70\" transform=\"translate(792.578125 0)\"/>\n     <use xlink:href=\"#DejaVuSans-72\" transform=\"translate(856.054688 0)\"/>\n     <use xlink:href=\"#DejaVuSans-65\" transform=\"translate(894.917969 0)\"/>\n     <use xlink:href=\"#DejaVuSans-70\" transform=\"translate(956.441406 0)\"/>\n     <use xlink:href=\"#DejaVuSans-61\" transform=\"translate(1019.917969 0)\"/>\n     <use xlink:href=\"#DejaVuSans-72\" transform=\"translate(1081.197266 0)\"/>\n     <use xlink:href=\"#DejaVuSans-61\" transform=\"translate(1122.310547 0)\"/>\n     <use xlink:href=\"#DejaVuSans-74\" transform=\"translate(1183.589844 0)\"/>\n     <use xlink:href=\"#DejaVuSans-6f\" transform=\"translate(1222.798828 0)\"/>\n     <use xlink:href=\"#DejaVuSans-72\" transform=\"translate(1283.980469 0)\"/>\n     <use xlink:href=\"#DejaVuSans-79\" transform=\"translate(1325.09375 0)\"/>\n     <use xlink:href=\"#DejaVuSans-20\" transform=\"translate(1384.273438 0)\"/>\n     <use xlink:href=\"#DejaVuSans-77\" transform=\"translate(1416.060547 0)\"/>\n     <use xlink:href=\"#DejaVuSans-6f\" transform=\"translate(1497.847656 0)\"/>\n     <use xlink:href=\"#DejaVuSans-72\" transform=\"translate(1559.029297 0)\"/>\n     <use xlink:href=\"#DejaVuSans-6b\" transform=\"translate(1600.142578 0)\"/>\n     <use xlink:href=\"#DejaVuSans-20\" transform=\"translate(1658.052734 0)\"/>\n     <use xlink:href=\"#DejaVuSans-62\" transform=\"translate(1689.839844 0)\"/>\n     <use xlink:href=\"#DejaVuSans-79\" transform=\"translate(1753.316406 0)\"/>\n     <use xlink:href=\"#DejaVuSans-20\" transform=\"translate(1812.496094 0)\"/>\n     <use xlink:href=\"#DejaVuSans-43\" transform=\"translate(1844.283203 0)\"/>\n     <use xlink:href=\"#DejaVuSans-61\" transform=\"translate(1914.107422 0)\"/>\n     <use xlink:href=\"#DejaVuSans-72\" transform=\"translate(1975.386719 0)\"/>\n     <use xlink:href=\"#DejaVuSans-65\" transform=\"translate(2014.25 0)\"/>\n     <use xlink:href=\"#DejaVuSans-65\" transform=\"translate(2075.773438 0)\"/>\n     <use xlink:href=\"#DejaVuSans-72\" transform=\"translate(2137.296875 0)\"/>\n     <use xlink:href=\"#DejaVuSans-20\" transform=\"translate(2178.410156 0)\"/>\n     <use xlink:href=\"#DejaVuSans-53\" transform=\"translate(2210.197266 0)\"/>\n     <use xlink:href=\"#DejaVuSans-74\" transform=\"translate(2273.673828 0)\"/>\n     <use xlink:href=\"#DejaVuSans-61\" transform=\"translate(2312.882812 0)\"/>\n     <use xlink:href=\"#DejaVuSans-74\" transform=\"translate(2374.162109 0)\"/>\n     <use xlink:href=\"#DejaVuSans-75\" transform=\"translate(2413.371094 0)\"/>\n     <use xlink:href=\"#DejaVuSans-73\" transform=\"translate(2476.75 0)\"/>\n    </g>\n   </g>\n   <g id=\"legend_1\">\n    <g id=\"patch_35\">\n     <path d=\"M 460.738906 112.815625 \nL 596.61125 112.815625 \nQ 598.81125 112.815625 598.81125 110.615625 \nL 598.81125 30.018125 \nQ 598.81125 27.818125 596.61125 27.818125 \nL 460.738906 27.818125 \nQ 458.538906 27.818125 458.538906 30.018125 \nL 458.538906 110.615625 \nQ 458.538906 112.815625 460.738906 112.815625 \nz\n\" style=\"fill: #ffffff; opacity: 0.8; stroke: #cccccc; stroke-linejoin: miter\"/>\n    </g>\n    <g id=\"text_16\">\n     <!--   -->\n     <g style=\"fill: #262626\" transform=\"translate(526.768203 41.33625) scale(0.12 -0.12)\">\n      <use xlink:href=\"#DejaVuSans-20\"/>\n     </g>\n    </g>\n    <g id=\"patch_36\">\n     <path d=\"M 462.938906 57.690156 \nL 484.938906 57.690156 \nL 484.938906 49.990156 \nL 462.938906 49.990156 \nz\n\" style=\"fill: #bb8836; stroke: #ffffff; stroke-linejoin: miter\"/>\n    </g>\n    <g id=\"text_17\">\n     <!-- 1-2 hours -->\n     <g style=\"fill: #262626\" transform=\"translate(493.738906 57.690156) scale(0.11 -0.11)\">\n      <defs>\n       <path id=\"DejaVuSans-2d\" d=\"M 313 2009 \nL 1997 2009 \nL 1997 1497 \nL 313 1497 \nL 313 2009 \nz\n\" transform=\"scale(0.015625)\"/>\n      </defs>\n      <use xlink:href=\"#DejaVuSans-31\"/>\n      <use xlink:href=\"#DejaVuSans-2d\" transform=\"translate(63.623047 0)\"/>\n      <use xlink:href=\"#DejaVuSans-32\" transform=\"translate(99.707031 0)\"/>\n      <use xlink:href=\"#DejaVuSans-20\" transform=\"translate(163.330078 0)\"/>\n      <use xlink:href=\"#DejaVuSans-68\" transform=\"translate(195.117188 0)\"/>\n      <use xlink:href=\"#DejaVuSans-6f\" transform=\"translate(258.496094 0)\"/>\n      <use xlink:href=\"#DejaVuSans-75\" transform=\"translate(319.677734 0)\"/>\n      <use xlink:href=\"#DejaVuSans-72\" transform=\"translate(383.056641 0)\"/>\n      <use xlink:href=\"#DejaVuSans-73\" transform=\"translate(424.169922 0)\"/>\n     </g>\n    </g>\n    <g id=\"patch_37\">\n     <path d=\"M 462.938906 73.836094 \nL 484.938906 73.836094 \nL 484.938906 66.136094 \nL 462.938906 66.136094 \nz\n\" style=\"fill: #ee8787; stroke: #ffffff; stroke-linejoin: miter\"/>\n    </g>\n    <g id=\"text_18\">\n     <!-- 2-3 hours -->\n     <g style=\"fill: #262626\" transform=\"translate(493.738906 73.836094) scale(0.11 -0.11)\">\n      <use xlink:href=\"#DejaVuSans-32\"/>\n      <use xlink:href=\"#DejaVuSans-2d\" transform=\"translate(63.623047 0)\"/>\n      <use xlink:href=\"#DejaVuSans-33\" transform=\"translate(99.707031 0)\"/>\n      <use xlink:href=\"#DejaVuSans-20\" transform=\"translate(163.330078 0)\"/>\n      <use xlink:href=\"#DejaVuSans-68\" transform=\"translate(195.117188 0)\"/>\n      <use xlink:href=\"#DejaVuSans-6f\" transform=\"translate(258.496094 0)\"/>\n      <use xlink:href=\"#DejaVuSans-75\" transform=\"translate(319.677734 0)\"/>\n      <use xlink:href=\"#DejaVuSans-72\" transform=\"translate(383.056641 0)\"/>\n      <use xlink:href=\"#DejaVuSans-73\" transform=\"translate(424.169922 0)\"/>\n     </g>\n    </g>\n    <g id=\"patch_38\">\n     <path d=\"M 462.938906 89.982031 \nL 484.938906 89.982031 \nL 484.938906 82.282031 \nL 462.938906 82.282031 \nz\n\" style=\"fill: #1881a7; stroke: #ffffff; stroke-linejoin: miter\"/>\n    </g>\n    <g id=\"text_19\">\n     <!-- Less than 1 hour -->\n     <g style=\"fill: #262626\" transform=\"translate(493.738906 89.982031) scale(0.11 -0.11)\">\n      <defs>\n       <path id=\"DejaVuSans-4c\" d=\"M 628 4666 \nL 1259 4666 \nL 1259 531 \nL 3531 531 \nL 3531 0 \nL 628 0 \nL 628 4666 \nz\n\" transform=\"scale(0.015625)\"/>\n      </defs>\n      <use xlink:href=\"#DejaVuSans-4c\"/>\n      <use xlink:href=\"#DejaVuSans-65\" transform=\"translate(53.962891 0)\"/>\n      <use xlink:href=\"#DejaVuSans-73\" transform=\"translate(115.486328 0)\"/>\n      <use xlink:href=\"#DejaVuSans-73\" transform=\"translate(167.585938 0)\"/>\n      <use xlink:href=\"#DejaVuSans-20\" transform=\"translate(219.685547 0)\"/>\n      <use xlink:href=\"#DejaVuSans-74\" transform=\"translate(251.472656 0)\"/>\n      <use xlink:href=\"#DejaVuSans-68\" transform=\"translate(290.681641 0)\"/>\n      <use xlink:href=\"#DejaVuSans-61\" transform=\"translate(354.060547 0)\"/>\n      <use xlink:href=\"#DejaVuSans-6e\" transform=\"translate(415.339844 0)\"/>\n      <use xlink:href=\"#DejaVuSans-20\" transform=\"translate(478.71875 0)\"/>\n      <use xlink:href=\"#DejaVuSans-31\" transform=\"translate(510.505859 0)\"/>\n      <use xlink:href=\"#DejaVuSans-20\" transform=\"translate(574.128906 0)\"/>\n      <use xlink:href=\"#DejaVuSans-68\" transform=\"translate(605.916016 0)\"/>\n      <use xlink:href=\"#DejaVuSans-6f\" transform=\"translate(669.294922 0)\"/>\n      <use xlink:href=\"#DejaVuSans-75\" transform=\"translate(730.476562 0)\"/>\n      <use xlink:href=\"#DejaVuSans-72\" transform=\"translate(793.855469 0)\"/>\n     </g>\n    </g>\n    <g id=\"patch_39\">\n     <path d=\"M 462.938906 106.127969 \nL 484.938906 106.127969 \nL 484.938906 98.427969 \nL 462.938906 98.427969 \nz\n\" style=\"fill: #4e4e93; stroke: #ffffff; stroke-linejoin: miter\"/>\n    </g>\n    <g id=\"text_20\">\n     <!-- More than 3 hours -->\n     <g style=\"fill: #262626\" transform=\"translate(493.738906 106.127969) scale(0.11 -0.11)\">\n      <defs>\n       <path id=\"DejaVuSans-4d\" d=\"M 628 4666 \nL 1569 4666 \nL 2759 1491 \nL 3956 4666 \nL 4897 4666 \nL 4897 0 \nL 4281 0 \nL 4281 4097 \nL 3078 897 \nL 2444 897 \nL 1241 4097 \nL 1241 0 \nL 628 0 \nL 628 4666 \nz\n\" transform=\"scale(0.015625)\"/>\n      </defs>\n      <use xlink:href=\"#DejaVuSans-4d\"/>\n      <use xlink:href=\"#DejaVuSans-6f\" transform=\"translate(86.279297 0)\"/>\n      <use xlink:href=\"#DejaVuSans-72\" transform=\"translate(147.460938 0)\"/>\n      <use xlink:href=\"#DejaVuSans-65\" transform=\"translate(186.324219 0)\"/>\n      <use xlink:href=\"#DejaVuSans-20\" transform=\"translate(247.847656 0)\"/>\n      <use xlink:href=\"#DejaVuSans-74\" transform=\"translate(279.634766 0)\"/>\n      <use xlink:href=\"#DejaVuSans-68\" transform=\"translate(318.84375 0)\"/>\n      <use xlink:href=\"#DejaVuSans-61\" transform=\"translate(382.222656 0)\"/>\n      <use xlink:href=\"#DejaVuSans-6e\" transform=\"translate(443.501953 0)\"/>\n      <use xlink:href=\"#DejaVuSans-20\" transform=\"translate(506.880859 0)\"/>\n      <use xlink:href=\"#DejaVuSans-33\" transform=\"translate(538.667969 0)\"/>\n      <use xlink:href=\"#DejaVuSans-20\" transform=\"translate(602.291016 0)\"/>\n      <use xlink:href=\"#DejaVuSans-68\" transform=\"translate(634.078125 0)\"/>\n      <use xlink:href=\"#DejaVuSans-6f\" transform=\"translate(697.457031 0)\"/>\n      <use xlink:href=\"#DejaVuSans-75\" transform=\"translate(758.638672 0)\"/>\n      <use xlink:href=\"#DejaVuSans-72\" transform=\"translate(822.017578 0)\"/>\n      <use xlink:href=\"#DejaVuSans-73\" transform=\"translate(863.130859 0)\"/>\n     </g>\n    </g>\n   </g>\n  </g>\n </g>\n <defs>\n  <clipPath id=\"pfe9e36909e\">\n   <rect x=\"46.31125\" y=\"22.318125\" width=\"558\" height=\"388.08\"/>\n  </clipPath>\n </defs>\n</svg>\n"
          },
          "metadata": {}
        }
      ]
    },
    {
      "cell_type": "code",
      "source": [
        "# Filter out rows with TA_type equal to \"Project TA\"\n",
        "filtered_df = perc_q9_df[perc_q9_df['TA_type'] != 'Project TA']\n",
        "\n",
        "# Faceted plot\n",
        "sns.set(style=\"whitegrid\")\n",
        "g = sns.catplot(\n",
        "    data=filtered_df,\n",
        "    x='career_status',\n",
        "    y='Percentage',\n",
        "    hue='Q9',\n",
        "    col='TA_type',\n",
        "    kind='bar',\n",
        "    errorbar=None,\n",
        "    palette=colors, height=6, aspect=1)\n",
        "\n",
        "g.set_xticklabels(rotation=90)\n",
        "g.set_axis_labels(\" \", \"Percentage (%)\")\n",
        "g.fig.subplots_adjust(top=0.85)\n",
        "g.fig.suptitle(\"Hours spent on preparatory work by Career Status and TA Type\")\n",
        "plt.show()\n"
      ],
      "metadata": {
        "colab": {
          "base_uri": "https://localhost:8080/",
          "height": 763
        },
        "id": "9w-z457TZU_w",
        "outputId": "5d97dfbc-22e4-497f-ab90-c13e28443a2b"
      },
      "execution_count": 41,
      "outputs": [
        {
          "output_type": "display_data",
          "data": {
            "text/plain": [
              "<Figure size 1395x600 with 2 Axes>"
            ],
            "image/svg+xml": "<?xml version=\"1.0\" encoding=\"utf-8\" standalone=\"no\"?>\n<!DOCTYPE svg PUBLIC \"-//W3C//DTD SVG 1.1//EN\"\n  \"http://www.w3.org/Graphics/SVG/1.1/DTD/svg11.dtd\">\n<svg xmlns:xlink=\"http://www.w3.org/1999/xlink\" width=\"990.368625pt\" height=\"541.382969pt\" viewBox=\"0 0 990.368625 541.382969\" xmlns=\"http://www.w3.org/2000/svg\" version=\"1.1\">\n <metadata>\n  <rdf:RDF xmlns:dc=\"http://purl.org/dc/elements/1.1/\" xmlns:cc=\"http://creativecommons.org/ns#\" xmlns:rdf=\"http://www.w3.org/1999/02/22-rdf-syntax-ns#\">\n   <cc:Work>\n    <dc:type rdf:resource=\"http://purl.org/dc/dcmitype/StillImage\"/>\n    <dc:date>2025-02-14T06:19:25.017449</dc:date>\n    <dc:format>image/svg+xml</dc:format>\n    <dc:creator>\n     <cc:Agent>\n      <dc:title>Matplotlib v3.10.0, https://matplotlib.org/</dc:title>\n     </cc:Agent>\n    </dc:creator>\n   </cc:Work>\n  </rdf:RDF>\n </metadata>\n <defs>\n  <style type=\"text/css\">*{stroke-linejoin: round; stroke-linecap: butt}</style>\n </defs>\n <g id=\"figure_1\">\n  <g id=\"patch_1\">\n   <path d=\"M 0 541.382969 \nL 990.368625 541.382969 \nL 990.368625 0 \nL 0 0 \nz\n\" style=\"fill: #ffffff\"/>\n  </g>\n  <g id=\"axes_1\">\n   <g id=\"patch_2\">\n    <path d=\"M 46.31125 379.47375 \nL 418.574058 379.47375 \nL 418.574058 63.36 \nL 46.31125 63.36 \nz\n\" style=\"fill: #ffffff\"/>\n   </g>\n   <g id=\"matplotlib.axis_1\">\n    <g id=\"xtick_1\">\n     <g id=\"text_1\">\n      <!-- industry -->\n      <g style=\"fill: #262626\" transform=\"translate(80.368463 434.030781) rotate(-90) scale(0.11 -0.11)\">\n       <defs>\n        <path id=\"DejaVuSans-69\" d=\"M 603 3500 \nL 1178 3500 \nL 1178 0 \nL 603 0 \nL 603 3500 \nz\nM 603 4863 \nL 1178 4863 \nL 1178 4134 \nL 603 4134 \nL 603 4863 \nz\n\" transform=\"scale(0.015625)\"/>\n        <path id=\"DejaVuSans-6e\" d=\"M 3513 2113 \nL 3513 0 \nL 2938 0 \nL 2938 2094 \nQ 2938 2591 2744 2837 \nQ 2550 3084 2163 3084 \nQ 1697 3084 1428 2787 \nQ 1159 2491 1159 1978 \nL 1159 0 \nL 581 0 \nL 581 3500 \nL 1159 3500 \nL 1159 2956 \nQ 1366 3272 1645 3428 \nQ 1925 3584 2291 3584 \nQ 2894 3584 3203 3211 \nQ 3513 2838 3513 2113 \nz\n\" transform=\"scale(0.015625)\"/>\n        <path id=\"DejaVuSans-64\" d=\"M 2906 2969 \nL 2906 4863 \nL 3481 4863 \nL 3481 0 \nL 2906 0 \nL 2906 525 \nQ 2725 213 2448 61 \nQ 2172 -91 1784 -91 \nQ 1150 -91 751 415 \nQ 353 922 353 1747 \nQ 353 2572 751 3078 \nQ 1150 3584 1784 3584 \nQ 2172 3584 2448 3432 \nQ 2725 3281 2906 2969 \nz\nM 947 1747 \nQ 947 1113 1208 752 \nQ 1469 391 1925 391 \nQ 2381 391 2643 752 \nQ 2906 1113 2906 1747 \nQ 2906 2381 2643 2742 \nQ 2381 3103 1925 3103 \nQ 1469 3103 1208 2742 \nQ 947 2381 947 1747 \nz\n\" transform=\"scale(0.015625)\"/>\n        <path id=\"DejaVuSans-75\" d=\"M 544 1381 \nL 544 3500 \nL 1119 3500 \nL 1119 1403 \nQ 1119 906 1312 657 \nQ 1506 409 1894 409 \nQ 2359 409 2629 706 \nQ 2900 1003 2900 1516 \nL 2900 3500 \nL 3475 3500 \nL 3475 0 \nL 2900 0 \nL 2900 538 \nQ 2691 219 2414 64 \nQ 2138 -91 1772 -91 \nQ 1169 -91 856 284 \nQ 544 659 544 1381 \nz\nM 1991 3584 \nL 1991 3584 \nz\n\" transform=\"scale(0.015625)\"/>\n        <path id=\"DejaVuSans-73\" d=\"M 2834 3397 \nL 2834 2853 \nQ 2591 2978 2328 3040 \nQ 2066 3103 1784 3103 \nQ 1356 3103 1142 2972 \nQ 928 2841 928 2578 \nQ 928 2378 1081 2264 \nQ 1234 2150 1697 2047 \nL 1894 2003 \nQ 2506 1872 2764 1633 \nQ 3022 1394 3022 966 \nQ 3022 478 2636 193 \nQ 2250 -91 1575 -91 \nQ 1294 -91 989 -36 \nQ 684 19 347 128 \nL 347 722 \nQ 666 556 975 473 \nQ 1284 391 1588 391 \nQ 1994 391 2212 530 \nQ 2431 669 2431 922 \nQ 2431 1156 2273 1281 \nQ 2116 1406 1581 1522 \nL 1381 1569 \nQ 847 1681 609 1914 \nQ 372 2147 372 2553 \nQ 372 3047 722 3315 \nQ 1072 3584 1716 3584 \nQ 2034 3584 2315 3537 \nQ 2597 3491 2834 3397 \nz\n\" transform=\"scale(0.015625)\"/>\n        <path id=\"DejaVuSans-74\" d=\"M 1172 4494 \nL 1172 3500 \nL 2356 3500 \nL 2356 3053 \nL 1172 3053 \nL 1172 1153 \nQ 1172 725 1289 603 \nQ 1406 481 1766 481 \nL 2356 481 \nL 2356 0 \nL 1766 0 \nQ 1100 0 847 248 \nQ 594 497 594 1153 \nL 594 3053 \nL 172 3053 \nL 172 3500 \nL 594 3500 \nL 594 4494 \nL 1172 4494 \nz\n\" transform=\"scale(0.015625)\"/>\n        <path id=\"DejaVuSans-72\" d=\"M 2631 2963 \nQ 2534 3019 2420 3045 \nQ 2306 3072 2169 3072 \nQ 1681 3072 1420 2755 \nQ 1159 2438 1159 1844 \nL 1159 0 \nL 581 0 \nL 581 3500 \nL 1159 3500 \nL 1159 2956 \nQ 1341 3275 1631 3429 \nQ 1922 3584 2338 3584 \nQ 2397 3584 2469 3576 \nQ 2541 3569 2628 3553 \nL 2631 2963 \nz\n\" transform=\"scale(0.015625)\"/>\n        <path id=\"DejaVuSans-79\" d=\"M 2059 -325 \nQ 1816 -950 1584 -1140 \nQ 1353 -1331 966 -1331 \nL 506 -1331 \nL 506 -850 \nL 844 -850 \nQ 1081 -850 1212 -737 \nQ 1344 -625 1503 -206 \nL 1606 56 \nL 191 3500 \nL 800 3500 \nL 1894 763 \nL 2988 3500 \nL 3597 3500 \nL 2059 -325 \nz\n\" transform=\"scale(0.015625)\"/>\n       </defs>\n       <use xlink:href=\"#DejaVuSans-69\"/>\n       <use xlink:href=\"#DejaVuSans-6e\" transform=\"translate(27.783203 0)\"/>\n       <use xlink:href=\"#DejaVuSans-64\" transform=\"translate(91.162109 0)\"/>\n       <use xlink:href=\"#DejaVuSans-75\" transform=\"translate(154.638672 0)\"/>\n       <use xlink:href=\"#DejaVuSans-73\" transform=\"translate(218.017578 0)\"/>\n       <use xlink:href=\"#DejaVuSans-74\" transform=\"translate(270.117188 0)\"/>\n       <use xlink:href=\"#DejaVuSans-72\" transform=\"translate(309.326172 0)\"/>\n       <use xlink:href=\"#DejaVuSans-79\" transform=\"translate(350.439453 0)\"/>\n      </g>\n     </g>\n    </g>\n    <g id=\"xtick_2\">\n     <g id=\"text_2\">\n      <!-- masters_student -->\n      <g style=\"fill: #262626\" transform=\"translate(142.259296 481.042031) rotate(-90) scale(0.11 -0.11)\">\n       <defs>\n        <path id=\"DejaVuSans-6d\" d=\"M 3328 2828 \nQ 3544 3216 3844 3400 \nQ 4144 3584 4550 3584 \nQ 5097 3584 5394 3201 \nQ 5691 2819 5691 2113 \nL 5691 0 \nL 5113 0 \nL 5113 2094 \nQ 5113 2597 4934 2840 \nQ 4756 3084 4391 3084 \nQ 3944 3084 3684 2787 \nQ 3425 2491 3425 1978 \nL 3425 0 \nL 2847 0 \nL 2847 2094 \nQ 2847 2600 2669 2842 \nQ 2491 3084 2119 3084 \nQ 1678 3084 1418 2786 \nQ 1159 2488 1159 1978 \nL 1159 0 \nL 581 0 \nL 581 3500 \nL 1159 3500 \nL 1159 2956 \nQ 1356 3278 1631 3431 \nQ 1906 3584 2284 3584 \nQ 2666 3584 2933 3390 \nQ 3200 3197 3328 2828 \nz\n\" transform=\"scale(0.015625)\"/>\n        <path id=\"DejaVuSans-61\" d=\"M 2194 1759 \nQ 1497 1759 1228 1600 \nQ 959 1441 959 1056 \nQ 959 750 1161 570 \nQ 1363 391 1709 391 \nQ 2188 391 2477 730 \nQ 2766 1069 2766 1631 \nL 2766 1759 \nL 2194 1759 \nz\nM 3341 1997 \nL 3341 0 \nL 2766 0 \nL 2766 531 \nQ 2569 213 2275 61 \nQ 1981 -91 1556 -91 \nQ 1019 -91 701 211 \nQ 384 513 384 1019 \nQ 384 1609 779 1909 \nQ 1175 2209 1959 2209 \nL 2766 2209 \nL 2766 2266 \nQ 2766 2663 2505 2880 \nQ 2244 3097 1772 3097 \nQ 1472 3097 1187 3025 \nQ 903 2953 641 2809 \nL 641 3341 \nQ 956 3463 1253 3523 \nQ 1550 3584 1831 3584 \nQ 2591 3584 2966 3190 \nQ 3341 2797 3341 1997 \nz\n\" transform=\"scale(0.015625)\"/>\n        <path id=\"DejaVuSans-65\" d=\"M 3597 1894 \nL 3597 1613 \nL 953 1613 \nQ 991 1019 1311 708 \nQ 1631 397 2203 397 \nQ 2534 397 2845 478 \nQ 3156 559 3463 722 \nL 3463 178 \nQ 3153 47 2828 -22 \nQ 2503 -91 2169 -91 \nQ 1331 -91 842 396 \nQ 353 884 353 1716 \nQ 353 2575 817 3079 \nQ 1281 3584 2069 3584 \nQ 2775 3584 3186 3129 \nQ 3597 2675 3597 1894 \nz\nM 3022 2063 \nQ 3016 2534 2758 2815 \nQ 2500 3097 2075 3097 \nQ 1594 3097 1305 2825 \nQ 1016 2553 972 2059 \nL 3022 2063 \nz\n\" transform=\"scale(0.015625)\"/>\n        <path id=\"DejaVuSans-5f\" d=\"M 3263 -1063 \nL 3263 -1509 \nL -63 -1509 \nL -63 -1063 \nL 3263 -1063 \nz\n\" transform=\"scale(0.015625)\"/>\n       </defs>\n       <use xlink:href=\"#DejaVuSans-6d\"/>\n       <use xlink:href=\"#DejaVuSans-61\" transform=\"translate(97.412109 0)\"/>\n       <use xlink:href=\"#DejaVuSans-73\" transform=\"translate(158.691406 0)\"/>\n       <use xlink:href=\"#DejaVuSans-74\" transform=\"translate(210.791016 0)\"/>\n       <use xlink:href=\"#DejaVuSans-65\" transform=\"translate(250 0)\"/>\n       <use xlink:href=\"#DejaVuSans-72\" transform=\"translate(311.523438 0)\"/>\n       <use xlink:href=\"#DejaVuSans-73\" transform=\"translate(352.636719 0)\"/>\n       <use xlink:href=\"#DejaVuSans-5f\" transform=\"translate(404.736328 0)\"/>\n       <use xlink:href=\"#DejaVuSans-73\" transform=\"translate(454.736328 0)\"/>\n       <use xlink:href=\"#DejaVuSans-74\" transform=\"translate(506.835938 0)\"/>\n       <use xlink:href=\"#DejaVuSans-75\" transform=\"translate(546.044922 0)\"/>\n       <use xlink:href=\"#DejaVuSans-64\" transform=\"translate(609.423828 0)\"/>\n       <use xlink:href=\"#DejaVuSans-65\" transform=\"translate(672.900391 0)\"/>\n       <use xlink:href=\"#DejaVuSans-6e\" transform=\"translate(734.423828 0)\"/>\n       <use xlink:href=\"#DejaVuSans-74\" transform=\"translate(797.802734 0)\"/>\n      </g>\n     </g>\n    </g>\n    <g id=\"xtick_3\">\n     <g id=\"text_3\">\n      <!-- other -->\n      <g style=\"fill: #262626\" transform=\"translate(204.456066 418.278437) rotate(-90) scale(0.11 -0.11)\">\n       <defs>\n        <path id=\"DejaVuSans-6f\" d=\"M 1959 3097 \nQ 1497 3097 1228 2736 \nQ 959 2375 959 1747 \nQ 959 1119 1226 758 \nQ 1494 397 1959 397 \nQ 2419 397 2687 759 \nQ 2956 1122 2956 1747 \nQ 2956 2369 2687 2733 \nQ 2419 3097 1959 3097 \nz\nM 1959 3584 \nQ 2709 3584 3137 3096 \nQ 3566 2609 3566 1747 \nQ 3566 888 3137 398 \nQ 2709 -91 1959 -91 \nQ 1206 -91 779 398 \nQ 353 888 353 1747 \nQ 353 2609 779 3096 \nQ 1206 3584 1959 3584 \nz\n\" transform=\"scale(0.015625)\"/>\n        <path id=\"DejaVuSans-68\" d=\"M 3513 2113 \nL 3513 0 \nL 2938 0 \nL 2938 2094 \nQ 2938 2591 2744 2837 \nQ 2550 3084 2163 3084 \nQ 1697 3084 1428 2787 \nQ 1159 2491 1159 1978 \nL 1159 0 \nL 581 0 \nL 581 4863 \nL 1159 4863 \nL 1159 2956 \nQ 1366 3272 1645 3428 \nQ 1925 3584 2291 3584 \nQ 2894 3584 3203 3211 \nQ 3513 2838 3513 2113 \nz\n\" transform=\"scale(0.015625)\"/>\n       </defs>\n       <use xlink:href=\"#DejaVuSans-6f\"/>\n       <use xlink:href=\"#DejaVuSans-74\" transform=\"translate(61.181641 0)\"/>\n       <use xlink:href=\"#DejaVuSans-68\" transform=\"translate(100.390625 0)\"/>\n       <use xlink:href=\"#DejaVuSans-65\" transform=\"translate(163.769531 0)\"/>\n       <use xlink:href=\"#DejaVuSans-72\" transform=\"translate(225.292969 0)\"/>\n      </g>\n     </g>\n    </g>\n    <g id=\"xtick_4\">\n     <g id=\"text_4\">\n      <!-- phd_student -->\n      <g style=\"fill: #262626\" transform=\"translate(266.346899 457.460781) rotate(-90) scale(0.11 -0.11)\">\n       <defs>\n        <path id=\"DejaVuSans-70\" d=\"M 1159 525 \nL 1159 -1331 \nL 581 -1331 \nL 581 3500 \nL 1159 3500 \nL 1159 2969 \nQ 1341 3281 1617 3432 \nQ 1894 3584 2278 3584 \nQ 2916 3584 3314 3078 \nQ 3713 2572 3713 1747 \nQ 3713 922 3314 415 \nQ 2916 -91 2278 -91 \nQ 1894 -91 1617 61 \nQ 1341 213 1159 525 \nz\nM 3116 1747 \nQ 3116 2381 2855 2742 \nQ 2594 3103 2138 3103 \nQ 1681 3103 1420 2742 \nQ 1159 2381 1159 1747 \nQ 1159 1113 1420 752 \nQ 1681 391 2138 391 \nQ 2594 391 2855 752 \nQ 3116 1113 3116 1747 \nz\n\" transform=\"scale(0.015625)\"/>\n       </defs>\n       <use xlink:href=\"#DejaVuSans-70\"/>\n       <use xlink:href=\"#DejaVuSans-68\" transform=\"translate(63.476562 0)\"/>\n       <use xlink:href=\"#DejaVuSans-64\" transform=\"translate(126.855469 0)\"/>\n       <use xlink:href=\"#DejaVuSans-5f\" transform=\"translate(190.332031 0)\"/>\n       <use xlink:href=\"#DejaVuSans-73\" transform=\"translate(240.332031 0)\"/>\n       <use xlink:href=\"#DejaVuSans-74\" transform=\"translate(292.431641 0)\"/>\n       <use xlink:href=\"#DejaVuSans-75\" transform=\"translate(331.640625 0)\"/>\n       <use xlink:href=\"#DejaVuSans-64\" transform=\"translate(395.019531 0)\"/>\n       <use xlink:href=\"#DejaVuSans-65\" transform=\"translate(458.496094 0)\"/>\n       <use xlink:href=\"#DejaVuSans-6e\" transform=\"translate(520.019531 0)\"/>\n       <use xlink:href=\"#DejaVuSans-74\" transform=\"translate(583.398438 0)\"/>\n      </g>\n     </g>\n    </g>\n    <g id=\"xtick_5\">\n     <g id=\"text_5\">\n      <!-- postdoc -->\n      <g style=\"fill: #262626\" transform=\"translate(328.543669 432.4925) rotate(-90) scale(0.11 -0.11)\">\n       <defs>\n        <path id=\"DejaVuSans-63\" d=\"M 3122 3366 \nL 3122 2828 \nQ 2878 2963 2633 3030 \nQ 2388 3097 2138 3097 \nQ 1578 3097 1268 2742 \nQ 959 2388 959 1747 \nQ 959 1106 1268 751 \nQ 1578 397 2138 397 \nQ 2388 397 2633 464 \nQ 2878 531 3122 666 \nL 3122 134 \nQ 2881 22 2623 -34 \nQ 2366 -91 2075 -91 \nQ 1284 -91 818 406 \nQ 353 903 353 1747 \nQ 353 2603 823 3093 \nQ 1294 3584 2113 3584 \nQ 2378 3584 2631 3529 \nQ 2884 3475 3122 3366 \nz\n\" transform=\"scale(0.015625)\"/>\n       </defs>\n       <use xlink:href=\"#DejaVuSans-70\"/>\n       <use xlink:href=\"#DejaVuSans-6f\" transform=\"translate(63.476562 0)\"/>\n       <use xlink:href=\"#DejaVuSans-73\" transform=\"translate(124.658203 0)\"/>\n       <use xlink:href=\"#DejaVuSans-74\" transform=\"translate(176.757812 0)\"/>\n       <use xlink:href=\"#DejaVuSans-64\" transform=\"translate(215.966797 0)\"/>\n       <use xlink:href=\"#DejaVuSans-6f\" transform=\"translate(279.443359 0)\"/>\n       <use xlink:href=\"#DejaVuSans-63\" transform=\"translate(340.625 0)\"/>\n      </g>\n     </g>\n    </g>\n    <g id=\"xtick_6\">\n     <g id=\"text_6\">\n      <!-- undergraduate_student -->\n      <g style=\"fill: #262626\" transform=\"translate(390.434501 518.569219) rotate(-90) scale(0.11 -0.11)\">\n       <defs>\n        <path id=\"DejaVuSans-67\" d=\"M 2906 1791 \nQ 2906 2416 2648 2759 \nQ 2391 3103 1925 3103 \nQ 1463 3103 1205 2759 \nQ 947 2416 947 1791 \nQ 947 1169 1205 825 \nQ 1463 481 1925 481 \nQ 2391 481 2648 825 \nQ 2906 1169 2906 1791 \nz\nM 3481 434 \nQ 3481 -459 3084 -895 \nQ 2688 -1331 1869 -1331 \nQ 1566 -1331 1297 -1286 \nQ 1028 -1241 775 -1147 \nL 775 -588 \nQ 1028 -725 1275 -790 \nQ 1522 -856 1778 -856 \nQ 2344 -856 2625 -561 \nQ 2906 -266 2906 331 \nL 2906 616 \nQ 2728 306 2450 153 \nQ 2172 0 1784 0 \nQ 1141 0 747 490 \nQ 353 981 353 1791 \nQ 353 2603 747 3093 \nQ 1141 3584 1784 3584 \nQ 2172 3584 2450 3431 \nQ 2728 3278 2906 2969 \nL 2906 3500 \nL 3481 3500 \nL 3481 434 \nz\n\" transform=\"scale(0.015625)\"/>\n       </defs>\n       <use xlink:href=\"#DejaVuSans-75\"/>\n       <use xlink:href=\"#DejaVuSans-6e\" transform=\"translate(63.378906 0)\"/>\n       <use xlink:href=\"#DejaVuSans-64\" transform=\"translate(126.757812 0)\"/>\n       <use xlink:href=\"#DejaVuSans-65\" transform=\"translate(190.234375 0)\"/>\n       <use xlink:href=\"#DejaVuSans-72\" transform=\"translate(251.757812 0)\"/>\n       <use xlink:href=\"#DejaVuSans-67\" transform=\"translate(291.121094 0)\"/>\n       <use xlink:href=\"#DejaVuSans-72\" transform=\"translate(354.597656 0)\"/>\n       <use xlink:href=\"#DejaVuSans-61\" transform=\"translate(395.710938 0)\"/>\n       <use xlink:href=\"#DejaVuSans-64\" transform=\"translate(456.990234 0)\"/>\n       <use xlink:href=\"#DejaVuSans-75\" transform=\"translate(520.466797 0)\"/>\n       <use xlink:href=\"#DejaVuSans-61\" transform=\"translate(583.845703 0)\"/>\n       <use xlink:href=\"#DejaVuSans-74\" transform=\"translate(645.125 0)\"/>\n       <use xlink:href=\"#DejaVuSans-65\" transform=\"translate(684.333984 0)\"/>\n       <use xlink:href=\"#DejaVuSans-5f\" transform=\"translate(745.857422 0)\"/>\n       <use xlink:href=\"#DejaVuSans-73\" transform=\"translate(795.857422 0)\"/>\n       <use xlink:href=\"#DejaVuSans-74\" transform=\"translate(847.957031 0)\"/>\n       <use xlink:href=\"#DejaVuSans-75\" transform=\"translate(887.166016 0)\"/>\n       <use xlink:href=\"#DejaVuSans-64\" transform=\"translate(950.544922 0)\"/>\n       <use xlink:href=\"#DejaVuSans-65\" transform=\"translate(1014.021484 0)\"/>\n       <use xlink:href=\"#DejaVuSans-6e\" transform=\"translate(1075.544922 0)\"/>\n       <use xlink:href=\"#DejaVuSans-74\" transform=\"translate(1138.923828 0)\"/>\n      </g>\n     </g>\n    </g>\n    <g id=\"text_7\">\n     <!--   -->\n     <g style=\"fill: #262626\" transform=\"translate(230.535779 531.687344) scale(0.12 -0.12)\">\n      <defs>\n       <path id=\"DejaVuSans-20\" transform=\"scale(0.015625)\"/>\n      </defs>\n      <use xlink:href=\"#DejaVuSans-20\"/>\n     </g>\n    </g>\n   </g>\n   <g id=\"matplotlib.axis_2\">\n    <g id=\"ytick_1\">\n     <g id=\"line2d_1\">\n      <path d=\"M 46.31125 379.47375 \nL 418.574058 379.47375 \n\" clip-path=\"url(#pbda968c3e6)\" style=\"fill: none; stroke: #cccccc; stroke-linecap: round\"/>\n     </g>\n     <g id=\"text_8\">\n      <!-- 0 -->\n      <g style=\"fill: #262626\" transform=\"translate(29.8125 383.652891) scale(0.11 -0.11)\">\n       <defs>\n        <path id=\"DejaVuSans-30\" d=\"M 2034 4250 \nQ 1547 4250 1301 3770 \nQ 1056 3291 1056 2328 \nQ 1056 1369 1301 889 \nQ 1547 409 2034 409 \nQ 2525 409 2770 889 \nQ 3016 1369 3016 2328 \nQ 3016 3291 2770 3770 \nQ 2525 4250 2034 4250 \nz\nM 2034 4750 \nQ 2819 4750 3233 4129 \nQ 3647 3509 3647 2328 \nQ 3647 1150 3233 529 \nQ 2819 -91 2034 -91 \nQ 1250 -91 836 529 \nQ 422 1150 422 2328 \nQ 422 3509 836 4129 \nQ 1250 4750 2034 4750 \nz\n\" transform=\"scale(0.015625)\"/>\n       </defs>\n       <use xlink:href=\"#DejaVuSans-30\"/>\n      </g>\n     </g>\n    </g>\n    <g id=\"ytick_2\">\n     <g id=\"line2d_2\">\n      <path d=\"M 46.31125 339.332321 \nL 418.574058 339.332321 \n\" clip-path=\"url(#pbda968c3e6)\" style=\"fill: none; stroke: #cccccc; stroke-linecap: round\"/>\n     </g>\n     <g id=\"text_9\">\n      <!-- 10 -->\n      <g style=\"fill: #262626\" transform=\"translate(22.81375 343.511462) scale(0.11 -0.11)\">\n       <defs>\n        <path id=\"DejaVuSans-31\" d=\"M 794 531 \nL 1825 531 \nL 1825 4091 \nL 703 3866 \nL 703 4441 \nL 1819 4666 \nL 2450 4666 \nL 2450 531 \nL 3481 531 \nL 3481 0 \nL 794 0 \nL 794 531 \nz\n\" transform=\"scale(0.015625)\"/>\n       </defs>\n       <use xlink:href=\"#DejaVuSans-31\"/>\n       <use xlink:href=\"#DejaVuSans-30\" transform=\"translate(63.623047 0)\"/>\n      </g>\n     </g>\n    </g>\n    <g id=\"ytick_3\">\n     <g id=\"line2d_3\">\n      <path d=\"M 46.31125 299.190893 \nL 418.574058 299.190893 \n\" clip-path=\"url(#pbda968c3e6)\" style=\"fill: none; stroke: #cccccc; stroke-linecap: round\"/>\n     </g>\n     <g id=\"text_10\">\n      <!-- 20 -->\n      <g style=\"fill: #262626\" transform=\"translate(22.81375 303.370033) scale(0.11 -0.11)\">\n       <defs>\n        <path id=\"DejaVuSans-32\" d=\"M 1228 531 \nL 3431 531 \nL 3431 0 \nL 469 0 \nL 469 531 \nQ 828 903 1448 1529 \nQ 2069 2156 2228 2338 \nQ 2531 2678 2651 2914 \nQ 2772 3150 2772 3378 \nQ 2772 3750 2511 3984 \nQ 2250 4219 1831 4219 \nQ 1534 4219 1204 4116 \nQ 875 4013 500 3803 \nL 500 4441 \nQ 881 4594 1212 4672 \nQ 1544 4750 1819 4750 \nQ 2544 4750 2975 4387 \nQ 3406 4025 3406 3419 \nQ 3406 3131 3298 2873 \nQ 3191 2616 2906 2266 \nQ 2828 2175 2409 1742 \nQ 1991 1309 1228 531 \nz\n\" transform=\"scale(0.015625)\"/>\n       </defs>\n       <use xlink:href=\"#DejaVuSans-32\"/>\n       <use xlink:href=\"#DejaVuSans-30\" transform=\"translate(63.623047 0)\"/>\n      </g>\n     </g>\n    </g>\n    <g id=\"ytick_4\">\n     <g id=\"line2d_4\">\n      <path d=\"M 46.31125 259.049464 \nL 418.574058 259.049464 \n\" clip-path=\"url(#pbda968c3e6)\" style=\"fill: none; stroke: #cccccc; stroke-linecap: round\"/>\n     </g>\n     <g id=\"text_11\">\n      <!-- 30 -->\n      <g style=\"fill: #262626\" transform=\"translate(22.81375 263.228605) scale(0.11 -0.11)\">\n       <defs>\n        <path id=\"DejaVuSans-33\" d=\"M 2597 2516 \nQ 3050 2419 3304 2112 \nQ 3559 1806 3559 1356 \nQ 3559 666 3084 287 \nQ 2609 -91 1734 -91 \nQ 1441 -91 1130 -33 \nQ 819 25 488 141 \nL 488 750 \nQ 750 597 1062 519 \nQ 1375 441 1716 441 \nQ 2309 441 2620 675 \nQ 2931 909 2931 1356 \nQ 2931 1769 2642 2001 \nQ 2353 2234 1838 2234 \nL 1294 2234 \nL 1294 2753 \nL 1863 2753 \nQ 2328 2753 2575 2939 \nQ 2822 3125 2822 3475 \nQ 2822 3834 2567 4026 \nQ 2313 4219 1838 4219 \nQ 1578 4219 1281 4162 \nQ 984 4106 628 3988 \nL 628 4550 \nQ 988 4650 1302 4700 \nQ 1616 4750 1894 4750 \nQ 2613 4750 3031 4423 \nQ 3450 4097 3450 3541 \nQ 3450 3153 3228 2886 \nQ 3006 2619 2597 2516 \nz\n\" transform=\"scale(0.015625)\"/>\n       </defs>\n       <use xlink:href=\"#DejaVuSans-33\"/>\n       <use xlink:href=\"#DejaVuSans-30\" transform=\"translate(63.623047 0)\"/>\n      </g>\n     </g>\n    </g>\n    <g id=\"ytick_5\">\n     <g id=\"line2d_5\">\n      <path d=\"M 46.31125 218.908036 \nL 418.574058 218.908036 \n\" clip-path=\"url(#pbda968c3e6)\" style=\"fill: none; stroke: #cccccc; stroke-linecap: round\"/>\n     </g>\n     <g id=\"text_12\">\n      <!-- 40 -->\n      <g style=\"fill: #262626\" transform=\"translate(22.81375 223.087176) scale(0.11 -0.11)\">\n       <defs>\n        <path id=\"DejaVuSans-34\" d=\"M 2419 4116 \nL 825 1625 \nL 2419 1625 \nL 2419 4116 \nz\nM 2253 4666 \nL 3047 4666 \nL 3047 1625 \nL 3713 1625 \nL 3713 1100 \nL 3047 1100 \nL 3047 0 \nL 2419 0 \nL 2419 1100 \nL 313 1100 \nL 313 1709 \nL 2253 4666 \nz\n\" transform=\"scale(0.015625)\"/>\n       </defs>\n       <use xlink:href=\"#DejaVuSans-34\"/>\n       <use xlink:href=\"#DejaVuSans-30\" transform=\"translate(63.623047 0)\"/>\n      </g>\n     </g>\n    </g>\n    <g id=\"ytick_6\">\n     <g id=\"line2d_6\">\n      <path d=\"M 46.31125 178.766607 \nL 418.574058 178.766607 \n\" clip-path=\"url(#pbda968c3e6)\" style=\"fill: none; stroke: #cccccc; stroke-linecap: round\"/>\n     </g>\n     <g id=\"text_13\">\n      <!-- 50 -->\n      <g style=\"fill: #262626\" transform=\"translate(22.81375 182.945748) scale(0.11 -0.11)\">\n       <defs>\n        <path id=\"DejaVuSans-35\" d=\"M 691 4666 \nL 3169 4666 \nL 3169 4134 \nL 1269 4134 \nL 1269 2991 \nQ 1406 3038 1543 3061 \nQ 1681 3084 1819 3084 \nQ 2600 3084 3056 2656 \nQ 3513 2228 3513 1497 \nQ 3513 744 3044 326 \nQ 2575 -91 1722 -91 \nQ 1428 -91 1123 -41 \nQ 819 9 494 109 \nL 494 744 \nQ 775 591 1075 516 \nQ 1375 441 1709 441 \nQ 2250 441 2565 725 \nQ 2881 1009 2881 1497 \nQ 2881 1984 2565 2268 \nQ 2250 2553 1709 2553 \nQ 1456 2553 1204 2497 \nQ 953 2441 691 2322 \nL 691 4666 \nz\n\" transform=\"scale(0.015625)\"/>\n       </defs>\n       <use xlink:href=\"#DejaVuSans-35\"/>\n       <use xlink:href=\"#DejaVuSans-30\" transform=\"translate(63.623047 0)\"/>\n      </g>\n     </g>\n    </g>\n    <g id=\"ytick_7\">\n     <g id=\"line2d_7\">\n      <path d=\"M 46.31125 138.625179 \nL 418.574058 138.625179 \n\" clip-path=\"url(#pbda968c3e6)\" style=\"fill: none; stroke: #cccccc; stroke-linecap: round\"/>\n     </g>\n     <g id=\"text_14\">\n      <!-- 60 -->\n      <g style=\"fill: #262626\" transform=\"translate(22.81375 142.804319) scale(0.11 -0.11)\">\n       <defs>\n        <path id=\"DejaVuSans-36\" d=\"M 2113 2584 \nQ 1688 2584 1439 2293 \nQ 1191 2003 1191 1497 \nQ 1191 994 1439 701 \nQ 1688 409 2113 409 \nQ 2538 409 2786 701 \nQ 3034 994 3034 1497 \nQ 3034 2003 2786 2293 \nQ 2538 2584 2113 2584 \nz\nM 3366 4563 \nL 3366 3988 \nQ 3128 4100 2886 4159 \nQ 2644 4219 2406 4219 \nQ 1781 4219 1451 3797 \nQ 1122 3375 1075 2522 \nQ 1259 2794 1537 2939 \nQ 1816 3084 2150 3084 \nQ 2853 3084 3261 2657 \nQ 3669 2231 3669 1497 \nQ 3669 778 3244 343 \nQ 2819 -91 2113 -91 \nQ 1303 -91 875 529 \nQ 447 1150 447 2328 \nQ 447 3434 972 4092 \nQ 1497 4750 2381 4750 \nQ 2619 4750 2861 4703 \nQ 3103 4656 3366 4563 \nz\n\" transform=\"scale(0.015625)\"/>\n       </defs>\n       <use xlink:href=\"#DejaVuSans-36\"/>\n       <use xlink:href=\"#DejaVuSans-30\" transform=\"translate(63.623047 0)\"/>\n      </g>\n     </g>\n    </g>\n    <g id=\"ytick_8\">\n     <g id=\"line2d_8\">\n      <path d=\"M 46.31125 98.48375 \nL 418.574058 98.48375 \n\" clip-path=\"url(#pbda968c3e6)\" style=\"fill: none; stroke: #cccccc; stroke-linecap: round\"/>\n     </g>\n     <g id=\"text_15\">\n      <!-- 70 -->\n      <g style=\"fill: #262626\" transform=\"translate(22.81375 102.662891) scale(0.11 -0.11)\">\n       <defs>\n        <path id=\"DejaVuSans-37\" d=\"M 525 4666 \nL 3525 4666 \nL 3525 4397 \nL 1831 0 \nL 1172 0 \nL 2766 4134 \nL 525 4134 \nL 525 4666 \nz\n\" transform=\"scale(0.015625)\"/>\n       </defs>\n       <use xlink:href=\"#DejaVuSans-37\"/>\n       <use xlink:href=\"#DejaVuSans-30\" transform=\"translate(63.623047 0)\"/>\n      </g>\n     </g>\n    </g>\n    <g id=\"text_16\">\n     <!-- Percentage (%) -->\n     <g style=\"fill: #262626\" transform=\"translate(16.318125 267.45375) rotate(-90) scale(0.12 -0.12)\">\n      <defs>\n       <path id=\"DejaVuSans-50\" d=\"M 1259 4147 \nL 1259 2394 \nL 2053 2394 \nQ 2494 2394 2734 2622 \nQ 2975 2850 2975 3272 \nQ 2975 3691 2734 3919 \nQ 2494 4147 2053 4147 \nL 1259 4147 \nz\nM 628 4666 \nL 2053 4666 \nQ 2838 4666 3239 4311 \nQ 3641 3956 3641 3272 \nQ 3641 2581 3239 2228 \nQ 2838 1875 2053 1875 \nL 1259 1875 \nL 1259 0 \nL 628 0 \nL 628 4666 \nz\n\" transform=\"scale(0.015625)\"/>\n       <path id=\"DejaVuSans-28\" d=\"M 1984 4856 \nQ 1566 4138 1362 3434 \nQ 1159 2731 1159 2009 \nQ 1159 1288 1364 580 \nQ 1569 -128 1984 -844 \nL 1484 -844 \nQ 1016 -109 783 600 \nQ 550 1309 550 2009 \nQ 550 2706 781 3412 \nQ 1013 4119 1484 4856 \nL 1984 4856 \nz\n\" transform=\"scale(0.015625)\"/>\n       <path id=\"DejaVuSans-25\" d=\"M 4653 2053 \nQ 4381 2053 4226 1822 \nQ 4072 1591 4072 1178 \nQ 4072 772 4226 539 \nQ 4381 306 4653 306 \nQ 4919 306 5073 539 \nQ 5228 772 5228 1178 \nQ 5228 1588 5073 1820 \nQ 4919 2053 4653 2053 \nz\nM 4653 2450 \nQ 5147 2450 5437 2106 \nQ 5728 1763 5728 1178 \nQ 5728 594 5436 251 \nQ 5144 -91 4653 -91 \nQ 4153 -91 3862 251 \nQ 3572 594 3572 1178 \nQ 3572 1766 3864 2108 \nQ 4156 2450 4653 2450 \nz\nM 1428 4353 \nQ 1159 4353 1004 4120 \nQ 850 3888 850 3481 \nQ 850 3069 1003 2837 \nQ 1156 2606 1428 2606 \nQ 1700 2606 1854 2837 \nQ 2009 3069 2009 3481 \nQ 2009 3884 1853 4118 \nQ 1697 4353 1428 4353 \nz\nM 4250 4750 \nL 4750 4750 \nL 1831 -91 \nL 1331 -91 \nL 4250 4750 \nz\nM 1428 4750 \nQ 1922 4750 2215 4408 \nQ 2509 4066 2509 3481 \nQ 2509 2891 2217 2550 \nQ 1925 2209 1428 2209 \nQ 931 2209 642 2551 \nQ 353 2894 353 3481 \nQ 353 4063 643 4406 \nQ 934 4750 1428 4750 \nz\n\" transform=\"scale(0.015625)\"/>\n       <path id=\"DejaVuSans-29\" d=\"M 513 4856 \nL 1013 4856 \nQ 1481 4119 1714 3412 \nQ 1947 2706 1947 2009 \nQ 1947 1309 1714 600 \nQ 1481 -109 1013 -844 \nL 513 -844 \nQ 928 -128 1133 580 \nQ 1338 1288 1338 2009 \nQ 1338 2731 1133 3434 \nQ 928 4138 513 4856 \nz\n\" transform=\"scale(0.015625)\"/>\n      </defs>\n      <use xlink:href=\"#DejaVuSans-50\"/>\n      <use xlink:href=\"#DejaVuSans-65\" transform=\"translate(56.677734 0)\"/>\n      <use xlink:href=\"#DejaVuSans-72\" transform=\"translate(118.201172 0)\"/>\n      <use xlink:href=\"#DejaVuSans-63\" transform=\"translate(157.064453 0)\"/>\n      <use xlink:href=\"#DejaVuSans-65\" transform=\"translate(212.044922 0)\"/>\n      <use xlink:href=\"#DejaVuSans-6e\" transform=\"translate(273.568359 0)\"/>\n      <use xlink:href=\"#DejaVuSans-74\" transform=\"translate(336.947266 0)\"/>\n      <use xlink:href=\"#DejaVuSans-61\" transform=\"translate(376.15625 0)\"/>\n      <use xlink:href=\"#DejaVuSans-67\" transform=\"translate(437.435547 0)\"/>\n      <use xlink:href=\"#DejaVuSans-65\" transform=\"translate(500.912109 0)\"/>\n      <use xlink:href=\"#DejaVuSans-20\" transform=\"translate(562.435547 0)\"/>\n      <use xlink:href=\"#DejaVuSans-28\" transform=\"translate(594.222656 0)\"/>\n      <use xlink:href=\"#DejaVuSans-25\" transform=\"translate(633.236328 0)\"/>\n      <use xlink:href=\"#DejaVuSans-29\" transform=\"translate(728.255859 0)\"/>\n     </g>\n    </g>\n   </g>\n   <g id=\"patch_3\">\n    <path d=\"M 52.51563 379.47375 \nL 64.92439 379.47375 \nL 64.92439 379.47375 \nL 52.51563 379.47375 \nz\n\" clip-path=\"url(#pbda968c3e6)\" style=\"fill: #bb8836; stroke: #ffffff; stroke-linejoin: miter\"/>\n   </g>\n   <g id=\"patch_4\">\n    <path d=\"M 114.559432 379.47375 \nL 126.968192 379.47375 \nL 126.968192 339.332321 \nL 114.559432 339.332321 \nz\n\" clip-path=\"url(#pbda968c3e6)\" style=\"fill: #bb8836; stroke: #ffffff; stroke-linejoin: miter\"/>\n   </g>\n   <g id=\"patch_5\">\n    <path d=\"M 176.603233 379.47375 \nL 189.011993 379.47375 \nL 189.011993 379.47375 \nL 176.603233 379.47375 \nz\n\" clip-path=\"url(#pbda968c3e6)\" style=\"fill: #bb8836; stroke: #ffffff; stroke-linejoin: miter\"/>\n   </g>\n   <g id=\"patch_6\">\n    <path d=\"M 238.647034 379.47375 \nL 251.055795 379.47375 \nL 251.055795 178.766607 \nL 238.647034 178.766607 \nz\n\" clip-path=\"url(#pbda968c3e6)\" style=\"fill: #bb8836; stroke: #ffffff; stroke-linejoin: miter\"/>\n   </g>\n   <g id=\"patch_7\">\n    <path d=\"M 300.690836 379.47375 \nL 313.099596 379.47375 \nL 313.099596 379.47375 \nL 300.690836 379.47375 \nz\n\" clip-path=\"url(#pbda968c3e6)\" style=\"fill: #bb8836; stroke: #ffffff; stroke-linejoin: miter\"/>\n   </g>\n   <g id=\"patch_8\">\n    <path d=\"M 362.734637 379.47375 \nL 375.143397 379.47375 \nL 375.143397 379.47375 \nL 362.734637 379.47375 \nz\n\" clip-path=\"url(#pbda968c3e6)\" style=\"fill: #bb8836; stroke: #ffffff; stroke-linejoin: miter\"/>\n   </g>\n   <g id=\"patch_9\">\n    <path d=\"M 64.92439 379.47375 \nL 77.333151 379.47375 \nL 77.333151 379.47375 \nL 64.92439 379.47375 \nz\n\" clip-path=\"url(#pbda968c3e6)\" style=\"fill: #ee8787; stroke: #ffffff; stroke-linejoin: miter\"/>\n   </g>\n   <g id=\"patch_10\">\n    <path d=\"M 126.968192 379.47375 \nL 139.376952 379.47375 \nL 139.376952 379.47375 \nL 126.968192 379.47375 \nz\n\" clip-path=\"url(#pbda968c3e6)\" style=\"fill: #ee8787; stroke: #ffffff; stroke-linejoin: miter\"/>\n   </g>\n   <g id=\"patch_11\">\n    <path d=\"M 189.011993 379.47375 \nL 201.420753 379.47375 \nL 201.420753 299.190893 \nL 189.011993 299.190893 \nz\n\" clip-path=\"url(#pbda968c3e6)\" style=\"fill: #ee8787; stroke: #ffffff; stroke-linejoin: miter\"/>\n   </g>\n   <g id=\"patch_12\">\n    <path d=\"M 251.055795 379.47375 \nL 263.464555 379.47375 \nL 263.464555 339.332321 \nL 251.055795 339.332321 \nz\n\" clip-path=\"url(#pbda968c3e6)\" style=\"fill: #ee8787; stroke: #ffffff; stroke-linejoin: miter\"/>\n   </g>\n   <g id=\"patch_13\">\n    <path d=\"M 313.099596 379.47375 \nL 325.508356 379.47375 \nL 325.508356 379.47375 \nL 313.099596 379.47375 \nz\n\" clip-path=\"url(#pbda968c3e6)\" style=\"fill: #ee8787; stroke: #ffffff; stroke-linejoin: miter\"/>\n   </g>\n   <g id=\"patch_14\">\n    <path d=\"M 375.143397 379.47375 \nL 387.552158 379.47375 \nL 387.552158 379.47375 \nL 375.143397 379.47375 \nz\n\" clip-path=\"url(#pbda968c3e6)\" style=\"fill: #ee8787; stroke: #ffffff; stroke-linejoin: miter\"/>\n   </g>\n   <g id=\"patch_15\">\n    <path d=\"M 77.333151 379.47375 \nL 89.741911 379.47375 \nL 89.741911 379.47375 \nL 77.333151 379.47375 \nz\n\" clip-path=\"url(#pbda968c3e6)\" style=\"fill: #1881a7; stroke: #ffffff; stroke-linejoin: miter\"/>\n   </g>\n   <g id=\"patch_16\">\n    <path d=\"M 139.376952 379.47375 \nL 151.785712 379.47375 \nL 151.785712 98.48375 \nL 139.376952 98.48375 \nz\n\" clip-path=\"url(#pbda968c3e6)\" style=\"fill: #1881a7; stroke: #ffffff; stroke-linejoin: miter\"/>\n   </g>\n   <g id=\"patch_17\">\n    <path d=\"M 201.420753 379.47375 \nL 213.829514 379.47375 \nL 213.829514 379.47375 \nL 201.420753 379.47375 \nz\n\" clip-path=\"url(#pbda968c3e6)\" style=\"fill: #1881a7; stroke: #ffffff; stroke-linejoin: miter\"/>\n   </g>\n   <g id=\"patch_18\">\n    <path d=\"M 263.464555 379.47375 \nL 275.873315 379.47375 \nL 275.873315 379.47375 \nL 263.464555 379.47375 \nz\n\" clip-path=\"url(#pbda968c3e6)\" style=\"fill: #1881a7; stroke: #ffffff; stroke-linejoin: miter\"/>\n   </g>\n   <g id=\"patch_19\">\n    <path d=\"M 325.508356 379.47375 \nL 337.917116 379.47375 \nL 337.917116 218.908036 \nL 325.508356 218.908036 \nz\n\" clip-path=\"url(#pbda968c3e6)\" style=\"fill: #1881a7; stroke: #ffffff; stroke-linejoin: miter\"/>\n   </g>\n   <g id=\"patch_20\">\n    <path d=\"M 387.552158 379.47375 \nL 399.960918 379.47375 \nL 399.960918 379.47375 \nL 387.552158 379.47375 \nz\n\" clip-path=\"url(#pbda968c3e6)\" style=\"fill: #1881a7; stroke: #ffffff; stroke-linejoin: miter\"/>\n   </g>\n   <g id=\"patch_21\">\n    <path d=\"M 89.741911 379.47375 \nL 102.150671 379.47375 \nL 102.150671 379.47375 \nL 89.741911 379.47375 \nz\n\" clip-path=\"url(#pbda968c3e6)\" style=\"fill: #4e4e93; stroke: #ffffff; stroke-linejoin: miter\"/>\n   </g>\n   <g id=\"patch_22\">\n    <path d=\"M 151.785712 379.47375 \nL 164.194473 379.47375 \nL 164.194473 379.47375 \nL 151.785712 379.47375 \nz\n\" clip-path=\"url(#pbda968c3e6)\" style=\"fill: #4e4e93; stroke: #ffffff; stroke-linejoin: miter\"/>\n   </g>\n   <g id=\"patch_23\">\n    <path d=\"M 213.829514 379.47375 \nL 226.238274 379.47375 \nL 226.238274 379.47375 \nL 213.829514 379.47375 \nz\n\" clip-path=\"url(#pbda968c3e6)\" style=\"fill: #4e4e93; stroke: #ffffff; stroke-linejoin: miter\"/>\n   </g>\n   <g id=\"patch_24\">\n    <path d=\"M 275.873315 379.47375 \nL 288.282075 379.47375 \nL 288.282075 339.332321 \nL 275.873315 339.332321 \nz\n\" clip-path=\"url(#pbda968c3e6)\" style=\"fill: #4e4e93; stroke: #ffffff; stroke-linejoin: miter\"/>\n   </g>\n   <g id=\"patch_25\">\n    <path d=\"M 337.917116 379.47375 \nL 350.325877 379.47375 \nL 350.325877 379.47375 \nL 337.917116 379.47375 \nz\n\" clip-path=\"url(#pbda968c3e6)\" style=\"fill: #4e4e93; stroke: #ffffff; stroke-linejoin: miter\"/>\n   </g>\n   <g id=\"patch_26\">\n    <path d=\"M 399.960918 379.47375 \nL 412.369678 379.47375 \nL 412.369678 379.47375 \nL 399.960918 379.47375 \nz\n\" clip-path=\"url(#pbda968c3e6)\" style=\"fill: #4e4e93; stroke: #ffffff; stroke-linejoin: miter\"/>\n   </g>\n   <g id=\"patch_27\">\n    <path d=\"M 46.31125 379.47375 \nL 46.31125 63.36 \n\" style=\"fill: none; stroke: #cccccc; stroke-width: 1.25; stroke-linejoin: miter; stroke-linecap: square\"/>\n   </g>\n   <g id=\"patch_28\">\n    <path d=\"M 46.31125 379.47375 \nL 418.574058 379.47375 \n\" style=\"fill: none; stroke: #cccccc; stroke-width: 1.25; stroke-linejoin: miter; stroke-linecap: square\"/>\n   </g>\n   <g id=\"text_17\">\n    <!-- TA_type = Lead TA -->\n    <g style=\"fill: #262626\" transform=\"translate(176.265779 57.36) scale(0.12 -0.12)\">\n     <defs>\n      <path id=\"DejaVuSans-54\" d=\"M -19 4666 \nL 3928 4666 \nL 3928 4134 \nL 2272 4134 \nL 2272 0 \nL 1638 0 \nL 1638 4134 \nL -19 4134 \nL -19 4666 \nz\n\" transform=\"scale(0.015625)\"/>\n      <path id=\"DejaVuSans-41\" d=\"M 2188 4044 \nL 1331 1722 \nL 3047 1722 \nL 2188 4044 \nz\nM 1831 4666 \nL 2547 4666 \nL 4325 0 \nL 3669 0 \nL 3244 1197 \nL 1141 1197 \nL 716 0 \nL 50 0 \nL 1831 4666 \nz\n\" transform=\"scale(0.015625)\"/>\n      <path id=\"DejaVuSans-3d\" d=\"M 678 2906 \nL 4684 2906 \nL 4684 2381 \nL 678 2381 \nL 678 2906 \nz\nM 678 1631 \nL 4684 1631 \nL 4684 1100 \nL 678 1100 \nL 678 1631 \nz\n\" transform=\"scale(0.015625)\"/>\n      <path id=\"DejaVuSans-4c\" d=\"M 628 4666 \nL 1259 4666 \nL 1259 531 \nL 3531 531 \nL 3531 0 \nL 628 0 \nL 628 4666 \nz\n\" transform=\"scale(0.015625)\"/>\n     </defs>\n     <use xlink:href=\"#DejaVuSans-54\"/>\n     <use xlink:href=\"#DejaVuSans-41\" transform=\"translate(53.333984 0)\"/>\n     <use xlink:href=\"#DejaVuSans-5f\" transform=\"translate(121.742188 0)\"/>\n     <use xlink:href=\"#DejaVuSans-74\" transform=\"translate(171.742188 0)\"/>\n     <use xlink:href=\"#DejaVuSans-79\" transform=\"translate(210.951172 0)\"/>\n     <use xlink:href=\"#DejaVuSans-70\" transform=\"translate(270.130859 0)\"/>\n     <use xlink:href=\"#DejaVuSans-65\" transform=\"translate(333.607422 0)\"/>\n     <use xlink:href=\"#DejaVuSans-20\" transform=\"translate(395.130859 0)\"/>\n     <use xlink:href=\"#DejaVuSans-3d\" transform=\"translate(426.917969 0)\"/>\n     <use xlink:href=\"#DejaVuSans-20\" transform=\"translate(510.707031 0)\"/>\n     <use xlink:href=\"#DejaVuSans-4c\" transform=\"translate(542.494141 0)\"/>\n     <use xlink:href=\"#DejaVuSans-65\" transform=\"translate(596.457031 0)\"/>\n     <use xlink:href=\"#DejaVuSans-61\" transform=\"translate(657.980469 0)\"/>\n     <use xlink:href=\"#DejaVuSans-64\" transform=\"translate(719.259766 0)\"/>\n     <use xlink:href=\"#DejaVuSans-20\" transform=\"translate(782.736328 0)\"/>\n     <use xlink:href=\"#DejaVuSans-54\" transform=\"translate(814.523438 0)\"/>\n     <use xlink:href=\"#DejaVuSans-41\" transform=\"translate(867.857422 0)\"/>\n    </g>\n   </g>\n  </g>\n  <g id=\"axes_2\">\n   <g id=\"patch_29\">\n    <path d=\"M 465.961817 379.47375 \nL 838.224625 379.47375 \nL 838.224625 63.36 \nL 465.961817 63.36 \nz\n\" style=\"fill: #ffffff\"/>\n   </g>\n   <g id=\"matplotlib.axis_3\">\n    <g id=\"xtick_7\">\n     <g id=\"text_18\">\n      <!-- industry -->\n      <g style=\"fill: #262626\" transform=\"translate(500.01903 434.030781) rotate(-90) scale(0.11 -0.11)\">\n       <use xlink:href=\"#DejaVuSans-69\"/>\n       <use xlink:href=\"#DejaVuSans-6e\" transform=\"translate(27.783203 0)\"/>\n       <use xlink:href=\"#DejaVuSans-64\" transform=\"translate(91.162109 0)\"/>\n       <use xlink:href=\"#DejaVuSans-75\" transform=\"translate(154.638672 0)\"/>\n       <use xlink:href=\"#DejaVuSans-73\" transform=\"translate(218.017578 0)\"/>\n       <use xlink:href=\"#DejaVuSans-74\" transform=\"translate(270.117188 0)\"/>\n       <use xlink:href=\"#DejaVuSans-72\" transform=\"translate(309.326172 0)\"/>\n       <use xlink:href=\"#DejaVuSans-79\" transform=\"translate(350.439453 0)\"/>\n      </g>\n     </g>\n    </g>\n    <g id=\"xtick_8\">\n     <g id=\"text_19\">\n      <!-- masters_student -->\n      <g style=\"fill: #262626\" transform=\"translate(561.909863 481.042031) rotate(-90) scale(0.11 -0.11)\">\n       <use xlink:href=\"#DejaVuSans-6d\"/>\n       <use xlink:href=\"#DejaVuSans-61\" transform=\"translate(97.412109 0)\"/>\n       <use xlink:href=\"#DejaVuSans-73\" transform=\"translate(158.691406 0)\"/>\n       <use xlink:href=\"#DejaVuSans-74\" transform=\"translate(210.791016 0)\"/>\n       <use xlink:href=\"#DejaVuSans-65\" transform=\"translate(250 0)\"/>\n       <use xlink:href=\"#DejaVuSans-72\" transform=\"translate(311.523438 0)\"/>\n       <use xlink:href=\"#DejaVuSans-73\" transform=\"translate(352.636719 0)\"/>\n       <use xlink:href=\"#DejaVuSans-5f\" transform=\"translate(404.736328 0)\"/>\n       <use xlink:href=\"#DejaVuSans-73\" transform=\"translate(454.736328 0)\"/>\n       <use xlink:href=\"#DejaVuSans-74\" transform=\"translate(506.835938 0)\"/>\n       <use xlink:href=\"#DejaVuSans-75\" transform=\"translate(546.044922 0)\"/>\n       <use xlink:href=\"#DejaVuSans-64\" transform=\"translate(609.423828 0)\"/>\n       <use xlink:href=\"#DejaVuSans-65\" transform=\"translate(672.900391 0)\"/>\n       <use xlink:href=\"#DejaVuSans-6e\" transform=\"translate(734.423828 0)\"/>\n       <use xlink:href=\"#DejaVuSans-74\" transform=\"translate(797.802734 0)\"/>\n      </g>\n     </g>\n    </g>\n    <g id=\"xtick_9\">\n     <g id=\"text_20\">\n      <!-- other -->\n      <g style=\"fill: #262626\" transform=\"translate(624.106633 418.278437) rotate(-90) scale(0.11 -0.11)\">\n       <use xlink:href=\"#DejaVuSans-6f\"/>\n       <use xlink:href=\"#DejaVuSans-74\" transform=\"translate(61.181641 0)\"/>\n       <use xlink:href=\"#DejaVuSans-68\" transform=\"translate(100.390625 0)\"/>\n       <use xlink:href=\"#DejaVuSans-65\" transform=\"translate(163.769531 0)\"/>\n       <use xlink:href=\"#DejaVuSans-72\" transform=\"translate(225.292969 0)\"/>\n      </g>\n     </g>\n    </g>\n    <g id=\"xtick_10\">\n     <g id=\"text_21\">\n      <!-- phd_student -->\n      <g style=\"fill: #262626\" transform=\"translate(685.997465 457.460781) rotate(-90) scale(0.11 -0.11)\">\n       <use xlink:href=\"#DejaVuSans-70\"/>\n       <use xlink:href=\"#DejaVuSans-68\" transform=\"translate(63.476562 0)\"/>\n       <use xlink:href=\"#DejaVuSans-64\" transform=\"translate(126.855469 0)\"/>\n       <use xlink:href=\"#DejaVuSans-5f\" transform=\"translate(190.332031 0)\"/>\n       <use xlink:href=\"#DejaVuSans-73\" transform=\"translate(240.332031 0)\"/>\n       <use xlink:href=\"#DejaVuSans-74\" transform=\"translate(292.431641 0)\"/>\n       <use xlink:href=\"#DejaVuSans-75\" transform=\"translate(331.640625 0)\"/>\n       <use xlink:href=\"#DejaVuSans-64\" transform=\"translate(395.019531 0)\"/>\n       <use xlink:href=\"#DejaVuSans-65\" transform=\"translate(458.496094 0)\"/>\n       <use xlink:href=\"#DejaVuSans-6e\" transform=\"translate(520.019531 0)\"/>\n       <use xlink:href=\"#DejaVuSans-74\" transform=\"translate(583.398438 0)\"/>\n      </g>\n     </g>\n    </g>\n    <g id=\"xtick_11\">\n     <g id=\"text_22\">\n      <!-- postdoc -->\n      <g style=\"fill: #262626\" transform=\"translate(748.194235 432.4925) rotate(-90) scale(0.11 -0.11)\">\n       <use xlink:href=\"#DejaVuSans-70\"/>\n       <use xlink:href=\"#DejaVuSans-6f\" transform=\"translate(63.476562 0)\"/>\n       <use xlink:href=\"#DejaVuSans-73\" transform=\"translate(124.658203 0)\"/>\n       <use xlink:href=\"#DejaVuSans-74\" transform=\"translate(176.757812 0)\"/>\n       <use xlink:href=\"#DejaVuSans-64\" transform=\"translate(215.966797 0)\"/>\n       <use xlink:href=\"#DejaVuSans-6f\" transform=\"translate(279.443359 0)\"/>\n       <use xlink:href=\"#DejaVuSans-63\" transform=\"translate(340.625 0)\"/>\n      </g>\n     </g>\n    </g>\n    <g id=\"xtick_12\">\n     <g id=\"text_23\">\n      <!-- undergraduate_student -->\n      <g style=\"fill: #262626\" transform=\"translate(810.085068 518.569219) rotate(-90) scale(0.11 -0.11)\">\n       <use xlink:href=\"#DejaVuSans-75\"/>\n       <use xlink:href=\"#DejaVuSans-6e\" transform=\"translate(63.378906 0)\"/>\n       <use xlink:href=\"#DejaVuSans-64\" transform=\"translate(126.757812 0)\"/>\n       <use xlink:href=\"#DejaVuSans-65\" transform=\"translate(190.234375 0)\"/>\n       <use xlink:href=\"#DejaVuSans-72\" transform=\"translate(251.757812 0)\"/>\n       <use xlink:href=\"#DejaVuSans-67\" transform=\"translate(291.121094 0)\"/>\n       <use xlink:href=\"#DejaVuSans-72\" transform=\"translate(354.597656 0)\"/>\n       <use xlink:href=\"#DejaVuSans-61\" transform=\"translate(395.710938 0)\"/>\n       <use xlink:href=\"#DejaVuSans-64\" transform=\"translate(456.990234 0)\"/>\n       <use xlink:href=\"#DejaVuSans-75\" transform=\"translate(520.466797 0)\"/>\n       <use xlink:href=\"#DejaVuSans-61\" transform=\"translate(583.845703 0)\"/>\n       <use xlink:href=\"#DejaVuSans-74\" transform=\"translate(645.125 0)\"/>\n       <use xlink:href=\"#DejaVuSans-65\" transform=\"translate(684.333984 0)\"/>\n       <use xlink:href=\"#DejaVuSans-5f\" transform=\"translate(745.857422 0)\"/>\n       <use xlink:href=\"#DejaVuSans-73\" transform=\"translate(795.857422 0)\"/>\n       <use xlink:href=\"#DejaVuSans-74\" transform=\"translate(847.957031 0)\"/>\n       <use xlink:href=\"#DejaVuSans-75\" transform=\"translate(887.166016 0)\"/>\n       <use xlink:href=\"#DejaVuSans-64\" transform=\"translate(950.544922 0)\"/>\n       <use xlink:href=\"#DejaVuSans-65\" transform=\"translate(1014.021484 0)\"/>\n       <use xlink:href=\"#DejaVuSans-6e\" transform=\"translate(1075.544922 0)\"/>\n       <use xlink:href=\"#DejaVuSans-74\" transform=\"translate(1138.923828 0)\"/>\n      </g>\n     </g>\n    </g>\n    <g id=\"text_24\">\n     <!--   -->\n     <g style=\"fill: #262626\" transform=\"translate(650.186346 531.687344) scale(0.12 -0.12)\">\n      <use xlink:href=\"#DejaVuSans-20\"/>\n     </g>\n    </g>\n   </g>\n   <g id=\"matplotlib.axis_4\">\n    <g id=\"ytick_9\">\n     <g id=\"line2d_9\">\n      <path d=\"M 465.961817 379.47375 \nL 838.224625 379.47375 \n\" clip-path=\"url(#pad0c401897)\" style=\"fill: none; stroke: #cccccc; stroke-linecap: round\"/>\n     </g>\n    </g>\n    <g id=\"ytick_10\">\n     <g id=\"line2d_10\">\n      <path d=\"M 465.961817 339.332321 \nL 838.224625 339.332321 \n\" clip-path=\"url(#pad0c401897)\" style=\"fill: none; stroke: #cccccc; stroke-linecap: round\"/>\n     </g>\n    </g>\n    <g id=\"ytick_11\">\n     <g id=\"line2d_11\">\n      <path d=\"M 465.961817 299.190893 \nL 838.224625 299.190893 \n\" clip-path=\"url(#pad0c401897)\" style=\"fill: none; stroke: #cccccc; stroke-linecap: round\"/>\n     </g>\n    </g>\n    <g id=\"ytick_12\">\n     <g id=\"line2d_12\">\n      <path d=\"M 465.961817 259.049464 \nL 838.224625 259.049464 \n\" clip-path=\"url(#pad0c401897)\" style=\"fill: none; stroke: #cccccc; stroke-linecap: round\"/>\n     </g>\n    </g>\n    <g id=\"ytick_13\">\n     <g id=\"line2d_13\">\n      <path d=\"M 465.961817 218.908036 \nL 838.224625 218.908036 \n\" clip-path=\"url(#pad0c401897)\" style=\"fill: none; stroke: #cccccc; stroke-linecap: round\"/>\n     </g>\n    </g>\n    <g id=\"ytick_14\">\n     <g id=\"line2d_14\">\n      <path d=\"M 465.961817 178.766607 \nL 838.224625 178.766607 \n\" clip-path=\"url(#pad0c401897)\" style=\"fill: none; stroke: #cccccc; stroke-linecap: round\"/>\n     </g>\n    </g>\n    <g id=\"ytick_15\">\n     <g id=\"line2d_15\">\n      <path d=\"M 465.961817 138.625179 \nL 838.224625 138.625179 \n\" clip-path=\"url(#pad0c401897)\" style=\"fill: none; stroke: #cccccc; stroke-linecap: round\"/>\n     </g>\n    </g>\n    <g id=\"ytick_16\">\n     <g id=\"line2d_16\">\n      <path d=\"M 465.961817 98.48375 \nL 838.224625 98.48375 \n\" clip-path=\"url(#pad0c401897)\" style=\"fill: none; stroke: #cccccc; stroke-linecap: round\"/>\n     </g>\n    </g>\n   </g>\n   <g id=\"patch_30\">\n    <path d=\"M 472.166197 379.47375 \nL 484.574957 379.47375 \nL 484.574957 299.190893 \nL 472.166197 299.190893 \nz\n\" clip-path=\"url(#pad0c401897)\" style=\"fill: #bb8836; stroke: #ffffff; stroke-linejoin: miter\"/>\n   </g>\n   <g id=\"patch_31\">\n    <path d=\"M 534.209998 379.47375 \nL 546.618759 379.47375 \nL 546.618759 296.514798 \nL 534.209998 296.514798 \nz\n\" clip-path=\"url(#pad0c401897)\" style=\"fill: #bb8836; stroke: #ffffff; stroke-linejoin: miter\"/>\n   </g>\n   <g id=\"patch_32\">\n    <path d=\"M 596.2538 379.47375 \nL 608.66256 379.47375 \nL 608.66256 185.456845 \nL 596.2538 185.456845 \nz\n\" clip-path=\"url(#pad0c401897)\" style=\"fill: #bb8836; stroke: #ffffff; stroke-linejoin: miter\"/>\n   </g>\n   <g id=\"patch_33\">\n    <path d=\"M 658.297601 379.47375 \nL 670.706361 379.47375 \nL 670.706361 199.219621 \nL 658.297601 199.219621 \nz\n\" clip-path=\"url(#pad0c401897)\" style=\"fill: #bb8836; stroke: #ffffff; stroke-linejoin: miter\"/>\n   </g>\n   <g id=\"patch_34\">\n    <path d=\"M 720.341402 379.47375 \nL 732.750163 379.47375 \nL 732.750163 315.916488 \nL 720.341402 315.916488 \nz\n\" clip-path=\"url(#pad0c401897)\" style=\"fill: #bb8836; stroke: #ffffff; stroke-linejoin: miter\"/>\n   </g>\n   <g id=\"patch_35\">\n    <path d=\"M 782.385204 379.47375 \nL 794.793964 379.47375 \nL 794.793964 78.413036 \nL 782.385204 78.413036 \nz\n\" clip-path=\"url(#pad0c401897)\" style=\"fill: #bb8836; stroke: #ffffff; stroke-linejoin: miter\"/>\n   </g>\n   <g id=\"patch_36\">\n    <path d=\"M 484.574957 379.47375 \nL 496.983717 379.47375 \nL 496.983717 259.049464 \nL 484.574957 259.049464 \nz\n\" clip-path=\"url(#pad0c401897)\" style=\"fill: #ee8787; stroke: #ffffff; stroke-linejoin: miter\"/>\n   </g>\n   <g id=\"patch_37\">\n    <path d=\"M 546.618759 379.47375 \nL 559.027519 379.47375 \nL 559.027519 314.57844 \nL 546.618759 314.57844 \nz\n\" clip-path=\"url(#pad0c401897)\" style=\"fill: #ee8787; stroke: #ffffff; stroke-linejoin: miter\"/>\n   </g>\n   <g id=\"patch_38\">\n    <path d=\"M 608.66256 379.47375 \nL 621.07132 379.47375 \nL 621.07132 225.598274 \nL 608.66256 225.598274 \nz\n\" clip-path=\"url(#pad0c401897)\" style=\"fill: #ee8787; stroke: #ffffff; stroke-linejoin: miter\"/>\n   </g>\n   <g id=\"patch_39\">\n    <path d=\"M 670.706361 379.47375 \nL 683.115122 379.47375 \nL 683.115122 255.752133 \nL 670.706361 255.752133 \nz\n\" clip-path=\"url(#pad0c401897)\" style=\"fill: #ee8787; stroke: #ffffff; stroke-linejoin: miter\"/>\n   </g>\n   <g id=\"patch_40\">\n    <path d=\"M 732.750163 379.47375 \nL 745.158923 379.47375 \nL 745.158923 225.598274 \nL 732.750163 225.598274 \nz\n\" clip-path=\"url(#pad0c401897)\" style=\"fill: #ee8787; stroke: #ffffff; stroke-linejoin: miter\"/>\n   </g>\n   <g id=\"patch_41\">\n    <path d=\"M 794.793964 379.47375 \nL 807.202724 379.47375 \nL 807.202724 359.403036 \nL 794.793964 359.403036 \nz\n\" clip-path=\"url(#pad0c401897)\" style=\"fill: #ee8787; stroke: #ffffff; stroke-linejoin: miter\"/>\n   </g>\n   <g id=\"patch_42\">\n    <path d=\"M 496.983717 379.47375 \nL 509.392478 379.47375 \nL 509.392478 309.22625 \nL 496.983717 309.22625 \nz\n\" clip-path=\"url(#pad0c401897)\" style=\"fill: #1881a7; stroke: #ffffff; stroke-linejoin: miter\"/>\n   </g>\n   <g id=\"patch_43\">\n    <path d=\"M 559.027519 379.47375 \nL 571.436279 379.47375 \nL 571.436279 366.093274 \nL 559.027519 366.093274 \nz\n\" clip-path=\"url(#pad0c401897)\" style=\"fill: #1881a7; stroke: #ffffff; stroke-linejoin: miter\"/>\n   </g>\n   <g id=\"patch_44\">\n    <path d=\"M 621.07132 379.47375 \nL 633.48008 379.47375 \nL 633.48008 379.47375 \nL 621.07132 379.47375 \nz\n\" clip-path=\"url(#pad0c401897)\" style=\"fill: #1881a7; stroke: #ffffff; stroke-linejoin: miter\"/>\n   </g>\n   <g id=\"patch_45\">\n    <path d=\"M 683.115122 379.47375 \nL 695.523882 379.47375 \nL 695.523882 335.222604 \nL 683.115122 335.222604 \nz\n\" clip-path=\"url(#pad0c401897)\" style=\"fill: #1881a7; stroke: #ffffff; stroke-linejoin: miter\"/>\n   </g>\n   <g id=\"patch_46\">\n    <path d=\"M 745.158923 379.47375 \nL 757.567683 379.47375 \nL 757.567683 379.47375 \nL 745.158923 379.47375 \nz\n\" clip-path=\"url(#pad0c401897)\" style=\"fill: #1881a7; stroke: #ffffff; stroke-linejoin: miter\"/>\n   </g>\n   <g id=\"patch_47\">\n    <path d=\"M 807.202724 379.47375 \nL 819.611485 379.47375 \nL 819.611485 379.47375 \nL 807.202724 379.47375 \nz\n\" clip-path=\"url(#pad0c401897)\" style=\"fill: #1881a7; stroke: #ffffff; stroke-linejoin: miter\"/>\n   </g>\n   <g id=\"patch_48\">\n    <path d=\"M 509.392478 379.47375 \nL 521.801238 379.47375 \nL 521.801238 369.438393 \nL 509.392478 369.438393 \nz\n\" clip-path=\"url(#pad0c401897)\" style=\"fill: #4e4e93; stroke: #ffffff; stroke-linejoin: miter\"/>\n   </g>\n   <g id=\"patch_49\">\n    <path d=\"M 571.436279 379.47375 \nL 583.845039 379.47375 \nL 583.845039 219.57706 \nL 571.436279 219.57706 \nz\n\" clip-path=\"url(#pad0c401897)\" style=\"fill: #4e4e93; stroke: #ffffff; stroke-linejoin: miter\"/>\n   </g>\n   <g id=\"patch_50\">\n    <path d=\"M 633.48008 379.47375 \nL 645.888841 379.47375 \nL 645.888841 366.093274 \nL 633.48008 366.093274 \nz\n\" clip-path=\"url(#pad0c401897)\" style=\"fill: #4e4e93; stroke: #ffffff; stroke-linejoin: miter\"/>\n   </g>\n   <g id=\"patch_51\">\n    <path d=\"M 695.523882 379.47375 \nL 707.932642 379.47375 \nL 707.932642 366.427786 \nL 695.523882 366.427786 \nz\n\" clip-path=\"url(#pad0c401897)\" style=\"fill: #4e4e93; stroke: #ffffff; stroke-linejoin: miter\"/>\n   </g>\n   <g id=\"patch_52\">\n    <path d=\"M 757.567683 379.47375 \nL 769.976443 379.47375 \nL 769.976443 235.633631 \nL 757.567683 235.633631 \nz\n\" clip-path=\"url(#pad0c401897)\" style=\"fill: #4e4e93; stroke: #ffffff; stroke-linejoin: miter\"/>\n   </g>\n   <g id=\"patch_53\">\n    <path d=\"M 819.611485 379.47375 \nL 832.020245 379.47375 \nL 832.020245 379.47375 \nL 819.611485 379.47375 \nz\n\" clip-path=\"url(#pad0c401897)\" style=\"fill: #4e4e93; stroke: #ffffff; stroke-linejoin: miter\"/>\n   </g>\n   <g id=\"patch_54\">\n    <path d=\"M 496.983717 379.47375 \nL 496.983717 379.47375 \nL 496.983717 379.47375 \nL 496.983717 379.47375 \nz\n\" clip-path=\"url(#pad0c401897)\" style=\"fill: #bb8836; stroke: #ffffff; stroke-linejoin: miter\"/>\n   </g>\n   <g id=\"patch_55\">\n    <path d=\"M 496.983717 379.47375 \nL 496.983717 379.47375 \nL 496.983717 379.47375 \nL 496.983717 379.47375 \nz\n\" clip-path=\"url(#pad0c401897)\" style=\"fill: #ee8787; stroke: #ffffff; stroke-linejoin: miter\"/>\n   </g>\n   <g id=\"patch_56\">\n    <path d=\"M 496.983717 379.47375 \nL 496.983717 379.47375 \nL 496.983717 379.47375 \nL 496.983717 379.47375 \nz\n\" clip-path=\"url(#pad0c401897)\" style=\"fill: #1881a7; stroke: #ffffff; stroke-linejoin: miter\"/>\n   </g>\n   <g id=\"patch_57\">\n    <path d=\"M 496.983717 379.47375 \nL 496.983717 379.47375 \nL 496.983717 379.47375 \nL 496.983717 379.47375 \nz\n\" clip-path=\"url(#pad0c401897)\" style=\"fill: #4e4e93; stroke: #ffffff; stroke-linejoin: miter\"/>\n   </g>\n   <g id=\"patch_58\">\n    <path d=\"M 465.961817 379.47375 \nL 465.961817 63.36 \n\" style=\"fill: none; stroke: #cccccc; stroke-width: 1.25; stroke-linejoin: miter; stroke-linecap: square\"/>\n   </g>\n   <g id=\"patch_59\">\n    <path d=\"M 465.961817 379.47375 \nL 838.224625 379.47375 \n\" style=\"fill: none; stroke: #cccccc; stroke-width: 1.25; stroke-linejoin: miter; stroke-linecap: square\"/>\n   </g>\n   <g id=\"text_25\">\n    <!-- TA_type = Regular TA -->\n    <g style=\"fill: #262626\" transform=\"translate(587.319471 57.36) scale(0.12 -0.12)\">\n     <defs>\n      <path id=\"DejaVuSans-52\" d=\"M 2841 2188 \nQ 3044 2119 3236 1894 \nQ 3428 1669 3622 1275 \nL 4263 0 \nL 3584 0 \nL 2988 1197 \nQ 2756 1666 2539 1819 \nQ 2322 1972 1947 1972 \nL 1259 1972 \nL 1259 0 \nL 628 0 \nL 628 4666 \nL 2053 4666 \nQ 2853 4666 3247 4331 \nQ 3641 3997 3641 3322 \nQ 3641 2881 3436 2590 \nQ 3231 2300 2841 2188 \nz\nM 1259 4147 \nL 1259 2491 \nL 2053 2491 \nQ 2509 2491 2742 2702 \nQ 2975 2913 2975 3322 \nQ 2975 3731 2742 3939 \nQ 2509 4147 2053 4147 \nL 1259 4147 \nz\n\" transform=\"scale(0.015625)\"/>\n      <path id=\"DejaVuSans-6c\" d=\"M 603 4863 \nL 1178 4863 \nL 1178 0 \nL 603 0 \nL 603 4863 \nz\n\" transform=\"scale(0.015625)\"/>\n     </defs>\n     <use xlink:href=\"#DejaVuSans-54\"/>\n     <use xlink:href=\"#DejaVuSans-41\" transform=\"translate(53.333984 0)\"/>\n     <use xlink:href=\"#DejaVuSans-5f\" transform=\"translate(121.742188 0)\"/>\n     <use xlink:href=\"#DejaVuSans-74\" transform=\"translate(171.742188 0)\"/>\n     <use xlink:href=\"#DejaVuSans-79\" transform=\"translate(210.951172 0)\"/>\n     <use xlink:href=\"#DejaVuSans-70\" transform=\"translate(270.130859 0)\"/>\n     <use xlink:href=\"#DejaVuSans-65\" transform=\"translate(333.607422 0)\"/>\n     <use xlink:href=\"#DejaVuSans-20\" transform=\"translate(395.130859 0)\"/>\n     <use xlink:href=\"#DejaVuSans-3d\" transform=\"translate(426.917969 0)\"/>\n     <use xlink:href=\"#DejaVuSans-20\" transform=\"translate(510.707031 0)\"/>\n     <use xlink:href=\"#DejaVuSans-52\" transform=\"translate(542.494141 0)\"/>\n     <use xlink:href=\"#DejaVuSans-65\" transform=\"translate(607.476562 0)\"/>\n     <use xlink:href=\"#DejaVuSans-67\" transform=\"translate(669 0)\"/>\n     <use xlink:href=\"#DejaVuSans-75\" transform=\"translate(732.476562 0)\"/>\n     <use xlink:href=\"#DejaVuSans-6c\" transform=\"translate(795.855469 0)\"/>\n     <use xlink:href=\"#DejaVuSans-61\" transform=\"translate(823.638672 0)\"/>\n     <use xlink:href=\"#DejaVuSans-72\" transform=\"translate(884.917969 0)\"/>\n     <use xlink:href=\"#DejaVuSans-20\" transform=\"translate(926.03125 0)\"/>\n     <use xlink:href=\"#DejaVuSans-54\" transform=\"translate(957.818359 0)\"/>\n     <use xlink:href=\"#DejaVuSans-41\" transform=\"translate(1011.152344 0)\"/>\n    </g>\n   </g>\n  </g>\n  <g id=\"text_26\">\n   <!-- Hours spent on preparatory work by Career Status and TA Type -->\n   <g style=\"fill: #262626\" transform=\"translate(258.680875 18.14175) scale(0.144 -0.144)\">\n    <defs>\n     <path id=\"DejaVuSans-48\" d=\"M 628 4666 \nL 1259 4666 \nL 1259 2753 \nL 3553 2753 \nL 3553 4666 \nL 4184 4666 \nL 4184 0 \nL 3553 0 \nL 3553 2222 \nL 1259 2222 \nL 1259 0 \nL 628 0 \nL 628 4666 \nz\n\" transform=\"scale(0.015625)\"/>\n     <path id=\"DejaVuSans-77\" d=\"M 269 3500 \nL 844 3500 \nL 1563 769 \nL 2278 3500 \nL 2956 3500 \nL 3675 769 \nL 4391 3500 \nL 4966 3500 \nL 4050 0 \nL 3372 0 \nL 2619 2869 \nL 1863 0 \nL 1184 0 \nL 269 3500 \nz\n\" transform=\"scale(0.015625)\"/>\n     <path id=\"DejaVuSans-6b\" d=\"M 581 4863 \nL 1159 4863 \nL 1159 1991 \nL 2875 3500 \nL 3609 3500 \nL 1753 1863 \nL 3688 0 \nL 2938 0 \nL 1159 1709 \nL 1159 0 \nL 581 0 \nL 581 4863 \nz\n\" transform=\"scale(0.015625)\"/>\n     <path id=\"DejaVuSans-62\" d=\"M 3116 1747 \nQ 3116 2381 2855 2742 \nQ 2594 3103 2138 3103 \nQ 1681 3103 1420 2742 \nQ 1159 2381 1159 1747 \nQ 1159 1113 1420 752 \nQ 1681 391 2138 391 \nQ 2594 391 2855 752 \nQ 3116 1113 3116 1747 \nz\nM 1159 2969 \nQ 1341 3281 1617 3432 \nQ 1894 3584 2278 3584 \nQ 2916 3584 3314 3078 \nQ 3713 2572 3713 1747 \nQ 3713 922 3314 415 \nQ 2916 -91 2278 -91 \nQ 1894 -91 1617 61 \nQ 1341 213 1159 525 \nL 1159 0 \nL 581 0 \nL 581 4863 \nL 1159 4863 \nL 1159 2969 \nz\n\" transform=\"scale(0.015625)\"/>\n     <path id=\"DejaVuSans-43\" d=\"M 4122 4306 \nL 4122 3641 \nQ 3803 3938 3442 4084 \nQ 3081 4231 2675 4231 \nQ 1875 4231 1450 3742 \nQ 1025 3253 1025 2328 \nQ 1025 1406 1450 917 \nQ 1875 428 2675 428 \nQ 3081 428 3442 575 \nQ 3803 722 4122 1019 \nL 4122 359 \nQ 3791 134 3420 21 \nQ 3050 -91 2638 -91 \nQ 1578 -91 968 557 \nQ 359 1206 359 2328 \nQ 359 3453 968 4101 \nQ 1578 4750 2638 4750 \nQ 3056 4750 3426 4639 \nQ 3797 4528 4122 4306 \nz\n\" transform=\"scale(0.015625)\"/>\n     <path id=\"DejaVuSans-53\" d=\"M 3425 4513 \nL 3425 3897 \nQ 3066 4069 2747 4153 \nQ 2428 4238 2131 4238 \nQ 1616 4238 1336 4038 \nQ 1056 3838 1056 3469 \nQ 1056 3159 1242 3001 \nQ 1428 2844 1947 2747 \nL 2328 2669 \nQ 3034 2534 3370 2195 \nQ 3706 1856 3706 1288 \nQ 3706 609 3251 259 \nQ 2797 -91 1919 -91 \nQ 1588 -91 1214 -16 \nQ 841 59 441 206 \nL 441 856 \nQ 825 641 1194 531 \nQ 1563 422 1919 422 \nQ 2459 422 2753 634 \nQ 3047 847 3047 1241 \nQ 3047 1584 2836 1778 \nQ 2625 1972 2144 2069 \nL 1759 2144 \nQ 1053 2284 737 2584 \nQ 422 2884 422 3419 \nQ 422 4038 858 4394 \nQ 1294 4750 2059 4750 \nQ 2388 4750 2728 4690 \nQ 3069 4631 3425 4513 \nz\n\" transform=\"scale(0.015625)\"/>\n    </defs>\n    <use xlink:href=\"#DejaVuSans-48\"/>\n    <use xlink:href=\"#DejaVuSans-6f\" transform=\"translate(75.195312 0)\"/>\n    <use xlink:href=\"#DejaVuSans-75\" transform=\"translate(136.376953 0)\"/>\n    <use xlink:href=\"#DejaVuSans-72\" transform=\"translate(199.755859 0)\"/>\n    <use xlink:href=\"#DejaVuSans-73\" transform=\"translate(240.869141 0)\"/>\n    <use xlink:href=\"#DejaVuSans-20\" transform=\"translate(292.96875 0)\"/>\n    <use xlink:href=\"#DejaVuSans-73\" transform=\"translate(324.755859 0)\"/>\n    <use xlink:href=\"#DejaVuSans-70\" transform=\"translate(376.855469 0)\"/>\n    <use xlink:href=\"#DejaVuSans-65\" transform=\"translate(440.332031 0)\"/>\n    <use xlink:href=\"#DejaVuSans-6e\" transform=\"translate(501.855469 0)\"/>\n    <use xlink:href=\"#DejaVuSans-74\" transform=\"translate(565.234375 0)\"/>\n    <use xlink:href=\"#DejaVuSans-20\" transform=\"translate(604.443359 0)\"/>\n    <use xlink:href=\"#DejaVuSans-6f\" transform=\"translate(636.230469 0)\"/>\n    <use xlink:href=\"#DejaVuSans-6e\" transform=\"translate(697.412109 0)\"/>\n    <use xlink:href=\"#DejaVuSans-20\" transform=\"translate(760.791016 0)\"/>\n    <use xlink:href=\"#DejaVuSans-70\" transform=\"translate(792.578125 0)\"/>\n    <use xlink:href=\"#DejaVuSans-72\" transform=\"translate(856.054688 0)\"/>\n    <use xlink:href=\"#DejaVuSans-65\" transform=\"translate(894.917969 0)\"/>\n    <use xlink:href=\"#DejaVuSans-70\" transform=\"translate(956.441406 0)\"/>\n    <use xlink:href=\"#DejaVuSans-61\" transform=\"translate(1019.917969 0)\"/>\n    <use xlink:href=\"#DejaVuSans-72\" transform=\"translate(1081.197266 0)\"/>\n    <use xlink:href=\"#DejaVuSans-61\" transform=\"translate(1122.310547 0)\"/>\n    <use xlink:href=\"#DejaVuSans-74\" transform=\"translate(1183.589844 0)\"/>\n    <use xlink:href=\"#DejaVuSans-6f\" transform=\"translate(1222.798828 0)\"/>\n    <use xlink:href=\"#DejaVuSans-72\" transform=\"translate(1283.980469 0)\"/>\n    <use xlink:href=\"#DejaVuSans-79\" transform=\"translate(1325.09375 0)\"/>\n    <use xlink:href=\"#DejaVuSans-20\" transform=\"translate(1384.273438 0)\"/>\n    <use xlink:href=\"#DejaVuSans-77\" transform=\"translate(1416.060547 0)\"/>\n    <use xlink:href=\"#DejaVuSans-6f\" transform=\"translate(1497.847656 0)\"/>\n    <use xlink:href=\"#DejaVuSans-72\" transform=\"translate(1559.029297 0)\"/>\n    <use xlink:href=\"#DejaVuSans-6b\" transform=\"translate(1600.142578 0)\"/>\n    <use xlink:href=\"#DejaVuSans-20\" transform=\"translate(1658.052734 0)\"/>\n    <use xlink:href=\"#DejaVuSans-62\" transform=\"translate(1689.839844 0)\"/>\n    <use xlink:href=\"#DejaVuSans-79\" transform=\"translate(1753.316406 0)\"/>\n    <use xlink:href=\"#DejaVuSans-20\" transform=\"translate(1812.496094 0)\"/>\n    <use xlink:href=\"#DejaVuSans-43\" transform=\"translate(1844.283203 0)\"/>\n    <use xlink:href=\"#DejaVuSans-61\" transform=\"translate(1914.107422 0)\"/>\n    <use xlink:href=\"#DejaVuSans-72\" transform=\"translate(1975.386719 0)\"/>\n    <use xlink:href=\"#DejaVuSans-65\" transform=\"translate(2014.25 0)\"/>\n    <use xlink:href=\"#DejaVuSans-65\" transform=\"translate(2075.773438 0)\"/>\n    <use xlink:href=\"#DejaVuSans-72\" transform=\"translate(2137.296875 0)\"/>\n    <use xlink:href=\"#DejaVuSans-20\" transform=\"translate(2178.410156 0)\"/>\n    <use xlink:href=\"#DejaVuSans-53\" transform=\"translate(2210.197266 0)\"/>\n    <use xlink:href=\"#DejaVuSans-74\" transform=\"translate(2273.673828 0)\"/>\n    <use xlink:href=\"#DejaVuSans-61\" transform=\"translate(2312.882812 0)\"/>\n    <use xlink:href=\"#DejaVuSans-74\" transform=\"translate(2374.162109 0)\"/>\n    <use xlink:href=\"#DejaVuSans-75\" transform=\"translate(2413.371094 0)\"/>\n    <use xlink:href=\"#DejaVuSans-73\" transform=\"translate(2476.75 0)\"/>\n    <use xlink:href=\"#DejaVuSans-20\" transform=\"translate(2528.849609 0)\"/>\n    <use xlink:href=\"#DejaVuSans-61\" transform=\"translate(2560.636719 0)\"/>\n    <use xlink:href=\"#DejaVuSans-6e\" transform=\"translate(2621.916016 0)\"/>\n    <use xlink:href=\"#DejaVuSans-64\" transform=\"translate(2685.294922 0)\"/>\n    <use xlink:href=\"#DejaVuSans-20\" transform=\"translate(2748.771484 0)\"/>\n    <use xlink:href=\"#DejaVuSans-54\" transform=\"translate(2780.558594 0)\"/>\n    <use xlink:href=\"#DejaVuSans-41\" transform=\"translate(2833.892578 0)\"/>\n    <use xlink:href=\"#DejaVuSans-20\" transform=\"translate(2902.300781 0)\"/>\n    <use xlink:href=\"#DejaVuSans-54\" transform=\"translate(2934.087891 0)\"/>\n    <use xlink:href=\"#DejaVuSans-79\" transform=\"translate(2979.546875 0)\"/>\n    <use xlink:href=\"#DejaVuSans-70\" transform=\"translate(3038.726562 0)\"/>\n    <use xlink:href=\"#DejaVuSans-65\" transform=\"translate(3102.203125 0)\"/>\n   </g>\n  </g>\n  <g id=\"legend_1\">\n   <g id=\"text_27\">\n    <!-- Q9 -->\n    <g style=\"fill: #262626\" transform=\"translate(906.191828 241.710859) scale(0.12 -0.12)\">\n     <defs>\n      <path id=\"DejaVuSans-51\" d=\"M 2522 4238 \nQ 1834 4238 1429 3725 \nQ 1025 3213 1025 2328 \nQ 1025 1447 1429 934 \nQ 1834 422 2522 422 \nQ 3209 422 3611 934 \nQ 4013 1447 4013 2328 \nQ 4013 3213 3611 3725 \nQ 3209 4238 2522 4238 \nz\nM 3406 84 \nL 4238 -825 \nL 3475 -825 \nL 2784 -78 \nQ 2681 -84 2626 -87 \nQ 2572 -91 2522 -91 \nQ 1538 -91 948 567 \nQ 359 1225 359 2328 \nQ 359 3434 948 4092 \nQ 1538 4750 2522 4750 \nQ 3503 4750 4090 4092 \nQ 4678 3434 4678 2328 \nQ 4678 1516 4351 937 \nQ 4025 359 3406 84 \nz\n\" transform=\"scale(0.015625)\"/>\n      <path id=\"DejaVuSans-39\" d=\"M 703 97 \nL 703 672 \nQ 941 559 1184 500 \nQ 1428 441 1663 441 \nQ 2288 441 2617 861 \nQ 2947 1281 2994 2138 \nQ 2813 1869 2534 1725 \nQ 2256 1581 1919 1581 \nQ 1219 1581 811 2004 \nQ 403 2428 403 3163 \nQ 403 3881 828 4315 \nQ 1253 4750 1959 4750 \nQ 2769 4750 3195 4129 \nQ 3622 3509 3622 2328 \nQ 3622 1225 3098 567 \nQ 2575 -91 1691 -91 \nQ 1453 -91 1209 -44 \nQ 966 3 703 97 \nz\nM 1959 2075 \nQ 2384 2075 2632 2365 \nQ 2881 2656 2881 3163 \nQ 2881 3666 2632 3958 \nQ 2384 4250 1959 4250 \nQ 1534 4250 1286 3958 \nQ 1038 3666 1038 3163 \nQ 1038 2656 1286 2365 \nQ 1534 2075 1959 2075 \nz\n\" transform=\"scale(0.015625)\"/>\n     </defs>\n     <use xlink:href=\"#DejaVuSans-51\"/>\n     <use xlink:href=\"#DejaVuSans-39\" transform=\"translate(78.710938 0)\"/>\n    </g>\n   </g>\n   <g id=\"patch_60\">\n    <path d=\"M 848.996281 258.064766 \nL 870.996281 258.064766 \nL 870.996281 250.364766 \nL 848.996281 250.364766 \nz\n\" style=\"fill: #bb8836; stroke: #ffffff; stroke-linejoin: miter\"/>\n   </g>\n   <g id=\"text_28\">\n    <!-- 1-2 hours -->\n    <g style=\"fill: #262626\" transform=\"translate(879.796281 258.064766) scale(0.11 -0.11)\">\n     <defs>\n      <path id=\"DejaVuSans-2d\" d=\"M 313 2009 \nL 1997 2009 \nL 1997 1497 \nL 313 1497 \nL 313 2009 \nz\n\" transform=\"scale(0.015625)\"/>\n     </defs>\n     <use xlink:href=\"#DejaVuSans-31\"/>\n     <use xlink:href=\"#DejaVuSans-2d\" transform=\"translate(63.623047 0)\"/>\n     <use xlink:href=\"#DejaVuSans-32\" transform=\"translate(99.707031 0)\"/>\n     <use xlink:href=\"#DejaVuSans-20\" transform=\"translate(163.330078 0)\"/>\n     <use xlink:href=\"#DejaVuSans-68\" transform=\"translate(195.117188 0)\"/>\n     <use xlink:href=\"#DejaVuSans-6f\" transform=\"translate(258.496094 0)\"/>\n     <use xlink:href=\"#DejaVuSans-75\" transform=\"translate(319.677734 0)\"/>\n     <use xlink:href=\"#DejaVuSans-72\" transform=\"translate(383.056641 0)\"/>\n     <use xlink:href=\"#DejaVuSans-73\" transform=\"translate(424.169922 0)\"/>\n    </g>\n   </g>\n   <g id=\"patch_61\">\n    <path d=\"M 848.996281 274.210703 \nL 870.996281 274.210703 \nL 870.996281 266.510703 \nL 848.996281 266.510703 \nz\n\" style=\"fill: #ee8787; stroke: #ffffff; stroke-linejoin: miter\"/>\n   </g>\n   <g id=\"text_29\">\n    <!-- 2-3 hours -->\n    <g style=\"fill: #262626\" transform=\"translate(879.796281 274.210703) scale(0.11 -0.11)\">\n     <use xlink:href=\"#DejaVuSans-32\"/>\n     <use xlink:href=\"#DejaVuSans-2d\" transform=\"translate(63.623047 0)\"/>\n     <use xlink:href=\"#DejaVuSans-33\" transform=\"translate(99.707031 0)\"/>\n     <use xlink:href=\"#DejaVuSans-20\" transform=\"translate(163.330078 0)\"/>\n     <use xlink:href=\"#DejaVuSans-68\" transform=\"translate(195.117188 0)\"/>\n     <use xlink:href=\"#DejaVuSans-6f\" transform=\"translate(258.496094 0)\"/>\n     <use xlink:href=\"#DejaVuSans-75\" transform=\"translate(319.677734 0)\"/>\n     <use xlink:href=\"#DejaVuSans-72\" transform=\"translate(383.056641 0)\"/>\n     <use xlink:href=\"#DejaVuSans-73\" transform=\"translate(424.169922 0)\"/>\n    </g>\n   </g>\n   <g id=\"patch_62\">\n    <path d=\"M 848.996281 290.356641 \nL 870.996281 290.356641 \nL 870.996281 282.656641 \nL 848.996281 282.656641 \nz\n\" style=\"fill: #1881a7; stroke: #ffffff; stroke-linejoin: miter\"/>\n   </g>\n   <g id=\"text_30\">\n    <!-- Less than 1 hour -->\n    <g style=\"fill: #262626\" transform=\"translate(879.796281 290.356641) scale(0.11 -0.11)\">\n     <use xlink:href=\"#DejaVuSans-4c\"/>\n     <use xlink:href=\"#DejaVuSans-65\" transform=\"translate(53.962891 0)\"/>\n     <use xlink:href=\"#DejaVuSans-73\" transform=\"translate(115.486328 0)\"/>\n     <use xlink:href=\"#DejaVuSans-73\" transform=\"translate(167.585938 0)\"/>\n     <use xlink:href=\"#DejaVuSans-20\" transform=\"translate(219.685547 0)\"/>\n     <use xlink:href=\"#DejaVuSans-74\" transform=\"translate(251.472656 0)\"/>\n     <use xlink:href=\"#DejaVuSans-68\" transform=\"translate(290.681641 0)\"/>\n     <use xlink:href=\"#DejaVuSans-61\" transform=\"translate(354.060547 0)\"/>\n     <use xlink:href=\"#DejaVuSans-6e\" transform=\"translate(415.339844 0)\"/>\n     <use xlink:href=\"#DejaVuSans-20\" transform=\"translate(478.71875 0)\"/>\n     <use xlink:href=\"#DejaVuSans-31\" transform=\"translate(510.505859 0)\"/>\n     <use xlink:href=\"#DejaVuSans-20\" transform=\"translate(574.128906 0)\"/>\n     <use xlink:href=\"#DejaVuSans-68\" transform=\"translate(605.916016 0)\"/>\n     <use xlink:href=\"#DejaVuSans-6f\" transform=\"translate(669.294922 0)\"/>\n     <use xlink:href=\"#DejaVuSans-75\" transform=\"translate(730.476562 0)\"/>\n     <use xlink:href=\"#DejaVuSans-72\" transform=\"translate(793.855469 0)\"/>\n    </g>\n   </g>\n   <g id=\"patch_63\">\n    <path d=\"M 848.996281 306.502578 \nL 870.996281 306.502578 \nL 870.996281 298.802578 \nL 848.996281 298.802578 \nz\n\" style=\"fill: #4e4e93; stroke: #ffffff; stroke-linejoin: miter\"/>\n   </g>\n   <g id=\"text_31\">\n    <!-- More than 3 hours -->\n    <g style=\"fill: #262626\" transform=\"translate(879.796281 306.502578) scale(0.11 -0.11)\">\n     <defs>\n      <path id=\"DejaVuSans-4d\" d=\"M 628 4666 \nL 1569 4666 \nL 2759 1491 \nL 3956 4666 \nL 4897 4666 \nL 4897 0 \nL 4281 0 \nL 4281 4097 \nL 3078 897 \nL 2444 897 \nL 1241 4097 \nL 1241 0 \nL 628 0 \nL 628 4666 \nz\n\" transform=\"scale(0.015625)\"/>\n     </defs>\n     <use xlink:href=\"#DejaVuSans-4d\"/>\n     <use xlink:href=\"#DejaVuSans-6f\" transform=\"translate(86.279297 0)\"/>\n     <use xlink:href=\"#DejaVuSans-72\" transform=\"translate(147.460938 0)\"/>\n     <use xlink:href=\"#DejaVuSans-65\" transform=\"translate(186.324219 0)\"/>\n     <use xlink:href=\"#DejaVuSans-20\" transform=\"translate(247.847656 0)\"/>\n     <use xlink:href=\"#DejaVuSans-74\" transform=\"translate(279.634766 0)\"/>\n     <use xlink:href=\"#DejaVuSans-68\" transform=\"translate(318.84375 0)\"/>\n     <use xlink:href=\"#DejaVuSans-61\" transform=\"translate(382.222656 0)\"/>\n     <use xlink:href=\"#DejaVuSans-6e\" transform=\"translate(443.501953 0)\"/>\n     <use xlink:href=\"#DejaVuSans-20\" transform=\"translate(506.880859 0)\"/>\n     <use xlink:href=\"#DejaVuSans-33\" transform=\"translate(538.667969 0)\"/>\n     <use xlink:href=\"#DejaVuSans-20\" transform=\"translate(602.291016 0)\"/>\n     <use xlink:href=\"#DejaVuSans-68\" transform=\"translate(634.078125 0)\"/>\n     <use xlink:href=\"#DejaVuSans-6f\" transform=\"translate(697.457031 0)\"/>\n     <use xlink:href=\"#DejaVuSans-75\" transform=\"translate(758.638672 0)\"/>\n     <use xlink:href=\"#DejaVuSans-72\" transform=\"translate(822.017578 0)\"/>\n     <use xlink:href=\"#DejaVuSans-73\" transform=\"translate(863.130859 0)\"/>\n    </g>\n   </g>\n  </g>\n </g>\n <defs>\n  <clipPath id=\"pbda968c3e6\">\n   <rect x=\"46.31125\" y=\"63.36\" width=\"372.262808\" height=\"316.11375\"/>\n  </clipPath>\n  <clipPath id=\"pad0c401897\">\n   <rect x=\"465.961817\" y=\"63.36\" width=\"372.262808\" height=\"316.11375\"/>\n  </clipPath>\n </defs>\n</svg>\n"
          },
          "metadata": {}
        }
      ]
    },
    {
      "cell_type": "code",
      "source": [
        "table = perc_q9_df.pivot_table(\n",
        "    index=['career_status', 'TA_type'],\n",
        "    columns='Q9',\n",
        "    values='Percentage',\n",
        "    fill_value=0)\n",
        "\n",
        "# Reset the index\n",
        "table_reset = table.reset_index()\n",
        "\n",
        "q9_columns = [col for col in table_reset.columns if col not in ['career_status', 'TA_type']]\n",
        "\n",
        "# Format the Q9 columns in the DataFrame\n",
        "for col in q9_columns:\n",
        "    table_reset[col] = table_reset[col].apply(lambda x: f\"{x:.2f}%\")\n",
        "\n",
        "print(tabulate(table_reset, headers='keys', tablefmt='psql', showindex=False))"
      ],
      "metadata": {
        "colab": {
          "base_uri": "https://localhost:8080/"
        },
        "id": "LcHcZBu_bzLx",
        "outputId": "1e194138-e7e3-4572-d46c-2c41800c0e74"
      },
      "execution_count": 42,
      "outputs": [
        {
          "output_type": "stream",
          "name": "stdout",
          "text": [
            "+-----------------------+------------+-------------+-------------+--------------------+---------------------+\n",
            "| career_status         | TA_type    | 1-2 hours   | 2-3 hours   | Less than 1 hour   | More than 3 hours   |\n",
            "|-----------------------+------------+-------------+-------------+--------------------+---------------------|\n",
            "| industry              | Lead TA    | 0.00%       | 0.00%       | 0.00%              | 0.00%               |\n",
            "| industry              | Project TA | 0.00%       | 0.00%       | 0.00%              | 0.00%               |\n",
            "| industry              | Regular TA | 20.00%      | 30.00%      | 17.50%             | 2.50%               |\n",
            "| masters_student       | Lead TA    | 10.00%      | 0.00%       | 70.00%             | 0.00%               |\n",
            "| masters_student       | Project TA | 0.00%       | 0.00%       | 0.00%              | 0.00%               |\n",
            "| masters_student       | Regular TA | 20.67%      | 16.17%      | 3.33%              | 39.83%              |\n",
            "| other                 | Lead TA    | 0.00%       | 20.00%      | 0.00%              | 0.00%               |\n",
            "| other                 | Project TA | 0.00%       | 0.00%       | 0.00%              | 0.00%               |\n",
            "| other                 | Regular TA | 48.33%      | 38.33%      | 0.00%              | 3.33%               |\n",
            "| phd_student           | Lead TA    | 50.00%      | 10.00%      | 0.00%              | 10.00%              |\n",
            "| phd_student           | Project TA | 50.00%      | 0.00%       | 0.00%              | 0.00%               |\n",
            "| phd_student           | Regular TA | 44.90%      | 30.82%      | 11.02%             | 3.25%               |\n",
            "| postdoc               | Lead TA    | 0.00%       | 0.00%       | 40.00%             | 0.00%               |\n",
            "| postdoc               | Project TA | 0.00%       | 0.00%       | 0.00%              | 0.00%               |\n",
            "| postdoc               | Regular TA | 15.83%      | 38.33%      | 0.00%              | 35.83%              |\n",
            "| undergraduate_student | Lead TA    | 0.00%       | 0.00%       | 0.00%              | 0.00%               |\n",
            "| undergraduate_student | Project TA | 0.00%       | 0.00%       | 0.00%              | 0.00%               |\n",
            "| undergraduate_student | Regular TA | 75.00%      | 5.00%       | 0.00%              | 0.00%               |\n",
            "+-----------------------+------------+-------------+-------------+--------------------+---------------------+\n"
          ]
        }
      ]
    },
    {
      "cell_type": "markdown",
      "source": [
        "# Q13\n",
        "\n",
        "In what ways do you think we can better support you in your role as a TA (other than responding to questions asked via emails and discord support tickets)? Please provide specific suggestions"
      ],
      "metadata": {
        "id": "i0KB5KQ2yyKy"
      }
    },
    {
      "cell_type": "code",
      "source": [
        "count_Q13 = combined_df.groupby('WeekDay')['Q13'].count()\n",
        "print(count_Q13)"
      ],
      "metadata": {
        "colab": {
          "base_uri": "https://localhost:8080/"
        },
        "id": "qGroy2bb182Y",
        "outputId": "624a1366-e0b4-4b55-826b-720337177b8b"
      },
      "execution_count": null,
      "outputs": [
        {
          "output_type": "stream",
          "name": "stdout",
          "text": [
            "WeekDay\n",
            "w2d1    0\n",
            "w2d2    9\n",
            "w2d3    7\n",
            "w2d4    1\n",
            "w2d5    2\n",
            "w3d1    3\n",
            "w3d2    5\n",
            "w3d3    2\n",
            "w3d4    2\n",
            "w3d5    3\n",
            "Name: Q13, dtype: int64\n"
          ]
        },
        {
          "output_type": "stream",
          "name": "stderr",
          "text": [
            "<ipython-input-48-3465028f6291>:1: FutureWarning: The default of observed=False is deprecated and will be changed to True in a future version of pandas. Pass observed=False to retain current behavior or observed=True to adopt the future default and silence this warning.\n",
            "  count_Q13 = combined_df.groupby('WeekDay')['Q13'].count()\n"
          ]
        }
      ]
    },
    {
      "cell_type": "code",
      "source": [
        "grouped1 = combined_df.groupby('WeekDay')['Q13'].unique()\n",
        "\n",
        "for weekday, answers in grouped1.items():\n",
        "    print(\"\\033[1m\" + f\"Weekday: {weekday}\" + \"\\033[0m\")\n",
        "\n",
        "    for answer in answers:\n",
        "        print(answer)\n",
        "    print(\"-\" * 40)"
      ],
      "metadata": {
        "colab": {
          "base_uri": "https://localhost:8080/"
        },
        "id": "ppfFL6Kz1lLq",
        "outputId": "e1a2cd91-e6b7-43b7-e82d-c62f867c6dac"
      },
      "execution_count": null,
      "outputs": [
        {
          "output_type": "stream",
          "name": "stdout",
          "text": [
            "\u001b[1mWeekday: w2d1\u001b[0m\n",
            "nan\n",
            "----------------------------------------\n",
            "\u001b[1mWeekday: w2d2\u001b[0m\n",
            "nan\n",
            "I was thinking that maybe having optative reunions with the people that design the tutorial, 1 for each week topic I think, so we can ask things that we dont understand\n",
            "maybe the number of tutorials should be less in some days like today and the estimated time of them should be more!\n",
            "also I think you should provide extra bonus contents (or introduce bonus links) for each day for students/TAs who are less-experienced can understand better by studying them in their own time.\n",
            "In my opinion, having a lead TA in the same country would be beneficial, as it would facilitate easier problem-solving.\n",
            "\n",
            "I think there have been several questions I and other TAs have asked in the content help channels previously that have gone unanswered, which I don't know if it is because of the later time zone I'm in - it would be helpful to have more regular monitoring and responding in those channels. I did get answers today, which is great.\n",
            "So far I am ok working with my students. \n",
            "Having access to students skill set data and their backgrounds could be helpful to better arrange the members in each breakout room \n",
            "More experts to respond to doubts in the content section of discord. \n",
            "A primer video on how to introduce the concepts to students.\n",
            "provide social events (in pods specific) for ice breaking and warm up. something fun... (but we don't have the dedicated time other than the first 30 min of first day which isn't enough)\n",
            "I think information is not very well centralized for TA, maybe that can be worked on\n",
            "----------------------------------------\n",
            "\u001b[1mWeekday: w2d3\u001b[0m\n",
            "nan\n",
            "weekly meetings\n",
            "I am having a smooth experience with everyone present in the pod\n",
            "I felt that there was no training for this content, I watched the videos for TA and didn't say much that helped me. I think we need like optional training in the 3 main topics of the course. When I have a question, I can't find it anywhere.\n",
            "Many TAs asked questions in the content help channel for the day that went unanswered again, both before and during the coursework. I know folks volunteer their time and cannot cover all time zones, but it would be really beneficial to have these points of confusion addressed and passed on to students before the next day's content begins.\n",
            "Designing  specific tests for each tutorial dedicated to TAs containing common questions which students might be asking. \n",
            "\n",
            "I think there's need to be more specific tips and algorithms for students engagements listed in the TA training for future year, e.g. examples of group activites that could facilitate student pod dynamic \n",
            "All good, you are the best\n",
            "----------------------------------------\n",
            "\u001b[1mWeekday: w2d4\u001b[0m\n",
            "nan\n",
            "More Clarification about students' sessions with mentors \n",
            "----------------------------------------\n",
            "\u001b[1mWeekday: w2d5\u001b[0m\n",
            "nan\n",
            "From experience, let us consider the technical strength of the students. \n",
            "Please make documentation about how regular TAs and project TAs should coordinate project days.\n",
            "----------------------------------------\n",
            "\u001b[1mWeekday: w3d1\u001b[0m\n",
            "nan\n",
            "Please have someone monitor and respond to the all the questions in the content help channels. \n",
            "Provide bonus for internet bundle. \n",
            "Include some gamification widgets in the notebooks.\n",
            "----------------------------------------\n",
            "\u001b[1mWeekday: w3d2\u001b[0m\n",
            "nan\n",
            "maybe tutorials need to be a little shorter in order to avoid such problems are described before\n",
            "Please answer/respond to questions in the TA content help channels.\n",
            "I am okay with how the session went today. \n",
            "more updates with positive and informative announcement on Discord\n",
            "Have a 1 hour week-end course just for lead TA and TAs so Leads teach regular TAs and clarify their doubts for all the coming week's materials.\n",
            "----------------------------------------\n",
            "\u001b[1mWeekday: w3d3\u001b[0m\n",
            "nan\n",
            "Bonus for internet bundle. \n",
            "Have weekly meeting with other TAs and out mead TA in mega pod could have helped me to better manage my pod.\n",
            "----------------------------------------\n",
            "\u001b[1mWeekday: w3d4\u001b[0m\n",
            "nan\n",
            "today's materials was not good in my opinion. Especially Tutorial 1 was not a good start point in my opinion. I think it was better to start from N-armed Bandits. also the videos provided was very short. plots were vague for students and there was no explanation or interpretation about the plots. Therefore, the estimated time was not accurate, because the materials was not clear for students and they needed more video and explanations and so they had too many questions, that led us to ran out of time and cannot cover whole tutorials.\n",
            "In general, I think they do not need to know too much about RL and they should only get familiar with the basics and the alphabet of this subject, and they also need much more details in videos, ... in order to have a better understanding of the subjects and the mathematics behind. So I think the number of tutorials and the amount of materials about RL should be decreased and instead, please provide more videos of instructor to explain the concepts in details in order to help students, especially those with no previous experiences, have a better understanding.\n",
            "Provision of internet bundle. \n",
            "----------------------------------------\n",
            "\u001b[1mWeekday: w3d5\u001b[0m\n",
            "nan\n",
            "Everythink was great!\n",
            "Internet bundle \n",
            "have a more specific guide for project presentations. \n",
            "----------------------------------------\n"
          ]
        },
        {
          "output_type": "stream",
          "name": "stderr",
          "text": [
            "<ipython-input-49-50f807e0d924>:1: FutureWarning: The default of observed=False is deprecated and will be changed to True in a future version of pandas. Pass observed=False to retain current behavior or observed=True to adopt the future default and silence this warning.\n",
            "  grouped1 = combined_df.groupby('WeekDay')['Q13'].unique()\n"
          ]
        }
      ]
    },
    {
      "cell_type": "markdown",
      "source": [
        "# Q14\n",
        "\n",
        "Do you have any additional comments or feedback you would like to share regarding your experience as a TA?"
      ],
      "metadata": {
        "id": "0gbNMH5Zy39L"
      }
    },
    {
      "cell_type": "code",
      "source": [
        "grouped2 = combined_df.groupby('WeekDay')['Q14'].unique()\n",
        "\n",
        "for weekday, answers in grouped2.items():\n",
        "    print(\"\\033[1m\" + f\"Weekday: {weekday}\" + \"\\033[0m\")\n",
        "\n",
        "    for answer in answers:\n",
        "        print(answer)\n",
        "    print(\"-\" * 40)"
      ],
      "metadata": {
        "colab": {
          "base_uri": "https://localhost:8080/"
        },
        "id": "7fb63xxp2giH",
        "outputId": "46211bc0-d76a-4bad-e845-95a754c6b63c"
      },
      "execution_count": null,
      "outputs": [
        {
          "output_type": "stream",
          "name": "stdout",
          "text": [
            "\u001b[1mWeekday: w2d1\u001b[0m\n",
            "nan\n",
            "I think the people that stayed are really compatible with their background, I like the way that they work toguether and treat each other. \n",
            "they are much more active in project times rather  than tutorial times. I am trying to fix it\n",
            "Two of the pod members dropped the course. How should I proceed with the official procedure to do that?\n",
            "My students are motivated and eager to learn. I enjoy being with them. However, two students have not turned the cameras on due to internet problems.\n",
            "not so far\n",
            "Everything is good so far.\n",
            "My pod already merged with another because of a TA dropping out, this is why the numbers are so high. The students are all great, and I really appreciate their high level of participation and communication!\n",
            "One of the groups is more actively involved in doing their project on IBL dataset. The other working on the Bayes heuristics dataset seem to be less motivated and less interested in their dataset.  \n",
            "Some students really refuse to interact but accept breakout rooms\n",
            "I noticed 9 days ago that there was a student that was changed from the time I sent the 1st email welcoming students to Neuromatch.\n",
            "\n",
            "There appears to be not anymore the student with the email: jmanwaring@berkeley.edu\n",
            "\n",
            "Instead, I see now Habiba Mohsen, habiba.shaarawy01@eng-st.cu.edu.eg\n",
            "\n",
            "Talking to my lead TA, we concluded it might have been a pod switch.\n",
            "\n",
            "I would like to suggest a notification of new email addresses we should include in our pre-course announcements (for other TAs and future courses).\n",
            "\n",
            "In this case it would have probably had the same result. Habiba joined for the 1st session but then stopped joining afterwards and never joined discord.\n",
            "No\n",
            "Hossein Damavandi - never showed up.\n",
            "Sneha Khanduja - left after 2-ed day, missed day 1.\n",
            "Rajul Srivastava - dropped the project part.\n",
            "\n",
            "Pod vibe - good :)\n",
            "----------------------------------------\n",
            "\u001b[1mWeekday: w2d2\u001b[0m\n",
            "nan\n",
            "As I previously mentioned, it would be too much difficult for TAs, who may be less-experienced in a specific topic, to guide students and answer all of their questions in that topic. because almost all of the students are not familiar with the contents and it is too difficult for them to fully understand everything in the short estimated time of tutorials and thus, they may have many questions. At the same time, it is almost impossible to find a TA to be expert in all of the contents provided, especially in CN that needs a wide variety of topics to be expert in. So maybe providing extra content or having a process in which encourage student more to pass pre-reqs can be beneficial.\n",
            "Students have been disappointed this year with the lack of professional development panels/talks outside of the academic track (e.g., from industry sponsors or contacts) -  it would have been nice to have some of those sessions this time.\n",
            "\n",
            "Also, the role of the project TA versus the regular TA during project time was not clear at the beginning of the course, with some conflicting info. Regular TAs were instructed to split project groups based on experience, but this was wrong according to my project TA, who re-did the groups. Also, I tried to give instruction the first few days prior to the project TA visiting, which became redundant because my pod has a very active project TA who visits everyday (which is really awesome, and they're great! but left me confused about what I should be doing or not doing in those sessions because of what I was told to expect). I think specifying the roles better would be helpful and avoid early confusion, which our pod has entirely worked out at this point.\n",
            "For now no\n",
            "It seems to me tutorials sessions need more gamification measures implemented into the notebooks or feedback from TAs. \n",
            "-\n",
            "I am not understanding the time mentioned in the question \"Did you feel your schedule 40 minutes during tutorials time was enough to cover all the students' questions?\" (tutorial is 3 hours and 40 minutes), but in general in 40 minutes it difficult to address all questions. In any case, going through the tutorials takes even more time, so it is best to give them most of the time for that.\n",
            "No\n",
            "We did not have 1 hour break, we had T1 - 10 min break - T2 - 20 min break - T3 - T4. And in the end we were 20 min late, and some students needed to leave.\n",
            "It is very common to skip the big break and make 2-3 small 10-15 min breaks.\n",
            "----------------------------------------\n",
            "\u001b[1mWeekday: w2d3\u001b[0m\n",
            "nan\n",
            "Some of my pod members think that the mentor sessions are unnecessary and non-productive, they preferred to continue working on the project.\n",
            "I really like being a TA, but it takes me more hours than I imagined. I'm in all project and coursework hours, and each day I watch the content for the day and continue watching after to answer questions, so I start and finish with at least 1 more per day. \n",
            "It is challenging encourage all the students to take their turn to be the presenter.\n",
            "I am not understanding the time mentioned in the question \"Did you feel your schedule 40 minutes during tutorials time was enough to cover all the students' questions?\" (tutorial is 3 hours and 40 minutes), but in general in 40 minutes it difficult to address all questions. In any case, going through the tutorials takes even more time, so it is best to give them most of the time for that.\n",
            "Wish we had an extra hour\n",
            "----------------------------------------\n",
            "\u001b[1mWeekday: w2d4\u001b[0m\n",
            "nan\n",
            "I think it would be better to have weekly surveys instead of daily.\n",
            "The amount of content today was suitable for its time and we could cover them completely. Unlike other days when we needed more time to cover all of the contents.\n",
            "Some breakout rooms finish earlier that others. Doing bonus tutorials and parts may be appropriate to fill out the time.\n",
            "I am not understanding the time mentioned in the question \"Did you feel your schedule 40 minutes during tutorials time was enough to cover all the students' questions?\" (tutorial is 3 hours and 40 minutes), but in general in 40 minutes it difficult to address all questions. In any case, going through the tutorials takes even more time, so it is best to give them most of the time for that.\n",
            "----------------------------------------\n",
            "\u001b[1mWeekday: w2d5\u001b[0m\n",
            "nan\n",
            "No \n",
            "It might be helpful to create a step-by-step notebook similar to those of course work's notebooks\n",
            "I am not understanding the time mentioned in the question \"Did you feel your schedule 40 minutes during tutorials time was enough to cover all the students' questions?\" (tutorial is 3 hours and 40 minutes), but in general in 40 minutes it difficult to address all questions. In any case, going through the tutorials takes even more time, so it is best to give them most of the time for that.\n",
            "Please add a real picture of \"a school of fish\" somewhere in the beginning, it would make things easier :)\n",
            "Also, tutorial 1 needs a break in the middle -> make it 2 tutorials\n",
            "Also, there needs to be an explanation about likelihoods taking into account that we are fishing on the Right side, and that if we switch sides we will get different likelihood constants.\n",
            "----------------------------------------\n",
            "\u001b[1mWeekday: w3d1\u001b[0m\n",
            "nan\n",
            "Not for now. \n",
            "I again think that TAs and project TA need a more precise plan perhaps offered by NMA to learn how to be more collaborative and coordinated with each other.  \n",
            "I am not understanding the time mentioned in the question \"Did you feel your schedule 40 minutes during tutorials time was enough to cover all the students' questions?\" (tutorial is 3 hours and 40 minutes), but in general in 40 minutes it difficult to address all questions. In any case, going through the tutorials takes even more time, so it is best to give them most of the time for that.\n",
            "----------------------------------------\n",
            "\u001b[1mWeekday: w3d2\u001b[0m\n",
            "nan\n",
            "unfortunately, some of the pod members are not active in tutorial time. none of them connect their video and most of them even do not connect their audio and just use chat. this is not pleasant for me as a TA who is doing his best and doing a lot of effort\n",
            "Again more gamification widgets in the notebooks\n",
            "Last years of neuromatch I felt more engagement in online Opening ceremony and talks / QnAs\n",
            "the material is great\n",
            "I am not understanding the time mentioned in the question \"Did you feel your schedule 40 minutes during tutorials time was enough to cover all the students' questions?\" (tutorial is 3 hours and 40 minutes), but in general in 40 minutes it difficult to address all questions. In any case, going through the tutorials takes even more time, so it is best to give them most of the time for that.\n",
            "----------------------------------------\n",
            "\u001b[1mWeekday: w3d3\u001b[0m\n",
            "nan\n",
            "The Outro video from Reza Shadmehr was very interesting. Maybe it is not bad of an idea to include such videos in the tutorials about the procedure of modeling.  \n",
            "----------------------------------------\n",
            "\u001b[1mWeekday: w3d4\u001b[0m\n",
            "nan\n",
            "I told them above\n",
            "Students observed during this class period that they have had a hard time this week connecting Bayesian and RL models to neuroscience - they said the fishing, astrocat, and bandit examples have not given them a good intuition about how they would use these models with neural data instead of behavior, so it might be a good idea in addition to simply behavioral examples to include some neuro examples in the future? They are also unclear about the process of fitting these kinds of models to data and would have liked more content or resources on that.\n",
            "RL is and interesting topic and I think it must have more  dedicated time \n",
            "I am not understanding the time mentioned in the question \"Did you feel your schedule 40 minutes during tutorials time was enough to cover all the students' questions?\" (tutorial is 3 hours and 40 minutes), but in general in 40 minutes it difficult to address all questions. In any case, going through the tutorials takes even more time, so it is best to give them most of the time for that.\n",
            "We covered all the tutorials from the day before that e did not have enough time for. This almost always pushed one tutorial out of the stack into the next day. This happened for W3D2, W3D3, W4D4.\n",
            "----------------------------------------\n",
            "\u001b[1mWeekday: w3d5\u001b[0m\n",
            "Students were not focused on Tutorial 4 because of their project presentations, since it is the last tutorial before their presentation. \n",
            "nan\n",
            "It was a great time for me. \n",
            "I am not understanding the time mentioned in the question \"Did you feel your schedule 40 minutes during tutorials time was enough to cover all the students' questions?\" (tutorial is 3 hours and 40 minutes), but in general in 40 minutes it difficult to address all questions. In any case, going through the tutorials takes even more time, so it is best to give them most of the time for that.\n",
            "I was stressed by no organization of the presentation event for the last day from Lead TA. So I felt that I need to do it myself. I feel like there is a way to organize this without being stressed.\n",
            "----------------------------------------\n"
          ]
        },
        {
          "output_type": "stream",
          "name": "stderr",
          "text": [
            "<ipython-input-50-29bcdf66a8bb>:1: FutureWarning: The default of observed=False is deprecated and will be changed to True in a future version of pandas. Pass observed=False to retain current behavior or observed=True to adopt the future default and silence this warning.\n",
            "  grouped2 = combined_df.groupby('WeekDay')['Q14'].unique()\n"
          ]
        }
      ]
    },
    {
      "cell_type": "markdown",
      "source": [
        "#  Q15 - attending     \n",
        "\n",
        "This question is present in w2d1 only. It's a free text.\n",
        "\n",
        "`How many students are actively attending your pod?`"
      ],
      "metadata": {
        "id": "5JyOwARNhR0f"
      }
    },
    {
      "cell_type": "code",
      "source": [
        "combined_df['Q15 - attending'].unique()\n"
      ],
      "metadata": {
        "colab": {
          "base_uri": "https://localhost:8080/"
        },
        "id": "rVbpYT2s3Cuk",
        "outputId": "a3c972b7-1eb1-48de-96bc-d721dba380bd"
      },
      "execution_count": null,
      "outputs": [
        {
          "output_type": "execute_result",
          "data": {
            "text/plain": [
              "array([15., 10.,  8.,  9.,  6., 17., 11., 12., 14., 19.,  7., nan])"
            ]
          },
          "metadata": {},
          "execution_count": 51
        }
      ]
    },
    {
      "cell_type": "code",
      "source": [
        "average_attendance = combined_df['Q15 - attending'].mean()\n",
        "average_attendance"
      ],
      "metadata": {
        "colab": {
          "base_uri": "https://localhost:8080/"
        },
        "id": "iGZOUleetv2J",
        "outputId": "5671adfc-b91e-4fab-8d20-a1b4f36d4659"
      },
      "execution_count": null,
      "outputs": [
        {
          "output_type": "execute_result",
          "data": {
            "text/plain": [
              "11.448275862068966"
            ]
          },
          "metadata": {},
          "execution_count": 60
        }
      ]
    },
    {
      "cell_type": "markdown",
      "source": [
        "On average 11 students per pod are attending the course after 1 week."
      ],
      "metadata": {
        "id": "nWK1Z_MLt4mc"
      }
    },
    {
      "cell_type": "markdown",
      "source": [
        "# Q18 - never showed\n",
        "\n",
        "This question is present in w2d1 only. It's a free text.\n",
        "\n",
        "`How many students that are listed on the Portal as in your pod never showed up`"
      ],
      "metadata": {
        "id": "8Ly_amfrhYoC"
      }
    },
    {
      "cell_type": "code",
      "source": [
        "combined_df['Q18 - never showed'].unique()\n"
      ],
      "metadata": {
        "colab": {
          "base_uri": "https://localhost:8080/"
        },
        "id": "9NmtTCet4lwC",
        "outputId": "ac58e43c-6885-45ac-8d67-927d1f1a2366"
      },
      "execution_count": null,
      "outputs": [
        {
          "output_type": "execute_result",
          "data": {
            "text/plain": [
              "array([ 1.,  0.,  2.,  4.,  8.,  3.,  6.,  9.,  5.,  7., 20., nan])"
            ]
          },
          "metadata": {},
          "execution_count": 52
        }
      ]
    },
    {
      "cell_type": "markdown",
      "source": [
        "The `20` must have been an error given that the `Hopeful Rondeletia` pod has 20 students (checked in the portal)."
      ],
      "metadata": {
        "id": "B1fSnS4T53i6"
      }
    },
    {
      "cell_type": "code",
      "source": [
        "# Filter out row containing 20\n",
        "filtered_df = combined_df[combined_df['Q18 - never showed'] != 20]\n",
        "\n",
        "#\n",
        "average_never_shown = filtered_df['Q18 - never showed'].mean()\n",
        "average_never_shown"
      ],
      "metadata": {
        "colab": {
          "base_uri": "https://localhost:8080/"
        },
        "id": "pJUw9FMx64Qo",
        "outputId": "03d95fc2-08c1-43d1-8af4-ced5c103b8b5"
      },
      "execution_count": null,
      "outputs": [
        {
          "output_type": "execute_result",
          "data": {
            "text/plain": [
              "4.038461538461538"
            ]
          },
          "metadata": {},
          "execution_count": 59
        }
      ]
    },
    {
      "cell_type": "markdown",
      "source": [
        "On average 4 students per pod didnt show up after 1 week."
      ],
      "metadata": {
        "id": "oI2SrRYc7RR_"
      }
    },
    {
      "cell_type": "markdown",
      "source": [
        "# Q16 - projects    \n",
        "\n",
        "This question is present in w2d1 only. It's a free text.\n",
        "\n",
        "`How many students are actively taking part in the Projects portion?`"
      ],
      "metadata": {
        "id": "BVQbWXxphay3"
      }
    },
    {
      "cell_type": "code",
      "source": [
        "combined_df['Q16 - projects'].unique()"
      ],
      "metadata": {
        "colab": {
          "base_uri": "https://localhost:8080/"
        },
        "id": "t-QhjXVM4xLQ",
        "outputId": "b66ca87e-0c2b-4fa7-9b41-97e0fd18befa"
      },
      "execution_count": null,
      "outputs": [
        {
          "output_type": "execute_result",
          "data": {
            "text/plain": [
              "array([12., 10.,  8.,  7.,  5., 15., 11., 14., 13., 18.,  9., nan])"
            ]
          },
          "metadata": {},
          "execution_count": 54
        }
      ]
    },
    {
      "cell_type": "code",
      "source": [
        "average_project = combined_df['Q16 - projects'].mean()\n",
        "average_project"
      ],
      "metadata": {
        "colab": {
          "base_uri": "https://localhost:8080/"
        },
        "id": "L-YTCk6auDA9",
        "outputId": "68827381-4957-41fa-e01d-fcc3f094f9f0"
      },
      "execution_count": null,
      "outputs": [
        {
          "output_type": "execute_result",
          "data": {
            "text/plain": [
              "10.586206896551724"
            ]
          },
          "metadata": {},
          "execution_count": 61
        }
      ]
    },
    {
      "cell_type": "markdown",
      "source": [
        "On average 10 students per pod are attending the project part of the course after 1 week."
      ],
      "metadata": {
        "id": "FjEiRK63uJaQ"
      }
    }
  ]
}